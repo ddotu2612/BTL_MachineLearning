{
 "cells": [
  {
   "cell_type": "code",
   "execution_count": 1,
   "metadata": {},
   "outputs": [],
   "source": [
    "# Import một số thư viện\n",
    "import pandas as pd\n",
    "import numpy as np\n",
    "import matplotlib.pyplot as plt\n",
    "import seaborn as sn\n",
    "import pylab as pl\n",
    "%matplotlib inline"
   ]
  },
  {
   "cell_type": "code",
   "execution_count": 3,
   "metadata": {},
   "outputs": [
    {
     "data": {
      "text/html": [
       "<div>\n",
       "<style scoped>\n",
       "    .dataframe tbody tr th:only-of-type {\n",
       "        vertical-align: middle;\n",
       "    }\n",
       "\n",
       "    .dataframe tbody tr th {\n",
       "        vertical-align: top;\n",
       "    }\n",
       "\n",
       "    .dataframe thead th {\n",
       "        text-align: right;\n",
       "    }\n",
       "</style>\n",
       "<table border=\"1\" class=\"dataframe\">\n",
       "  <thead>\n",
       "    <tr style=\"text-align: right;\">\n",
       "      <th></th>\n",
       "      <th>Age</th>\n",
       "      <th>Sex</th>\n",
       "      <th>BP</th>\n",
       "      <th>Cholesterol</th>\n",
       "      <th>Na_to_K</th>\n",
       "      <th>Drug</th>\n",
       "    </tr>\n",
       "  </thead>\n",
       "  <tbody>\n",
       "    <tr>\n",
       "      <th>0</th>\n",
       "      <td>23</td>\n",
       "      <td>F</td>\n",
       "      <td>HIGH</td>\n",
       "      <td>HIGH</td>\n",
       "      <td>25.355</td>\n",
       "      <td>DrugY</td>\n",
       "    </tr>\n",
       "    <tr>\n",
       "      <th>1</th>\n",
       "      <td>47</td>\n",
       "      <td>M</td>\n",
       "      <td>LOW</td>\n",
       "      <td>HIGH</td>\n",
       "      <td>13.093</td>\n",
       "      <td>drugC</td>\n",
       "    </tr>\n",
       "    <tr>\n",
       "      <th>2</th>\n",
       "      <td>47</td>\n",
       "      <td>M</td>\n",
       "      <td>LOW</td>\n",
       "      <td>HIGH</td>\n",
       "      <td>10.114</td>\n",
       "      <td>drugC</td>\n",
       "    </tr>\n",
       "    <tr>\n",
       "      <th>3</th>\n",
       "      <td>28</td>\n",
       "      <td>F</td>\n",
       "      <td>NORMAL</td>\n",
       "      <td>HIGH</td>\n",
       "      <td>7.798</td>\n",
       "      <td>drugX</td>\n",
       "    </tr>\n",
       "    <tr>\n",
       "      <th>4</th>\n",
       "      <td>61</td>\n",
       "      <td>F</td>\n",
       "      <td>LOW</td>\n",
       "      <td>HIGH</td>\n",
       "      <td>18.043</td>\n",
       "      <td>DrugY</td>\n",
       "    </tr>\n",
       "    <tr>\n",
       "      <th>...</th>\n",
       "      <td>...</td>\n",
       "      <td>...</td>\n",
       "      <td>...</td>\n",
       "      <td>...</td>\n",
       "      <td>...</td>\n",
       "      <td>...</td>\n",
       "    </tr>\n",
       "    <tr>\n",
       "      <th>195</th>\n",
       "      <td>56</td>\n",
       "      <td>F</td>\n",
       "      <td>LOW</td>\n",
       "      <td>HIGH</td>\n",
       "      <td>11.567</td>\n",
       "      <td>drugC</td>\n",
       "    </tr>\n",
       "    <tr>\n",
       "      <th>196</th>\n",
       "      <td>16</td>\n",
       "      <td>M</td>\n",
       "      <td>LOW</td>\n",
       "      <td>HIGH</td>\n",
       "      <td>12.006</td>\n",
       "      <td>drugC</td>\n",
       "    </tr>\n",
       "    <tr>\n",
       "      <th>197</th>\n",
       "      <td>52</td>\n",
       "      <td>M</td>\n",
       "      <td>NORMAL</td>\n",
       "      <td>HIGH</td>\n",
       "      <td>9.894</td>\n",
       "      <td>drugX</td>\n",
       "    </tr>\n",
       "    <tr>\n",
       "      <th>198</th>\n",
       "      <td>23</td>\n",
       "      <td>M</td>\n",
       "      <td>NORMAL</td>\n",
       "      <td>NORMAL</td>\n",
       "      <td>14.020</td>\n",
       "      <td>drugX</td>\n",
       "    </tr>\n",
       "    <tr>\n",
       "      <th>199</th>\n",
       "      <td>40</td>\n",
       "      <td>F</td>\n",
       "      <td>LOW</td>\n",
       "      <td>NORMAL</td>\n",
       "      <td>11.349</td>\n",
       "      <td>drugX</td>\n",
       "    </tr>\n",
       "  </tbody>\n",
       "</table>\n",
       "<p>200 rows × 6 columns</p>\n",
       "</div>"
      ],
      "text/plain": [
       "     Age Sex      BP Cholesterol  Na_to_K   Drug\n",
       "0     23   F    HIGH        HIGH   25.355  DrugY\n",
       "1     47   M     LOW        HIGH   13.093  drugC\n",
       "2     47   M     LOW        HIGH   10.114  drugC\n",
       "3     28   F  NORMAL        HIGH    7.798  drugX\n",
       "4     61   F     LOW        HIGH   18.043  DrugY\n",
       "..   ...  ..     ...         ...      ...    ...\n",
       "195   56   F     LOW        HIGH   11.567  drugC\n",
       "196   16   M     LOW        HIGH   12.006  drugC\n",
       "197   52   M  NORMAL        HIGH    9.894  drugX\n",
       "198   23   M  NORMAL      NORMAL   14.020  drugX\n",
       "199   40   F     LOW      NORMAL   11.349  drugX\n",
       "\n",
       "[200 rows x 6 columns]"
      ]
     },
     "execution_count": 3,
     "metadata": {},
     "output_type": "execute_result"
    }
   ],
   "source": [
    "# Đọc dữ liệu\n",
    "drug = pd.read_csv('../data/drug200.csv')\n",
    "drug"
   ]
  },
  {
   "cell_type": "code",
   "execution_count": 4,
   "metadata": {},
   "outputs": [
    {
     "name": "stdout",
     "output_type": "stream",
     "text": [
      "<class 'pandas.core.frame.DataFrame'>\n",
      "RangeIndex: 200 entries, 0 to 199\n",
      "Data columns (total 6 columns):\n",
      " #   Column       Non-Null Count  Dtype  \n",
      "---  ------       --------------  -----  \n",
      " 0   Age          200 non-null    int64  \n",
      " 1   Sex          200 non-null    object \n",
      " 2   BP           200 non-null    object \n",
      " 3   Cholesterol  200 non-null    object \n",
      " 4   Na_to_K      200 non-null    float64\n",
      " 5   Drug         200 non-null    object \n",
      "dtypes: float64(1), int64(1), object(4)\n",
      "memory usage: 9.5+ KB\n"
     ]
    }
   ],
   "source": [
    "drug.info()"
   ]
  },
  {
   "cell_type": "code",
   "execution_count": 6,
   "metadata": {},
   "outputs": [
    {
     "data": {
      "text/html": [
       "<div>\n",
       "<style scoped>\n",
       "    .dataframe tbody tr th:only-of-type {\n",
       "        vertical-align: middle;\n",
       "    }\n",
       "\n",
       "    .dataframe tbody tr th {\n",
       "        vertical-align: top;\n",
       "    }\n",
       "\n",
       "    .dataframe thead th {\n",
       "        text-align: right;\n",
       "    }\n",
       "</style>\n",
       "<table border=\"1\" class=\"dataframe\">\n",
       "  <thead>\n",
       "    <tr style=\"text-align: right;\">\n",
       "      <th></th>\n",
       "      <th>Age</th>\n",
       "      <th>Na_to_K</th>\n",
       "    </tr>\n",
       "  </thead>\n",
       "  <tbody>\n",
       "    <tr>\n",
       "      <th>count</th>\n",
       "      <td>200.000000</td>\n",
       "      <td>200.000000</td>\n",
       "    </tr>\n",
       "    <tr>\n",
       "      <th>mean</th>\n",
       "      <td>44.315000</td>\n",
       "      <td>16.084485</td>\n",
       "    </tr>\n",
       "    <tr>\n",
       "      <th>std</th>\n",
       "      <td>16.544315</td>\n",
       "      <td>7.223956</td>\n",
       "    </tr>\n",
       "    <tr>\n",
       "      <th>min</th>\n",
       "      <td>15.000000</td>\n",
       "      <td>6.269000</td>\n",
       "    </tr>\n",
       "    <tr>\n",
       "      <th>25%</th>\n",
       "      <td>31.000000</td>\n",
       "      <td>10.445500</td>\n",
       "    </tr>\n",
       "    <tr>\n",
       "      <th>50%</th>\n",
       "      <td>45.000000</td>\n",
       "      <td>13.936500</td>\n",
       "    </tr>\n",
       "    <tr>\n",
       "      <th>75%</th>\n",
       "      <td>58.000000</td>\n",
       "      <td>19.380000</td>\n",
       "    </tr>\n",
       "    <tr>\n",
       "      <th>max</th>\n",
       "      <td>74.000000</td>\n",
       "      <td>38.247000</td>\n",
       "    </tr>\n",
       "  </tbody>\n",
       "</table>\n",
       "</div>"
      ],
      "text/plain": [
       "              Age     Na_to_K\n",
       "count  200.000000  200.000000\n",
       "mean    44.315000   16.084485\n",
       "std     16.544315    7.223956\n",
       "min     15.000000    6.269000\n",
       "25%     31.000000   10.445500\n",
       "50%     45.000000   13.936500\n",
       "75%     58.000000   19.380000\n",
       "max     74.000000   38.247000"
      ]
     },
     "execution_count": 6,
     "metadata": {},
     "output_type": "execute_result"
    }
   ],
   "source": [
    "# basic statistics details\n",
    "drug.describe()"
   ]
  },
  {
   "cell_type": "code",
   "execution_count": 7,
   "metadata": {},
   "outputs": [
    {
     "data": {
      "image/png": "[encoded data removed]",
      "text/plain": [
       "<Figure size 432x288 with 1 Axes>"
      ]
     },
     "metadata": {},
     "output_type": "display_data"
    }
   ],
   "source": [
    "sn.set_theme(style=\"darkgrid\")\n",
    "\n",
    "# For Sex Column\n",
    "ax = sn.countplot(x=\"Sex\", data=drug)\n",
    "for p in ax.patches:\n",
    "    ax.annotate(f'\\n{p.get_height()}', (p.get_x()+0.2, p.get_height()), ha='center', va='bottom', color='black', size=12)\n",
    "plt.show()"
   ]
  },
  {
   "cell_type": "code",
   "execution_count": 8,
   "metadata": {},
   "outputs": [
    {
     "data": {
      "image/png": "[encoded data removed]",
      "text/plain": [
       "<Figure size 432x288 with 1 Axes>"
      ]
     },
     "metadata": {},
     "output_type": "display_data"
    }
   ],
   "source": [
    "# For BP Column\n",
    "ax = sn.countplot(x=\"BP\", data=drug)\n",
    "for p in ax.patches:\n",
    "    ax.annotate(f'\\n{p.get_height()}', (p.get_x()+0.2, p.get_height()), ha='center', va='bottom', color='black', size=12)\n",
    "plt.show()"
   ]
  },
  {
   "cell_type": "code",
   "execution_count": 9,
   "metadata": {},
   "outputs": [
    {
     "data": {
      "image/png": "[encoded data removed]",
      "text/plain": [
       "<Figure size 432x288 with 1 Axes>"
      ]
     },
     "metadata": {},
     "output_type": "display_data"
    }
   ],
   "source": [
    "#For Cholestrol Column\n",
    "ax = sn.countplot(x=\"Cholesterol\", data=drug)\n",
    "for p in ax.patches:\n",
    "    ax.annotate(f'\\n{p.get_height()}', (p.get_x()+0.2, p.get_height()), ha='center', va='bottom', color='black', size=12)\n",
    "plt.show()"
   ]
  },
  {
   "cell_type": "code",
   "execution_count": 10,
   "metadata": {},
   "outputs": [
    {
     "data": {
      "image/png": "[encoded data removed]",
      "text/plain": [
       "<Figure size 432x288 with 1 Axes>"
      ]
     },
     "metadata": {},
     "output_type": "display_data"
    }
   ],
   "source": [
    "#For drug Column\n",
    "ax = sn.countplot(x=\"Drug\", data=drug)\n",
    "for p in ax.patches:\n",
    "    ax.annotate(f'\\n{p.get_height()}', (p.get_x()+0.2, p.get_height()), ha='center', va='bottom', color='black', size=12)\n",
    "plt.show()"
   ]
  },
  {
   "cell_type": "code",
   "execution_count": 11,
   "metadata": {},
   "outputs": [
    {
     "data": {
      "image/png": "[encoded data removed]",
      "text/plain": [
       "<Figure size 648x648 with 2 Axes>"
      ]
     },
     "metadata": {},
     "output_type": "display_data"
    }
   ],
   "source": [
    "# Plotting histogram for numeric variables\n",
    "drug[['Age','Na_to_K']].hist(bins=30, figsize=(9,9),)\n",
    "pl.suptitle(\"Histogram For Each Numeric Input Variable\")\n",
    "plt.show()"
   ]
  },
  {
   "cell_type": "code",
   "execution_count": 12,
   "metadata": {},
   "outputs": [
    {
     "data": {
      "image/png": "[encoded data removed]",
      "text/plain": [
       "<Figure size 648x648 with 4 Axes>"
      ]
     },
     "metadata": {},
     "output_type": "display_data"
    }
   ],
   "source": [
    "#Plotting boxplot for numeric variables\n",
    "drug[['Age','Na_to_K']].plot(kind='box', subplots=True, layout=(2,2),figsize=(9,9),title='Box Plot Each Numeric Input Variable')\n",
    "plt.show()"
   ]
  },
  {
   "cell_type": "code",
   "execution_count": 13,
   "metadata": {},
   "outputs": [],
   "source": [
    "from sklearn.preprocessing import LabelEncoder\n",
    "\n",
    "def label_encoder(x):\n",
    "    le = LabelEncoder()\n",
    "    drug[x] = le.fit_transform(drug[x])"
   ]
  },
  {
   "cell_type": "code",
   "execution_count": 14,
   "metadata": {},
   "outputs": [],
   "source": [
    "categ = [\"Sex\",\"BP\",\"Cholesterol\",\"Drug\"]\n",
    "\n",
    "for l in categ:\n",
    "    label_encoder(l)"
   ]
  },
  {
   "cell_type": "code",
   "execution_count": 15,
   "metadata": {},
   "outputs": [
    {
     "data": {
      "text/html": [
       "<div>\n",
       "<style scoped>\n",
       "    .dataframe tbody tr th:only-of-type {\n",
       "        vertical-align: middle;\n",
       "    }\n",
       "\n",
       "    .dataframe tbody tr th {\n",
       "        vertical-align: top;\n",
       "    }\n",
       "\n",
       "    .dataframe thead th {\n",
       "        text-align: right;\n",
       "    }\n",
       "</style>\n",
       "<table border=\"1\" class=\"dataframe\">\n",
       "  <thead>\n",
       "    <tr style=\"text-align: right;\">\n",
       "      <th></th>\n",
       "      <th>Age</th>\n",
       "      <th>Sex</th>\n",
       "      <th>BP</th>\n",
       "      <th>Cholesterol</th>\n",
       "      <th>Na_to_K</th>\n",
       "      <th>Drug</th>\n",
       "    </tr>\n",
       "  </thead>\n",
       "  <tbody>\n",
       "    <tr>\n",
       "      <th>0</th>\n",
       "      <td>23</td>\n",
       "      <td>0</td>\n",
       "      <td>0</td>\n",
       "      <td>0</td>\n",
       "      <td>25.355</td>\n",
       "      <td>0</td>\n",
       "    </tr>\n",
       "    <tr>\n",
       "      <th>1</th>\n",
       "      <td>47</td>\n",
       "      <td>1</td>\n",
       "      <td>1</td>\n",
       "      <td>0</td>\n",
       "      <td>13.093</td>\n",
       "      <td>3</td>\n",
       "    </tr>\n",
       "    <tr>\n",
       "      <th>2</th>\n",
       "      <td>47</td>\n",
       "      <td>1</td>\n",
       "      <td>1</td>\n",
       "      <td>0</td>\n",
       "      <td>10.114</td>\n",
       "      <td>3</td>\n",
       "    </tr>\n",
       "    <tr>\n",
       "      <th>3</th>\n",
       "      <td>28</td>\n",
       "      <td>0</td>\n",
       "      <td>2</td>\n",
       "      <td>0</td>\n",
       "      <td>7.798</td>\n",
       "      <td>4</td>\n",
       "    </tr>\n",
       "    <tr>\n",
       "      <th>4</th>\n",
       "      <td>61</td>\n",
       "      <td>0</td>\n",
       "      <td>1</td>\n",
       "      <td>0</td>\n",
       "      <td>18.043</td>\n",
       "      <td>0</td>\n",
       "    </tr>\n",
       "  </tbody>\n",
       "</table>\n",
       "</div>"
      ],
      "text/plain": [
       "   Age  Sex  BP  Cholesterol  Na_to_K  Drug\n",
       "0   23    0   0            0   25.355     0\n",
       "1   47    1   1            0   13.093     3\n",
       "2   47    1   1            0   10.114     3\n",
       "3   28    0   2            0    7.798     4\n",
       "4   61    0   1            0   18.043     0"
      ]
     },
     "execution_count": 15,
     "metadata": {},
     "output_type": "execute_result"
    }
   ],
   "source": [
    "drug.head()"
   ]
  },
  {
   "cell_type": "code",
   "execution_count": 20,
   "metadata": {},
   "outputs": [],
   "source": [
    "X = drug.drop('Drug', axis = 1)\n",
    "y = drug['Drug']"
   ]
  },
  {
   "cell_type": "code",
   "execution_count": 23,
   "metadata": {},
   "outputs": [
    {
     "data": {
      "text/plain": [
       "array([[0.13559322, 0.        , 0.        , 0.        , 0.59684783],\n",
       "       [0.54237288, 1.        , 0.5       , 0.        , 0.21339671],\n",
       "       [0.54237288, 1.        , 0.5       , 0.        , 0.12023891],\n",
       "       [0.22033898, 0.        , 1.        , 0.        , 0.04781412],\n",
       "       [0.77966102, 0.        , 0.5       , 0.        , 0.36819063],\n",
       "       [0.11864407, 0.        , 1.        , 0.        , 0.07311277],\n",
       "       [0.57627119, 0.        , 1.        , 0.        , 0.31290262],\n",
       "       [0.44067797, 1.        , 0.5       , 0.        , 0.14910251],\n",
       "       [0.76271186, 1.        , 1.        , 0.        , 0.27837889],\n",
       "       [0.47457627, 1.        , 0.5       , 1.        , 0.40962537],\n",
       "       [0.54237288, 0.        , 0.5       , 0.        , 0.1719307 ],\n",
       "       [0.3220339 , 0.        , 0.        , 1.        , 0.40434048],\n",
       "       [0.47457627, 1.        , 0.5       , 0.        , 0.28478954],\n",
       "       [1.        , 0.        , 0.5       , 0.        , 0.45884671],\n",
       "       [0.59322034, 0.        , 1.        , 0.        , 0.20120083],\n",
       "       [0.01694915, 0.        , 0.        , 1.        , 0.28916755],\n",
       "       [0.91525424, 1.        , 0.5       , 1.        , 0.16217399],\n",
       "       [0.47457627, 1.        , 0.        , 0.        , 0.24088436],\n",
       "       [0.13559322, 1.        , 0.5       , 0.        , 0.03217837],\n",
       "       [0.28813559, 0.        , 0.        , 1.        , 0.61620489],\n",
       "       [0.71186441, 1.        , 0.5       , 1.        , 0.40212021],\n",
       "       [0.81355932, 1.        , 1.        , 0.        , 0.61442242],\n",
       "       [0.54237288, 1.        , 0.5       , 1.        , 0.75986616],\n",
       "       [0.55932203, 0.        , 0.5       , 0.        , 0.27415723],\n",
       "       [0.30508475, 0.        , 0.5       , 0.        , 0.85111639],\n",
       "       [0.22033898, 0.        , 0.        , 1.        , 0.3921446 ],\n",
       "       [0.27118644, 1.        , 0.        , 0.        , 0.75354932],\n",
       "       [0.57627119, 0.        , 1.        , 1.        , 0.09731691],\n",
       "       [0.40677966, 0.        , 0.5       , 1.        , 0.51372819],\n",
       "       [0.50847458, 1.        , 0.5       , 0.        , 0.36531365],\n",
       "       [0.05084746, 0.        , 1.        , 1.        , 0.07758459],\n",
       "       [1.        , 1.        , 0.        , 0.        , 0.1031334 ],\n",
       "       [0.57627119, 1.        , 0.5       , 1.        , 0.14838326],\n",
       "       [0.84745763, 0.        , 0.        , 1.        , 0.80076928],\n",
       "       [0.6440678 , 1.        , 1.        , 0.        , 0.24591907],\n",
       "       [0.52542373, 1.        , 1.        , 1.        , 0.03177184],\n",
       "       [0.28813559, 1.        , 0.        , 1.        , 0.09931828],\n",
       "       [0.40677966, 1.        , 0.5       , 1.        , 0.23982113],\n",
       "       [0.40677966, 0.        , 1.        , 1.        , 0.10757396],\n",
       "       [0.        , 1.        , 1.        , 0.        , 0.08802927],\n",
       "       [0.98305085, 0.        , 1.        , 0.        , 0.40502846],\n",
       "       [0.72881356, 0.        , 0.        , 1.        , 0.24923385],\n",
       "       [0.59322034, 1.        , 1.        , 1.        , 0.29773594],\n",
       "       [0.13559322, 1.        , 1.        , 0.        , 0.18734755],\n",
       "       [0.59322034, 0.        , 1.        , 1.        , 0.18844205],\n",
       "       [0.86440678, 0.        , 1.        , 1.        , 0.05747702],\n",
       "       [0.37288136, 0.        , 0.        , 0.        , 0.21333417],\n",
       "       [0.89830508, 1.        , 0.5       , 0.        , 0.12577397],\n",
       "       [0.13559322, 1.        , 1.        , 0.        , 0.79482769],\n",
       "       [0.22033898, 0.        , 0.5       , 0.        , 0.42300957],\n",
       "       [0.72881356, 0.        , 0.        , 0.        , 0.4111264 ],\n",
       "       [0.88135593, 1.        , 1.        , 1.        , 0.14475577],\n",
       "       [0.79661017, 1.        , 0.5       , 1.        , 0.65401213],\n",
       "       [0.15254237, 0.        , 0.        , 1.        , 0.38113703],\n",
       "       [0.89830508, 0.        , 0.        , 1.        , 0.12258428],\n",
       "       [0.18644068, 0.        , 0.5       , 0.        , 0.2467634 ],\n",
       "       [0.84745763, 1.        , 0.        , 1.        , 0.15857777],\n",
       "       [0.42372881, 1.        , 0.        , 0.        , 0.67411971],\n",
       "       [0.76271186, 1.        , 1.        , 1.        , 0.11951967],\n",
       "       [0.3220339 , 1.        , 0.        , 0.        , 0.38882982],\n",
       "       [0.38983051, 0.        , 0.5       , 1.        , 0.73819501],\n",
       "       [0.15254237, 1.        , 0.        , 1.        , 0.10025643],\n",
       "       [0.88135593, 1.        , 0.5       , 1.        , 0.4510601 ],\n",
       "       [0.50847458, 1.        , 0.5       , 1.        , 0.06570142],\n",
       "       [0.76271186, 0.        , 0.        , 0.        , 0.21996373],\n",
       "       [0.89830508, 0.        , 1.        , 1.        , 0.64985302],\n",
       "       [0.23728814, 1.        , 0.        , 0.        , 0.20598536],\n",
       "       [0.03389831, 1.        , 1.        , 1.        , 0.14269185],\n",
       "       [0.66101695, 1.        , 1.        , 0.        , 0.5750516 ],\n",
       "       [0.05084746, 0.        , 0.        , 1.        , 0.56310589],\n",
       "       [0.93220339, 1.        , 0.        , 0.        , 0.240728  ],\n",
       "       [0.22033898, 0.        , 1.        , 0.        , 0.41922572],\n",
       "       [0.15254237, 0.        , 1.        , 0.        , 0.13559322],\n",
       "       [0.44067797, 0.        , 1.        , 1.        , 0.52023266],\n",
       "       [0.27118644, 1.        , 0.        , 1.        , 0.33773219],\n",
       "       [0.18644068, 1.        , 0.5       , 1.        , 0.45781475],\n",
       "       [0.3559322 , 0.        , 0.        , 0.        , 0.15413722],\n",
       "       [0.18644068, 0.        , 0.        , 1.        , 0.40315217],\n",
       "       [0.06779661, 0.        , 0.        , 0.        , 0.22027644],\n",
       "       [0.28813559, 0.        , 0.5       , 1.        , 0.14294202],\n",
       "       [0.76271186, 1.        , 0.        , 0.        , 0.23969604],\n",
       "       [0.83050847, 1.        , 1.        , 0.        , 0.04665708],\n",
       "       [0.28813559, 0.        , 0.5       , 0.        , 0.10766777],\n",
       "       [0.38983051, 0.        , 0.        , 1.        , 0.15813997],\n",
       "       [0.54237288, 0.        , 0.5       , 0.        , 0.11876915],\n",
       "       [0.74576271, 1.        , 0.        , 0.        , 0.23972731],\n",
       "       [0.61016949, 0.        , 1.        , 0.        , 0.22915755],\n",
       "       [0.91525424, 1.        , 0.5       , 0.        , 0.28797924],\n",
       "       [0.37288136, 0.        , 0.        , 1.        , 0.52604916],\n",
       "       [0.59322034, 0.        , 1.        , 1.        , 0.34217274],\n",
       "       [0.79661017, 1.        , 1.        , 0.        , 0.32287823],\n",
       "       [0.44067797, 1.        , 0.        , 1.        , 0.27790981],\n",
       "       [0.23728814, 0.        , 0.        , 0.        , 0.72490462],\n",
       "       [0.45762712, 0.        , 0.5       , 1.        , 0.71930702],\n",
       "       [0.69491525, 1.        , 0.5       , 0.        , 0.27350053],\n",
       "       [0.3559322 , 1.        , 0.5       , 1.        , 0.16120458],\n",
       "       [0.72881356, 0.        , 0.5       , 0.        , 1.        ],\n",
       "       [0.69491525, 0.        , 0.        , 0.        , 0.59809869],\n",
       "       [0.08474576, 1.        , 0.        , 1.        , 0.91844393],\n",
       "       [0.        , 0.        , 0.        , 1.        , 0.3269748 ],\n",
       "       [0.27118644, 1.        , 0.        , 1.        , 0.17518294],\n",
       "       [0.50847458, 0.        , 0.        , 0.        , 0.20592282],\n",
       "       [0.22033898, 0.        , 0.5       , 0.        , 0.21445994],\n",
       "       [0.69491525, 1.        , 1.        , 0.        , 0.08433923],\n",
       "       [0.11864407, 1.        , 0.        , 1.        , 0.68875477],\n",
       "       [0.37288136, 1.        , 0.5       , 1.        , 0.08440178],\n",
       "       [0.11864407, 1.        , 1.        , 0.        , 0.1777472 ],\n",
       "       [0.45762712, 1.        , 0.5       , 0.        , 0.42979548],\n",
       "       [0.96610169, 1.        , 0.        , 1.        , 0.10657327],\n",
       "       [0.13559322, 1.        , 1.        , 0.        , 0.33088373],\n",
       "       [0.59322034, 1.        , 0.        , 0.        , 0.0381825 ],\n",
       "       [0.54237288, 0.        , 1.        , 1.        , 0.0129464 ],\n",
       "       [0.33898305, 1.        , 0.5       , 1.        , 0.09071862],\n",
       "       [0.84745763, 0.        , 0.5       , 1.        , 0.23453624],\n",
       "       [0.08474576, 0.        , 1.        , 1.        , 0.09418976],\n",
       "       [0.61016949, 1.        , 0.        , 0.        , 0.37607105],\n",
       "       [0.88135593, 1.        , 1.        , 1.        , 0.10147601],\n",
       "       [0.42372881, 0.        , 1.        , 0.        , 0.11989493],\n",
       "       [0.28813559, 0.        , 0.        , 1.        , 0.12580524],\n",
       "       [0.77966102, 0.        , 0.        , 0.        , 0.60060041],\n",
       "       [0.22033898, 1.        , 1.        , 0.        , 0.65029082],\n",
       "       [0.        , 1.        , 0.        , 1.        , 0.34201639],\n",
       "       [0.3220339 , 1.        , 1.        , 0.        , 0.50619176],\n",
       "       [0.3559322 , 0.        , 1.        , 0.        , 0.3278504 ],\n",
       "       [0.6440678 , 0.        , 0.        , 1.        , 0.19469635],\n",
       "       [0.06779661, 0.        , 0.        , 1.        , 0.61604853],\n",
       "       [0.86440678, 1.        , 0.        , 0.        , 0.31515417],\n",
       "       [0.33898305, 1.        , 1.        , 1.        , 0.04928388],\n",
       "       [0.54237288, 1.        , 0.5       , 1.        , 0.8528676 ],\n",
       "       [0.28813559, 0.        , 1.        , 0.        , 0.03777597],\n",
       "       [0.93220339, 0.        , 1.        , 0.        , 0.44468072],\n",
       "       [0.62711864, 1.        , 0.5       , 1.        , 0.83347927],\n",
       "       [0.57627119, 1.        , 0.5       , 1.        , 0.22918882],\n",
       "       [0.15254237, 1.        , 1.        , 0.        , 0.61032585],\n",
       "       [0.45762712, 0.        , 0.        , 0.        , 0.46178623],\n",
       "       [1.        , 1.        , 0.5       , 1.        , 0.1773094 ],\n",
       "       [0.6779661 , 0.        , 0.        , 0.        , 0.14722622],\n",
       "       [0.33898305, 0.        , 0.        , 0.        , 0.20717368],\n",
       "       [0.61016949, 1.        , 0.        , 1.        , 0.15867159],\n",
       "       [0.91525424, 0.        , 1.        , 0.        , 0.11870661],\n",
       "       [0.57627119, 1.        , 0.        , 1.        , 0.        ],\n",
       "       [0.83050847, 0.        , 0.5       , 1.        , 0.60891863],\n",
       "       [0.76271186, 1.        , 0.        , 1.        , 0.07355057],\n",
       "       [1.        , 1.        , 0.        , 1.        , 0.28666583],\n",
       "       [0.40677966, 1.        , 0.        , 0.        , 0.10616674],\n",
       "       [0.77966102, 1.        , 1.        , 0.        , 0.09925574],\n",
       "       [0.37288136, 0.        , 0.5       , 1.        , 0.17940459],\n",
       "       [0.18644068, 0.        , 0.        , 1.        , 0.18881731],\n",
       "       [0.77966102, 0.        , 0.5       , 1.        , 0.03349178],\n",
       "       [0.11864407, 1.        , 0.5       , 0.        , 0.05885296],\n",
       "       [0.57627119, 1.        , 0.        , 1.        , 0.07602101],\n",
       "       [0.89830508, 1.        , 0.        , 0.        , 0.14822691],\n",
       "       [0.6779661 , 1.        , 1.        , 1.        , 0.03102133],\n",
       "       [0.96610169, 0.        , 0.5       , 1.        , 0.26183626],\n",
       "       [0.37288136, 1.        , 0.5       , 1.        , 0.32694352],\n",
       "       [0.57627119, 1.        , 0.5       , 0.        , 0.13346676],\n",
       "       [0.27118644, 1.        , 0.        , 1.        , 0.15504409],\n",
       "       [0.6440678 , 1.        , 0.5       , 0.        , 0.52204641],\n",
       "       [0.74576271, 0.        , 0.5       , 0.        , 0.13055851],\n",
       "       [0.3220339 , 0.        , 0.5       , 1.        , 0.20808056],\n",
       "       [0.25423729, 0.        , 1.        , 0.        , 0.13052724],\n",
       "       [0.71186441, 0.        , 0.        , 1.        , 0.11495403],\n",
       "       [0.47457627, 1.        , 1.        , 1.        , 0.20607918],\n",
       "       [0.10169492, 0.        , 0.        , 1.        , 0.69932454],\n",
       "       [0.01694915, 1.        , 0.        , 1.        , 0.39833636],\n",
       "       [0.38983051, 1.        , 0.5       , 0.        , 0.37607105],\n",
       "       [0.72881356, 0.        , 0.5       , 0.        , 0.63718807],\n",
       "       [0.71186441, 0.        , 1.        , 0.        , 0.2485146 ],\n",
       "       [0.61016949, 0.        , 0.5       , 1.        , 0.52329727],\n",
       "       [0.08474576, 0.        , 0.        , 0.        , 0.1561386 ],\n",
       "       [0.22033898, 0.        , 1.        , 0.        , 0.20670461],\n",
       "       [0.50847458, 1.        , 0.5       , 1.        , 0.11720558],\n",
       "       [0.40677966, 0.        , 1.        , 1.        , 0.34261054],\n",
       "       [0.44067797, 0.        , 0.5       , 1.        , 0.38995559],\n",
       "       [0.45762712, 1.        , 0.        , 1.        , 0.20317093],\n",
       "       [0.98305085, 0.        , 0.        , 0.        , 0.37772844],\n",
       "       [0.55932203, 1.        , 0.        , 1.        , 0.13062105],\n",
       "       [0.16949153, 1.        , 1.        , 0.        , 0.39846144],\n",
       "       [0.40677966, 1.        , 1.        , 0.        , 0.30333354],\n",
       "       [0.88135593, 0.        , 1.        , 0.        , 0.30089436],\n",
       "       [0.11864407, 0.        , 0.        , 1.        , 0.51751204],\n",
       "       [0.74576271, 0.        , 1.        , 0.        , 0.23813247],\n",
       "       [0.08474576, 0.        , 0.5       , 1.        , 0.16939771],\n",
       "       [0.3559322 , 0.        , 0.        , 1.        , 0.28835449],\n",
       "       [0.05084746, 0.        , 0.        , 0.        , 0.96688348],\n",
       "       [0.71186441, 0.        , 1.        , 1.        , 0.6136719 ],\n",
       "       [0.93220339, 1.        , 0.        , 0.        , 0.11195197],\n",
       "       [0.54237288, 1.        , 0.        , 0.        , 0.12927638],\n",
       "       [0.84745763, 1.        , 0.        , 1.        , 0.89836763],\n",
       "       [0.83050847, 1.        , 0.        , 1.        , 0.45853399],\n",
       "       [0.72881356, 1.        , 0.        , 0.        , 0.39783601],\n",
       "       [0.13559322, 1.        , 0.        , 0.        , 0.05447495],\n",
       "       [0.96610169, 1.        , 0.5       , 0.        , 0.31399712],\n",
       "       [0.96610169, 1.        , 0.5       , 0.        , 0.01563575],\n",
       "       [0.52542373, 0.        , 0.        , 0.        , 0.88864219],\n",
       "       [0.69491525, 0.        , 0.5       , 0.        , 0.1656764 ],\n",
       "       [0.01694915, 1.        , 0.5       , 0.        , 0.17940459],\n",
       "       [0.62711864, 1.        , 1.        , 0.        , 0.11335918],\n",
       "       [0.13559322, 1.        , 1.        , 1.        , 0.24238539],\n",
       "       [0.42372881, 0.        , 0.5       , 1.        , 0.15885922]])"
      ]
     },
     "execution_count": 23,
     "metadata": {},
     "output_type": "execute_result"
    }
   ],
   "source": [
    "from sklearn.preprocessing import MinMaxScaler\n",
    "scaler = MinMaxScaler()\n",
    "X = scaler.fit_transform(X)\n",
    "X"
   ]
  },
  {
   "cell_type": "code",
   "execution_count": 24,
   "metadata": {},
   "outputs": [],
   "source": [
    "import pickle\n",
    "\n",
    "with open('drug/X.pkl', 'wb') as f:\n",
    "    pickle.dump(X, f)\n",
    "\n",
    "with open('drug/y.pkl', 'wb') as f:\n",
    "    pickle.dump(y, f)"
   ]
  }
 ],
 "metadata": {
  "interpreter": {
   "hash": "04f75c8785900dd1c4ed3e48ea3ff3b957049919e0506b48261d06f1e04a3cee"
  },
  "kernelspec": {
   "display_name": "Python 3.8.12 64-bit ('course': conda)",
   "language": "python",
   "name": "python3"
  },
  "language_info": {
   "codemirror_mode": {
    "name": "ipython",
    "version": 3
   },
   "file_extension": ".py",
   "mimetype": "text/x-python",
   "name": "python",
   "nbconvert_exporter": "python",
   "pygments_lexer": "ipython3",
   "version": "3.8.12"
  },
  "orig_nbformat": 4
 },
 "nbformat": 4,
 "nbformat_minor": 2
}
