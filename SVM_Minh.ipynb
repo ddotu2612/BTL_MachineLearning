{
 "cells": [
  {
   "cell_type": "code",
   "execution_count": 8,
   "metadata": {},
   "outputs": [],
   "source": [
    "import matplotlib.pyplot as plt\n",
    "import numpy as np\n",
    "import os\n",
    "from sklearn.preprocessing import OneHotEncoder, LabelBinarizer\n",
    "from sklearn.datasets import load_files\n",
    "from pyvi import ViTokenizer\n",
    "from sklearn import svm\n",
    "from sklearn.feature_extraction.text import CountVectorizer, TfidfVectorizer\n",
    "from sklearn.feature_extraction.text import TfidfTransformer\n",
    "from sklearn.model_selection import train_test_split, GridSearchCV\n",
    "from sklearn.pipeline import Pipeline\n",
    "from sklearn.model_selection import ShuffleSplit\n",
    "from sklearn.model_selection import learning_curve\n",
    "from sklearn.model_selection import train_test_split, StratifiedShuffleSplit\n"
   ]
  },
  {
   "cell_type": "code",
   "execution_count": 9,
   "metadata": {},
   "outputs": [
    {
     "name": "stdout",
     "output_type": "stream",
     "text": [
      "So luong du lieu:  1025\n",
      "So luong nhan:  1025\n"
     ]
    }
   ],
   "source": [
    "import pickle \n",
    "\n",
    "with open('preprocessing/heart/X.pkl', 'rb') as f:\n",
    "    X = pickle.load(f)\n",
    "    X = np.array(X)\n",
    "with open('preprocessing/heart/y.pkl', 'rb') as f:\n",
    "    y = pickle.load(f)\n",
    "    y = np.array(y)\n",
    "\n",
    "print('So luong du lieu: ', len(X))\n",
    "print('So luong nhan: ', len(y))\n",
    "\n",
    "lb = LabelBinarizer()\n",
    "lb.fit(y)\n",
    "y = lb.transform(y)\n",
    "y = y.reshape(1, -1)[0]\n",
    "\n",
    "\n"
   ]
  },
  {
   "cell_type": "code",
   "execution_count": 10,
   "metadata": {},
   "outputs": [],
   "source": [
    "X_train, X_test, y_train, y_test = train_test_split(X, y, test_size=0.20, stratify=y, random_state=0)"
   ]
  },
  {
   "cell_type": "code",
   "execution_count": 11,
   "metadata": {},
   "outputs": [],
   "source": [
    "class SVM:\n",
    "  def __init__(self, kernel='linear', C=10000.0, max_iter=100000, degree=3, gamma=1):\n",
    "    self.kernel = {'poly'  : lambda x,y: np.dot(x, y.T)**degree,\n",
    "                   'rbf'   : lambda x,y: np.exp(-gamma*np.sum((y - x[:,np.newaxis])**2, axis=-1)),\n",
    "                   'linear': lambda x,y: np.dot(x, y.T)}[kernel]\n",
    "    self.C = C\n",
    "    self.max_iter = max_iter\n",
    "  # Giới hạn khoảng alphaj\n",
    "  def restrict_to_square(self, t, v0, u):\n",
    "    t = (np.clip(v0 + t*u, 0, self.C) - v0)[1]/u[1]\n",
    "    return (np.clip(v0 + t*u, 0, self.C) - v0)[0]/u[0]\n",
    "\n",
    "  def fit(self, X, y):\n",
    "    self.X = X.copy()\n",
    "    self.y = y * 2 - 1\n",
    "    self.lambdas = np.zeros_like(self.y, dtype=float)\n",
    "    self.K = self.kernel(self.X, self.X) * self.y[:,np.newaxis] * self.y\n",
    "    \n",
    "    for _ in range(self.max_iter):\n",
    "      for idxM in range(len(self.lambdas)):\n",
    "        idxL = np.random.randint(0, len(self.lambdas))\n",
    "        Q = self.K[[[idxM, idxM], [idxL, idxL]], [[idxM, idxL], [idxM, idxL]]]\n",
    "        v0 = self.lambdas[[idxM, idxL]]\n",
    "        k0 = 1 - np.sum(self.lambdas * self.K[[idxM, idxL]], axis=1)\n",
    "        u = np.array([-self.y[idxL], self.y[idxM]])\n",
    "        t_max = np.dot(k0, u) / (np.dot(np.dot(Q, u), u) + 1E-15)\n",
    "        self.lambdas[[idxM, idxL]] = v0 + u * self.restrict_to_square(t_max, v0, u)\n",
    "    \n",
    "    idx, = np.nonzero(self.lambdas > 1E-15)\n",
    "    self.b = np.mean((1.0 - np.sum(self.K[idx] * self.lambdas, axis=1)) * self.y[idx])\n",
    "  \n",
    "  def decision_function(self, X):\n",
    "    return np.sum(self.kernel(X, self.X) * self.y * self.lambdas, axis=1) + self.b\n",
    "\n",
    "  def predict(self, X):\n",
    "    return (np.sign(self.decision_function(X)) + 1) // 2"
   ]
  },
  {
   "cell_type": "code",
   "execution_count": 12,
   "metadata": {},
   "outputs": [],
   "source": [
    "def cross_validation(estimator):\n",
    "    _, train_scores, test_scores = learning_curve(estimator, X_, y_, cv=cv, n_jobs=-1, train_sizes=[1.0, ], scoring=\"accuracy\")\n",
    "    test_scores = test_scores[0]\n",
    "    mean, std = test_scores.mean(), test_scores.std()\n",
    "    return mean, std\n",
    "def plot(title, xlabel, X, Y, error, ylabel = \"Accuracy\"):\n",
    "    plt.xlabel(xlabel)\n",
    "    plt.title(title)\n",
    "    plt.grid()\n",
    "    plt.ylabel(ylabel)\n",
    "    plt.errorbar(X, Y, error, linestyle='None', marker='o')"
   ]
  },
  {
   "cell_type": "code",
   "execution_count": 13,
   "metadata": {},
   "outputs": [
    {
     "name": "stdout",
     "output_type": "stream",
     "text": [
      "1.0\n",
      "5.0\n",
      "6\n",
      "10\n",
      "11\n",
      "19\n",
      "20\n",
      "25\n",
      "30\n"
     ]
    },
    {
     "data": {
      "image/png": "[encoded data removed]",
      "text/plain": [
       "<Figure size 432x288 with 1 Axes>"
      ]
     },
     "metadata": {
      "needs_background": "light"
     },
     "output_type": "display_data"
    }
   ],
   "source": [
    "from sklearn.metrics import accuracy_score\n",
    "title=\"'Thay đổi C Linear'\"\n",
    "xlabel = \"C \"\n",
    "X = []\n",
    "Y = []\n",
    "error = []\n",
    "arr_c=[1.0,5.0,6,10,11,19,20]\n",
    "for C_test in arr_c:\n",
    "    print(C_test)\n",
    "    model=SVM(C=C_test,kernel='linear',max_iter=500)\n",
    "    model.fit(X_train,y_train)\n",
    "    y_pred=model.predict(X_test)\n",
    "    acc=accuracy_score(y_test, y_pred)\n",
    "  #  print(\"- Acc = {}\".format(acc))\n",
    "    X.append(C_test)\n",
    "    Y.append(acc)\n",
    "    error.append(0.01)\n",
    "# lưu kết quả ra file ảnh\n",
    "plot(title, xlabel, X, Y, error)\n",
    "# plt.savefig('images/KNN_change_K.png', bbox_inches='tight')\n",
    "plt.show()\n"
   ]
  },
  {
   "cell_type": "code",
   "execution_count": null,
   "metadata": {},
   "outputs": [
    {
     "name": "stdout",
     "output_type": "stream",
     "text": [
      "1.0\n",
      "- Acc = 0.6829268292682927\n",
      "5.0\n",
      "- Acc = 0.6829268292682927\n",
      "6\n",
      "- Acc = 0.6829268292682927\n",
      "10\n",
      "- Acc = 0.6829268292682927\n",
      "11\n",
      "- Acc = 0.6829268292682927\n",
      "19\n",
      "- Acc = 0.6829268292682927\n",
      "20\n",
      "- Acc = 0.6829268292682927\n",
      "25\n",
      "- Acc = 0.6829268292682927\n",
      "30\n",
      "- Acc = 0.6829268292682927\n"
     ]
    },
    {
     "data": {
      "image/png": "[encoded data removed]",
      "text/plain": [
       "<Figure size 432x288 with 1 Axes>"
      ]
     },
     "metadata": {
      "needs_background": "light"
     },
     "output_type": "display_data"
    }
   ],
   "source": [
    "from sklearn.metrics import accuracy_score\n",
    "title=\"'Thay đổi C Poly'\"\n",
    "xlabel = \"C \"\n",
    "X = []\n",
    "Y = []\n",
    "error = []\n",
    "arr_c=[1.0,5.0,6,10,11,19,20,25,30]\n",
    "for C_test in arr_c:\n",
    "    print(C_test)\n",
    "    model=SVM(C=C_test,kernel='poly',max_iter=500,gamma=0.001)\n",
    "    model.fit(X_train,y_train)\n",
    "    y_pred=model.predict(X_test)\n",
    "    acc=accuracy_score(y_test, y_pred)\n",
    "    print(\"- Acc = {}\".format(acc))\n",
    "    X.append(C_test)\n",
    "    Y.append(acc)\n",
    "    error.append(0.01)\n",
    "# lưu kết quả ra file ảnh\n",
    "plot(title, xlabel, X, Y, error)\n",
    "# plt.savefig('images/KNN_change_K.png', bbox_inches='tight')\n",
    "plt.show()"
   ]
  },
  {
   "cell_type": "code",
   "execution_count": null,
   "metadata": {},
   "outputs": [
    {
     "name": "stdout",
     "output_type": "stream",
     "text": [
      "1.0\n",
      "- Acc = 0.7560975609756098\n",
      "5.0\n",
      "- Acc = 0.8536585365853658\n",
      "6\n",
      "- Acc = 0.8780487804878049\n",
      "10\n",
      "- Acc = 0.9024390243902439\n",
      "11\n",
      "- Acc = 0.9024390243902439\n",
      "19\n",
      "- Acc = 0.9024390243902439\n",
      "20\n",
      "- Acc = 0.9024390243902439\n",
      "25\n",
      "- Acc = 0.9024390243902439\n",
      "30\n",
      "- Acc = 0.9024390243902439\n"
     ]
    },
    {
     "data": {
      "image/png": "[encoded data removed]",
      "text/plain": [
       "<Figure size 432x288 with 1 Axes>"
      ]
     },
     "metadata": {
      "needs_background": "light"
     },
     "output_type": "display_data"
    }
   ],
   "source": [
    "from sklearn.metrics import accuracy_score\n",
    "title=\"'Thay đổi C'\"\n",
    "xlabel = \"C \"\n",
    "X = []\n",
    "Y = []\n",
    "error = []\n",
    "arr_c=[1.0,5.0,6,10,11,19,20,25,30]\n",
    "for C_test in arr_c:\n",
    "    print(C_test)\n",
    "    model=SVM(C=C_test,kernel='rbf',max_iter=500,gamma=0.001)\n",
    "    model.fit(X_train,y_train)\n",
    "    y_pred=model.predict(X_test)\n",
    "    acc=accuracy_score(y_test, y_pred)\n",
    "    print(\"- Acc = {}\".format(acc))\n",
    "    X.append(C_test)\n",
    "    Y.append(acc)\n",
    "    error.append(0.01)\n",
    "# lưu kết quả ra file ảnh\n",
    "plot(title, xlabel, X, Y, error)\n",
    "# plt.savefig('images/KNN_change_K.png', bbox_inches='tight')\n",
    "plt.show()"
   ]
  },
  {
   "cell_type": "code",
   "execution_count": 54,
   "metadata": {},
   "outputs": [
    {
     "name": "stdout",
     "output_type": "stream",
     "text": [
      "- Acc = 0.926829268292683\n",
      "0.926829268292683\n",
      "- Acc = 0.9024390243902439\n",
      "0.9024390243902439\n",
      "- Acc = 0.9024390243902439\n",
      "0.9024390243902439\n",
      "- Acc = 0.8536585365853658\n",
      "0.8536585365853658\n",
      "- Acc = 0.8292682926829268\n",
      "0.8292682926829268\n",
      "- Acc = 0.8048780487804879\n",
      "0.8048780487804879\n",
      "- Acc = 0.8292682926829268\n",
      "0.8292682926829268\n",
      "- Acc = 0.8292682926829268\n",
      "0.8292682926829268\n"
     ]
    },
    {
     "data": {
      "image/png": "[encoded data removed]",
      "text/plain": [
       "<Figure size 432x288 with 1 Axes>"
      ]
     },
     "metadata": {
      "needs_background": "light"
     },
     "output_type": "display_data"
    }
   ],
   "source": [
    "from sklearn.metrics import accuracy_score\n",
    "title=\"'Thay đổi C'\"\n",
    "xlabel = \"C \"\n",
    "X = []\n",
    "Y = []\n",
    "error = []\n",
    "arr_c=[1.0,1.5,2.0,3.0,4.0,5.0,6.0,7.0]\n",
    "for C_test in arr_c:\n",
    "    \n",
    "    model=svm.SVC(C=C_test,kernel='poly')\n",
    "    model.fit(X_train,y_train)\n",
    "    y_pred=model.predict(X_test)\n",
    "    acc=accuracy_score(y_test, y_pred)\n",
    "    print(\"- Acc = {}\".format(acc))\n",
    "    print(acc)\n",
    "    X.append(C_test)\n",
    "    Y.append(acc)\n",
    "    error.append(0.01)\n",
    "# lưu kết quả ra file ảnh\n",
    "plot(title, xlabel, X, Y, error)\n",
    "# plt.savefig('images/KNN_change_K.png', bbox_inches='tight')\n",
    "plt.show()"
   ]
  },
  {
   "cell_type": "code",
   "execution_count": null,
   "metadata": {},
   "outputs": [],
   "source": [
    "print(\"- Training ...\")\n",
    "\n",
    "\n",
    "# X_train.shape\n",
    "print(\"- Train size = {}\".format(X_train.shape))\n",
    "model=SVM(max_iter=500,kernel='rbf',C=20,gamma=0.001)\n",
    "print(y_train.dtype)\n",
    "model.fit(X_train, y_train)\n",
    "print(\"- model - train complete\")"
   ]
  },
  {
   "cell_type": "code",
   "execution_count": null,
   "metadata": {},
   "outputs": [],
   "source": [
    "from sklearn.metrics import accuracy_score\n",
    "\n",
    "print(\"- Testing ...\")\n",
    "y_pred=model.predict(X_test)\n",
    "print(\"- Acc = {}\".format(accuracy_score(y_test, y_pred)))"
   ]
  },
  {
   "cell_type": "code",
   "execution_count": null,
   "metadata": {},
   "outputs": [],
   "source": [
    "from sklearn.metrics import precision_score, recall_score\n",
    "recall_s = recall_score(y_test, model.predict(X_test), average=None)\n",
    "print('Tỉ lệ dự đoán đúng người bị bệnh là ', recall_s[1])\n",
    "print('Tỉ lệ dự đoán đúng người không bị bệnh là', recall_s[0])"
   ]
  },
  {
   "cell_type": "code",
   "execution_count": null,
   "metadata": {},
   "outputs": [],
   "source": [
    "from sklearn.svm import SVC\n",
    "\n",
    "title = \"thay đổi kernel, C = 1\"\n",
    "xlabel = \"kernel\"\n",
    "X = []\n",
    "Y = []\n",
    "error = []\n",
    "\n",
    "for kernel in tqdm(['linear', 'poly', 'rbf', 'sigmoid']):\n",
    "    # Với mỗi kernel được chọn, \n",
    "    # thực hiện xây dựng mô hình, huấn luyện và đánh giá theo cross-validation\n",
    "    text_clf = SVC(kernel=kernel, C=1.0)\n",
    "    mean, std = cross_validation(text_clf)\n",
    "    X.append(kernel)\n",
    "    Y.append(mean)\n",
    "    error.append(std)\n",
    "\n",
    "# lưu kết quả ra file ảnh \n",
    "plot(title, xlabel, X, Y, error)\n",
    "plt.show()"
   ]
  },
  {
   "cell_type": "code",
   "execution_count": null,
   "metadata": {},
   "outputs": [],
   "source": [
    "title = \"thay đổi C, kernel = rbf\"\n",
    "xlabel = \"C\"\n",
    "X = []\n",
    "Y = []\n",
    "error = []\n",
    "\n",
    "for C in tqdm([.1, 1.0, 2.0, 5.0, 8.0, 10.0]):\n",
    "    # Với từng giá trị C nhận được, \n",
    "    # thực hiện xây dựng mô hình, huấn luyện và đánh giá theo cross-validation\n",
    "    text_clf = SVC(kernel='rbf', C=C)\n",
    "    mean, std = cross_validation(text_clf)\n",
    "    X.append(str(C))\n",
    "    Y.append(mean)\n",
    "    error.append(std)\n",
    "\n",
    "# lưu kết quả ra file ảnh\n",
    "plot(title, xlabel, X, Y, error)\n",
    "plt.show()"
   ]
  },
  {
   "cell_type": "code",
   "execution_count": null,
   "metadata": {},
   "outputs": [],
   "source": [
    "cv = StratifiedShuffleSplit(n_splits=1, test_size=0.2, random_state = 0)\n",
    "\n",
    "train_index, test_index = list(cv.split(X_, y_))[0]\n",
    "X_train, X_test = X_.iloc[train_index], X_.iloc[test_index]\n",
    "y_train, y_test = y_.iloc[train_index], y_.iloc[test_index]\n",
    "\n",
    "# Test với bộ tham số tốt nhất\n",
    "svm_ = SVC(kernel='rbf', C=2.0)\n",
    "svm_.fit(X_train, y_train)\n",
    "\n",
    "print(f'SVM: {accuracy_score(y_test, svm_.predict(X_test))}')"
   ]
  }
 ],
 "metadata": {
  "interpreter": {
   "hash": "49277c6ade3bd91b686586a6bdce29d901f01f037d6a79bb6755feb4d14b3397"
  },
  "kernelspec": {
   "display_name": "Python 3.8.12 64-bit ('course': conda)",
   "language": "python",
   "name": "python3"
  },
  "language_info": {
   "codemirror_mode": {
    "name": "ipython",
    "version": 3
   },
   "file_extension": ".py",
   "mimetype": "text/x-python",
   "name": "python",
   "nbconvert_exporter": "python",
   "pygments_lexer": "ipython3",
   "version": "3.8.12"
  },
  "orig_nbformat": 4
 },
 "nbformat": 4,
 "nbformat_minor": 2
}
