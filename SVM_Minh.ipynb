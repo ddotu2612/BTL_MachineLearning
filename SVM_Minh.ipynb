{
 "cells": [
  {
   "cell_type": "code",
   "execution_count": 21,
   "metadata": {},
   "outputs": [],
   "source": [
    "import matplotlib.pyplot as plt\n",
    "import numpy as np\n",
    "import os\n",
    "from sklearn.preprocessing import OneHotEncoder, LabelBinarizer\n",
    "from sklearn.datasets import load_files\n",
    "from pyvi import ViTokenizer\n",
    "from sklearn import svm\n",
    "from sklearn.feature_extraction.text import CountVectorizer, TfidfVectorizer\n",
    "from sklearn.feature_extraction.text import TfidfTransformer\n",
    "from sklearn.model_selection import train_test_split, GridSearchCV\n",
    "from sklearn.pipeline import Pipeline\n",
    "from sklearn.model_selection import ShuffleSplit\n",
    "from sklearn.model_selection import learning_curve\n",
    "from sklearn.model_selection import train_test_split, StratifiedShuffleSplit\n",
    "from sklearn.metrics import accuracy_score, f1_score\n"
   ]
  },
  {
   "cell_type": "code",
   "execution_count": 30,
   "metadata": {},
   "outputs": [],
   "source": [
    "max_accuracy = []"
   ]
  },
  {
   "cell_type": "markdown",
   "metadata": {},
   "source": [
    "Đọc Dataset1"
   ]
  },
  {
   "cell_type": "code",
   "execution_count": 22,
   "metadata": {},
   "outputs": [
    {
     "name": "stdout",
     "output_type": "stream",
     "text": [
      "So luong du lieu:  1025\n",
      "So luong nhan:  1025\n"
     ]
    },
    {
     "data": {
      "text/plain": [
       "array([0, 0, 0, ..., 0, 1, 0])"
      ]
     },
     "execution_count": 22,
     "metadata": {},
     "output_type": "execute_result"
    }
   ],
   "source": [
    "import pickle \n",
    "\n",
    "with open('preprocessing/heart/X.pkl', 'rb') as f:\n",
    "    X = pickle.load(f)\n",
    "    X = np.array(X)\n",
    "with open('preprocessing/heart/y.pkl', 'rb') as f:\n",
    "    y = pickle.load(f)\n",
    "    y = np.array(y)\n",
    "\n",
    "\n",
    "print('So luong du lieu: ', len(X))\n",
    "print('So luong nhan: ', len(y))\n",
    "\n",
    "lb = LabelBinarizer()\n",
    "lb.fit(y)\n",
    "y = lb.transform(y)\n",
    "y = y.reshape(1, -1)[0]\n",
    "y\n",
    "\n"
   ]
  },
  {
   "cell_type": "markdown",
   "metadata": {},
   "source": [
    "Đọc Dataset2"
   ]
  },
  {
   "cell_type": "code",
   "execution_count": 10,
   "metadata": {},
   "outputs": [
    {
     "name": "stdout",
     "output_type": "stream",
     "text": [
      "So luong du lieu:  412\n",
      "So luong nhan:  412\n"
     ]
    },
    {
     "data": {
      "text/plain": [
       "0      3\n",
       "1      2\n",
       "2      3\n",
       "3      3\n",
       "4      2\n",
       "      ..\n",
       "407    2\n",
       "408    3\n",
       "409    2\n",
       "410    2\n",
       "411    3\n",
       "Name: Stage, Length: 412, dtype: int64"
      ]
     },
     "execution_count": 10,
     "metadata": {},
     "output_type": "execute_result"
    }
   ],
   "source": [
    "#dataset 2 bệnh xơ gan\n",
    "with open('preprocessing/cirrhosis/X.pkl', 'br') as f:\n",
    "    X_train_test = pickle.load(f)\n",
    "    #X_train_test = np.array(X_train_test)\n",
    "\n",
    "with open('preprocessing/cirrhosis/y.pkl', 'rb') as f:\n",
    "    label = pickle.load(f)\n",
    "    #label=np.array(label)\n",
    "print('So luong du lieu: ', len(X_train_test))\n",
    "print('So luong nhan: ', len(label))\n",
    "# X_train_test[0:5]\n",
    "# lb = LabelBinarizer()\n",
    "# lb.fit(label)\n",
    "# label = lb.transform(y)\n",
    "# label = label.reshape(1, -1)[0]\n"
   ]
  },
  {
   "cell_type": "markdown",
   "metadata": {},
   "source": [
    "Chia tập train, test Dataset1\n"
   ]
  },
  {
   "cell_type": "code",
   "execution_count": 23,
   "metadata": {},
   "outputs": [],
   "source": [
    "X_train, X_test, y_train, y_test = train_test_split(X, y, test_size=0.15, stratify=y, random_state=10)\n",
    "\n"
   ]
  },
  {
   "cell_type": "markdown",
   "metadata": {},
   "source": [
    "Chia tập train test Dataset2"
   ]
  },
  {
   "cell_type": "code",
   "execution_count": 11,
   "metadata": {},
   "outputs": [
    {
     "data": {
      "text/plain": [
       "<AxesSubplot:ylabel='Stage'>"
      ]
     },
     "execution_count": 11,
     "metadata": {},
     "output_type": "execute_result"
    },
    {
     "data": {
      "image/png": "[encoded data removed]",
      "text/plain": [
       "<Figure size 432x288 with 1 Axes>"
      ]
     },
     "metadata": {},
     "output_type": "display_data"
    }
   ],
   "source": [
    "#Dataset 2\n",
    "cv = StratifiedShuffleSplit(n_splits=1, test_size=0.2, random_state = 0)\n",
    "train_index, test_index = list(cv.split(X_train_test, label))[0]\n",
    "X_train, X_test = X_train_test.iloc[train_index], X_train_test.iloc[test_index]\n",
    "y_train, y_test = label.iloc[train_index], label.iloc[test_index]\n",
    "y_train.value_counts().plot(kind=\"pie\")"
   ]
  },
  {
   "cell_type": "markdown",
   "metadata": {},
   "source": [
    "Mô hình SVM tự triển khai"
   ]
  },
  {
   "cell_type": "code",
   "execution_count": 24,
   "metadata": {},
   "outputs": [],
   "source": [
    "class SVM:\n",
    "  def __init__(self, kernel='linear', C=10000.0, max_iter=500, degree=2, gamma=1):\n",
    "    self.kernel = {'rbf'   : lambda x,y: np.exp(-gamma*np.sum((y - x[:,np.newaxis])**2, axis=-1)),\n",
    "                   'linear': lambda x,y: np.dot(x, y.T)}[kernel]\n",
    "    self.C = C\n",
    "    self.max_iter = max_iter\n",
    "  # limit aj\n",
    "  def restrict_to_square(self, t, v0, u):\n",
    "    t = (np.clip(v0 + t*u, 0, self.C) - v0)[1]/u[1]\n",
    "    return (np.clip(v0 + t*u, 0, self.C) - v0)[0]/u[0]\n",
    "\n",
    "  def fit(self, X, y):\n",
    "   \n",
    "    self.X = X.copy()\n",
    "     # Convert y to {-1, 1}\n",
    "    self.y = y * 2 - 1\n",
    "    self.lambdas = np.zeros_like(self.y, dtype=float)\n",
    "    self.K = self.kernel(self.X, self.X) * self.y[:,np.newaxis] * self.y\n",
    "    \n",
    "    for _ in range(self.max_iter):\n",
    "      for idxM in range(len(self.lambdas)):\n",
    "        idxL = np.random.randint(0, len(self.lambdas))\n",
    "        Q = self.K[[[idxM, idxM], [idxL, idxL]], [[idxM, idxL], [idxM, idxL]]]\n",
    "        v0 = self.lambdas[[idxM, idxL]]\n",
    "        k0 = 1 - np.sum(self.lambdas * self.K[[idxM, idxL]], axis=1)\n",
    "        u = np.array([-self.y[idxL], self.y[idxM]])\n",
    "        t_max = np.dot(k0, u) / (np.dot(np.dot(Q, u), u) + 1E-15)\n",
    "        self.lambdas[[idxM, idxL]] = v0 + u * self.restrict_to_square(t_max, v0, u)\n",
    "    \n",
    "    idx, = np.nonzero(self.lambdas > 1E-15)\n",
    "    self.b = np.mean((1.0 - np.sum(self.K[idx] * self.lambdas, axis=1)) * self.y[idx])\n",
    "  \n",
    "  def decision_function(self, X):\n",
    "    return np.sum(self.kernel(X, self.X) * self.y * self.lambdas, axis=1) + self.b\n",
    "\n",
    "  def predict(self, X):\n",
    "    return (np.sign(self.decision_function(X)) + 1) // 2"
   ]
  },
  {
   "cell_type": "code",
   "execution_count": 12,
   "metadata": {},
   "outputs": [],
   "source": [
    "def cross_validation(estimator):\n",
    "    _, train_scores, test_scores = learning_curve(estimator, X_train_test, label, cv=10, n_jobs=-1, train_sizes=[1.0, ], scoring=\"accuracy\")\n",
    "    test_scores = test_scores[0]\n",
    "    mean, std = test_scores.mean(), test_scores.std()\n",
    "    return mean, std\n",
    "    \n",
    "def plot(title, xlabel, X, Y, error, ylabel = \"Accuracy\"):\n",
    "    plt.xlabel(xlabel)\n",
    "    plt.title(title)\n",
    "    plt.grid()\n",
    "    plt.ylabel(ylabel)\n",
    "    plt.errorbar(X, Y, error, linestyle='None', marker='o')\n",
    "\n",
    "def plot_line(title, xlabel, X, Y, f1_Score, classes):\n",
    "    plt.figure(figsize=(6, 4))\n",
    "    f1_Score = list(zip(*f1_Score))\n",
    "    plt.xlabel(xlabel)\n",
    "    plt.title(title)\n",
    "    plt.grid()\n",
    "    color = ['g', 'b', 'c', 'm']\n",
    "    plt.plot(X, Y, linestyle='solid', marker='o', color = 'r', label=classes[0])\n",
    "    for i in range(len(f1_Score)):\n",
    "        plt.plot(X, f1_Score[i], linestyle='solid', marker='o', color = color[i], label=classes[i+1])\n",
    "    plt.legend(loc='best')"
   ]
  },
  {
   "cell_type": "code",
   "execution_count": 6,
   "metadata": {},
   "outputs": [
    {
     "name": "stdout",
     "output_type": "stream",
     "text": [
      "- Acc = 0.8701298701298701\n",
      "- Acc = 0.9675324675324676\n"
     ]
    },
    {
     "data": {
      "image/png": "[encoded data removed]",
      "text/plain": [
       "<Figure size 432x288 with 1 Axes>"
      ]
     },
     "metadata": {
      "needs_background": "light"
     },
     "output_type": "display_data"
    }
   ],
   "source": [
    "from sklearn.metrics import accuracy_score\n",
    "title=\"'Thay đổi kernel trong data_set1'\"\n",
    "xlabel = \"kernel \"\n",
    "X = []\n",
    "Y = []\n",
    "error = []\n",
    "f1_Score = []\n",
    "arr_K=['linear','rbf']\n",
    "for k_test in arr_K:\n",
    "  #  print(C_test)\n",
    "    #model=svm.SVC(C=1.0,kernel=k_test)\n",
    "    model=SVM(C=1,kernel=k_test,max_iter=300,gamma=0.2)\n",
    "    model.fit(X_train,y_train)\n",
    "    y_pred=model.predict(X_test)\n",
    "    acc=accuracy_score(y_test, y_pred)\n",
    "    print(\"- Acc = {}\".format(acc))\n",
    "    X.append(k_test)\n",
    "    Y.append(acc)\n",
    "    error.append(0.01)\n",
    "    f1_Score.append(list(f1_score(y_test, y_pred, average=None)))\n",
    "# lưu kết quả ra file ảnh\n",
    "#plot(title, xlabel, X, Y, error)\n",
    "plot_line(title, xlabel, X, Y, f1_Score, ['accuracy', 'f1_score_0 (Không bị bệnh)', \n",
    "'f1_score_level1 (Bị bệnh)'])\n",
    "# plt.savefig('images/KNN_change_K.png', bbox_inches='tight')\n",
    "plt.show()\n"
   ]
  },
  {
   "cell_type": "code",
   "execution_count": 8,
   "metadata": {},
   "outputs": [
    {
     "name": "stdout",
     "output_type": "stream",
     "text": [
      "0.0001\n",
      "- Acc = 0.512987012987013\n",
      "0.1\n",
      "- Acc = 0.8831168831168831\n",
      "1\n",
      "- Acc = 0.9675324675324676\n",
      "5\n",
      "- Acc = 0.987012987012987\n",
      "10\n",
      "- Acc = 1.0\n",
      "15\n",
      "- Acc = 1.0\n"
     ]
    },
    {
     "data": {
      "image/png": "[encoded data removed]",
      "text/plain": [
       "<Figure size 432x288 with 1 Axes>"
      ]
     },
     "metadata": {
      "needs_background": "light"
     },
     "output_type": "display_data"
    }
   ],
   "source": [
    "from sklearn.metrics import accuracy_score\n",
    "title=\"'Thay đổi C dataset1'\"\n",
    "xlabel = \"C \"\n",
    "X = []\n",
    "Y = []\n",
    "error = []\n",
    "f1_Score=[]\n",
    "arr_c=[0.0001,0.1,1,5,10,15]\n",
    "for C_test in arr_c:\n",
    "    print(C_test)\n",
    "    model=svm.SVC(C=C_test,kernel='rbf')\n",
    "    #model=SVM(C=C_test,kernel='rbf',max_iter=500,gamma=0.25)\n",
    "    model.fit(X_train,y_train)\n",
    "    y_pred=model.predict(X_test)\n",
    "    acc=accuracy_score(y_test, y_pred)\n",
    "    print(\"- Acc = {}\".format(acc))\n",
    "    X.append(str(C_test))\n",
    "    Y.append(acc)\n",
    "    error.append(0.01)\n",
    "    f1_Score.append(list(f1_score(y_test, y_pred, average=None)))\n",
    "# lưu kết quả ra file ảnh\n",
    "plot_line(title, xlabel, X, Y, f1_Score, ['accuracy', 'f1_score_0 (Không bị bệnh)','f1_score_level1 (Bị bệnh)'])\n",
    "# plt.savefig('images/KNN_change_K.png', bbox_inches='tight')\n",
    "plt.show()"
   ]
  },
  {
   "cell_type": "code",
   "execution_count": 32,
   "metadata": {},
   "outputs": [
    {
     "name": "stdout",
     "output_type": "stream",
     "text": [
      "- Training ...\n",
      "- Train size = (871, 30)\n",
      "int32\n",
      "- model - train complete\n"
     ]
    }
   ],
   "source": [
    "print(\"- Training ...\")\n",
    "\n",
    "\n",
    "# X_train.shape\n",
    "print(\"- Train size = {}\".format(X_train.shape))\n",
    "model=SVM(max_iter=300,kernel='rbf',C=5,gamma=0.25)\n",
    "model2=svm.SVC(C=1,kernel='rbf')\n",
    "print(y_train.dtype)\n",
    "model.fit(X_train, y_train)\n",
    "model2.fit(X_train,y_train)\n",
    "print(\"- model - train complete\")"
   ]
  },
  {
   "cell_type": "code",
   "execution_count": 33,
   "metadata": {},
   "outputs": [
    {
     "name": "stdout",
     "output_type": "stream",
     "text": [
      "- Testing ...\n",
      "- Acc = 1.0\n"
     ]
    }
   ],
   "source": [
    "from sklearn.metrics import accuracy_score\n",
    "\n",
    "print(\"- Testing ...\")\n",
    "y_pred=model.predict(X_test)\n",
    "y_pred2=model2.predict(X_test)\n",
    "print(\"- Acc = {}\".format(accuracy_score(y_test, y_pred)))\n",
    "max_accuracy.append(accuracy_score(y_test, y_pred))\n",
    "max_accuracy.append(accuracy_score(y_test, y_pred2))"
   ]
  },
  {
   "cell_type": "code",
   "execution_count": 28,
   "metadata": {},
   "outputs": [
    {
     "name": "stdout",
     "output_type": "stream",
     "text": [
      "Tỉ lệ dự đoán đúng người bị bệnh là  1.0\n",
      "Tỉ lệ dự đoán đúng người không bị bệnh là 1.0\n",
      "              precision    recall  f1-score   support\n",
      "\n",
      "           0       1.00      1.00      1.00        75\n",
      "           1       1.00      1.00      1.00        79\n",
      "\n",
      "    accuracy                           1.00       154\n",
      "   macro avg       1.00      1.00      1.00       154\n",
      "weighted avg       1.00      1.00      1.00       154\n",
      "\n"
     ]
    }
   ],
   "source": [
    "from sklearn.metrics import precision_score, recall_score\n",
    "recall_s = recall_score(y_test, model.predict(X_test), average=None)\n",
    "print('Tỉ lệ dự đoán đúng người bị bệnh là ', recall_s[1])\n",
    "print('Tỉ lệ dự đoán đúng người không bị bệnh là', recall_s[0])\n",
    "from sklearn.metrics import classification_report\n",
    "print(classification_report(y_test, y_pred))"
   ]
  },
  {
   "cell_type": "code",
   "execution_count": 15,
   "metadata": {},
   "outputs": [
    {
     "name": "stderr",
     "output_type": "stream",
     "text": [
      "100%|██████████| 2/2 [00:00<00:00, 95.50it/s]\n"
     ]
    },
    {
     "data": {
      "image/png": "[encoded data removed]",
      "text/plain": [
       "<Figure size 432x288 with 1 Axes>"
      ]
     },
     "metadata": {
      "needs_background": "light"
     },
     "output_type": "display_data"
    }
   ],
   "source": [
    "from sklearn.svm import SVC\n",
    "from tqdm import tqdm\n",
    "title = \"thay đổi kernel dataset 2, C = 1\"\n",
    "xlabel = \"kernel\"\n",
    "X = []\n",
    "Y = []\n",
    "error = []\n",
    "f1_Score = []\n",
    "for kernel in tqdm(['linear','rbf']):\n",
    "    # Với mỗi kernel được chọn, \n",
    "    # thực hiện xây dựng mô hình, huấn luyện và đánh giá theo cross-validation\n",
    "    model = SVC(kernel=kernel, C=1)\n",
    "    model.fit(np.array(X_train),np.array(y_train))\n",
    "    y_pred = model.predict(np.array(X_test))\n",
    "    acc = accuracy_score(y_pred, np.array(y_test))\n",
    "    X.append(kernel)\n",
    "    Y.append(acc)\n",
    "    \n",
    "    f1_Score.append(list(f1_score(y_test, y_pred, average=None)))\n",
    "# Dataset 2\n",
    "# Dataset 2\n",
    "plot_line(title, xlabel, X, Y, f1_Score, ['accuracy', 'f1_score_level1 (class 0)', \n",
    "'f1_score_level2 (class 1)', 'f1_score_level3 (class 2)', 'f1_score_level4 (class 3)'])\n",
    "# lưu kết quả ra file ảnh \n",
    "#plot(title, xlabel, X, Y, error)\n",
    "plt.show()"
   ]
  },
  {
   "cell_type": "code",
   "execution_count": 18,
   "metadata": {},
   "outputs": [
    {
     "name": "stderr",
     "output_type": "stream",
     "text": [
      "100%|██████████| 6/6 [00:00<00:00, 11.89it/s]\n"
     ]
    },
    {
     "data": {
      "image/png": "[encoded data removed]",
      "text/plain": [
       "<Figure size 432x288 with 1 Axes>"
      ]
     },
     "metadata": {
      "needs_background": "light"
     },
     "output_type": "display_data"
    }
   ],
   "source": [
    "from tqdm import tqdm\n",
    "title = \"thay đổi C dataset2, kernel = rbf\"\n",
    "xlabel = \"C\"\n",
    "X = []\n",
    "Y = []\n",
    "error = []\n",
    "\n",
    "for C in tqdm([.1, 1.0, 2.0, 5.0, 8.0, 10.0]):\n",
    "    # Với từng giá trị C nhận được, \n",
    "    # thực hiện xây dựng mô hình, huấn luyện và đánh giá theo cross-validation\n",
    "    text_clf = SVC(kernel='rbf', C=C)\n",
    "    mean, std = cross_validation(text_clf)\n",
    "    X.append(str(C))\n",
    "    Y.append(mean)\n",
    "    error.append(std)\n",
    "\n",
    "# lưu kết quả ra file ảnh\n",
    "plot(title, xlabel, X, Y, error)\n",
    "plt.show()"
   ]
  },
  {
   "cell_type": "code",
   "execution_count": 20,
   "metadata": {},
   "outputs": [
    {
     "name": "stdout",
     "output_type": "stream",
     "text": [
      "SVM: 0.7349397590361446\n",
      "              precision    recall  f1-score   support\n",
      "\n",
      "           0       0.00      0.00      0.00         4\n",
      "           1       0.72      0.68      0.70        19\n",
      "           2       0.80      0.65      0.71        31\n",
      "           3       0.65      0.90      0.75        29\n",
      "\n",
      "    accuracy                           0.71        83\n",
      "   macro avg       0.54      0.56      0.54        83\n",
      "weighted avg       0.69      0.71      0.69        83\n",
      "\n"
     ]
    },
    {
     "name": "stderr",
     "output_type": "stream",
     "text": [
      "C:\\Users\\minhn\\miniconda3\\envs\\course\\lib\\site-packages\\sklearn\\metrics\\_classification.py:1221: UndefinedMetricWarning: Precision and F-score are ill-defined and being set to 0.0 in labels with no predicted samples. Use `zero_division` parameter to control this behavior.\n",
      "  _warn_prf(average, modifier, msg_start, len(result))\n"
     ]
    }
   ],
   "source": [
    "from sklearn.metrics import classification_report\n",
    "\n",
    "# Test với bộ tham số tốt nhất\n",
    "svm_ = SVC(kernel='rbf', C=2.0)\n",
    "svm_.fit(X_train, y_train)\n",
    "\n",
    "print(f'SVM: {accuracy_score(y_test, svm_.predict(X_test))}')\n",
    "print(classification_report(y_test, y_pred))"
   ]
  },
  {
   "cell_type": "code",
   "execution_count": 34,
   "metadata": {},
   "outputs": [
    {
     "data": {
      "image/png": "[encoded data removed]",
      "text/plain": [
       "<Figure size 432x360 with 1 Axes>"
      ]
     },
     "metadata": {
      "needs_background": "light"
     },
     "output_type": "display_data"
    }
   ],
   "source": [
    "fig = plt.figure(figsize = (6, 5))\n",
    "labels = [\"Tự code\", \"Thư viện\"]\n",
    "# creating the bar plot\n",
    "p1 = plt.bar(labels[0], max_accuracy[0])\n",
    "p2 = plt.bar(labels[1], max_accuracy[1])\n",
    "\n",
    "plt.xlabel(\"Model\")\n",
    "plt.ylabel(\"Accuracy\")\n",
    "plt.title(\"Độ chính xác tốt nhất trên tập dữ liệu bệnh tim\")\n",
    "plt.bar_label(p1)\n",
    "plt.bar_label(p2)\n",
    "plt.xticks(np.arange(len(labels)), labels)\n",
    "plt.legend(labels, loc =\"lower right\")\n",
    "plt.show()"
   ]
  }
 ],
 "metadata": {
  "interpreter": {
   "hash": "49277c6ade3bd91b686586a6bdce29d901f01f037d6a79bb6755feb4d14b3397"
  },
  "kernelspec": {
   "display_name": "Python 3.8.12 64-bit ('course': conda)",
   "language": "python",
   "name": "python3"
  },
  "language_info": {
   "codemirror_mode": {
    "name": "ipython",
    "version": 3
   },
   "file_extension": ".py",
   "mimetype": "text/x-python",
   "name": "python",
   "nbconvert_exporter": "python",
   "pygments_lexer": "ipython3",
   "version": "3.8.12"
  },
  "orig_nbformat": 4
 },
 "nbformat": 4,
 "nbformat_minor": 2
}
