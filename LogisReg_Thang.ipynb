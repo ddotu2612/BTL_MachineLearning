{
 "cells": [
  {
   "cell_type": "code",
   "execution_count": 1,
   "id": "2a9a22a7-35f2-4579-bbd6-3b63d1f9dff0",
   "metadata": {},
   "outputs": [],
   "source": [
    "import os\n",
    "import numpy as np\n",
    "import pandas as pd\n",
    "from scipy import optimize\n",
    "from sklearn.linear_model import LogisticRegression\n",
    "from sklearn.model_selection import train_test_split\n",
    "from sklearn.model_selection import learning_curve\n",
    "import matplotlib.pyplot as plt\n",
    "from tqdm import tqdm\n",
    "from sklearn.metrics import accuracy_score, confusion_matrix, plot_confusion_matrix\n",
    "from sklearn.metrics import precision_score, recall_score\n",
    "from sklearn.preprocessing import OneHotEncoder, LabelBinarizer\n",
    "# tells matplotlib to embed plots within the notebook\n",
    "%matplotlib inline"
   ]
  },
  {
   "cell_type": "code",
   "execution_count": 48,
   "id": "ccb4bbb6",
   "metadata": {},
   "outputs": [
    {
     "name": "stdout",
     "output_type": "stream",
     "text": [
      "So luong du lieu:  200\n",
      "So luong nhan:  200\n"
     ]
    }
   ],
   "source": [
    "import pickle \n",
    "\n",
    "# # Đọc dữ liệu bệnh tim, phân loại nhị phân \n",
    "# with open('preprocessing/heart/X.pkl', 'rb') as f:\n",
    "#     x = pickle.load(f)\n",
    "# with open('preprocessing/heart/y.pkl', 'rb') as f:\n",
    "#     y = pickle.load(f)\n",
    "# # Chuyển label về dạng onhot vector\n",
    "# lb = LabelBinarizer()\n",
    "# lb.fit(y)\n",
    "# y = lb.transform(y)\n",
    "# y = y.reshape(1, -1)[0]\n",
    "# y\n",
    "\n",
    "# Đọc dữ liệu thuốc điều trị, phân loại nhiều lớp\n",
    "with open('preprocessing/drug/X.pkl', 'rb') as f:\n",
    "    x = pickle.load(f)\n",
    "with open('preprocessing/drug/y.pkl', 'rb') as f:\n",
    "    y = pickle.load(f)\n",
    "y = y.values\n",
    "\n",
    "print('So luong du lieu: ', len(x))\n",
    "print('So luong nhan: ', len(y))"
   ]
  },
  {
   "cell_type": "code",
   "execution_count": 49,
   "id": "fed176af-6abc-4aae-884e-f851e2eb9122",
   "metadata": {},
   "outputs": [],
   "source": [
    "x_train, x_test, y_train, y_test = train_test_split(x, y, test_size=0.15, stratify=y, random_state=10)"
   ]
  },
  {
   "cell_type": "code",
   "execution_count": 50,
   "id": "d39427f5",
   "metadata": {},
   "outputs": [
    {
     "data": {
      "text/plain": [
       "array([[0.84745763, 1.        , 0.        , 1.        , 0.15857777],\n",
       "       [0.57627119, 1.        , 0.        , 1.        , 0.        ],\n",
       "       [0.79661017, 1.        , 1.        , 0.        , 0.32287823],\n",
       "       [0.44067797, 0.        , 1.        , 1.        , 0.52023266],\n",
       "       [0.18644068, 0.        , 0.        , 1.        , 0.18881731],\n",
       "       [0.54237288, 1.        , 0.5       , 0.        , 0.12023891],\n",
       "       [0.54237288, 0.        , 0.5       , 0.        , 0.11876915],\n",
       "       [0.96610169, 0.        , 0.5       , 1.        , 0.26183626],\n",
       "       [0.89830508, 0.        , 1.        , 1.        , 0.64985302],\n",
       "       [0.84745763, 0.        , 0.5       , 1.        , 0.23453624],\n",
       "       [0.74576271, 0.        , 1.        , 0.        , 0.23813247],\n",
       "       [0.6440678 , 1.        , 1.        , 0.        , 0.24591907],\n",
       "       [0.3559322 , 1.        , 0.5       , 1.        , 0.16120458],\n",
       "       [0.        , 1.        , 1.        , 0.        , 0.08802927],\n",
       "       [0.57627119, 0.        , 1.        , 1.        , 0.09731691],\n",
       "       [0.52542373, 1.        , 1.        , 1.        , 0.03177184],\n",
       "       [0.28813559, 1.        , 0.        , 1.        , 0.09931828],\n",
       "       [0.57627119, 1.        , 0.5       , 1.        , 0.14838326],\n",
       "       [0.88135593, 1.        , 1.        , 1.        , 0.14475577],\n",
       "       [0.22033898, 1.        , 1.        , 0.        , 0.65029082],\n",
       "       [0.44067797, 1.        , 0.        , 1.        , 0.27790981],\n",
       "       [0.15254237, 1.        , 1.        , 0.        , 0.61032585],\n",
       "       [0.59322034, 0.        , 1.        , 0.        , 0.20120083],\n",
       "       [0.71186441, 1.        , 0.5       , 1.        , 0.40212021],\n",
       "       [0.88135593, 0.        , 1.        , 0.        , 0.30089436],\n",
       "       [0.54237288, 1.        , 0.5       , 1.        , 0.75986616],\n",
       "       [0.72881356, 1.        , 0.        , 0.        , 0.39783601],\n",
       "       [0.55932203, 0.        , 0.5       , 0.        , 0.27415723],\n",
       "       [0.89830508, 1.        , 0.        , 0.        , 0.14822691],\n",
       "       [0.50847458, 1.        , 0.5       , 1.        , 0.06570142],\n",
       "       [0.33898305, 1.        , 1.        , 1.        , 0.04928388],\n",
       "       [0.25423729, 0.        , 1.        , 0.        , 0.13052724],\n",
       "       [0.84745763, 1.        , 0.        , 1.        , 0.89836763],\n",
       "       [0.22033898, 0.        , 0.5       , 0.        , 0.42300957],\n",
       "       [0.40677966, 0.        , 0.5       , 1.        , 0.51372819],\n",
       "       [0.37288136, 1.        , 0.5       , 1.        , 0.08440178],\n",
       "       [0.3220339 , 1.        , 1.        , 0.        , 0.50619176],\n",
       "       [0.47457627, 1.        , 1.        , 1.        , 0.20607918],\n",
       "       [0.23728814, 1.        , 0.        , 0.        , 0.20598536],\n",
       "       [0.6440678 , 0.        , 0.        , 1.        , 0.19469635],\n",
       "       [0.44067797, 1.        , 0.5       , 0.        , 0.14910251],\n",
       "       [0.03389831, 1.        , 1.        , 1.        , 0.14269185],\n",
       "       [0.40677966, 0.        , 1.        , 1.        , 0.10757396],\n",
       "       [0.57627119, 0.        , 1.        , 0.        , 0.31290262],\n",
       "       [0.69491525, 0.        , 0.5       , 0.        , 0.1656764 ],\n",
       "       [0.45762712, 1.        , 0.        , 1.        , 0.20317093],\n",
       "       [0.30508475, 0.        , 0.5       , 0.        , 0.85111639],\n",
       "       [0.50847458, 0.        , 0.        , 0.        , 0.20592282],\n",
       "       [0.77966102, 0.        , 0.5       , 0.        , 0.36819063],\n",
       "       [0.47457627, 1.        , 0.5       , 1.        , 0.40962537],\n",
       "       [1.        , 1.        , 0.5       , 1.        , 0.1773094 ],\n",
       "       [0.93220339, 1.        , 0.        , 0.        , 0.240728  ],\n",
       "       [0.6440678 , 1.        , 0.5       , 0.        , 0.52204641],\n",
       "       [0.3559322 , 0.        , 0.        , 0.        , 0.15413722],\n",
       "       [0.71186441, 0.        , 1.        , 0.        , 0.2485146 ],\n",
       "       [0.76271186, 1.        , 1.        , 1.        , 0.11951967],\n",
       "       [0.37288136, 1.        , 0.5       , 1.        , 0.32694352],\n",
       "       [0.13559322, 1.        , 1.        , 0.        , 0.79482769],\n",
       "       [0.54237288, 1.        , 0.        , 0.        , 0.12927638],\n",
       "       [0.93220339, 0.        , 1.        , 0.        , 0.44468072],\n",
       "       [0.86440678, 1.        , 0.        , 0.        , 0.31515417],\n",
       "       [0.50847458, 1.        , 0.5       , 1.        , 0.11720558],\n",
       "       [0.22033898, 0.        , 0.5       , 0.        , 0.21445994],\n",
       "       [0.74576271, 1.        , 0.        , 0.        , 0.23972731],\n",
       "       [0.93220339, 1.        , 0.        , 0.        , 0.11195197],\n",
       "       [0.28813559, 0.        , 0.5       , 0.        , 0.10766777],\n",
       "       [0.74576271, 0.        , 0.5       , 0.        , 0.13055851],\n",
       "       [0.89830508, 0.        , 0.        , 1.        , 0.12258428],\n",
       "       [0.76271186, 1.        , 1.        , 0.        , 0.27837889],\n",
       "       [0.57627119, 1.        , 0.5       , 1.        , 0.22918882],\n",
       "       [0.6779661 , 1.        , 1.        , 1.        , 0.03102133],\n",
       "       [0.61016949, 0.        , 0.5       , 1.        , 0.52329727],\n",
       "       [0.33898305, 1.        , 0.5       , 1.        , 0.09071862],\n",
       "       [0.13559322, 1.        , 1.        , 1.        , 0.24238539],\n",
       "       [0.96610169, 1.        , 0.5       , 0.        , 0.01563575],\n",
       "       [0.83050847, 1.        , 0.        , 1.        , 0.45853399],\n",
       "       [0.66101695, 1.        , 1.        , 0.        , 0.5750516 ],\n",
       "       [0.28813559, 0.        , 0.5       , 1.        , 0.14294202],\n",
       "       [0.11864407, 0.        , 1.        , 0.        , 0.07311277],\n",
       "       [0.89830508, 1.        , 0.5       , 0.        , 0.12577397],\n",
       "       [1.        , 1.        , 0.        , 1.        , 0.28666583],\n",
       "       [0.18644068, 0.        , 0.5       , 0.        , 0.2467634 ],\n",
       "       [0.37288136, 0.        , 0.        , 0.        , 0.21333417],\n",
       "       [0.98305085, 0.        , 0.        , 0.        , 0.37772844],\n",
       "       [0.11864407, 0.        , 0.        , 1.        , 0.51751204],\n",
       "       [0.69491525, 0.        , 0.        , 0.        , 0.59809869],\n",
       "       [0.22033898, 0.        , 1.        , 0.        , 0.04781412],\n",
       "       [0.45762712, 0.        , 0.5       , 1.        , 0.71930702],\n",
       "       [0.18644068, 0.        , 0.        , 1.        , 0.40315217],\n",
       "       [0.59322034, 0.        , 1.        , 1.        , 0.18844205],\n",
       "       [0.06779661, 0.        , 0.        , 0.        , 0.22027644],\n",
       "       [0.55932203, 1.        , 0.        , 1.        , 0.13062105],\n",
       "       [0.96610169, 1.        , 0.        , 1.        , 0.10657327],\n",
       "       [0.27118644, 1.        , 0.        , 1.        , 0.17518294],\n",
       "       [0.40677966, 1.        , 1.        , 0.        , 0.30333354],\n",
       "       [0.23728814, 0.        , 0.        , 0.        , 0.72490462],\n",
       "       [0.15254237, 0.        , 0.        , 1.        , 0.38113703],\n",
       "       [0.76271186, 1.        , 0.        , 0.        , 0.23969604],\n",
       "       [0.3220339 , 0.        , 0.        , 1.        , 0.40434048],\n",
       "       [0.16949153, 1.        , 1.        , 0.        , 0.39846144],\n",
       "       [0.59322034, 1.        , 0.        , 0.        , 0.0381825 ],\n",
       "       [0.59322034, 0.        , 1.        , 1.        , 0.34217274],\n",
       "       [0.47457627, 1.        , 0.5       , 0.        , 0.28478954],\n",
       "       [0.84745763, 0.        , 0.        , 1.        , 0.80076928],\n",
       "       [0.11864407, 1.        , 0.        , 1.        , 0.68875477],\n",
       "       [0.05084746, 0.        , 0.        , 0.        , 0.96688348],\n",
       "       [0.11864407, 1.        , 0.5       , 0.        , 0.05885296],\n",
       "       [0.42372881, 1.        , 0.        , 0.        , 0.67411971],\n",
       "       [0.79661017, 1.        , 0.5       , 1.        , 0.65401213],\n",
       "       [0.76271186, 1.        , 0.        , 1.        , 0.07355057],\n",
       "       [0.77966102, 0.        , 0.        , 0.        , 0.60060041],\n",
       "       [0.45762712, 1.        , 0.5       , 0.        , 0.42979548],\n",
       "       [0.72881356, 0.        , 0.        , 0.        , 0.4111264 ],\n",
       "       [0.61016949, 0.        , 1.        , 0.        , 0.22915755],\n",
       "       [0.15254237, 0.        , 1.        , 0.        , 0.13559322],\n",
       "       [0.45762712, 0.        , 0.        , 0.        , 0.46178623],\n",
       "       [0.3559322 , 0.        , 1.        , 0.        , 0.3278504 ],\n",
       "       [0.47457627, 1.        , 0.        , 0.        , 0.24088436],\n",
       "       [0.01694915, 1.        , 0.        , 1.        , 0.39833636],\n",
       "       [0.18644068, 1.        , 0.5       , 1.        , 0.45781475],\n",
       "       [0.22033898, 0.        , 1.        , 0.        , 0.41922572],\n",
       "       [0.6779661 , 0.        , 0.        , 0.        , 0.14722622],\n",
       "       [0.        , 0.        , 0.        , 1.        , 0.3269748 ],\n",
       "       [0.62711864, 1.        , 1.        , 0.        , 0.11335918],\n",
       "       [0.50847458, 1.        , 0.5       , 0.        , 0.36531365],\n",
       "       [0.06779661, 0.        , 0.        , 1.        , 0.61604853],\n",
       "       [0.10169492, 0.        , 0.        , 1.        , 0.69932454],\n",
       "       [0.59322034, 1.        , 1.        , 1.        , 0.29773594],\n",
       "       [0.33898305, 0.        , 0.        , 0.        , 0.20717368],\n",
       "       [0.61016949, 1.        , 0.        , 1.        , 0.15867159],\n",
       "       [0.37288136, 0.        , 0.5       , 1.        , 0.17940459],\n",
       "       [0.52542373, 0.        , 0.        , 0.        , 0.88864219],\n",
       "       [0.44067797, 0.        , 0.5       , 1.        , 0.38995559],\n",
       "       [0.40677966, 0.        , 1.        , 1.        , 0.34261054],\n",
       "       [0.08474576, 1.        , 0.        , 1.        , 0.91844393],\n",
       "       [0.13559322, 1.        , 1.        , 0.        , 0.33088373],\n",
       "       [0.98305085, 0.        , 1.        , 0.        , 0.40502846],\n",
       "       [0.13559322, 1.        , 0.5       , 0.        , 0.03217837],\n",
       "       [0.91525424, 1.        , 0.5       , 1.        , 0.16217399],\n",
       "       [0.11864407, 1.        , 1.        , 0.        , 0.1777472 ],\n",
       "       [0.54237288, 0.        , 1.        , 1.        , 0.0129464 ],\n",
       "       [0.28813559, 0.        , 1.        , 0.        , 0.03777597],\n",
       "       [0.01694915, 1.        , 0.5       , 0.        , 0.17940459],\n",
       "       [0.3559322 , 0.        , 0.        , 1.        , 0.28835449],\n",
       "       [0.88135593, 1.        , 0.5       , 1.        , 0.4510601 ],\n",
       "       [0.88135593, 1.        , 1.        , 1.        , 0.10147601],\n",
       "       [0.91525424, 1.        , 0.5       , 0.        , 0.28797924],\n",
       "       [0.28813559, 0.        , 0.        , 1.        , 0.61620489],\n",
       "       [0.96610169, 1.        , 0.5       , 0.        , 0.31399712],\n",
       "       [0.86440678, 0.        , 1.        , 1.        , 0.05747702],\n",
       "       [0.77966102, 1.        , 1.        , 0.        , 0.09925574],\n",
       "       [0.83050847, 0.        , 0.5       , 1.        , 0.60891863],\n",
       "       [0.13559322, 1.        , 1.        , 0.        , 0.18734755],\n",
       "       [0.76271186, 0.        , 0.        , 0.        , 0.21996373],\n",
       "       [0.38983051, 0.        , 0.        , 1.        , 0.15813997],\n",
       "       [0.83050847, 1.        , 1.        , 0.        , 0.04665708],\n",
       "       [1.        , 1.        , 0.        , 0.        , 0.1031334 ],\n",
       "       [0.        , 1.        , 0.        , 1.        , 0.34201639],\n",
       "       [0.05084746, 0.        , 1.        , 1.        , 0.07758459],\n",
       "       [0.71186441, 0.        , 1.        , 1.        , 0.6136719 ],\n",
       "       [0.72881356, 0.        , 0.5       , 0.        , 1.        ],\n",
       "       [0.72881356, 0.        , 0.5       , 0.        , 0.63718807],\n",
       "       [0.54237288, 1.        , 0.5       , 0.        , 0.21339671],\n",
       "       [0.27118644, 1.        , 0.        , 1.        , 0.15504409],\n",
       "       [0.40677966, 1.        , 0.        , 0.        , 0.10616674],\n",
       "       [0.22033898, 0.        , 1.        , 0.        , 0.20670461],\n",
       "       [1.        , 0.        , 0.5       , 0.        , 0.45884671],\n",
       "       [0.08474576, 0.        , 1.        , 1.        , 0.09418976],\n",
       "       [0.69491525, 1.        , 0.5       , 0.        , 0.27350053],\n",
       "       [0.28813559, 0.        , 0.        , 1.        , 0.12580524]])"
      ]
     },
     "execution_count": 50,
     "metadata": {},
     "output_type": "execute_result"
    }
   ],
   "source": [
    "x_train"
   ]
  },
  {
   "cell_type": "code",
   "execution_count": 51,
   "id": "4404f5d9-9850-4d47-b900-513f7455a58d",
   "metadata": {},
   "outputs": [
    {
     "name": "stdout",
     "output_type": "stream",
     "text": [
      "Test Accuracy 86.67%\n"
     ]
    }
   ],
   "source": [
    "accuracies = {}\n",
    "\n",
    "lr = LogisticRegression()\n",
    "lr.fit(x_train, y_train)\n",
    "acc = lr.score(x_test, y_test)*100\n",
    "\n",
    "accuracies['Logistic Regression'] = acc\n",
    "print(\"Test Accuracy {:.2f}%\".format(acc))"
   ]
  },
  {
   "cell_type": "code",
   "execution_count": 52,
   "id": "62319bc2",
   "metadata": {},
   "outputs": [
    {
     "data": {
      "text/plain": [
       "<sklearn.metrics._plot.confusion_matrix.ConfusionMatrixDisplay at 0x1dfc2cffc40>"
      ]
     },
     "execution_count": 52,
     "metadata": {},
     "output_type": "execute_result"
    },
    {
     "data": {
      "image/png": "[encoded data removed]",
      "text/plain": [
       "<Figure size 432x288 with 2 Axes>"
      ]
     },
     "metadata": {
      "needs_background": "light"
     },
     "output_type": "display_data"
    }
   ],
   "source": [
    "# Hiển thị confusion matrix\n",
    "plot_confusion_matrix(lr, x_test, y_test)"
   ]
  },
  {
   "cell_type": "code",
   "execution_count": 9,
   "id": "c3bfb765",
   "metadata": {},
   "outputs": [
    {
     "name": "stdout",
     "output_type": "stream",
     "text": [
      "Tỉ lệ dự đoán đúng người bị bệnh là  0.7777777777777778\n",
      "Tỉ lệ dự đoán đúng người không bị bệnh là 0.9130434782608695\n"
     ]
    }
   ],
   "source": [
    "from sklearn.metrics import precision_score, recall_score\n",
    "recall_s = recall_score(y_test, lr.predict(x_test), average=None)\n",
    "print('Tỉ lệ dự đoán đúng người bị bệnh là ', recall_s[1])\n",
    "print('Tỉ lệ dự đoán đúng người không bị bệnh là', recall_s[0])"
   ]
  },
  {
   "cell_type": "code",
   "execution_count": 53,
   "id": "388d249d-593a-417f-a2fd-dbc4aacacb37",
   "metadata": {},
   "outputs": [],
   "source": [
    "def sigmoid(z):\n",
    "\n",
    "    z = np.array(z)\n",
    "    \n",
    "    g = np.zeros(z.shape)\n",
    "\n",
    "    import math\n",
    "    g = 1 / (1 + math.e**(-z))\n",
    "    \n",
    "    return g"
   ]
  },
  {
   "cell_type": "markdown",
   "id": "05d9648a-bab5-47c0-9654-33978c0e7b2f",
   "metadata": {},
   "source": [
    "## 1 Logistic Regression"
   ]
  },
  {
   "cell_type": "code",
   "execution_count": 54,
   "id": "a686af79-728a-4147-9bb9-21ee36485b4b",
   "metadata": {},
   "outputs": [
    {
     "data": {
      "text/plain": [
       "array([[1.        , 0.84745763, 1.        , 0.        , 1.        ,\n",
       "        0.15857777],\n",
       "       [1.        , 0.57627119, 1.        , 0.        , 1.        ,\n",
       "        0.        ],\n",
       "       [1.        , 0.79661017, 1.        , 1.        , 0.        ,\n",
       "        0.32287823],\n",
       "       ...,\n",
       "       [1.        , 0.08474576, 0.        , 1.        , 1.        ,\n",
       "        0.09418976],\n",
       "       [1.        , 0.69491525, 1.        , 0.5       , 0.        ,\n",
       "        0.27350053],\n",
       "       [1.        , 0.28813559, 0.        , 0.        , 1.        ,\n",
       "        0.12580524]])"
      ]
     },
     "execution_count": 54,
     "metadata": {},
     "output_type": "execute_result"
    }
   ],
   "source": [
    "# Setup the data matrix appropriately, and add ones for the intercept term\n",
    "m, n = x_train.shape\n",
    "\n",
    "# Add intercept term to X\n",
    "x_train = np.concatenate([np.ones((m, 1)), x_train], axis=1)\n",
    "x_train\n",
    "# y_train"
   ]
  },
  {
   "cell_type": "code",
   "execution_count": 55,
   "id": "c9a0e0c0-71c8-468b-a604-44a6d940d56f",
   "metadata": {},
   "outputs": [],
   "source": [
    "def costFunction(theta, X, y):\n",
    "\n",
    "    # Initialize some useful values\n",
    "    m = y.size  # number of training examples\n",
    "\n",
    "    J = 0\n",
    "    grad = np.zeros(theta.shape)\n",
    "\n",
    "    \n",
    "    ytp = np.transpose(y)\n",
    "    ttp = np.transpose(theta)\n",
    "    uni = (np.ones(y.shape))\n",
    "#     print((ytp * np.log(sigmoid(X * theta))))\n",
    "#     print(np.dot( X, theta))\n",
    "#     print(y)\n",
    "    m = np.size(X,0)\n",
    "    n = np.size(X,1)\n",
    "#     J = -1/m *  (y * np.log(sigmoid(np.dot( X, theta) + np.subtract(uni, y) * np.log(np.subtract(uni, sigmoid(np.dot( X, theta)))))))\n",
    "    \n",
    "    for i in range(m):\n",
    "        J += -1/m *  (y[i] * np.log(sigmoid(np.dot(ttp,X[i]))) + (1-y[i]) * np.log(1 - sigmoid(np.dot( ttp, X[i]))))\n",
    "       \n",
    "    for i in range(n):\n",
    "        tgrad = 0\n",
    "        for j in range(m):\n",
    "            tgrad += ( sigmoid(np.dot(ttp, X[j])) - y[j] ) * X[j,i]\n",
    "#             print (tgrad)\n",
    "        grad[i] = 1/m * tgrad\n",
    "\n",
    "    return J, grad"
   ]
  },
  {
   "cell_type": "code",
   "execution_count": 56,
   "id": "e7f8e9cf-ef18-46ce-9a35-e5266df9fbb4",
   "metadata": {},
   "outputs": [
    {
     "name": "stdout",
     "output_type": "stream",
     "text": [
      "6\n",
      "Cost at initial theta (zeros): 0.693\n",
      "Gradient at initial theta (zeros):\n",
      "[-1.10588235 -0.56311067 -0.64705882 -0.81323529 -0.57058824 -0.07298989]\n",
      "Cost at test theta: 0.656\n",
      "Gradient at test theta:\n",
      "[-1.09765028 -0.55871034 -0.6420812  -0.80896968 -0.56614432 -0.07046706]\n"
     ]
    }
   ],
   "source": [
    "# Initialize fitting parameters\n",
    "initial_theta = np.zeros(n+1)\n",
    "\n",
    "cost, grad = costFunction(initial_theta, x_train, y_train)\n",
    "\n",
    "# np.set_printoptions(precision=3)\n",
    "\n",
    "print(len(grad))\n",
    "\n",
    "print('Cost at initial theta (zeros): {:.3f}'.format(cost))\n",
    "\n",
    "print('Gradient at initial theta (zeros):')\n",
    "print(grad)\n",
    "\n",
    "\n",
    "# Compute and display cost and gradient with non-zero theta\n",
    "test_theta = np.ones(n+1) * 0.01\n",
    "cost, grad = costFunction(test_theta, x_train, y_train)\n",
    "\n",
    "print('Cost at test theta: {:.3f}'.format(cost))\n",
    "\n",
    "print('Gradient at test theta:')\n",
    "print(grad)"
   ]
  },
  {
   "cell_type": "code",
   "execution_count": 57,
   "id": "ee5be52c-462a-46cd-9d67-6a0292a3498e",
   "metadata": {},
   "outputs": [
    {
     "name": "stderr",
     "output_type": "stream",
     "text": [
      "C:\\Users\\dovan\\AppData\\Local\\Temp/ipykernel_13768/276752345.py:21: RuntimeWarning: divide by zero encountered in log\n",
      "  J += -1/m *  (y[i] * np.log(sigmoid(np.dot(ttp,X[i]))) + (1-y[i]) * np.log(1 - sigmoid(np.dot( ttp, X[i]))))\n",
      "C:\\Users\\dovan\\AppData\\Local\\Temp/ipykernel_13768/276752345.py:21: RuntimeWarning: invalid value encountered in multiply\n",
      "  J += -1/m *  (y[i] * np.log(sigmoid(np.dot(ttp,X[i]))) + (1-y[i]) * np.log(1 - sigmoid(np.dot( ttp, X[i]))))\n",
      "C:\\Users\\dovan\\AppData\\Local\\Temp/ipykernel_13768/276752345.py:21: RuntimeWarning: invalid value encountered in double_scalars\n",
      "  J += -1/m *  (y[i] * np.log(sigmoid(np.dot(ttp,X[i]))) + (1-y[i]) * np.log(1 - sigmoid(np.dot( ttp, X[i]))))\n"
     ]
    },
    {
     "name": "stdout",
     "output_type": "stream",
     "text": [
      "-4.424000918561065\n",
      "[ 1.79657349  0.23080002  0.45794639  3.97334255  1.93771242 -8.77309294]\n"
     ]
    }
   ],
   "source": [
    "initial_theta = np.zeros(n+1)\n",
    "# set options for optimize.minimize\n",
    "\n",
    "options= {'maxiter': 400}\n",
    "\n",
    "res = optimize.minimize(costFunction,\n",
    "                        initial_theta,\n",
    "                        (x_train, y_train),\n",
    "                        jac=True,\n",
    "                        method='TNC',\n",
    "                        options=options)\n",
    "\n",
    "# the fun property of `OptimizeResult` object returns\n",
    "# the value of costFunction at optimized theta\n",
    "cost = res.fun\n",
    "\n",
    "# the optimized theta is  in the x property\n",
    "theta = res.x\n",
    "\n",
    "# Print theta to screen\n",
    "print(cost)\n",
    "\n",
    "print(theta)"
   ]
  },
  {
   "cell_type": "code",
   "execution_count": 58,
   "id": "29fe61bf-eab7-4c1b-84eb-d4a7e7d59895",
   "metadata": {},
   "outputs": [
    {
     "name": "stdout",
     "output_type": "stream",
     "text": [
      "6\n"
     ]
    }
   ],
   "source": [
    "print(len(theta))"
   ]
  },
  {
   "cell_type": "code",
   "execution_count": 59,
   "id": "64ba78b5-0d7f-4408-b033-f45ca785d6fd",
   "metadata": {},
   "outputs": [],
   "source": [
    "m, n = x_test.shape\n",
    "x_test = np.concatenate([np.ones((m, 1)), x_test], axis=1)"
   ]
  },
  {
   "cell_type": "code",
   "execution_count": 60,
   "id": "9df86101-0955-4618-a838-f3fddfb02706",
   "metadata": {},
   "outputs": [],
   "source": [
    "def predict(theta, X):\n",
    "    \n",
    "    m = X.shape[0] # Number of training examples\n",
    "\n",
    "\n",
    "    p = np.zeros(m)\n",
    "\n",
    "\n",
    "    for i in range (m):\n",
    "        tmp = sigmoid(np.dot(np.transpose(theta), X[i]))\n",
    "#         print(tmp)\n",
    "#         print(\"-----------\" , i)\n",
    "        if (tmp < 0.5):\n",
    "            p[i] = 0\n",
    "        else:\n",
    "            p[i] = 1\n",
    "\n",
    "    return p"
   ]
  },
  {
   "cell_type": "code",
   "execution_count": 61,
   "id": "d595947e-6cd9-476b-b33a-7ffaff70536c",
   "metadata": {},
   "outputs": [
    {
     "name": "stdout",
     "output_type": "stream",
     "text": [
      "Train Accuracy: 43.33 %\n"
     ]
    }
   ],
   "source": [
    "# Compute accuracy on our training set\n",
    "p = predict(theta, x_test)\n",
    "print('Train Accuracy: {:.2f} %'.format(np.mean(p == y_test) * 100))"
   ]
  },
  {
   "cell_type": "code",
   "execution_count": 62,
   "id": "23fee413-164e-4f9e-9cd7-74df950ee616",
   "metadata": {},
   "outputs": [
    {
     "name": "stdout",
     "output_type": "stream",
     "text": [
      "[0. 0. 0. 1. 1. 1. 1. 0. 1. 1. 1. 1. 1. 1. 1. 0. 0. 1. 1. 1. 0. 0. 1. 1.\n",
      " 1. 1. 0. 1. 1. 1.]\n",
      "30\n"
     ]
    }
   ],
   "source": [
    "print (p)\n",
    "print (len(p))"
   ]
  },
  {
   "cell_type": "code",
   "execution_count": 63,
   "id": "4a0fd438-eae2-4f91-adb0-83cbdac1fc41",
   "metadata": {},
   "outputs": [
    {
     "name": "stdout",
     "output_type": "stream",
     "text": [
      "[0 0 0 0 0 4 0 0 4 4 4 4 3 3 4 0 0 1 2 1 0 0 4 1 4 0 0 0 1 2]\n",
      "30\n"
     ]
    }
   ],
   "source": [
    "print(y_test)\n",
    "print(len(y_test))"
   ]
  },
  {
   "cell_type": "code",
   "execution_count": 64,
   "id": "d08946a4-42d1-4884-a9d8-70ad7e5df131",
   "metadata": {},
   "outputs": [],
   "source": [
    "def costFunctionReg(theta, X, y, lambda_):\n",
    "  \n",
    "    # Initialize some useful values\n",
    "    m = y.size  # number of training examples\n",
    "\n",
    "    # You need to return the following variables correctly \n",
    "    J = 0\n",
    "    grad = np.zeros(theta.shape)\n",
    "\n",
    "    tmpT = 0\n",
    "    n = 0\n",
    "    n = np.size(theta, 0) \n",
    "    cost, grad = costFunction(theta, X, y)\n",
    "    for i in range (n):\n",
    "        if (i == 0):\n",
    "            continue\n",
    "        tmpT += theta[i] * theta[i]\n",
    "        \n",
    "        grad[i] = grad[i] + lambda_/m * theta[i]\n",
    "    J = cost + lambda_ * tmpT /(2*m)\n",
    "            \n",
    "    return J, grad"
   ]
  },
  {
   "cell_type": "code",
   "execution_count": 65,
   "id": "69eae2ff-6c48-42af-afe4-fe4fb0683bb7",
   "metadata": {},
   "outputs": [
    {
     "name": "stderr",
     "output_type": "stream",
     "text": [
      "C:\\Users\\dovan\\AppData\\Local\\Temp/ipykernel_13768/276752345.py:21: RuntimeWarning: divide by zero encountered in log\n",
      "  J += -1/m *  (y[i] * np.log(sigmoid(np.dot(ttp,X[i]))) + (1-y[i]) * np.log(1 - sigmoid(np.dot( ttp, X[i]))))\n",
      "C:\\Users\\dovan\\AppData\\Local\\Temp/ipykernel_13768/276752345.py:21: RuntimeWarning: invalid value encountered in multiply\n",
      "  J += -1/m *  (y[i] * np.log(sigmoid(np.dot(ttp,X[i]))) + (1-y[i]) * np.log(1 - sigmoid(np.dot( ttp, X[i]))))\n",
      "C:\\Users\\dovan\\AppData\\Local\\Temp/ipykernel_13768/276752345.py:21: RuntimeWarning: invalid value encountered in double_scalars\n",
      "  J += -1/m *  (y[i] * np.log(sigmoid(np.dot(ttp,X[i]))) + (1-y[i]) * np.log(1 - sigmoid(np.dot( ttp, X[i]))))\n"
     ]
    },
    {
     "name": "stdout",
     "output_type": "stream",
     "text": [
      "Train Accuracy: 40.00 %\n"
     ]
    }
   ],
   "source": [
    "# Initialize fitting parameters\n",
    "initial_theta = np.zeros(x_train.shape[1])\n",
    "\n",
    "# Set regularization parameter lambda to 1 (you should vary this)\n",
    "lambda_ = 1\n",
    "\n",
    "# set options for optimize.minimize\n",
    "options= {'maxiter': 100}\n",
    "\n",
    "res = optimize.minimize(costFunctionReg,\n",
    "                        initial_theta,\n",
    "                        (x_train, y_train, lambda_),\n",
    "                        jac=True,\n",
    "                        method='TNC',\n",
    "                        options=options)\n",
    "\n",
    "# the fun property of OptimizeResult object returns\n",
    "# the value of costFunction at optimized theta\n",
    "cost = res.fun\n",
    "\n",
    "# the optimized theta is in the x property of the result\n",
    "theta = res.x\n",
    "\n",
    "\n",
    "# Compute accuracy on our training set\n",
    "p = predict(theta, x_test)\n",
    "\n",
    "print('Train Accuracy: %.2f %%' % (np.mean(p == y_test) * 100))"
   ]
  }
 ],
 "metadata": {
  "kernelspec": {
   "display_name": "Python 3",
   "language": "python",
   "name": "python3"
  },
  "language_info": {
   "codemirror_mode": {
    "name": "ipython",
    "version": 3
   },
   "file_extension": ".py",
   "mimetype": "text/x-python",
   "name": "python",
   "nbconvert_exporter": "python",
   "pygments_lexer": "ipython3",
   "version": "3.9.7"
  }
 },
 "nbformat": 4,
 "nbformat_minor": 5
}
