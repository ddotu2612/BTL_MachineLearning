{
 "cells": [
  {
   "cell_type": "markdown",
   "id": "7b4f10e6-e4eb-44b6-9a29-8fb055245491",
   "metadata": {},
   "source": [
    "#                             LOGISTIC REGRESSION"
   ]
  },
  {
   "cell_type": "code",
   "execution_count": 1,
   "id": "2a9a22a7-35f2-4579-bbd6-3b63d1f9dff0",
   "metadata": {},
   "outputs": [],
   "source": [
    "import os\n",
    "\n",
    "import numpy as np\n",
    "\n",
    "from matplotlib import pyplot\n",
    "import pandas as pd\n",
    "\n",
    "from scipy import optimize\n",
    "\n",
    "from sklearn.linear_model import LogisticRegression\n",
    "from sklearn.model_selection import train_test_split\n"
   ]
  },
  {
   "cell_type": "code",
   "execution_count": 2,
   "id": "60fe011a-d6f5-4575-9131-bb107ad1b67a",
   "metadata": {},
   "outputs": [],
   "source": [
    "df = pd.read_csv(\"./data/heart.csv\")"
   ]
  },
  {
   "cell_type": "code",
   "execution_count": 3,
   "id": "036da357-61ae-4b46-a820-ef733645ba01",
   "metadata": {},
   "outputs": [
    {
     "data": {
      "text/html": [
       "<div>\n",
       "<style scoped>\n",
       "    .dataframe tbody tr th:only-of-type {\n",
       "        vertical-align: middle;\n",
       "    }\n",
       "\n",
       "    .dataframe tbody tr th {\n",
       "        vertical-align: top;\n",
       "    }\n",
       "\n",
       "    .dataframe thead th {\n",
       "        text-align: right;\n",
       "    }\n",
       "</style>\n",
       "<table border=\"1\" class=\"dataframe\">\n",
       "  <thead>\n",
       "    <tr style=\"text-align: right;\">\n",
       "      <th></th>\n",
       "      <th>age</th>\n",
       "      <th>sex</th>\n",
       "      <th>cp</th>\n",
       "      <th>trestbps</th>\n",
       "      <th>chol</th>\n",
       "      <th>fbs</th>\n",
       "      <th>restecg</th>\n",
       "      <th>thalach</th>\n",
       "      <th>exang</th>\n",
       "      <th>oldpeak</th>\n",
       "      <th>slope</th>\n",
       "      <th>ca</th>\n",
       "      <th>thal</th>\n",
       "      <th>target</th>\n",
       "    </tr>\n",
       "  </thead>\n",
       "  <tbody>\n",
       "    <tr>\n",
       "      <th>0</th>\n",
       "      <td>52</td>\n",
       "      <td>1</td>\n",
       "      <td>0</td>\n",
       "      <td>125</td>\n",
       "      <td>212</td>\n",
       "      <td>0</td>\n",
       "      <td>1</td>\n",
       "      <td>168</td>\n",
       "      <td>0</td>\n",
       "      <td>1.0</td>\n",
       "      <td>2</td>\n",
       "      <td>2</td>\n",
       "      <td>3</td>\n",
       "      <td>0</td>\n",
       "    </tr>\n",
       "    <tr>\n",
       "      <th>1</th>\n",
       "      <td>53</td>\n",
       "      <td>1</td>\n",
       "      <td>0</td>\n",
       "      <td>140</td>\n",
       "      <td>203</td>\n",
       "      <td>1</td>\n",
       "      <td>0</td>\n",
       "      <td>155</td>\n",
       "      <td>1</td>\n",
       "      <td>3.1</td>\n",
       "      <td>0</td>\n",
       "      <td>0</td>\n",
       "      <td>3</td>\n",
       "      <td>0</td>\n",
       "    </tr>\n",
       "    <tr>\n",
       "      <th>2</th>\n",
       "      <td>70</td>\n",
       "      <td>1</td>\n",
       "      <td>0</td>\n",
       "      <td>145</td>\n",
       "      <td>174</td>\n",
       "      <td>0</td>\n",
       "      <td>1</td>\n",
       "      <td>125</td>\n",
       "      <td>1</td>\n",
       "      <td>2.6</td>\n",
       "      <td>0</td>\n",
       "      <td>0</td>\n",
       "      <td>3</td>\n",
       "      <td>0</td>\n",
       "    </tr>\n",
       "    <tr>\n",
       "      <th>3</th>\n",
       "      <td>61</td>\n",
       "      <td>1</td>\n",
       "      <td>0</td>\n",
       "      <td>148</td>\n",
       "      <td>203</td>\n",
       "      <td>0</td>\n",
       "      <td>1</td>\n",
       "      <td>161</td>\n",
       "      <td>0</td>\n",
       "      <td>0.0</td>\n",
       "      <td>2</td>\n",
       "      <td>1</td>\n",
       "      <td>3</td>\n",
       "      <td>0</td>\n",
       "    </tr>\n",
       "    <tr>\n",
       "      <th>4</th>\n",
       "      <td>62</td>\n",
       "      <td>0</td>\n",
       "      <td>0</td>\n",
       "      <td>138</td>\n",
       "      <td>294</td>\n",
       "      <td>1</td>\n",
       "      <td>1</td>\n",
       "      <td>106</td>\n",
       "      <td>0</td>\n",
       "      <td>1.9</td>\n",
       "      <td>1</td>\n",
       "      <td>3</td>\n",
       "      <td>2</td>\n",
       "      <td>0</td>\n",
       "    </tr>\n",
       "  </tbody>\n",
       "</table>\n",
       "</div>"
      ],
      "text/plain": [
       "   age  sex  cp  trestbps  chol  fbs  restecg  thalach  exang  oldpeak  slope  \\\n",
       "0   52    1   0       125   212    0        1      168      0      1.0      2   \n",
       "1   53    1   0       140   203    1        0      155      1      3.1      0   \n",
       "2   70    1   0       145   174    0        1      125      1      2.6      0   \n",
       "3   61    1   0       148   203    0        1      161      0      0.0      2   \n",
       "4   62    0   0       138   294    1        1      106      0      1.9      1   \n",
       "\n",
       "   ca  thal  target  \n",
       "0   2     3       0  \n",
       "1   0     3       0  \n",
       "2   0     3       0  \n",
       "3   1     3       0  \n",
       "4   3     2       0  "
      ]
     },
     "execution_count": 3,
     "metadata": {},
     "output_type": "execute_result"
    }
   ],
   "source": [
    "df.head()"
   ]
  },
  {
   "cell_type": "code",
   "execution_count": 4,
   "id": "b01fc862-bd4d-459d-a880-a9eb9cdc5912",
   "metadata": {},
   "outputs": [
    {
     "name": "stdout",
     "output_type": "stream",
     "text": [
      "14\n"
     ]
    }
   ],
   "source": [
    "print(len(df.columns))"
   ]
  },
  {
   "cell_type": "code",
   "execution_count": 5,
   "id": "b23baafd-5499-4c7e-a16f-e02f4a83f2e0",
   "metadata": {},
   "outputs": [],
   "source": [
    "df = pd.read_csv(\"./data/heart.csv\")\n",
    "a = pd.get_dummies(df['cp'], prefix = \"cp\")\n",
    "b = pd.get_dummies(df['thal'], prefix = \"thal\")\n",
    "c = pd.get_dummies(df['slope'], prefix = \"slope\")\n",
    "df = df.drop(columns = ['cp', 'thal', 'slope'])\n",
    "frames = [df, a, b, c]\n",
    "df = pd.concat(frames, axis = 1)\n",
    "y = df.target.values\n",
    "x_data = df.drop(['target'], axis = 1)"
   ]
  },
  {
   "cell_type": "code",
   "execution_count": 6,
   "id": "97bcbfa2-910f-44a5-a9d8-c91dbc66f115",
   "metadata": {},
   "outputs": [
    {
     "name": "stdout",
     "output_type": "stream",
     "text": [
      "Index(['age', 'sex', 'trestbps', 'chol', 'fbs', 'restecg', 'thalach', 'exang',\n",
      "       'oldpeak', 'ca', 'target', 'cp_0', 'cp_1', 'cp_2', 'cp_3', 'thal_0',\n",
      "       'thal_1', 'thal_2', 'thal_3', 'slope_0', 'slope_1', 'slope_2'],\n",
      "      dtype='object')\n"
     ]
    }
   ],
   "source": [
    "print(df.columns)"
   ]
  },
  {
   "cell_type": "code",
   "execution_count": 7,
   "id": "984c991d-4ea7-4c62-a8fd-0e8ba18576b1",
   "metadata": {},
   "outputs": [
    {
     "data": {
      "text/html": [
       "<div>\n",
       "<style scoped>\n",
       "    .dataframe tbody tr th:only-of-type {\n",
       "        vertical-align: middle;\n",
       "    }\n",
       "\n",
       "    .dataframe tbody tr th {\n",
       "        vertical-align: top;\n",
       "    }\n",
       "\n",
       "    .dataframe thead th {\n",
       "        text-align: right;\n",
       "    }\n",
       "</style>\n",
       "<table border=\"1\" class=\"dataframe\">\n",
       "  <thead>\n",
       "    <tr style=\"text-align: right;\">\n",
       "      <th></th>\n",
       "      <th>age</th>\n",
       "      <th>sex</th>\n",
       "      <th>trestbps</th>\n",
       "      <th>chol</th>\n",
       "      <th>fbs</th>\n",
       "      <th>restecg</th>\n",
       "      <th>thalach</th>\n",
       "      <th>exang</th>\n",
       "      <th>oldpeak</th>\n",
       "      <th>ca</th>\n",
       "      <th>...</th>\n",
       "      <th>cp_1</th>\n",
       "      <th>cp_2</th>\n",
       "      <th>cp_3</th>\n",
       "      <th>thal_0</th>\n",
       "      <th>thal_1</th>\n",
       "      <th>thal_2</th>\n",
       "      <th>thal_3</th>\n",
       "      <th>slope_0</th>\n",
       "      <th>slope_1</th>\n",
       "      <th>slope_2</th>\n",
       "    </tr>\n",
       "  </thead>\n",
       "  <tbody>\n",
       "    <tr>\n",
       "      <th>0</th>\n",
       "      <td>52</td>\n",
       "      <td>1</td>\n",
       "      <td>125</td>\n",
       "      <td>212</td>\n",
       "      <td>0</td>\n",
       "      <td>1</td>\n",
       "      <td>168</td>\n",
       "      <td>0</td>\n",
       "      <td>1.0</td>\n",
       "      <td>2</td>\n",
       "      <td>...</td>\n",
       "      <td>0</td>\n",
       "      <td>0</td>\n",
       "      <td>0</td>\n",
       "      <td>0</td>\n",
       "      <td>0</td>\n",
       "      <td>0</td>\n",
       "      <td>1</td>\n",
       "      <td>0</td>\n",
       "      <td>0</td>\n",
       "      <td>1</td>\n",
       "    </tr>\n",
       "    <tr>\n",
       "      <th>1</th>\n",
       "      <td>53</td>\n",
       "      <td>1</td>\n",
       "      <td>140</td>\n",
       "      <td>203</td>\n",
       "      <td>1</td>\n",
       "      <td>0</td>\n",
       "      <td>155</td>\n",
       "      <td>1</td>\n",
       "      <td>3.1</td>\n",
       "      <td>0</td>\n",
       "      <td>...</td>\n",
       "      <td>0</td>\n",
       "      <td>0</td>\n",
       "      <td>0</td>\n",
       "      <td>0</td>\n",
       "      <td>0</td>\n",
       "      <td>0</td>\n",
       "      <td>1</td>\n",
       "      <td>1</td>\n",
       "      <td>0</td>\n",
       "      <td>0</td>\n",
       "    </tr>\n",
       "    <tr>\n",
       "      <th>2</th>\n",
       "      <td>70</td>\n",
       "      <td>1</td>\n",
       "      <td>145</td>\n",
       "      <td>174</td>\n",
       "      <td>0</td>\n",
       "      <td>1</td>\n",
       "      <td>125</td>\n",
       "      <td>1</td>\n",
       "      <td>2.6</td>\n",
       "      <td>0</td>\n",
       "      <td>...</td>\n",
       "      <td>0</td>\n",
       "      <td>0</td>\n",
       "      <td>0</td>\n",
       "      <td>0</td>\n",
       "      <td>0</td>\n",
       "      <td>0</td>\n",
       "      <td>1</td>\n",
       "      <td>1</td>\n",
       "      <td>0</td>\n",
       "      <td>0</td>\n",
       "    </tr>\n",
       "    <tr>\n",
       "      <th>3</th>\n",
       "      <td>61</td>\n",
       "      <td>1</td>\n",
       "      <td>148</td>\n",
       "      <td>203</td>\n",
       "      <td>0</td>\n",
       "      <td>1</td>\n",
       "      <td>161</td>\n",
       "      <td>0</td>\n",
       "      <td>0.0</td>\n",
       "      <td>1</td>\n",
       "      <td>...</td>\n",
       "      <td>0</td>\n",
       "      <td>0</td>\n",
       "      <td>0</td>\n",
       "      <td>0</td>\n",
       "      <td>0</td>\n",
       "      <td>0</td>\n",
       "      <td>1</td>\n",
       "      <td>0</td>\n",
       "      <td>0</td>\n",
       "      <td>1</td>\n",
       "    </tr>\n",
       "    <tr>\n",
       "      <th>4</th>\n",
       "      <td>62</td>\n",
       "      <td>0</td>\n",
       "      <td>138</td>\n",
       "      <td>294</td>\n",
       "      <td>1</td>\n",
       "      <td>1</td>\n",
       "      <td>106</td>\n",
       "      <td>0</td>\n",
       "      <td>1.9</td>\n",
       "      <td>3</td>\n",
       "      <td>...</td>\n",
       "      <td>0</td>\n",
       "      <td>0</td>\n",
       "      <td>0</td>\n",
       "      <td>0</td>\n",
       "      <td>0</td>\n",
       "      <td>1</td>\n",
       "      <td>0</td>\n",
       "      <td>0</td>\n",
       "      <td>1</td>\n",
       "      <td>0</td>\n",
       "    </tr>\n",
       "  </tbody>\n",
       "</table>\n",
       "<p>5 rows × 22 columns</p>\n",
       "</div>"
      ],
      "text/plain": [
       "   age  sex  trestbps  chol  fbs  restecg  thalach  exang  oldpeak  ca  ...  \\\n",
       "0   52    1       125   212    0        1      168      0      1.0   2  ...   \n",
       "1   53    1       140   203    1        0      155      1      3.1   0  ...   \n",
       "2   70    1       145   174    0        1      125      1      2.6   0  ...   \n",
       "3   61    1       148   203    0        1      161      0      0.0   1  ...   \n",
       "4   62    0       138   294    1        1      106      0      1.9   3  ...   \n",
       "\n",
       "   cp_1  cp_2  cp_3  thal_0  thal_1  thal_2  thal_3  slope_0  slope_1  slope_2  \n",
       "0     0     0     0       0       0       0       1        0        0        1  \n",
       "1     0     0     0       0       0       0       1        1        0        0  \n",
       "2     0     0     0       0       0       0       1        1        0        0  \n",
       "3     0     0     0       0       0       0       1        0        0        1  \n",
       "4     0     0     0       0       0       1       0        0        1        0  \n",
       "\n",
       "[5 rows x 22 columns]"
      ]
     },
     "execution_count": 7,
     "metadata": {},
     "output_type": "execute_result"
    }
   ],
   "source": [
    "df.head()"
   ]
  },
  {
   "cell_type": "code",
   "execution_count": 8,
   "id": "8e35de6d-6934-4a5e-9f03-d54aeefc80b8",
   "metadata": {},
   "outputs": [],
   "source": [
    "# Normalize\n",
    "x = (x_data - np.min(x_data)) / (np.max(x_data) - np.min(x_data)).values"
   ]
  },
  {
   "cell_type": "code",
   "execution_count": 9,
   "id": "fed176af-6abc-4aae-884e-f851e2eb9122",
   "metadata": {},
   "outputs": [],
   "source": [
    "x_train, x_test, y_train, y_test = train_test_split(x, y,test_size = 0.2,random_state=0)"
   ]
  },
  {
   "cell_type": "code",
   "execution_count": 10,
   "id": "4404f5d9-9850-4d47-b900-513f7455a58d",
   "metadata": {},
   "outputs": [
    {
     "name": "stdout",
     "output_type": "stream",
     "text": [
      "Test Accuracy 85.85%\n"
     ]
    }
   ],
   "source": [
    "accuracies = {}\n",
    "\n",
    "lr = LogisticRegression()\n",
    "lr.fit(x_train,y_train)\n",
    "acc = lr.score(x_test,y_test)*100\n",
    "\n",
    "accuracies['Logistic Regression'] = acc\n",
    "print(\"Test Accuracy {:.2f}%\".format(acc))"
   ]
  },
  {
   "cell_type": "code",
   "execution_count": 11,
   "id": "affe5176-3aa4-4562-aacf-e63276a572c2",
   "metadata": {},
   "outputs": [
    {
     "name": "stdout",
     "output_type": "stream",
     "text": [
      "820\n"
     ]
    }
   ],
   "source": [
    "print (len(x_train))"
   ]
  },
  {
   "cell_type": "code",
   "execution_count": 12,
   "id": "a5e733a9-2e71-4e3a-8e37-2ec8ecb786dc",
   "metadata": {},
   "outputs": [
    {
     "name": "stdout",
     "output_type": "stream",
     "text": [
      "820\n"
     ]
    }
   ],
   "source": [
    "print (len(y_train))"
   ]
  },
  {
   "cell_type": "markdown",
   "id": "7f179e8d-0e55-41d9-b62e-25809d1c0ed9",
   "metadata": {},
   "source": [
    "### Hàm Sigmoid\n",
    "Hàm tính toán \"hypothesis\" cho logistic regression:\n",
    "\n",
    "$$ h_\\theta(x) = g(\\theta^T x)$$\n",
    "\n",
    "Hàm $g$ là hàm sigmoid, được định nghĩa: \n",
    "\n",
    "$$g(z) = \\frac{1}{1+e^{-z}}$$\n",
    "\n"
   ]
  },
  {
   "cell_type": "code",
   "execution_count": 13,
   "id": "388d249d-593a-417f-a2fd-dbc4aacacb37",
   "metadata": {},
   "outputs": [],
   "source": [
    "def sigmoid(z):\n",
    "\n",
    "    z = np.array(z)\n",
    "    \n",
    "    g = np.zeros(z.shape)\n",
    "\n",
    "    import math\n",
    "    g = 1 / (1 + math.e**(-z))\n",
    "    \n",
    "    return g"
   ]
  },
  {
   "cell_type": "markdown",
   "id": "05d9648a-bab5-47c0-9654-33978c0e7b2f",
   "metadata": {},
   "source": [
    "### Logistic Regression\n",
    "\n",
    "Hàm tính toán mất mát\n",
    "\n",
    "$$ J(\\theta) = \\frac{1}{m} \\sum_{i=1}^m \\left[ -y^{(i)} \\log \\left(h_\\theta\\left(x^{(i)} \\right)\\right) - \\left( 1 - y^{(i)} \\right) \\log\\left(1 - h_\\theta \\left(x^{(i)} \\right) \\right) \\right] $$\n",
    "\n",
    "Hàm tính toán $\\theta_j$ \n",
    "\n",
    "$$\n",
    "\\begin{align*}\n",
    "& \n",
    "& \\frac{\\partial J(\\theta)}{\\partial \\theta_j} = \\left( \\frac{1}{m} \\sum_{i=1}^m \\left( h_\\theta\\left( x^{(i)} \\right) - y^{(i)} \\right) x_j^{(i)} \\right)\n",
    "\\end{align*}\n",
    "$$\n",
    "\n",
    "\n"
   ]
  },
  {
   "cell_type": "code",
   "execution_count": 14,
   "id": "a686af79-728a-4147-9bb9-21ee36485b4b",
   "metadata": {},
   "outputs": [],
   "source": [
    "# lưu chiều ma trận train model\n",
    "m, n = x_train.shape\n",
    "\n",
    "# Thêm một cột giá trị bias 1\n",
    "x_train = np.concatenate([np.ones((m, 1)), x_train], axis=1)"
   ]
  },
  {
   "cell_type": "code",
   "execution_count": 15,
   "id": "c9a0e0c0-71c8-468b-a604-44a6d940d56f",
   "metadata": {},
   "outputs": [],
   "source": [
    "def costFunction(theta, X, y):\n",
    "\n",
    "    # Khởi tạo một số giá trị\n",
    "    m = y.size  # Số lượng mẫu\n",
    "\n",
    "    J = 0\n",
    "    grad = np.zeros(theta.shape)\n",
    "\n",
    "    \n",
    "    ytp = np.transpose(y)\n",
    "    ttp = np.transpose(theta)\n",
    "    uni = (np.ones(y.shape))\n",
    "    m = np.size(X,0)\n",
    "    n = np.size(X,1)\n",
    "    \n",
    "    for i in range(m):\n",
    "        J += -1/m *  (y[i] * np.log(sigmoid(np.dot(ttp,X[i]))) + (1-y[i]) * np.log(1 - sigmoid(np.dot( ttp, X[i]))))\n",
    "       \n",
    "    for i in range(n):\n",
    "        tgrad = 0\n",
    "        for j in range(m):\n",
    "            tgrad += ( sigmoid(np.dot(ttp, X[j])) - y[j] ) * X[j,i]\n",
    "        grad[i] = 1/m * tgrad\n",
    "\n",
    "    return J, grad"
   ]
  },
  {
   "cell_type": "markdown",
   "id": "b8869628-95ed-41c5-92c1-6f75e1cf4bb7",
   "metadata": {},
   "source": [
    "#### Lựa chọn parameters với `scipy.optimize`\n",
    "\n",
    "Đối với Logistic Regression ta cần tối ưu (minimize) $J(\\theta)$ với parameter là $\\theta$.\n",
    "Sử dụng `optimize.minimize` để tìm ra parameters $\\theta$ thích hợp nhất cho Hàm Lỗi (Cost function) với một dataset cho trước. Truyền vào hàm `optimize.minimize` Các tham số:\n",
    "- `costFunction`: Hàm lỗi được định nghĩa với tham số $\\theta$, tính toán \"cost\" của logistic regression theo $\\theta$ với dataset cho trước (X, y). Chỉ truyền vào tên hàm mà không truyền vào biến. Mục đích là tìm được biến số $\\theta$ phù hợp, không phải tính toán hàm.\n",
    "- `initial_theta`: Theta truyền vào ban đầu, chỉ mang ý nghĩa định nghĩa theta.\n",
    "- `(X, y)`: Các tham số bổ sung để tính toán hàm lỗi.\n",
    "- `jac`:  Xác định liệu hàm truyền vào cần minimize (costFunction) có trả về Ma trận Jacobi (gradient) kèm theo giá trị hàm lỗi hay không (True)\n",
    "- `method`: Phương pháp tối ưu được sử dụng (Ví dụ: TNC, CG, L-BFGS-B, ...)\n",
    "- `options`: Các lựa chọn bổ sung thêm cho hàm. Ở đây ta sẽ thiết lập số iterator tối đa cho quá trình minimize\n"
   ]
  },
  {
   "cell_type": "code",
   "execution_count": 16,
   "id": "ee5be52c-462a-46cd-9d67-6a0292a3498e",
   "metadata": {},
   "outputs": [
    {
     "name": "stdout",
     "output_type": "stream",
     "text": [
      "0.3460560062327809\n",
      "[ 1.32018862 -0.25139371 -1.72960168 -1.46576662 -2.3762466   0.12822114\n",
      "  1.20494583  2.48337555 -0.75132221 -3.71292774 -3.01420179 -0.89017337\n",
      "  0.2176871   1.07356151  0.96994315 -1.01509439  1.11270613  0.87441294\n",
      " -0.32941318  0.78591989  0.03007493  0.72044987]\n"
     ]
    }
   ],
   "source": [
    "# khỏi tạo 1 giá trị theta ban đầu \n",
    "initial_theta = np.zeros(n+1)\n",
    "    \n",
    "# cài đặt options số lượng iterator tối đa cho việc optimize\n",
    "\n",
    "options= {'maxiter': 400}\n",
    "#Tối ưu hóa hàm này có thể dùng method TNC\n",
    "res = optimize.minimize(costFunction,\n",
    "                        initial_theta,\n",
    "                        (x_train, y_train),\n",
    "                        jac=True,\n",
    "                        method='TNC',\n",
    "                        options=options)\n",
    "\n",
    "# giá trị fun của hàm optimize trả về là giá trị hàm costFunction \n",
    "cost = res.fun\n",
    "\n",
    "# giá trị x trả về là giá trị theta tối ưu:\n",
    "theta = res.x\n",
    "\n",
    "print(cost)\n",
    "\n",
    "print(theta)\n"
   ]
  },
  {
   "cell_type": "code",
   "execution_count": 17,
   "id": "29fe61bf-eab7-4c1b-84eb-d4a7e7d59895",
   "metadata": {},
   "outputs": [
    {
     "name": "stdout",
     "output_type": "stream",
     "text": [
      "22\n"
     ]
    }
   ],
   "source": [
    "print(len(theta))"
   ]
  },
  {
   "cell_type": "code",
   "execution_count": 18,
   "id": "64ba78b5-0d7f-4408-b033-f45ca785d6fd",
   "metadata": {},
   "outputs": [],
   "source": [
    "m, n = x_test.shape\n",
    "x_test = np.concatenate([np.ones((m, 1)), x_test], axis=1)"
   ]
  },
  {
   "cell_type": "code",
   "execution_count": 19,
   "id": "9df86101-0955-4618-a838-f3fddfb02706",
   "metadata": {},
   "outputs": [],
   "source": [
    "def predict(theta, X):\n",
    "    \n",
    "    m = X.shape[0] #Số lượng mẫu train\n",
    "\n",
    "\n",
    "    p = np.zeros(m) # tạo array lưu kết quả dự đoán\n",
    "\n",
    "\n",
    "    for i in range (m):\n",
    "        tmp = sigmoid(np.dot(np.transpose(theta), X[i]))\n",
    "        \n",
    "        # với giá trị trả về của hàmn sigmoid < 0.5 ta đặt giá trị là 0\n",
    "        if (tmp < 0.5): \n",
    "            p[i] = 0\n",
    "        # với giá trị trả về của hàmn sigmoid >= 0.5 ta đặt giá trị là 0    \n",
    "        else: \n",
    "            p[i] = 1\n",
    "\n",
    "    return p"
   ]
  },
  {
   "cell_type": "code",
   "execution_count": 20,
   "id": "d595947e-6cd9-476b-b33a-7ffaff70536c",
   "metadata": {},
   "outputs": [
    {
     "name": "stdout",
     "output_type": "stream",
     "text": [
      "Train Accuracy: 84.88 %\n"
     ]
    }
   ],
   "source": [
    "# Tính toán giá trị dự đoán\n",
    "p = predict(theta, x_test)\n",
    "print('Train Accuracy: {:.2f} %'.format(np.mean(p == y_test) * 100))"
   ]
  },
  {
   "cell_type": "code",
   "execution_count": 21,
   "id": "23fee413-164e-4f9e-9cd7-74df950ee616",
   "metadata": {},
   "outputs": [
    {
     "name": "stdout",
     "output_type": "stream",
     "text": [
      "[1. 1. 0. 1. 0. 0. 0. 0. 0. 1. 0. 0. 1. 1. 1. 1. 1. 0. 1. 0. 1. 1. 1. 1.\n",
      " 1. 1. 1. 0. 1. 1. 1. 0. 0. 1. 0. 0. 1. 0. 0. 1. 1. 1. 1. 1. 1. 1. 1. 1.\n",
      " 0. 1. 0. 0. 0. 1. 0. 0. 0. 1. 0. 1. 0. 1. 1. 1. 0. 0. 0. 1. 1. 1. 1. 1.\n",
      " 1. 0. 0. 0. 1. 0. 0. 0. 0. 0. 1. 1. 1. 0. 1. 0. 1. 0. 0. 0. 1. 0. 1. 0.\n",
      " 1. 0. 1. 1. 1. 1. 1. 0. 0. 1. 0. 1. 0. 1. 1. 1. 0. 0. 1. 0. 1. 0. 0. 1.\n",
      " 1. 0. 1. 0. 0. 1. 1. 1. 1. 0. 0. 0. 1. 1. 1. 0. 0. 1. 0. 1. 0. 0. 0. 0.\n",
      " 1. 1. 1. 0. 1. 0. 1. 1. 1. 0. 0. 0. 1. 1. 0. 0. 0. 1. 1. 0. 1. 1. 1. 1.\n",
      " 1. 1. 1. 1. 1. 1. 1. 1. 0. 1. 1. 0. 0. 0. 0. 0. 1. 0. 0. 0. 1. 0. 0. 1.\n",
      " 1. 1. 0. 1. 0. 1. 1. 0. 1. 1. 1. 0. 1.]\n",
      "205\n"
     ]
    }
   ],
   "source": [
    "print (p)\n",
    "print (len(p))"
   ]
  },
  {
   "cell_type": "code",
   "execution_count": 22,
   "id": "4a0fd438-eae2-4f91-adb0-83cbdac1fc41",
   "metadata": {},
   "outputs": [
    {
     "name": "stdout",
     "output_type": "stream",
     "text": [
      "[1 0 0 1 0 0 0 0 0 0 0 0 1 0 1 1 1 0 1 0 1 1 1 1 1 1 1 0 1 1 1 0 0 1 0 0 0\n",
      " 0 1 1 0 1 1 1 1 1 1 0 0 0 0 0 1 0 0 0 0 1 0 0 0 0 1 0 0 0 0 1 1 1 1 1 1 0\n",
      " 0 0 0 1 0 0 0 0 1 0 1 0 1 0 1 0 0 0 1 1 1 0 0 0 1 1 1 1 1 0 0 1 0 1 0 1 1\n",
      " 0 1 0 1 0 1 0 0 1 0 1 1 0 0 1 1 1 1 0 0 0 1 1 1 0 0 1 0 1 1 0 1 0 0 1 1 1\n",
      " 1 0 1 1 1 0 0 0 1 1 0 0 0 1 1 0 1 1 1 1 1 1 1 1 1 1 1 1 0 1 1 0 0 1 0 0 1\n",
      " 0 1 0 1 0 0 1 0 1 0 1 1 1 0 0 1 1 1 0 1]\n",
      "205\n"
     ]
    }
   ],
   "source": [
    "print(y_test)\n",
    "print(len(y_test))"
   ]
  },
  {
   "cell_type": "markdown",
   "id": "e8ccf3a9-6e83-45ca-801f-0786763eed53",
   "metadata": {},
   "source": [
    "#### Hàm Regularized Regression\n",
    "\n",
    "Hàm tính toán mất mát\n",
    "\n",
    "$$ J(\\theta) = \\frac{1}{m} \\sum_{i=1}^m \\left[ -y^{(i)} \\log \\left(h_\\theta\\left(x^{(i)} \\right)\\right) - \\left( 1 - y^{(i)} \\right) \\log\\left(1 - h_\\theta \\left(x^{(i)} \\right) \\right) \\right] + \\frac{\\lambda}{2m} \\sum_{j=1}^n \\theta_j^2 $$\n",
    "\n",
    "Hàm tính toán $\\theta_j$ \n",
    "\n",
    "$$\n",
    "\\begin{align*}\n",
    "& \\frac{\\partial J(\\theta)}{\\partial \\theta_0} = \\frac{1}{m} \\sum_{i=1}^m \\left( h_\\theta\\left( x^{(i)} \\right) - y^{(i)} \\right) x_j^{(i)}  & \\text{với  } j = 0 \\\\\n",
    "& \\frac{\\partial J(\\theta)}{\\partial \\theta_j} = \\left( \\frac{1}{m} \\sum_{i=1}^m \\left( h_\\theta\\left( x^{(i)} \\right) - y^{(i)} \\right) x_j^{(i)} \\right) + \\frac{\\lambda}{m} \\theta_j & \\text{với  } j  \\ge 1\n",
    "\\end{align*}\n",
    "$$\n"
   ]
  },
  {
   "cell_type": "code",
   "execution_count": 23,
   "id": "d08946a4-42d1-4884-a9d8-70ad7e5df131",
   "metadata": {},
   "outputs": [],
   "source": [
    "# hàm Regularize Regression với vòng lặp\n",
    "def costFunctionReg(theta, X, y, lambda_):\n",
    "    \n",
    "    m = y.size \n",
    "    if y.dtype == bool:\n",
    "        y = y.astype(int)\n",
    "    J = 0\n",
    "    grad = np.zeros(theta.shape)   \n",
    "    tmpT = 0\n",
    "    n = 0\n",
    "    n = np.size(theta, 0) \n",
    "    cost, grad = costFunction(theta, X, y)\n",
    "    for i in range (n):\n",
    "        if (i == 0):\n",
    "            continue\n",
    "        tmpT += theta[i] * theta[i]\n",
    "        \n",
    "        grad[i] = grad[i] + lambda_/m * theta[i]\n",
    "    J = cost + lambda_ * tmpT /(2*m)\n",
    "            \n",
    "    return J, grad"
   ]
  },
  {
   "cell_type": "code",
   "execution_count": 24,
   "id": "81e357fa-c652-489e-917a-f13cb17262b6",
   "metadata": {},
   "outputs": [
    {
     "name": "stdout",
     "output_type": "stream",
     "text": [
      "Train Accuracy: 85.85 %\n"
     ]
    }
   ],
   "source": [
    "# khởi tạo theta ban đầu\n",
    "initial_theta = np.zeros(x_train.shape[1])\n",
    "\n",
    "#đặt lambda_ = 1 (có thể tùy chỉnh)\n",
    "lambda_ = 1\n",
    "# cài đặt options số lượng iterator tối đa cho việc optimize\n",
    "options= {'maxiter': 400}\n",
    "\n",
    "#Tối ưu hóa hàm này có thể dùng method TNG\n",
    "\n",
    "res = optimize.minimize(costFunctionReg,\n",
    "                        initial_theta,\n",
    "                        (x_train, y_train, lambda_),\n",
    "                        jac=True,\n",
    "                        method='TNC',\n",
    "                        options=options)\n",
    "\n",
    "# giá trị fun của hàm optimize trả về là giá trị hàm costFunction \n",
    "cost = res.fun\n",
    "\n",
    "# giá trị x trả về là giá trị theta tối ưu:\n",
    "theta = res.x\n",
    "\n",
    "\n",
    "# Compute accuracy on our training set\n",
    "p = predict(theta, x_test)\n",
    "\n",
    "print('Train Accuracy: %.2f %%' % (np.mean(p == y_test) * 100))"
   ]
  },
  {
   "cell_type": "markdown",
   "id": "f597e188-9473-4e19-be58-0dc83c8971f0",
   "metadata": {},
   "source": [
    "#### Vector hóa hàm tính toán mất mát \n",
    "\n",
    "Hàm tính toán đặt là J, tham số theta (các trọng số cho phương trình hypothesis)\n",
    "\n",
    "\n",
    "$$ J(\\theta) = \\frac{1}{m} \\sum_{i=1}^m \\left[ -y^{(i)} \\log \\left(h_\\theta\\left(x^{(i)} \\right)\\right) - \\left( 1 - y^{(i)} \\right) \\log\\left(1 - h_\\theta \\left(x^{(i)} \\right) \\right) \\right] + \\frac{\\lambda}{2m} \\sum_{j=1}^n \\theta_j^2 $$\n",
    "\n",
    "Có dạng của X và theta như sau:\n",
    "\n",
    "$$ X = \\begin{bmatrix} - \\left( x^{(1)} \\right)^T - \\\\ - \\left( x^{(2)} \\right)^T - \\\\ \\vdots \\\\ - \\left( x^{(m)} \\right)^T - \\end{bmatrix} \\qquad \\text{and} \\qquad \\theta = \\begin{bmatrix} \\theta_0 \\\\ \\theta_1 \\\\ \\vdots \\\\ \\theta_n \\end{bmatrix} $$\n",
    "\n",
    "Khi đó ta có:\n",
    "\n",
    "$$ X\\theta = \\begin{bmatrix} - \\left( x^{(1)} \\right)^T\\theta - \\\\ - \\left( x^{(2)} \\right)^T\\theta - \\\\ \\vdots \\\\ - \\left( x^{(m)} \\right)^T\\theta - \\end{bmatrix} $$\n",
    "\n",
    "Với a, b là các vector thì  $a^Tb = b^Ta$ if $a$ and $b$ . Do đó ta có thể biến đổi phương trình trên thành $\\theta^T x^{(i)}$ .\n",
    "\n",
    "$$ X\\theta = \\begin{bmatrix} - \\left( x^{(1)} \\right)^T\\theta - \\\\ - \\left( x^{(2)} \\right)^T\\theta - \\\\ \\vdots \\\\ - \\left( x^{(m)} \\right)^T\\theta - \\end{bmatrix} = \\begin{bmatrix} - \\theta^T x^{(1)}  - \\\\ - \\theta^T x^{(2)} - \\\\ \\vdots \\\\ - \\theta^T x^{(m)}  - \\end{bmatrix} $$\n",
    "\n",
    "#### Vector hóa tính toán Gradient\n",
    "\n",
    "Công thức tính toán Gradient cho giá trị ở vị trí $j^{th}$:\n",
    "\n",
    "$$ \\begin{align*}\n",
    "& \\frac{\\partial J(\\theta)}{\\partial \\theta_0} = \\frac{1}{m} \\sum_{i=1}^m \\left( h_\\theta\\left( x^{(i)} \\right) - y^{(i)} \\right) x_j^{(i)}  & \\text{for } j = 0 \\\\\n",
    "& \\frac{\\partial J(\\theta)}{\\partial \\theta_j} = \\left( \\frac{1}{m} \\sum_{i=1}^m \\left( h_\\theta\\left( x^{(i)} \\right) - y^{(i)} \\right) x_j^{(i)} \\right) + \\frac{\\lambda}{m} \\theta_j & \\text{for } j  \\ge 1\n",
    "\\end{align*} $$\n",
    "\n",
    "Theo dạng ma trận ta có $\\theta_j$:\n",
    "\n",
    "$$\n",
    "\\begin{align*}\n",
    "\\begin{bmatrix} \n",
    "\\frac{\\partial J}{\\partial \\theta_0} \\\\\n",
    "\\frac{\\partial J}{\\partial \\theta_1} \\\\\n",
    "\\frac{\\partial J}{\\partial \\theta_2} \\\\\n",
    "\\vdots \\\\\n",
    "\\frac{\\partial J}{\\partial \\theta_n}\n",
    "\\end{bmatrix} = &\n",
    "\\frac{1}{m} \\begin{bmatrix}\n",
    "\\sum_{i=1}^m \\left( \\left(h_\\theta\\left(x^{(i)}\\right) - y^{(i)} \\right)x_0^{(i)}\\right) \\\\\n",
    "\\sum_{i=1}^m \\left( \\left(h_\\theta\\left(x^{(i)}\\right) - y^{(i)} \\right)x_1^{(i)}\\right) \\\\\n",
    "\\sum_{i=1}^m \\left( \\left(h_\\theta\\left(x^{(i)}\\right) - y^{(i)} \\right)x_2^{(i)}\\right) \\\\\n",
    "\\vdots \\\\\n",
    "\\sum_{i=1}^m \\left( \\left(h_\\theta\\left(x^{(i)}\\right) - y^{(i)} \\right)x_n^{(i)}\\right) \\\\\n",
    "\\end{bmatrix} \\\\\n",
    "= & \\frac{1}{m} \\sum_{i=1}^m \\left( \\left(h_\\theta\\left(x^{(i)}\\right) - y^{(i)} \\right)x^{(i)}\\right) \\\\\n",
    "= & \\frac{1}{m} X^T \\left( h_\\theta(x) - y\\right)\n",
    "\\end{align*}\n",
    "$$\n",
    "\n",
    "với\n",
    "\n",
    "$$  h_\\theta(x) - y = \n",
    "\\begin{bmatrix}\n",
    "h_\\theta\\left(x^{(1)}\\right) - y^{(1)} \\\\\n",
    "h_\\theta\\left(x^{(2)}\\right) - y^{(2)} \\\\\n",
    "\\vdots \\\\\n",
    "h_\\theta\\left(x^{(m)}\\right) - y^{(m)} \n",
    "\\end{bmatrix} $$\n",
    "\n",
    "Với $x^{(i)}$ là vector và $h_\\theta\\left(x^{(i)}\\right) - y^{(i)}$  là các giá trị số cụ thể.\n",
    "Để rõ hơn với phép đạo hàm ta sẽ đặt $\\beta_i = (h_\\theta\\left(x^{(m)}\\right) - y^{(m)})$ và thực hiện:\n",
    "\n",
    "$$ \\sum_i \\beta_ix^{(i)} = \\begin{bmatrix} \n",
    "| & | & & | \\\\\n",
    "x^{(1)} & x^{(2)} & \\cdots & x^{(m)} \\\\\n",
    "| & | & & | \n",
    "\\end{bmatrix}\n",
    "\\begin{bmatrix}\n",
    "\\beta_1 \\\\\n",
    "\\beta_2 \\\\\n",
    "\\vdots \\\\\n",
    "\\beta_m\n",
    "\\end{bmatrix} = x^T \\beta\n",
    "$$\n",
    "\n",
    "Với $\\beta_i = \\left( h_\\theta(x^{(i)} - y^{(i)} \\right)$.\n",
    "\n",
    "Dựa trên các biến đổi trên ta có thể thực hiện tính toán mà không sử dụng các vòng lặp"
   ]
  },
  {
   "cell_type": "code",
   "execution_count": 25,
   "id": "afe89567-2e75-4ee0-a5e3-54660324f7c7",
   "metadata": {},
   "outputs": [],
   "source": [
    "# hàm Regularize Regression được vector hóa\n",
    "def lrCostFunction(theta, X, y, lambda_):\n",
    "    m = y.size\n",
    "    # chuyển đổi dạng giá trị đầu ra thành int nếu ban đầu là boolean\n",
    "    if y.dtype == bool:\n",
    "        y = y.astype(int)\n",
    "    J = 0\n",
    "    grad = np.zeros(theta.shape)\n",
    "    \n",
    "     \n",
    "    log_sigmoid = np.log(sigmoid(np.dot(X, theta )))\n",
    "    \n",
    "    log_sigmoid_minus = np.log(1 - sigmoid(np.dot(X, theta)))    \n",
    "    \n",
    "    tmp = - np.multiply(y,log_sigmoid) - np.multiply((1-y), log_sigmoid_minus)\n",
    "    \n",
    "    square_theta = np.square(theta)\n",
    "    \n",
    "    square_theta[0] = 0    \n",
    "\n",
    "    J = (np.sum(tmp) / m) + lambda_  * np.sum(square_theta) / 2 / m\n",
    "    \n",
    "    tmp_theta = theta\n",
    "    \n",
    "    grad = np.dot( sigmoid(np.dot(X, theta )) - y, X) / m\n",
    "    \n",
    "    tmp_theta[0] = 0\n",
    "       \n",
    "    grad += lambda_ * tmp_theta / m\n",
    "\n",
    "   \n",
    "    return J, grad"
   ]
  },
  {
   "cell_type": "code",
   "execution_count": 26,
   "id": "69eae2ff-6c48-42af-afe4-fe4fb0683bb7",
   "metadata": {},
   "outputs": [
    {
     "name": "stdout",
     "output_type": "stream",
     "text": [
      "Train Accuracy: 85.85 %\n"
     ]
    }
   ],
   "source": [
    "# khởi tạo theta ban đầu\n",
    "initial_theta = np.zeros(x_train.shape[1])\n",
    "\n",
    "# đặt giá trị ban đầu lamda = 1\n",
    "lambda_ = 1\n",
    "\n",
    "# set options for optimize.minimize\n",
    "options= {'maxiter': 400}\n",
    "\n",
    "#Tối ưu hóa hàm này cần dùng method = 'CG' để đạt kết quả tốt nhất\n",
    "\n",
    "res = optimize.minimize(lrCostFunction,\n",
    "                        initial_theta,\n",
    "                        (x_train, y_train, lambda_),\n",
    "                        jac=True,\n",
    "                        method='CG',\n",
    "                        options=options)\n",
    "\n",
    "cost = res.fun\n",
    "\n",
    "theta = res.x\n",
    "\n",
    "\n",
    "# tính toán độ chính xác\n",
    "p = predict(theta, x_test)\n",
    "\n",
    "print('Train Accuracy: %.2f %%' % (np.mean(p == y_test) * 100))"
   ]
  },
  {
   "cell_type": "markdown",
   "id": "ba902a7d-7a19-47d8-b6b5-d25e324e91eb",
   "metadata": {},
   "source": [
    "# Phân loại nhiều lớp"
   ]
  },
  {
   "cell_type": "code",
   "execution_count": 43,
   "id": "0d56eddb-9dec-4ed8-9bab-c8758fd7636a",
   "metadata": {},
   "outputs": [
    {
     "data": {
      "text/html": [
       "<div>\n",
       "<style scoped>\n",
       "    .dataframe tbody tr th:only-of-type {\n",
       "        vertical-align: middle;\n",
       "    }\n",
       "\n",
       "    .dataframe tbody tr th {\n",
       "        vertical-align: top;\n",
       "    }\n",
       "\n",
       "    .dataframe thead th {\n",
       "        text-align: right;\n",
       "    }\n",
       "</style>\n",
       "<table border=\"1\" class=\"dataframe\">\n",
       "  <thead>\n",
       "    <tr style=\"text-align: right;\">\n",
       "      <th></th>\n",
       "      <th>Age</th>\n",
       "      <th>Sex</th>\n",
       "      <th>BP</th>\n",
       "      <th>Cholesterol</th>\n",
       "      <th>Na_to_K</th>\n",
       "      <th>Drug</th>\n",
       "    </tr>\n",
       "  </thead>\n",
       "  <tbody>\n",
       "    <tr>\n",
       "      <th>0</th>\n",
       "      <td>23</td>\n",
       "      <td>1</td>\n",
       "      <td>2</td>\n",
       "      <td>1</td>\n",
       "      <td>25.355</td>\n",
       "      <td>4</td>\n",
       "    </tr>\n",
       "    <tr>\n",
       "      <th>1</th>\n",
       "      <td>47</td>\n",
       "      <td>0</td>\n",
       "      <td>0</td>\n",
       "      <td>1</td>\n",
       "      <td>13.093</td>\n",
       "      <td>2</td>\n",
       "    </tr>\n",
       "    <tr>\n",
       "      <th>2</th>\n",
       "      <td>47</td>\n",
       "      <td>0</td>\n",
       "      <td>0</td>\n",
       "      <td>1</td>\n",
       "      <td>10.114</td>\n",
       "      <td>2</td>\n",
       "    </tr>\n",
       "    <tr>\n",
       "      <th>3</th>\n",
       "      <td>28</td>\n",
       "      <td>1</td>\n",
       "      <td>1</td>\n",
       "      <td>1</td>\n",
       "      <td>7.798</td>\n",
       "      <td>3</td>\n",
       "    </tr>\n",
       "    <tr>\n",
       "      <th>4</th>\n",
       "      <td>61</td>\n",
       "      <td>1</td>\n",
       "      <td>0</td>\n",
       "      <td>1</td>\n",
       "      <td>18.043</td>\n",
       "      <td>4</td>\n",
       "    </tr>\n",
       "  </tbody>\n",
       "</table>\n",
       "</div>"
      ],
      "text/plain": [
       "   Age  Sex  BP  Cholesterol  Na_to_K  Drug\n",
       "0   23    1   2            1   25.355     4\n",
       "1   47    0   0            1   13.093     2\n",
       "2   47    0   0            1   10.114     2\n",
       "3   28    1   1            1    7.798     3\n",
       "4   61    1   0            1   18.043     4"
      ]
     },
     "execution_count": 43,
     "metadata": {},
     "output_type": "execute_result"
    }
   ],
   "source": [
    "#  Load dữ liệu\n",
    "num_labels = 5\n",
    "\n",
    "df = pd.read_csv(\"./data/drug200.csv\")\n",
    "\n",
    "df = df.replace({'Sex': {'F': 1, 'M': 0}})\n",
    "df = df.replace({'Drug' : {'DrugA': 0, 'drugA': 0, \n",
    "                           'DrugB' : 1, 'drugB' : 1,\n",
    "                           'DrugC' : 2, 'drugC' : 2,\n",
    "                           'DrugX' : 3, 'drugX' : 3,\n",
    "                            'DrugY' : 4, 'drugY' : 4}\n",
    "                })\n",
    "\n",
    "df = df.replace({'BP': {'HIGH': 2, 'NORMAL': 1, 'LOW': 0}})\n",
    "df = df.replace({'Cholesterol': {'HIGH': 1, 'NORMAL': 0}})\n",
    "y = df.Drug.values\n",
    "x = df.drop(['Drug'], axis = 1)\n",
    "\n",
    "df.head()\n"
   ]
  },
  {
   "cell_type": "code",
   "execution_count": 44,
   "id": "adeac7a0-40e7-4b64-b576-e4f6db6407a8",
   "metadata": {},
   "outputs": [],
   "source": [
    "x = (x - np.min(x)) / (np.max(x) - np.min(x)).values"
   ]
  },
  {
   "cell_type": "code",
   "execution_count": 45,
   "id": "eebd3697-1f55-412c-8479-b6405104cb10",
   "metadata": {},
   "outputs": [],
   "source": [
    "x_train, x_test, y_train, y_test = train_test_split(x,y,test_size = 0.2,random_state=0)"
   ]
  },
  {
   "cell_type": "code",
   "execution_count": 46,
   "id": "869aa747-ebf3-4835-8ded-4c382d830a50",
   "metadata": {},
   "outputs": [
    {
     "name": "stdout",
     "output_type": "stream",
     "text": [
      "Test Accuracy 87.50%\n"
     ]
    }
   ],
   "source": [
    "accuracies = {}\n",
    "\n",
    "lr = LogisticRegression()\n",
    "lr.fit(x_train,y_train)\n",
    "acc = lr.score(x_test,y_test)*100\n",
    "\n",
    "accuracies['Logistic Regression'] = acc\n",
    "print(\"Test Accuracy {:.2f}%\".format(acc))"
   ]
  },
  {
   "cell_type": "code",
   "execution_count": 47,
   "id": "39ef1788-f36b-452e-b5a5-7be92a601a95",
   "metadata": {},
   "outputs": [],
   "source": [
    "# Sử dụng phương pháp \"One vs All\" để thực hiện phân loại nhiều lớp với Logistic Regression\n",
    "\n",
    "def oneVsAll(X, y, num_labels, lambda_):\n",
    "   \n",
    "\n",
    "\n",
    "    # lưu chiều của X\n",
    "    m, n = X.shape\n",
    "    \n",
    "    # khởi tạo ma trận lưu giá trị các theta\n",
    "    all_theta = np.zeros((num_labels, n + 1))\n",
    "\n",
    "    # thêm cột giá trị 1 vào X\n",
    "    X = np.concatenate([np.ones((m, 1)), X], axis=1)\n",
    "    \n",
    "    for c in range (num_labels):\n",
    "    \n",
    "        # khởi tạo giá trị theta ban đầu\n",
    "        initial_theta = np.zeros(n + 1)\n",
    "      \n",
    "        # đặt số iterator max\n",
    "        options = {'maxiter': 50}\n",
    "        # Sử dụng hàm optimize và đặt y==c để tạo một vector có giá trị 0, 1 chỉ\n",
    "        # chỉ ra lớp nào có giá trị 1 (đúng) để tối ưu theta theo lớp đó\n",
    "        res = optimize.minimize(lrCostFunction, \n",
    "                                initial_theta, \n",
    "                                (X, (y == c), lambda_), \n",
    "                                jac=True, \n",
    "                                method='CG',\n",
    "                                options=options) \n",
    "        all_theta[c] = res.x\n",
    "\n",
    " \n",
    "    return all_theta"
   ]
  },
  {
   "cell_type": "code",
   "execution_count": 48,
   "id": "69fcacc5-a024-4f9b-a9d2-f5663021b366",
   "metadata": {},
   "outputs": [],
   "source": [
    "lambda_ = 0.1\n",
    "all_theta = oneVsAll(x_train, y_train, num_labels, lambda_)"
   ]
  },
  {
   "cell_type": "code",
   "execution_count": 49,
   "id": "9d3ce8b7-f3cc-4972-b098-acfc81e3892c",
   "metadata": {},
   "outputs": [],
   "source": [
    "def predictOneVsAll(all_theta, X):\n",
    "    \n",
    "    m = X.shape[0];\n",
    "    num_labels = all_theta.shape[0]\n",
    "\n",
    "    # khởi tạo vector 0 p\n",
    "    p = np.zeros(m)\n",
    "\n",
    "    # Thêm cột giá trị 1 cho X\n",
    "    X = np.concatenate([np.ones((m, 1)), X], axis=1)\n",
    "\n",
    "    \n",
    "    #lưu giá trị tính toán kết quả vào p\n",
    "    \n",
    "    p = X @ all_theta.T\n",
    "    \n",
    "    # lúc này p là 1 array có các giá trị (xác suất chính xác) của các lớp,\n",
    "    # ta cần lấy ra index trong từng dòng của p, index đó\n",
    "    # chính là lớp được dự đoán\n",
    "    \n",
    "    p = np.argmax(p,axis=1) \n",
    "        \n",
    "    return p"
   ]
  },
  {
   "cell_type": "code",
   "execution_count": 50,
   "id": "01ee8fc2-ca5b-4099-89e7-db522128ed8b",
   "metadata": {},
   "outputs": [
    {
     "name": "stdout",
     "output_type": "stream",
     "text": [
      "Training Set Accuracy: 97.50%\n"
     ]
    }
   ],
   "source": [
    "pred = predictOneVsAll(all_theta, x_test)\n",
    "print('Training Set Accuracy: {:.2f}%'.format(np.mean(pred == y_test) * 100))"
   ]
  },
  {
   "cell_type": "code",
   "execution_count": null,
   "id": "33d1b183-037a-46f8-98a4-3a71b2b1f5cb",
   "metadata": {},
   "outputs": [],
   "source": []
  }
 ],
 "metadata": {
  "kernelspec": {
   "display_name": "Python 3",
   "language": "python",
   "name": "python3"
  },
  "language_info": {
   "codemirror_mode": {
    "name": "ipython",
    "version": 3
   },
   "file_extension": ".py",
   "mimetype": "text/x-python",
   "name": "python",
   "nbconvert_exporter": "python",
   "pygments_lexer": "ipython3",
   "version": "3.8.8"
  }
 },
 "nbformat": 4,
 "nbformat_minor": 5
}
