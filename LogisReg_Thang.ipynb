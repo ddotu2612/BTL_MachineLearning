{
 "cells": [
  {
   "cell_type": "markdown",
   "id": "7b4f10e6-e4eb-44b6-9a29-8fb055245491",
   "metadata": {},
   "source": [
    "#                             LOGISTIC REGRESSION"
   ]
  },
  {
   "cell_type": "code",
   "execution_count": 1,
   "id": "2a9a22a7-35f2-4579-bbd6-3b63d1f9dff0",
   "metadata": {},
   "outputs": [],
   "source": [
    "\n",
    "import os\n",
    "\n",
    "import numpy as np\n",
    "import pickle\n",
    "from matplotlib import pyplot\n",
    "import pandas as pd\n",
    "\n",
    "from scipy import optimize\n",
    "\n",
    "from sklearn.linear_model import LogisticRegression\n",
    "from sklearn.model_selection import train_test_split\n",
    "from sklearn.metrics import confusion_matrix, plot_confusion_matrix\n"
   ]
  },
  {
   "cell_type": "code",
   "execution_count": 2,
   "id": "280fa8d0",
   "metadata": {},
   "outputs": [],
   "source": [
    "result_acc_ds1, result_acc_ds2 = [], []"
   ]
  },
  {
   "cell_type": "code",
   "execution_count": 3,
   "id": "60fe011a-d6f5-4575-9131-bb107ad1b67a",
   "metadata": {},
   "outputs": [],
   "source": [
    "df = pd.read_csv(\"./data/heart.csv\")"
   ]
  },
  {
   "cell_type": "code",
   "execution_count": 4,
   "id": "036da357-61ae-4b46-a820-ef733645ba01",
   "metadata": {},
   "outputs": [
    {
     "data": {
      "text/html": [
       "<div>\n",
       "<style scoped>\n",
       "    .dataframe tbody tr th:only-of-type {\n",
       "        vertical-align: middle;\n",
       "    }\n",
       "\n",
       "    .dataframe tbody tr th {\n",
       "        vertical-align: top;\n",
       "    }\n",
       "\n",
       "    .dataframe thead th {\n",
       "        text-align: right;\n",
       "    }\n",
       "</style>\n",
       "<table border=\"1\" class=\"dataframe\">\n",
       "  <thead>\n",
       "    <tr style=\"text-align: right;\">\n",
       "      <th></th>\n",
       "      <th>age</th>\n",
       "      <th>sex</th>\n",
       "      <th>cp</th>\n",
       "      <th>trestbps</th>\n",
       "      <th>chol</th>\n",
       "      <th>fbs</th>\n",
       "      <th>restecg</th>\n",
       "      <th>thalach</th>\n",
       "      <th>exang</th>\n",
       "      <th>oldpeak</th>\n",
       "      <th>slope</th>\n",
       "      <th>ca</th>\n",
       "      <th>thal</th>\n",
       "      <th>target</th>\n",
       "    </tr>\n",
       "  </thead>\n",
       "  <tbody>\n",
       "    <tr>\n",
       "      <th>0</th>\n",
       "      <td>52</td>\n",
       "      <td>1</td>\n",
       "      <td>0</td>\n",
       "      <td>125</td>\n",
       "      <td>212</td>\n",
       "      <td>0</td>\n",
       "      <td>1</td>\n",
       "      <td>168</td>\n",
       "      <td>0</td>\n",
       "      <td>1.0</td>\n",
       "      <td>2</td>\n",
       "      <td>2</td>\n",
       "      <td>3</td>\n",
       "      <td>0</td>\n",
       "    </tr>\n",
       "    <tr>\n",
       "      <th>1</th>\n",
       "      <td>53</td>\n",
       "      <td>1</td>\n",
       "      <td>0</td>\n",
       "      <td>140</td>\n",
       "      <td>203</td>\n",
       "      <td>1</td>\n",
       "      <td>0</td>\n",
       "      <td>155</td>\n",
       "      <td>1</td>\n",
       "      <td>3.1</td>\n",
       "      <td>0</td>\n",
       "      <td>0</td>\n",
       "      <td>3</td>\n",
       "      <td>0</td>\n",
       "    </tr>\n",
       "    <tr>\n",
       "      <th>2</th>\n",
       "      <td>70</td>\n",
       "      <td>1</td>\n",
       "      <td>0</td>\n",
       "      <td>145</td>\n",
       "      <td>174</td>\n",
       "      <td>0</td>\n",
       "      <td>1</td>\n",
       "      <td>125</td>\n",
       "      <td>1</td>\n",
       "      <td>2.6</td>\n",
       "      <td>0</td>\n",
       "      <td>0</td>\n",
       "      <td>3</td>\n",
       "      <td>0</td>\n",
       "    </tr>\n",
       "    <tr>\n",
       "      <th>3</th>\n",
       "      <td>61</td>\n",
       "      <td>1</td>\n",
       "      <td>0</td>\n",
       "      <td>148</td>\n",
       "      <td>203</td>\n",
       "      <td>0</td>\n",
       "      <td>1</td>\n",
       "      <td>161</td>\n",
       "      <td>0</td>\n",
       "      <td>0.0</td>\n",
       "      <td>2</td>\n",
       "      <td>1</td>\n",
       "      <td>3</td>\n",
       "      <td>0</td>\n",
       "    </tr>\n",
       "    <tr>\n",
       "      <th>4</th>\n",
       "      <td>62</td>\n",
       "      <td>0</td>\n",
       "      <td>0</td>\n",
       "      <td>138</td>\n",
       "      <td>294</td>\n",
       "      <td>1</td>\n",
       "      <td>1</td>\n",
       "      <td>106</td>\n",
       "      <td>0</td>\n",
       "      <td>1.9</td>\n",
       "      <td>1</td>\n",
       "      <td>3</td>\n",
       "      <td>2</td>\n",
       "      <td>0</td>\n",
       "    </tr>\n",
       "  </tbody>\n",
       "</table>\n",
       "</div>"
      ],
      "text/plain": [
       "   age  sex  cp  trestbps  chol  fbs  restecg  thalach  exang  oldpeak  slope  \\\n",
       "0   52    1   0       125   212    0        1      168      0      1.0      2   \n",
       "1   53    1   0       140   203    1        0      155      1      3.1      0   \n",
       "2   70    1   0       145   174    0        1      125      1      2.6      0   \n",
       "3   61    1   0       148   203    0        1      161      0      0.0      2   \n",
       "4   62    0   0       138   294    1        1      106      0      1.9      1   \n",
       "\n",
       "   ca  thal  target  \n",
       "0   2     3       0  \n",
       "1   0     3       0  \n",
       "2   0     3       0  \n",
       "3   1     3       0  \n",
       "4   3     2       0  "
      ]
     },
     "execution_count": 4,
     "metadata": {},
     "output_type": "execute_result"
    }
   ],
   "source": [
    "df.head()"
   ]
  },
  {
   "cell_type": "code",
   "execution_count": 5,
   "id": "b01fc862-bd4d-459d-a880-a9eb9cdc5912",
   "metadata": {},
   "outputs": [
    {
     "name": "stdout",
     "output_type": "stream",
     "text": [
      "14\n"
     ]
    }
   ],
   "source": [
    "print(len(df.columns))"
   ]
  },
  {
   "cell_type": "code",
   "execution_count": 6,
   "id": "b23baafd-5499-4c7e-a16f-e02f4a83f2e0",
   "metadata": {},
   "outputs": [],
   "source": [
    "df = pd.read_csv(\"./data/heart.csv\")\n",
    "a = pd.get_dummies(df['cp'], prefix = \"cp\")\n",
    "b = pd.get_dummies(df['thal'], prefix = \"thal\")\n",
    "c = pd.get_dummies(df['slope'], prefix = \"slope\")\n",
    "df = df.drop(columns = ['cp', 'thal', 'slope'])\n",
    "frames = [df, a, b, c]\n",
    "df = pd.concat(frames, axis = 1)\n",
    "y = df.target.values\n",
    "x_data = df.drop(['target'], axis = 1)\n"
   ]
  },
  {
   "cell_type": "code",
   "execution_count": 7,
   "id": "07e9d177-5437-4e66-934d-00cfd74776d5",
   "metadata": {},
   "outputs": [
    {
     "data": {
      "image/png": "[encoded data removed]",
      "text/plain": [
       "<Figure size 432x288 with 1 Axes>"
      ]
     },
     "metadata": {
      "needs_background": "light"
     },
     "output_type": "display_data"
    }
   ],
   "source": [
    "scatter_x1 = np.array(x_data['chol'])\n",
    "scatter_x2 = np.array(x_data['age'])\n",
    "group_val = y\n",
    "cdict = {0: 'blue', 1: 'red'}\n",
    "\n",
    "# fig, ax = pyplot.subplots()\n",
    "# for g in np.unique(group_val):\n",
    "#     ix = np.where(group_val == g)\n",
    "#     ax.scatter(scatter_x1[ix], scatter_x2[ix], c = cdict[g], label = g, s = 100)\n",
    "fig, ax = pyplot.subplots()\n",
    "for g in np.unique(group_val):\n",
    "    ix = np.where(group_val == g)\n",
    "    ax.scatter(scatter_x1[ix], scatter_x2[ix], c = cdict[g], label = g, s = 10)\n",
    "\n",
    "ax.legend() \n",
    "pyplot.show()"
   ]
  },
  {
   "cell_type": "code",
   "execution_count": 8,
   "id": "984c991d-4ea7-4c62-a8fd-0e8ba18576b1",
   "metadata": {},
   "outputs": [
    {
     "data": {
      "text/html": [
       "<div>\n",
       "<style scoped>\n",
       "    .dataframe tbody tr th:only-of-type {\n",
       "        vertical-align: middle;\n",
       "    }\n",
       "\n",
       "    .dataframe tbody tr th {\n",
       "        vertical-align: top;\n",
       "    }\n",
       "\n",
       "    .dataframe thead th {\n",
       "        text-align: right;\n",
       "    }\n",
       "</style>\n",
       "<table border=\"1\" class=\"dataframe\">\n",
       "  <thead>\n",
       "    <tr style=\"text-align: right;\">\n",
       "      <th></th>\n",
       "      <th>age</th>\n",
       "      <th>sex</th>\n",
       "      <th>trestbps</th>\n",
       "      <th>chol</th>\n",
       "      <th>fbs</th>\n",
       "      <th>restecg</th>\n",
       "      <th>thalach</th>\n",
       "      <th>exang</th>\n",
       "      <th>oldpeak</th>\n",
       "      <th>ca</th>\n",
       "      <th>...</th>\n",
       "      <th>cp_1</th>\n",
       "      <th>cp_2</th>\n",
       "      <th>cp_3</th>\n",
       "      <th>thal_0</th>\n",
       "      <th>thal_1</th>\n",
       "      <th>thal_2</th>\n",
       "      <th>thal_3</th>\n",
       "      <th>slope_0</th>\n",
       "      <th>slope_1</th>\n",
       "      <th>slope_2</th>\n",
       "    </tr>\n",
       "  </thead>\n",
       "  <tbody>\n",
       "    <tr>\n",
       "      <th>0</th>\n",
       "      <td>52</td>\n",
       "      <td>1</td>\n",
       "      <td>125</td>\n",
       "      <td>212</td>\n",
       "      <td>0</td>\n",
       "      <td>1</td>\n",
       "      <td>168</td>\n",
       "      <td>0</td>\n",
       "      <td>1.0</td>\n",
       "      <td>2</td>\n",
       "      <td>...</td>\n",
       "      <td>0</td>\n",
       "      <td>0</td>\n",
       "      <td>0</td>\n",
       "      <td>0</td>\n",
       "      <td>0</td>\n",
       "      <td>0</td>\n",
       "      <td>1</td>\n",
       "      <td>0</td>\n",
       "      <td>0</td>\n",
       "      <td>1</td>\n",
       "    </tr>\n",
       "    <tr>\n",
       "      <th>1</th>\n",
       "      <td>53</td>\n",
       "      <td>1</td>\n",
       "      <td>140</td>\n",
       "      <td>203</td>\n",
       "      <td>1</td>\n",
       "      <td>0</td>\n",
       "      <td>155</td>\n",
       "      <td>1</td>\n",
       "      <td>3.1</td>\n",
       "      <td>0</td>\n",
       "      <td>...</td>\n",
       "      <td>0</td>\n",
       "      <td>0</td>\n",
       "      <td>0</td>\n",
       "      <td>0</td>\n",
       "      <td>0</td>\n",
       "      <td>0</td>\n",
       "      <td>1</td>\n",
       "      <td>1</td>\n",
       "      <td>0</td>\n",
       "      <td>0</td>\n",
       "    </tr>\n",
       "    <tr>\n",
       "      <th>2</th>\n",
       "      <td>70</td>\n",
       "      <td>1</td>\n",
       "      <td>145</td>\n",
       "      <td>174</td>\n",
       "      <td>0</td>\n",
       "      <td>1</td>\n",
       "      <td>125</td>\n",
       "      <td>1</td>\n",
       "      <td>2.6</td>\n",
       "      <td>0</td>\n",
       "      <td>...</td>\n",
       "      <td>0</td>\n",
       "      <td>0</td>\n",
       "      <td>0</td>\n",
       "      <td>0</td>\n",
       "      <td>0</td>\n",
       "      <td>0</td>\n",
       "      <td>1</td>\n",
       "      <td>1</td>\n",
       "      <td>0</td>\n",
       "      <td>0</td>\n",
       "    </tr>\n",
       "    <tr>\n",
       "      <th>3</th>\n",
       "      <td>61</td>\n",
       "      <td>1</td>\n",
       "      <td>148</td>\n",
       "      <td>203</td>\n",
       "      <td>0</td>\n",
       "      <td>1</td>\n",
       "      <td>161</td>\n",
       "      <td>0</td>\n",
       "      <td>0.0</td>\n",
       "      <td>1</td>\n",
       "      <td>...</td>\n",
       "      <td>0</td>\n",
       "      <td>0</td>\n",
       "      <td>0</td>\n",
       "      <td>0</td>\n",
       "      <td>0</td>\n",
       "      <td>0</td>\n",
       "      <td>1</td>\n",
       "      <td>0</td>\n",
       "      <td>0</td>\n",
       "      <td>1</td>\n",
       "    </tr>\n",
       "    <tr>\n",
       "      <th>4</th>\n",
       "      <td>62</td>\n",
       "      <td>0</td>\n",
       "      <td>138</td>\n",
       "      <td>294</td>\n",
       "      <td>1</td>\n",
       "      <td>1</td>\n",
       "      <td>106</td>\n",
       "      <td>0</td>\n",
       "      <td>1.9</td>\n",
       "      <td>3</td>\n",
       "      <td>...</td>\n",
       "      <td>0</td>\n",
       "      <td>0</td>\n",
       "      <td>0</td>\n",
       "      <td>0</td>\n",
       "      <td>0</td>\n",
       "      <td>1</td>\n",
       "      <td>0</td>\n",
       "      <td>0</td>\n",
       "      <td>1</td>\n",
       "      <td>0</td>\n",
       "    </tr>\n",
       "  </tbody>\n",
       "</table>\n",
       "<p>5 rows × 22 columns</p>\n",
       "</div>"
      ],
      "text/plain": [
       "   age  sex  trestbps  chol  fbs  restecg  thalach  exang  oldpeak  ca  ...  \\\n",
       "0   52    1       125   212    0        1      168      0      1.0   2  ...   \n",
       "1   53    1       140   203    1        0      155      1      3.1   0  ...   \n",
       "2   70    1       145   174    0        1      125      1      2.6   0  ...   \n",
       "3   61    1       148   203    0        1      161      0      0.0   1  ...   \n",
       "4   62    0       138   294    1        1      106      0      1.9   3  ...   \n",
       "\n",
       "   cp_1  cp_2  cp_3  thal_0  thal_1  thal_2  thal_3  slope_0  slope_1  slope_2  \n",
       "0     0     0     0       0       0       0       1        0        0        1  \n",
       "1     0     0     0       0       0       0       1        1        0        0  \n",
       "2     0     0     0       0       0       0       1        1        0        0  \n",
       "3     0     0     0       0       0       0       1        0        0        1  \n",
       "4     0     0     0       0       0       1       0        0        1        0  \n",
       "\n",
       "[5 rows x 22 columns]"
      ]
     },
     "execution_count": 8,
     "metadata": {},
     "output_type": "execute_result"
    }
   ],
   "source": [
    "df.head()"
   ]
  },
  {
   "cell_type": "code",
   "execution_count": 9,
   "id": "8e35de6d-6934-4a5e-9f03-d54aeefc80b8",
   "metadata": {},
   "outputs": [],
   "source": [
    "# Normalize\n",
    "x = (x_data - np.min(x_data)) / (np.max(x_data) - np.min(x_data)).values"
   ]
  },
  {
   "cell_type": "code",
   "execution_count": 10,
   "id": "fed176af-6abc-4aae-884e-f851e2eb9122",
   "metadata": {},
   "outputs": [],
   "source": [
    "x_train, x_test, y_train, y_test = train_test_split(x, y,test_size = 0.2,random_state=0)"
   ]
  },
  {
   "cell_type": "code",
   "execution_count": 11,
   "id": "4404f5d9-9850-4d47-b900-513f7455a58d",
   "metadata": {},
   "outputs": [
    {
     "name": "stdout",
     "output_type": "stream",
     "text": [
      "Test Accuracy 85.85%\n"
     ]
    }
   ],
   "source": [
    "max_accuracy = []\n",
    "accuracies = {}\n",
    "\n",
    "lr = LogisticRegression()\n",
    "lr.fit(x_train,y_train)\n",
    "acc = lr.score(x_test,y_test)*100\n",
    "\n",
    "max_accuracy.append(acc)\n",
    "result_acc_ds1.append(lr.score(x_test,y_test))\n",
    "\n",
    "accuracies['Logistic Regression'] = acc\n",
    "print(\"Test Accuracy {:.2f}%\".format(acc))"
   ]
  },
  {
   "cell_type": "code",
   "execution_count": 12,
   "id": "ffe33b36-6a4e-488a-8c98-f211fdb8cce8",
   "metadata": {},
   "outputs": [
    {
     "data": {
      "image/png": "[encoded data removed]",
      "text/plain": [
       "<Figure size 432x288 with 2 Axes>"
      ]
     },
     "metadata": {
      "needs_background": "light"
     },
     "output_type": "display_data"
    },
    {
     "data": {
      "text/plain": [
       "<Figure size 864x864 with 0 Axes>"
      ]
     },
     "metadata": {},
     "output_type": "display_data"
    }
   ],
   "source": [
    "plot_confusion_matrix(lr, x_test, y_test, cmap=pyplot.cm.Blues)  \n",
    "pyplot.figure(figsize = (12, 12))\n",
    "pyplot.show()"
   ]
  },
  {
   "cell_type": "code",
   "execution_count": 13,
   "id": "bcadaded-9607-461e-8ea1-2caaca06c87c",
   "metadata": {},
   "outputs": [
    {
     "name": "stdout",
     "output_type": "stream",
     "text": [
      "              precision    recall  f1-score   support\n",
      "\n",
      "           0       0.89      0.81      0.84        98\n",
      "           1       0.84      0.91      0.87       107\n",
      "\n",
      "    accuracy                           0.86       205\n",
      "   macro avg       0.86      0.86      0.86       205\n",
      "weighted avg       0.86      0.86      0.86       205\n",
      "\n"
     ]
    }
   ],
   "source": [
    "from sklearn.metrics import classification_report\n",
    "y_pred = lr.predict(x_test)\n",
    "print(classification_report(y_test, y_pred))"
   ]
  },
  {
   "cell_type": "code",
   "execution_count": 14,
   "id": "e3725cb9-3ab5-4e5c-99e6-7e2e90bc6f13",
   "metadata": {},
   "outputs": [
    {
     "name": "stdout",
     "output_type": "stream",
     "text": [
      "Tỉ lệ dự đoán đúng người bị bệnh là  0.9065420560747663\n",
      "Tỉ lệ dự đoán đúng người không bị bệnh là 0.8061224489795918\n"
     ]
    }
   ],
   "source": [
    "from sklearn.metrics import precision_score, recall_score\n",
    "recall_s = recall_score(y_test, lr.predict(x_test), average=None)\n",
    "print('Tỉ lệ dự đoán đúng người bị bệnh là ', recall_s[1])\n",
    "print('Tỉ lệ dự đoán đúng người không bị bệnh là', recall_s[0])"
   ]
  },
  {
   "cell_type": "markdown",
   "id": "7f179e8d-0e55-41d9-b62e-25809d1c0ed9",
   "metadata": {},
   "source": [
    "### Hàm Sigmoid\n",
    "Hàm tính toán dự đoán cho logistic regression:\n",
    "\n",
    "$$ h_\\theta(x) = g(\\theta^T x)$$\n",
    "\n",
    "Hàm $g$ là hàm sigmoid, được định nghĩa: \n",
    "\n",
    "$$g(z) = \\frac{1}{1+e^{-z}}$$\n",
    "\n"
   ]
  },
  {
   "cell_type": "code",
   "execution_count": 15,
   "id": "388d249d-593a-417f-a2fd-dbc4aacacb37",
   "metadata": {},
   "outputs": [],
   "source": [
    "def sigmoid(z):\n",
    "\n",
    "    z = np.array(z)\n",
    "    \n",
    "    g = np.zeros(z.shape)\n",
    "\n",
    "    import math\n",
    "    g = 1 / (1 + math.e**(-z))\n",
    "    \n",
    "    return g"
   ]
  },
  {
   "attachments": {
    "ade96ab1-b19c-40e1-bbe1-fbb1f2edc830.png": {
     "image/png": "[encoded data removed]"
    },
    "b8aa3174-3da0-4db7-bf35-5a4bcc4b4be5.png": {
     "image/png": "[encoded data removed]"
    }
   },
   "cell_type": "markdown",
   "id": "05d9648a-bab5-47c0-9654-33978c0e7b2f",
   "metadata": {},
   "source": [
    "### Logistic Regression\n",
    "\n",
    "Hàm lỗi\n",
    "\n",
    "![image.png](attachment:ade96ab1-b19c-40e1-bbe1-fbb1f2edc830.png)\n",
    "\n",
    "Hàm tính toán Gradient $\\theta_j$ \n",
    "\n",
    "![image.png](attachment:b8aa3174-3da0-4db7-bf35-5a4bcc4b4be5.png)\n",
    "\n",
    "\n"
   ]
  },
  {
   "cell_type": "code",
   "execution_count": 16,
   "id": "a686af79-728a-4147-9bb9-21ee36485b4b",
   "metadata": {},
   "outputs": [],
   "source": [
    "# lưu chiều ma trận train model\n",
    "m, n = x_train.shape\n",
    "\n",
    "# Thêm một cột giá trị bias 1\n",
    "x_train = np.concatenate([np.ones((m, 1)), x_train], axis=1)"
   ]
  },
  {
   "cell_type": "code",
   "execution_count": 17,
   "id": "c9a0e0c0-71c8-468b-a604-44a6d940d56f",
   "metadata": {},
   "outputs": [],
   "source": [
    "def costFunction(theta, X, y):\n",
    "\n",
    "    # Khởi tạo một số giá trị\n",
    "    m = y.size  # Số lượng mẫu\n",
    "\n",
    "    J = 0\n",
    "    grad = np.zeros(theta.shape)\n",
    "\n",
    "    \n",
    "    ytp = np.transpose(y)\n",
    "    ttp = np.transpose(theta)\n",
    "    uni = (np.ones(y.shape))\n",
    "    m = np.size(X,0)\n",
    "    n = np.size(X,1)\n",
    "    \n",
    "    for i in range(m):\n",
    "        J += -1/m *  (y[i] * np.log(sigmoid(np.dot(ttp,X[i]))) + (1-y[i]) * np.log(1 - sigmoid(np.dot( ttp, X[i]))))\n",
    "       \n",
    "    for i in range(n):\n",
    "        tgrad = 0\n",
    "        for j in range(m):\n",
    "            tgrad += ( sigmoid(np.dot(ttp, X[j])) - y[j] ) * X[j,i]\n",
    "        grad[i] = 1/m * tgrad\n",
    "\n",
    "    return J, grad"
   ]
  },
  {
   "cell_type": "markdown",
   "id": "b8869628-95ed-41c5-92c1-6f75e1cf4bb7",
   "metadata": {},
   "source": [
    "#### Lựa chọn parameters với `scipy.optimize`\n",
    "\n",
    "Đối với Logistic Regression ta cần tối ưu (minimize) $J(\\theta)$ với parameter là $\\theta$.\n",
    "Sử dụng `optimize.minimize` để tìm ra parameters $\\theta$ thích hợp nhất cho Hàm Lỗi (Cost function) với một dataset cho trước. Truyền vào hàm `optimize.minimize` Các tham số:\n",
    "- `costFunction`: Hàm lỗi được định nghĩa với tham số $\\theta$, tính toán \"cost\" của logistic regression theo $\\theta$ với dataset cho trước (X, y). Chỉ truyền vào tên hàm mà không truyền vào biến. Mục đích là tìm được biến số $\\theta$ phù hợp, không phải tính toán hàm.\n",
    "- `initial_theta`: Theta truyền vào ban đầu, chỉ mang ý nghĩa định nghĩa theta.\n",
    "- `(X, y)`: Các tham số bổ sung để tính toán hàm lỗi.\n",
    "- `jac`:  Xác định liệu hàm truyền vào cần minimize (costFunction) có trả về Ma trận Jacobi (gradient) kèm theo giá trị hàm lỗi hay không (True)\n",
    "- `method`: Phương pháp tối ưu được sử dụng (Ví dụ: TNC, CG, L-BFGS-B, ...)\n",
    "- `options`: Các lựa chọn bổ sung thêm cho hàm. Ở đây ta sẽ thiết lập số iterator tối đa cho quá trình minimize\n"
   ]
  },
  {
   "cell_type": "code",
   "execution_count": 18,
   "id": "ee5be52c-462a-46cd-9d67-6a0292a3498e",
   "metadata": {},
   "outputs": [
    {
     "name": "stdout",
     "output_type": "stream",
     "text": [
      "0.3460559894329347\n",
      "[ 1.32045657 -0.24912311 -1.72938897 -1.46705743 -2.37668898  0.12820542\n",
      "  1.2056497   2.4825705  -0.75140105 -3.71381067 -3.0144156  -0.89054036\n",
      "  0.21736006  1.07349729  0.96977012 -1.01496036  1.11241568  0.87416876\n",
      " -0.32979252  0.78610817  0.03010831  0.72052682]\n"
     ]
    }
   ],
   "source": [
    "# khỏi tạo 1 giá trị theta ban đầu \n",
    "initial_theta = np.zeros(n+1)\n",
    "    \n",
    "# cài đặt options số lượng iterator tối đa cho việc optimize\n",
    "\n",
    "options= {'maxiter': 400}\n",
    "#Tối ưu hóa hàm này có thể dùng method TNC\n",
    "res = optimize.minimize(costFunction,\n",
    "                        initial_theta,\n",
    "                        (x_train, y_train),\n",
    "                        jac=True,\n",
    "                        method='TNC',\n",
    "                        options=options)\n",
    "\n",
    "# giá trị fun của hàm optimize trả về là giá trị hàm costFunction \n",
    "cost = res.fun\n",
    "\n",
    "# giá trị x trả về là giá trị theta tối ưu:\n",
    "theta = res.x\n",
    "\n",
    "print(cost)\n",
    "\n",
    "print(theta)\n"
   ]
  },
  {
   "cell_type": "code",
   "execution_count": 19,
   "id": "64ba78b5-0d7f-4408-b033-f45ca785d6fd",
   "metadata": {},
   "outputs": [],
   "source": [
    "m, n = x_test.shape\n",
    "x_test = np.concatenate([np.ones((m, 1)), x_test], axis=1)"
   ]
  },
  {
   "cell_type": "code",
   "execution_count": 20,
   "id": "9df86101-0955-4618-a838-f3fddfb02706",
   "metadata": {},
   "outputs": [],
   "source": [
    "def predict(theta, X):\n",
    "    \n",
    "    m = X.shape[0] #Số lượng mẫu train\n",
    "\n",
    "\n",
    "    p = np.zeros(m) # tạo array lưu kết quả dự đoán\n",
    "\n",
    "\n",
    "    for i in range (m):\n",
    "        tmp = sigmoid(np.dot(np.transpose(theta), X[i]))\n",
    "        \n",
    "        # với giá trị trả về của hàmn sigmoid < 0.5 ta đặt giá trị là 0\n",
    "        if (tmp < 0.5): \n",
    "            p[i] = 0\n",
    "        # với giá trị trả về của hàmn sigmoid >= 0.5 ta đặt giá trị là 0    \n",
    "        else: \n",
    "            p[i] = 1\n",
    "\n",
    "    return p"
   ]
  },
  {
   "cell_type": "code",
   "execution_count": 21,
   "id": "d595947e-6cd9-476b-b33a-7ffaff70536c",
   "metadata": {},
   "outputs": [
    {
     "name": "stdout",
     "output_type": "stream",
     "text": [
      "Train Accuracy: 84.88 %\n"
     ]
    }
   ],
   "source": [
    "# Tính toán giá trị dự đoán\n",
    "p = predict(theta, x_test)\n",
    "print('Train Accuracy: {:.2f} %'.format(np.mean(p == y_test) * 100))\n",
    "\n",
    "max_accuracy.append(np.mean(p == y_test) * 100)"
   ]
  },
  {
   "attachments": {
    "97e1f76f-d709-49e2-b777-c5e2fe5b1be0.png": {
     "image/png": "[encoded data removed]"
    },
    "d057bc80-69e4-406b-bd9b-6798ec061a46.png": {
     "image/png": "[encoded data removed]"
    }
   },
   "cell_type": "markdown",
   "id": "e8ccf3a9-6e83-45ca-801f-0786763eed53",
   "metadata": {},
   "source": [
    "#### Hàm Regularized Regression\n",
    "\n",
    "Hàm lỗi\n",
    "\n",
    "![image.png](attachment:97e1f76f-d709-49e2-b777-c5e2fe5b1be0.png)\n",
    "\n",
    "Hàm tính toán Gradient $\\theta_j$ \n",
    "\n",
    "![image.png](attachment:d057bc80-69e4-406b-bd9b-6798ec061a46.png)\n"
   ]
  },
  {
   "cell_type": "code",
   "execution_count": 22,
   "id": "d08946a4-42d1-4884-a9d8-70ad7e5df131",
   "metadata": {},
   "outputs": [],
   "source": [
    "# hàm Regularize Regression với vòng lặp\n",
    "def costFunctionReg(theta, X, y, lambda_):\n",
    "    \n",
    "    m = y.size \n",
    "    if y.dtype == bool:\n",
    "        y = y.astype(int)\n",
    "    J = 0\n",
    "    grad = np.zeros(theta.shape)   \n",
    "    tmpT = 0\n",
    "    n = 0\n",
    "    n = np.size(theta, 0) \n",
    "    cost, grad = costFunction(theta, X, y)\n",
    "    for i in range (n):\n",
    "        if (i == 0):\n",
    "            continue\n",
    "        tmpT += theta[i] * theta[i]\n",
    "        \n",
    "        grad[i] = grad[i] + lambda_/m * theta[i]\n",
    "    J = cost + lambda_ * tmpT /(2*m)\n",
    "            \n",
    "    return J, grad"
   ]
  },
  {
   "cell_type": "code",
   "execution_count": 23,
   "id": "81e357fa-c652-489e-917a-f13cb17262b6",
   "metadata": {},
   "outputs": [
    {
     "name": "stdout",
     "output_type": "stream",
     "text": [
      "Train Accuracy: 85.85 %\n",
      "              precision    recall  f1-score   support\n",
      "\n",
      "           0       0.89      0.81      0.84        98\n",
      "           1       0.84      0.91      0.87       107\n",
      "\n",
      "    accuracy                           0.86       205\n",
      "   macro avg       0.86      0.86      0.86       205\n",
      "weighted avg       0.86      0.86      0.86       205\n",
      "\n"
     ]
    }
   ],
   "source": [
    "# khởi tạo theta ban đầu\n",
    "initial_theta = np.zeros(x_train.shape[1])\n",
    "\n",
    "#đặt lambda_ = 1 (có thể tùy chỉnh)\n",
    "lambda_ = 1\n",
    "# cài đặt options số lượng iterator tối đa cho việc optimize\n",
    "options= {'maxiter': 400}\n",
    "\n",
    "#Tối ưu hóa hàm này có thể dùng method TNG\n",
    "\n",
    "res = optimize.minimize(costFunctionReg,\n",
    "                        initial_theta,\n",
    "                        (x_train, y_train, lambda_),\n",
    "                        jac=True,\n",
    "                        method='TNC',\n",
    "                        options=options)\n",
    "\n",
    "# giá trị fun của hàm optimize trả về là giá trị hàm costFunction \n",
    "cost = res.fun\n",
    "\n",
    "# giá trị x trả về là giá trị theta tối ưu:\n",
    "theta = res.x\n",
    "\n",
    "\n",
    "\n",
    "p = predict(theta, x_test)\n",
    "\n",
    "print('Train Accuracy: %.2f %%' % (np.mean(p == y_test) * 100))\n",
    "max_accuracy.append(np.mean(p == y_test) * 100)\n",
    "result_acc_ds1.append(np.mean(p == y_test))\n",
    "\n",
    "from sklearn.metrics import classification_report\n",
    "print(classification_report(y_test, p))"
   ]
  },
  {
   "attachments": {
    "185fe690-887b-483b-8d48-5f0ad4e5d8df.png": {
     "image/png": "[encoded data removed]"
    },
    "18a746b9-7a73-4d37-a59a-aa34db197aab.png": {
     "image/png": "[encoded data removed]"
    },
    "50e74c8a-0953-415c-96d9-dc9d8834102b.png": {
     "image/png": "[encoded data removed]"
    },
    "6e5d65c2-7513-4331-b4f7-5599403acc84.png": {
     "image/png": "[encoded data removed]"
    },
    "aca0a123-2a8f-4b67-a17b-f1add1ee46d9.png": {
     "image/png": "[encoded data removed]"
    },
    "baf1df7e-8113-4d4d-96a5-0630daa43122.png": {
     "image/png": "[encoded data removed]"
    },
    "c73517e9-052a-49c7-9591-d5e9dd41558b.png": {
     "image/png": "[encoded data removed]"
    },
    "fac01cf2-4e08-4abf-986b-e684cbd571c9.png": {
     "image/png": "[encoded data removed]"
    }
   },
   "cell_type": "markdown",
   "id": "f597e188-9473-4e19-be58-0dc83c8971f0",
   "metadata": {},
   "source": [
    "#### Vector hóa hàm lỗi\n",
    "\n",
    "\n",
    "\n",
    "\n",
    "![image.png](attachment:6e5d65c2-7513-4331-b4f7-5599403acc84.png)\n",
    "\n",
    "Có dạng của X và theta như sau:\n",
    "\n",
    "![image.png](attachment:50e74c8a-0953-415c-96d9-dc9d8834102b.png)\n",
    "\n",
    "Khi đó ta có:\n",
    "\n",
    "![image.png](attachment:fac01cf2-4e08-4abf-986b-e684cbd571c9.png)\n",
    "\n",
    "Với a, b là các vector thì  $a^Tb = b^Ta$ if $a$ and $b$ . Do đó ta có thể biến đổi phương trình trên thành $\\theta^T x^{(i)}$ .\n",
    "\n",
    "![image.png](attachment:c73517e9-052a-49c7-9591-d5e9dd41558b.png)\n",
    "\n",
    "#### Vector hóa tính toán Gradient\n",
    "\n",
    "Công thức tính toán Gradient cho giá trị ở vị trí $j^{th}$:\n",
    "\n",
    "![image.png](attachment:baf1df7e-8113-4d4d-96a5-0630daa43122.png)\n",
    "\n",
    "Theo dạng ma trận ta có $\\theta_j$:\n",
    "\n",
    "![image.png](attachment:18a746b9-7a73-4d37-a59a-aa34db197aab.png)\n",
    "\n",
    "với\n",
    "\n",
    "![image.png](attachment:aca0a123-2a8f-4b67-a17b-f1add1ee46d9.png)\n",
    "\n",
    "Với $x^{(i)}$ là vector và $h_\\theta\\left(x^{(i)}\\right) - y^{(i)}$  là các giá trị số cụ thể.\n",
    "Để rõ hơn với phép đạo hàm ta sẽ đặt $\\beta_i = (h_\\theta\\left(x^{(m)}\\right) - y^{(m)})$ và thực hiện:\n",
    "\n",
    "![image.png](attachment:185fe690-887b-483b-8d48-5f0ad4e5d8df.png)\n",
    "\n",
    "Với $\\beta_i = \\left( h_\\theta(x^{(i)} - y^{(i)} \\right)$.\n",
    "\n",
    "Dựa trên các biến đổi trên ta có thể thực hiện tính toán mà không sử dụng các vòng lặp"
   ]
  },
  {
   "cell_type": "code",
   "execution_count": 24,
   "id": "afe89567-2e75-4ee0-a5e3-54660324f7c7",
   "metadata": {},
   "outputs": [],
   "source": [
    "# hàm Regularize Regression được vector hóa\n",
    "def lrCostFunction(theta, X, y, lambda_):\n",
    "    m = y.size\n",
    "    # chuyển đổi dạng giá trị đầu ra thành int nếu ban đầu là boolean\n",
    "    if y.dtype == bool:\n",
    "        y = y.astype(int)\n",
    "    J = 0\n",
    "    grad = np.zeros(theta.shape)\n",
    "    \n",
    "     \n",
    "    log_sigmoid = np.log(sigmoid(np.dot(X, theta )))\n",
    "    \n",
    "    log_sigmoid_minus = np.log(1 - sigmoid(np.dot(X, theta)))    \n",
    "    \n",
    "    tmp = - np.multiply(y,log_sigmoid) - np.multiply((1-y), log_sigmoid_minus)\n",
    "    \n",
    "    square_theta = np.square(theta)\n",
    "    \n",
    "    square_theta[0] = 0    \n",
    "\n",
    "    J = (np.sum(tmp) / m) + lambda_  * np.sum(square_theta) / 2 / m\n",
    "    \n",
    "    tmp_theta = theta\n",
    "    \n",
    "    grad = np.dot( sigmoid(np.dot(X, theta )) - y, X) / m\n",
    "    \n",
    "    tmp_theta[0] = 0\n",
    "       \n",
    "    grad += lambda_ * tmp_theta / m\n",
    "\n",
    "   \n",
    "    return J, grad"
   ]
  },
  {
   "cell_type": "code",
   "execution_count": 25,
   "id": "69eae2ff-6c48-42af-afe4-fe4fb0683bb7",
   "metadata": {},
   "outputs": [
    {
     "name": "stdout",
     "output_type": "stream",
     "text": [
      "Train Accuracy: 85.85 %\n",
      "              precision    recall  f1-score   support\n",
      "\n",
      "           0       0.89      0.81      0.84        98\n",
      "           1       0.84      0.91      0.87       107\n",
      "\n",
      "    accuracy                           0.86       205\n",
      "   macro avg       0.86      0.86      0.86       205\n",
      "weighted avg       0.86      0.86      0.86       205\n",
      "\n"
     ]
    }
   ],
   "source": [
    "# khởi tạo theta ban đầu\n",
    "initial_theta = np.zeros(x_train.shape[1])\n",
    "\n",
    "# đặt giá trị ban đầu lamda = 1\n",
    "lambda_ = 1\n",
    "\n",
    "# set options for optimize.minimize\n",
    "options= {'maxiter': 50}\n",
    "\n",
    "#Tối ưu hóa hàm này cần dùng method = 'CG' để đạt kết quả tốt nhất\n",
    "\n",
    "res = optimize.minimize(lrCostFunction,\n",
    "                        initial_theta,\n",
    "                        (x_train, y_train, lambda_),\n",
    "                        jac=True,\n",
    "                        method='CG',\n",
    "                        options=options)\n",
    "\n",
    "cost = res.fun\n",
    "\n",
    "theta = res.x\n",
    "\n",
    "\n",
    "# tính toán độ chính xác\n",
    "p = predict(theta, x_test)\n",
    "\n",
    "print('Train Accuracy: %.2f %%' % (np.mean(p == y_test) * 100))\n",
    "\n",
    "from sklearn.metrics import classification_report\n",
    "print(classification_report(y_test, p))"
   ]
  },
  {
   "cell_type": "code",
   "execution_count": 26,
   "id": "d7c95700",
   "metadata": {},
   "outputs": [
    {
     "data": {
      "image/png": "[encoded data removed]",
      "text/plain": [
       "<Figure size 432x360 with 1 Axes>"
      ]
     },
     "metadata": {
      "needs_background": "light"
     },
     "output_type": "display_data"
    }
   ],
   "source": [
    "from matplotlib import pyplot as plt\n",
    "\n",
    "fig = plt.figure(figsize = (6, 5))\n",
    "labels = [\"Thư viện\", \"Tự code không có regulation\", \"Tự code có regulation\"]\n",
    "# creating the bar plot\n",
    "p1 = plt.bar(labels[0], max_accuracy[0])\n",
    "p2 = plt.bar(labels[1], max_accuracy[1])\n",
    "p3 = plt.bar(labels[2], max_accuracy[2])\n",
    "\n",
    "plt.xlabel(\"Model\")\n",
    "plt.ylabel(\"Accuracy\")\n",
    "plt.title(\"Độ chính xác trên tập dataset 1\")\n",
    "plt.bar_label(p1)\n",
    "plt.bar_label(p2)\n",
    "plt.bar_label(p3)\n",
    "plt.xticks(np.arange(len(labels)), labels)\n",
    "plt.legend(labels, loc =\"lower right\")\n",
    "plt.show()"
   ]
  },
  {
   "cell_type": "markdown",
   "id": "ba902a7d-7a19-47d8-b6b5-d25e324e91eb",
   "metadata": {},
   "source": [
    "# Phân loại nhiều lớp"
   ]
  },
  {
   "cell_type": "code",
   "execution_count": 27,
   "id": "1e01685c-8810-4c47-b956-c9c25c00035f",
   "metadata": {},
   "outputs": [],
   "source": [
    "with open('preprocessing/cirrhosis/X.pkl', 'br') as f:\n",
    "    x = pickle.load(f)\n",
    "\n",
    "with open('preprocessing/cirrhosis/y.pkl', 'rb') as f:\n",
    "    y = pickle.load(f)\n",
    "\n",
    "num_labels = 4\n",
    "max_accuracy = []"
   ]
  },
  {
   "cell_type": "code",
   "execution_count": 28,
   "id": "3e859c54-c03c-4a15-ba3a-2a0b67428df5",
   "metadata": {},
   "outputs": [
    {
     "data": {
      "image/png": "[encoded data removed]",
      "text/plain": [
       "<Figure size 432x288 with 1 Axes>"
      ]
     },
     "metadata": {
      "needs_background": "light"
     },
     "output_type": "display_data"
    }
   ],
   "source": [
    "scatter_x1 = np.array(x_data['chol'])\n",
    "scatter_x2 = np.array(x_data['age'])\n",
    "group_val = y\n",
    "cdict = {0: 'blue', 1: 'green', 2: 'yellow', 3: 'red'}\n",
    "\n",
    "# fig, ax = pyplot.subplots()\n",
    "# for g in np.unique(group_val):\n",
    "#     ix = np.where(group_val == g)\n",
    "#     ax.scatter(scatter_x1[ix], scatter_x2[ix], c = cdict[g], label = g, s = 100)\n",
    "fig, ax = pyplot.subplots()\n",
    "for g in np.unique(group_val):\n",
    "    ix = np.where(group_val == g)\n",
    "    ax.scatter(scatter_x1[ix], scatter_x2[ix], c = cdict[g], label = g, s = 10)\n",
    "\n",
    "ax.legend()\n",
    "pyplot.show()"
   ]
  },
  {
   "cell_type": "code",
   "execution_count": 29,
   "id": "0d56eddb-9dec-4ed8-9bab-c8758fd7636a",
   "metadata": {},
   "outputs": [],
   "source": [
    "# #  Load dữ liệu\n",
    "# num_labels = 5\n",
    "\n",
    "# df = pd.read_csv(\"./data/drug200.csv\")\n",
    "\n",
    "# df = df.replace({'Sex': {'F': 1, 'M': 0}})\n",
    "# df = df.replace({'Drug' : {'DrugA': 0, 'drugA': 0, \n",
    "#                            'DrugB' : 1, 'drugB' : 1,\n",
    "#                            'DrugC' : 2, 'drugC' : 2,\n",
    "#                            'DrugX' : 3, 'drugX' : 3,\n",
    "#                             'DrugY' : 4, 'drugY' : 4}\n",
    "#                 })\n",
    "\n",
    "# df = df.replace({'BP': {'HIGH': 2, 'NORMAL': 1, 'LOW': 0}})\n",
    "# df = df.replace({'Cholesterol': {'HIGH': 1, 'NORMAL': 0}})\n",
    "# y = df.Drug.values\n",
    "# x = df.drop(['Drug'], axis = 1)\n",
    "\n",
    "# df.head()\n"
   ]
  },
  {
   "cell_type": "code",
   "execution_count": 30,
   "id": "adeac7a0-40e7-4b64-b576-e4f6db6407a8",
   "metadata": {},
   "outputs": [],
   "source": [
    "# x = (x - np.min(x)) / (np.max(x) - np.min(x)).values"
   ]
  },
  {
   "cell_type": "code",
   "execution_count": 31,
   "id": "eebd3697-1f55-412c-8479-b6405104cb10",
   "metadata": {},
   "outputs": [],
   "source": [
    "# x_train, x_test, y_train, y_test = train_test_split(x,y,test_size = 0.2,random_state=0)\n",
    "from sklearn.model_selection import train_test_split, StratifiedShuffleSplit\n",
    "from sklearn.metrics import accuracy_score, confusion_matrix, plot_confusion_matrix\n",
    "from sklearn.model_selection import learning_curve\n",
    "# Dataset 2\n",
    "cv = StratifiedShuffleSplit(n_splits=1, test_size=0.2, random_state = 0)\n",
    "train_index, test_index = list(cv.split(x, y))[0]\n",
    "x_train, x_test = x.iloc[train_index], x.iloc[test_index]\n",
    "y_train, y_test = y.iloc[train_index], y.iloc[test_index]"
   ]
  },
  {
   "cell_type": "code",
   "execution_count": 32,
   "id": "869aa747-ebf3-4835-8ded-4c382d830a50",
   "metadata": {},
   "outputs": [
    {
     "name": "stdout",
     "output_type": "stream",
     "text": [
      "Test Accuracy 68.67%\n",
      "              precision    recall  f1-score   support\n",
      "\n",
      "           0       0.50      0.25      0.33         4\n",
      "           1       0.78      0.37      0.50        19\n",
      "           2       0.71      0.71      0.71        31\n",
      "           3       0.66      0.93      0.77        29\n",
      "\n",
      "    accuracy                           0.69        83\n",
      "   macro avg       0.66      0.56      0.58        83\n",
      "weighted avg       0.70      0.69      0.67        83\n",
      "\n"
     ]
    }
   ],
   "source": [
    "accuracies = {}\n",
    "\n",
    "lr = LogisticRegression(max_iter=200)\n",
    "lr.fit(x_train,y_train)\n",
    "acc = lr.score(x_test,y_test)*100\n",
    "\n",
    "accuracies['Logistic Regression'] = acc\n",
    "print(\"Test Accuracy {:.2f}%\".format(acc))\n",
    "max_accuracy.append(acc)\n",
    "result_acc_ds2.append(acc/100)\n",
    "from sklearn.metrics import classification_report\n",
    "y_pred = lr.predict(x_test)\n",
    "print(classification_report(y_test, y_pred))"
   ]
  },
  {
   "cell_type": "code",
   "execution_count": 33,
   "id": "39ef1788-f36b-452e-b5a5-7be92a601a95",
   "metadata": {},
   "outputs": [],
   "source": [
    "# Sử dụng phương pháp \"One vs All\" để thực hiện phân loại nhiều lớp với Logistic Regression\n",
    "\n",
    "def oneVsAll(X, y, num_labels, lambda_):\n",
    "   \n",
    "    # lưu chiều của X\n",
    "    m, n = X.shape\n",
    "    \n",
    "    # khởi tạo ma trận lưu giá trị các theta\n",
    "    all_theta = np.zeros((num_labels, n + 1))\n",
    "\n",
    "    # thêm cột giá trị 1 vào X\n",
    "    X = np.concatenate([np.ones((m, 1)), X], axis=1)\n",
    "    \n",
    "    for c in range (num_labels):\n",
    "    \n",
    "        # khởi tạo giá trị theta ban đầu\n",
    "        initial_theta = np.zeros(n + 1)\n",
    "      \n",
    "        # đặt số iterator max\n",
    "        options = {'maxiter': 10}\n",
    "        # Sử dụng hàm optimize và đặt y==c để tạo một vector có giá trị 0, 1 chỉ\n",
    "        # chỉ ra lớp nào có giá trị 1 (đúng) để tối ưu theta theo lớp đó\n",
    "        res = optimize.minimize(lrCostFunction, \n",
    "                                initial_theta, \n",
    "                                (X, (y == c), lambda_), \n",
    "                                jac=True, \n",
    "                                method='CG',\n",
    "                                options=options) \n",
    "        all_theta[c] = res.x\n",
    "\n",
    "    return all_theta"
   ]
  },
  {
   "cell_type": "code",
   "execution_count": 34,
   "id": "69fcacc5-a024-4f9b-a9d2-f5663021b366",
   "metadata": {},
   "outputs": [],
   "source": [
    "lambda_ = 0.1\n",
    "all_theta = oneVsAll(x_train, y_train, num_labels, lambda_)"
   ]
  },
  {
   "cell_type": "code",
   "execution_count": 35,
   "id": "9d3ce8b7-f3cc-4972-b098-acfc81e3892c",
   "metadata": {},
   "outputs": [],
   "source": [
    "def predictOneVsAll(all_theta, X):\n",
    "    \n",
    "    m = X.shape[0]\n",
    "    num_labels = all_theta.shape[0]\n",
    "\n",
    "    # khởi tạo vector 0 p\n",
    "    p = np.zeros(m)\n",
    "\n",
    "    # Thêm cột giá trị 1 cho X\n",
    "    X = np.concatenate([np.ones((m, 1)), X], axis=1)\n",
    "\n",
    "    #lưu giá trị tính toán kết quả vào p    \n",
    "    p = X @ all_theta.T\n",
    "    \n",
    "    # lúc này p là 1 array có các giá trị (xác suất chính xác) của các lớp,\n",
    "    # ta cần lấy ra index trong từng dòng của p, index đó\n",
    "    # chính là lớp được dự đoán\n",
    "    \n",
    "    p = np.argmax(p,axis=1) \n",
    "        \n",
    "    return p"
   ]
  },
  {
   "cell_type": "code",
   "execution_count": 36,
   "id": "01ee8fc2-ca5b-4099-89e7-db522128ed8b",
   "metadata": {},
   "outputs": [
    {
     "name": "stdout",
     "output_type": "stream",
     "text": [
      "Test Set Accuracy: 66.27%\n",
      "              precision    recall  f1-score   support\n",
      "\n",
      "           0       0.50      0.25      0.33         4\n",
      "           1       0.71      0.26      0.38        19\n",
      "           2       0.68      0.68      0.68        31\n",
      "           3       0.65      0.97      0.78        29\n",
      "\n",
      "    accuracy                           0.66        83\n",
      "   macro avg       0.64      0.54      0.54        83\n",
      "weighted avg       0.67      0.66      0.63        83\n",
      "\n"
     ]
    }
   ],
   "source": [
    "pred = predictOneVsAll(all_theta, x_test)\n",
    "print('Test Set Accuracy: {:.2f}%'.format(np.mean(pred == y_test) * 100))\n",
    "max_accuracy.append(np.mean(pred == y_test) * 100)\n",
    "result_acc_ds2.append(np.mean(pred == y_test))\n",
    "from sklearn.metrics import classification_report\n",
    "print(classification_report(y_test, pred))"
   ]
  },
  {
   "cell_type": "code",
   "execution_count": 37,
   "id": "9826bf1b-3603-4f26-91f7-b09c1190a2b8",
   "metadata": {},
   "outputs": [
    {
     "data": {
      "image/png": "[encoded data removed]",
      "text/plain": [
       "<Figure size 432x360 with 1 Axes>"
      ]
     },
     "metadata": {
      "needs_background": "light"
     },
     "output_type": "display_data"
    }
   ],
   "source": [
    "fig = plt.figure(figsize = (6, 5))\n",
    "labels = [\"Thư viện\", \"Tự code sử dụng \\\"One vs All\\\"\"]\n",
    "# creating the bar plot\n",
    "p1 = plt.bar(labels[0], max_accuracy[0])\n",
    "p2 = plt.bar(labels[1], max_accuracy[1])\n",
    "\n",
    "plt.xlabel(\"Model\")\n",
    "plt.ylabel(\"Accuracy\")\n",
    "plt.title(\"Độ chính xác trên tập dataset 2\")\n",
    "plt.bar_label(p1)\n",
    "plt.bar_label(p2)\n",
    "plt.xticks(np.arange(len(labels)), labels)\n",
    "plt.legend(labels, loc =\"lower right\")\n",
    "plt.show()"
   ]
  },
  {
   "cell_type": "code",
   "execution_count": 38,
   "id": "509653d8",
   "metadata": {},
   "outputs": [
    {
     "name": "stdout",
     "output_type": "stream",
     "text": [
      "[[0.8585365853658536, 0.8585365853658536], [0.6867469879518072, 0.6626506024096386]]\n"
     ]
    }
   ],
   "source": [
    "print([result_acc_ds1, result_acc_ds2])"
   ]
  },
  {
   "cell_type": "code",
   "execution_count": 39,
   "id": "49add8cb",
   "metadata": {},
   "outputs": [
    {
     "name": "stdout",
     "output_type": "stream",
     "text": [
      "[[0.8585365853658536, 0.8585365853658536], [0.6626506024096386, 0.6867469879518072]]\n"
     ]
    }
   ],
   "source": [
    "result_acc_ds1.reverse()\n",
    "result_acc_ds2.reverse()\n",
    "print([result_acc_ds1, result_acc_ds2])"
   ]
  },
  {
   "cell_type": "code",
   "execution_count": 40,
   "id": "c9f6ef9f",
   "metadata": {},
   "outputs": [],
   "source": [
    "import pickle\n",
    "\n",
    "with open('result/logisReg.pkl', 'wb') as f:\n",
    "    pickle.dump([result_acc_ds1, result_acc_ds2], f)"
   ]
  }
 ],
 "metadata": {
  "kernelspec": {
   "display_name": "Python 3",
   "language": "python",
   "name": "python3"
  },
  "language_info": {
   "codemirror_mode": {
    "name": "ipython",
    "version": 3
   },
   "file_extension": ".py",
   "mimetype": "text/x-python",
   "name": "python",
   "nbconvert_exporter": "python",
   "pygments_lexer": "ipython3",
   "version": "3.9.7"
  }
 },
 "nbformat": 4,
 "nbformat_minor": 5
}
