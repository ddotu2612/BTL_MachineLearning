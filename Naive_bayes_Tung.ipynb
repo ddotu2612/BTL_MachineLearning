{
 "cells": [
  {
   "cell_type": "code",
   "execution_count": 105,
   "metadata": {},
   "outputs": [],
   "source": [
    "import csv\n",
    "import random\n",
    "import math\n",
    "import sys\n",
    "import numpy as np\n",
    "import pickle \n",
    "import pandas as pd\n",
    "import matplotlib.pyplot as plt\n",
    "from tqdm import tqdm\n",
    "\n",
    "from sklearn.metrics import accuracy_score, f1_score\n",
    "from sklearn.model_selection import train_test_split, StratifiedShuffleSplit\n",
    "from sklearn.metrics import accuracy_score, confusion_matrix, plot_confusion_matrix\n",
    "from sklearn.model_selection import learning_curve\n",
    "from sklearn.naive_bayes import GaussianNB, BernoulliNB"
   ]
  },
  {
   "cell_type": "code",
   "execution_count": 106,
   "metadata": {},
   "outputs": [],
   "source": [
    "def separate_data(dataset):\n",
    "    separated = {}\n",
    "    for i in range(len(dataset)):\n",
    "        vector = dataset[i]\n",
    "        if (vector[-1] not in separated):\n",
    "            separated[vector[-1]] = []\n",
    "        separated[vector[-1]].append(vector)\n",
    "\n",
    "    return separated"
   ]
  },
  {
   "cell_type": "code",
   "execution_count": 107,
   "metadata": {},
   "outputs": [],
   "source": [
    "def split_data(dataset, splitRatio):\n",
    "    trainSize = int(len(dataset) * splitRatio)\n",
    "    trainSet = []\n",
    "    copy = list(dataset)\n",
    "    while len(trainSet) < trainSize:\n",
    "        index = random.randrange(len(copy))\n",
    "        trainSet.append(copy.pop(index))\n",
    "\n",
    "    return [trainSet, copy]"
   ]
  },
  {
   "cell_type": "code",
   "execution_count": 108,
   "metadata": {},
   "outputs": [],
   "source": [
    "def mean(numbers):\n",
    "    return sum(numbers) / float(len(numbers))"
   ]
  },
  {
   "cell_type": "code",
   "execution_count": 109,
   "metadata": {},
   "outputs": [],
   "source": [
    "def standard_deviation(numbers):\n",
    "    avg = mean(numbers)\n",
    "    variance = sum([pow(x - avg, 2) for x in numbers]) / float(len(numbers) - 1)\n",
    "\n",
    "    return math.sqrt(variance)"
   ]
  },
  {
   "cell_type": "code",
   "execution_count": 110,
   "metadata": {},
   "outputs": [],
   "source": [
    "def summarize(dataset):\n",
    "    summaries = [(mean(attribute), standard_deviation(attribute)) for attribute in zip(*dataset)]\n",
    "    del summaries[-1]\n",
    "\n",
    "    return summaries"
   ]
  },
  {
   "cell_type": "code",
   "execution_count": 111,
   "metadata": {},
   "outputs": [],
   "source": [
    "def summarize_by_class(dataset):\n",
    "    separated = separate_data(dataset)\n",
    "    summaries = {}\n",
    "    for classValue, instances in separated.items():\n",
    "        summaries[classValue] = summarize(instances)\n",
    "\n",
    "    return summaries"
   ]
  },
  {
   "cell_type": "code",
   "execution_count": 112,
   "metadata": {},
   "outputs": [],
   "source": [
    "def calculate_prob(x, mean, stdev):\n",
    "    exponent = math.exp(-(math.pow(x - mean, 2) / (2 * math.pow(stdev, 2))))\n",
    "    return (1 / (math.sqrt(2 * math.pi) * stdev)) * exponent"
   ]
  },
  {
   "cell_type": "code",
   "execution_count": 113,
   "metadata": {},
   "outputs": [],
   "source": [
    "def calculate_class_prob(summaries, inputVector):\n",
    "    probabilities = {}\n",
    "    for classValue, classSummaries in summaries.items():\n",
    "        probabilities[classValue] = 1\n",
    "        for i in range(len(classSummaries)):\n",
    "            mean, stdev = classSummaries[i]\n",
    "            x = inputVector[i]\n",
    "            if stdev != 0:\n",
    "                probabilities[classValue] *= calculate_prob(x, mean, stdev)  \n",
    "    return probabilities"
   ]
  },
  {
   "cell_type": "code",
   "execution_count": 114,
   "metadata": {},
   "outputs": [],
   "source": [
    "def predict(summaries, inputVector):\n",
    "    probabilities = calculate_class_prob(summaries, inputVector)\n",
    "    bestLabel, bestProb = None, -1\n",
    "    for classValue, probability in probabilities.items():\n",
    "        if bestLabel is None or probability > bestProb:\n",
    "            bestProb = probability\n",
    "            bestLabel = classValue\n",
    "    return bestLabel"
   ]
  },
  {
   "cell_type": "code",
   "execution_count": 115,
   "metadata": {},
   "outputs": [],
   "source": [
    "def get_predictions(summaries, testSet):\n",
    "    predictions = []\n",
    "    for i in range(len(testSet)):\n",
    "        result = predict(summaries, testSet[i])\n",
    "        predictions.append(result)\n",
    "    return predictions"
   ]
  },
  {
   "cell_type": "code",
   "execution_count": 116,
   "metadata": {},
   "outputs": [],
   "source": [
    "def get_accuracy(testSet, predictions):\n",
    "    correct = 0\n",
    "    for i in range(len(testSet)):\n",
    "        if testSet[i][-1] == predictions[i]:\n",
    "            correct += 1\n",
    "    return correct / float(len(testSet))\n",
    "\n",
    "def get_data_label(dataset):\n",
    "    data = []\n",
    "    label = []\n",
    "    for x in dataset:\n",
    "        data.append(x[:30])\n",
    "        label.append(x[-1])\n",
    "    return data, label\n"
   ]
  },
  {
   "cell_type": "code",
   "execution_count": 117,
   "metadata": {},
   "outputs": [],
   "source": [
    "result_acc_ds1, result_acc_ds2 = [], []"
   ]
  },
  {
   "cell_type": "code",
   "execution_count": 118,
   "metadata": {},
   "outputs": [],
   "source": [
    "\n",
    "# Đọc dữ liệu bệnh tim, phân loại nhị phân\n",
    "with open('preprocessing/heart/X.pkl', 'rb') as f:\n",
    "    X = pickle.load(f)\n",
    "with open('preprocessing/heart/y.pkl', 'rb') as f:\n",
    "    y = pickle.load(f)\n",
    "\n",
    "dataset = np.concatenate((X.values, y.values.reshape(-1, 1)), axis=1)"
   ]
  },
  {
   "cell_type": "code",
   "execution_count": 119,
   "metadata": {},
   "outputs": [],
   "source": [
    "\n",
    "\n",
    "def plot_line(title, xlabel, X, Y, classes):\n",
    "    plt.figure(figsize=(6, 4))\n",
    "    plt.xlabel(xlabel)\n",
    "    plt.title(title)\n",
    "    plt.grid()\n",
    "    color = ['r', 'b',]\n",
    "    for i in range(len(classes)):\n",
    "        plt.plot(X, Y[i], linestyle='solid', marker='o', color = color[i], label=classes[i])\n",
    "    plt.legend(loc='best')"
   ]
  },
  {
   "cell_type": "code",
   "execution_count": 120,
   "metadata": {},
   "outputs": [],
   "source": [
    "clf = GaussianNB()\n",
    "max_accuracy = []"
   ]
  },
  {
   "cell_type": "code",
   "execution_count": 121,
   "metadata": {},
   "outputs": [
    {
     "name": "stderr",
     "output_type": "stream",
     "text": [
      " 25%|██▌       | 1/4 [00:00<00:01,  2.57it/s]"
     ]
    },
    {
     "name": "stdout",
     "output_type": "stream",
     "text": [
      "0.8292682926829268\n"
     ]
    },
    {
     "name": "stderr",
     "output_type": "stream",
     "text": [
      " 50%|█████     | 2/4 [00:00<00:00,  3.27it/s]"
     ]
    },
    {
     "name": "stdout",
     "output_type": "stream",
     "text": [
      "0.8260162601626017\n"
     ]
    },
    {
     "name": "stderr",
     "output_type": "stream",
     "text": [
      "100%|██████████| 4/4 [00:01<00:00,  3.82it/s]"
     ]
    },
    {
     "name": "stdout",
     "output_type": "stream",
     "text": [
      "0.8536585365853658\n",
      "0.8536585365853658\n"
     ]
    },
    {
     "name": "stderr",
     "output_type": "stream",
     "text": [
      "\n"
     ]
    },
    {
     "data": {
      "image/png": "[encoded data removed]",
      "text/plain": [
       "<Figure size 432x288 with 1 Axes>"
      ]
     },
     "metadata": {
      "needs_background": "light"
     },
     "output_type": "display_data"
    }
   ],
   "source": [
    "title = \"thay đổi Trainingsize với 'Data set 1 - heart disease'\"\n",
    "\n",
    "xlabel = \"Traning size\"\n",
    "X = []\n",
    "Y1, Y2 = [], []\n",
    "\n",
    "for k in tqdm([0.2, 0.4, 0.6, 0.8]):\n",
    "    # Tự code\n",
    "    trainingSet, testSet = split_data(dataset, k);\n",
    "    summaries = summarize_by_class(trainingSet)\n",
    "    predictions = get_predictions(summaries, testSet)\n",
    "    acc = get_accuracy(testSet, predictions)\n",
    "    X.append(str(k))\n",
    "    Y1.append(acc)\n",
    "    \n",
    "    # Thư viện\n",
    "    dataTrain, labelTrain = get_data_label(trainingSet)\n",
    "    dataTest, labelTest = get_data_label(testSet)\n",
    "    clf.fit(dataTrain, labelTrain)\n",
    "    score = clf.score(dataTest, labelTest)\n",
    "    print(score)\n",
    "    Y2.append(score)\n",
    "# Dataset 1\n",
    "plot_line(title, xlabel, X, [Y1,Y2], ['accuracy - tự code', 'accuracy - thư viện' ])\n",
    "plt.show()"
   ]
  },
  {
   "cell_type": "code",
   "execution_count": 122,
   "metadata": {},
   "outputs": [
    {
     "data": {
      "image/png": "[encoded data removed]",
      "text/plain": [
       "<Figure size 432x288 with 2 Axes>"
      ]
     },
     "metadata": {
      "needs_background": "light"
     },
     "output_type": "display_data"
    },
    {
     "data": {
      "text/plain": [
       "<Figure size 864x864 with 0 Axes>"
      ]
     },
     "metadata": {},
     "output_type": "display_data"
    },
    {
     "name": "stdout",
     "output_type": "stream",
     "text": [
      "              precision    recall  f1-score   support\n",
      "\n",
      "         0.0       0.89      0.80      0.85       102\n",
      "         1.0       0.82      0.90      0.86       103\n",
      "\n",
      "    accuracy                           0.85       205\n",
      "   macro avg       0.86      0.85      0.85       205\n",
      "weighted avg       0.86      0.85      0.85       205\n",
      "\n"
     ]
    }
   ],
   "source": [
    "# Tự code\n",
    "\n",
    "k = 0.8\n",
    "trainingSet, testSet = split_data(dataset, k);\n",
    "summaries = summarize_by_class(trainingSet)\n",
    "predictions = get_predictions(summaries, testSet)\n",
    "acc = get_accuracy(testSet, predictions)\n",
    "max_accuracy.append(acc)\n",
    "result_acc_ds1.append(acc)\n",
    "\n",
    "# Thư viện\n",
    "dataTrain, labelTrain = get_data_label(trainingSet)\n",
    "dataTest, labelTest = get_data_label(testSet)\n",
    "clf = GaussianNB()\n",
    "clf.fit(dataTrain, labelTrain)\n",
    "score = clf.score(dataTest, labelTest)\n",
    "max_accuracy.append(score)\n",
    "result_acc_ds1.append(score)\n",
    "\n",
    "# Hiển thị confusion matrix\n",
    "plot_confusion_matrix(clf, dataTest, labelTest, cmap = plt.cm.Blues)  \n",
    "plt.figure(figsize = (12, 12))\n",
    "plt.show()\n",
    "\n",
    "from sklearn.metrics import classification_report\n",
    "predictions = clf.predict(dataTest)\n",
    "print(classification_report(labelTest, predictions))"
   ]
  },
  {
   "cell_type": "code",
   "execution_count": 123,
   "metadata": {},
   "outputs": [
    {
     "data": {
      "image/png": "[encoded data removed]",
      "text/plain": [
       "<Figure size 432x360 with 1 Axes>"
      ]
     },
     "metadata": {
      "needs_background": "light"
     },
     "output_type": "display_data"
    }
   ],
   "source": [
    "fig = plt.figure(figsize = (6, 5))\n",
    "labels = [\"Tự code\", \"Thư viện\"]\n",
    "# creating the bar plot\n",
    "p1 = plt.bar(labels[0], max_accuracy[0])\n",
    "p2 = plt.bar(labels[1], max_accuracy[1])\n",
    "\n",
    "plt.xlabel(\"Model\")\n",
    "plt.ylabel(\"Accuracy\")\n",
    "plt.title(\"Độ chính xác tốt nhất trên tập dữ liệu bệnh tim\")\n",
    "plt.bar_label(p1)\n",
    "plt.bar_label(p2)\n",
    "plt.xticks(np.arange(len(labels)), labels)\n",
    "plt.legend(labels, loc =\"lower right\")\n",
    "plt.show()"
   ]
  },
  {
   "cell_type": "code",
   "execution_count": 124,
   "metadata": {},
   "outputs": [],
   "source": [
    "# dataset 2\n",
    "\n",
    "# Đọc dữ liệu bệnh gan, phân loại nhị phân\n",
    "with open('preprocessing/cirrhosis/X.pkl', 'rb') as f:\n",
    "    X_cir = pickle.load(f)\n",
    "with open('preprocessing/cirrhosis/y.pkl', 'rb') as f:\n",
    "    label_cir = pickle.load(f)\n",
    "\n",
    "dataset_cir = np.concatenate((X_cir.values, label_cir.values.reshape(-1, 1)), axis=1)"
   ]
  },
  {
   "cell_type": "code",
   "execution_count": 125,
   "metadata": {},
   "outputs": [],
   "source": [
    "def get_data_label(dataset):\n",
    "    data = []\n",
    "    label = []\n",
    "    for x in dataset:\n",
    "        data.append(x[:21])\n",
    "        label.append(x[-1])\n",
    "    return data, label"
   ]
  },
  {
   "cell_type": "code",
   "execution_count": 126,
   "metadata": {},
   "outputs": [],
   "source": [
    "max_accuracy_2 = []"
   ]
  },
  {
   "cell_type": "code",
   "execution_count": 127,
   "metadata": {},
   "outputs": [
    {
     "name": "stderr",
     "output_type": "stream",
     "text": [
      "  0%|          | 0/4 [00:00<?, ?it/s]C:\\Users\\dovan\\AppData\\Local\\Temp/ipykernel_8896/181271505.py:3: RuntimeWarning: invalid value encountered in double_scalars\n",
      "  variance = sum([pow(x - avg, 2) for x in numbers]) / float(len(numbers) - 1)\n",
      "100%|██████████| 4/4 [00:00<00:00,  7.11it/s]\n"
     ]
    },
    {
     "data": {
      "image/png": "[encoded data removed]",
      "text/plain": [
       "<Figure size 432x288 with 1 Axes>"
      ]
     },
     "metadata": {
      "needs_background": "light"
     },
     "output_type": "display_data"
    }
   ],
   "source": [
    "title = \"thay đổi Trainingsize với 'Data set 2 - cirrhosis disease'\"\n",
    "xlabel = \"Traning size\"\n",
    "X = []\n",
    "Y1, Y2 = [], []\n",
    "\n",
    "for k in tqdm([0.2, 0.4, 0.6, 0.8]):\n",
    "    # Tự code\n",
    "    trainingSet, testSet = split_data(dataset_cir, k);\n",
    "    summaries = summarize_by_class(trainingSet)\n",
    "    predictions = get_predictions(summaries, testSet)\n",
    "    acc = get_accuracy(testSet, predictions)\n",
    "    X.append(str(k))\n",
    "    Y1.append(acc)\n",
    "    \n",
    "    # Thư viện\n",
    "    X_train, y_train = get_data_label(trainingSet)\n",
    "    X_test, y_test = get_data_label(testSet)\n",
    "    clf = BernoulliNB()\n",
    "    clf.fit(X_train, y_train)\n",
    "    score = clf.score(X_test, y_test)\n",
    "    Y2.append(score)\n",
    "plot_line(title, xlabel, X, [Y1,Y2], ['accuracy - tự code', 'accuracy - thư viện' ])\n",
    "plt.show()"
   ]
  },
  {
   "cell_type": "code",
   "execution_count": 128,
   "metadata": {},
   "outputs": [
    {
     "data": {
      "image/png": "[encoded data removed]",
      "text/plain": [
       "<Figure size 432x288 with 2 Axes>"
      ]
     },
     "metadata": {
      "needs_background": "light"
     },
     "output_type": "display_data"
    },
    {
     "data": {
      "text/plain": [
       "<Figure size 864x864 with 0 Axes>"
      ]
     },
     "metadata": {},
     "output_type": "display_data"
    },
    {
     "name": "stdout",
     "output_type": "stream",
     "text": [
      "              precision    recall  f1-score   support\n",
      "\n",
      "         0.0       0.50      0.25      0.33         4\n",
      "         1.0       0.47      0.57      0.52        14\n",
      "         2.0       0.63      0.71      0.67        31\n",
      "         3.0       0.83      0.71      0.76        34\n",
      "\n",
      "    accuracy                           0.66        83\n",
      "   macro avg       0.61      0.56      0.57        83\n",
      "weighted avg       0.68      0.66      0.66        83\n",
      "\n"
     ]
    }
   ],
   "source": [
    "# Tự code\n",
    "k = 0.8\n",
    "trainingSet, testSet = split_data(dataset_cir, k);\n",
    "summaries = summarize_by_class(trainingSet)\n",
    "predictions = get_predictions(summaries, testSet)\n",
    "accuracy = get_accuracy(testSet, predictions)\n",
    "max_accuracy_2.append(accuracy)\n",
    "result_acc_ds2.append(accuracy)\n",
    "\n",
    "# Thư viện\n",
    "clf = BernoulliNB()\n",
    "dataTrain, labelTrain = get_data_label(trainingSet)\n",
    "dataTest, labelTest = get_data_label(testSet)\n",
    "clf.fit(dataTrain, labelTrain)\n",
    "score = clf.score(dataTest, labelTest)\n",
    "max_accuracy_2.append(score)\n",
    "result_acc_ds2.append(score)\n",
    "\n",
    "# Hiển thị confusion matrix\n",
    "plot_confusion_matrix(clf, dataTest, labelTest, cmap = plt.cm.Blues)  \n",
    "plt.figure(figsize = (12, 12))\n",
    "plt.show()\n",
    "\n",
    "from sklearn.metrics import classification_report\n",
    "predictions = clf.predict(dataTest)\n",
    "print(classification_report(labelTest, predictions))"
   ]
  },
  {
   "cell_type": "code",
   "execution_count": 129,
   "metadata": {},
   "outputs": [
    {
     "data": {
      "image/png": "[encoded data removed]",
      "text/plain": [
       "<Figure size 432x360 with 1 Axes>"
      ]
     },
     "metadata": {
      "needs_background": "light"
     },
     "output_type": "display_data"
    }
   ],
   "source": [
    "fig = plt.figure(figsize = (6, 5))\n",
    "labels = [\"Tự code\", \"Thư viện\"]\n",
    "# creating the bar plot\n",
    "p1 = plt.bar(labels[0], max_accuracy_2[0])\n",
    "p2 = plt.bar(labels[1], max_accuracy_2[1])\n",
    "\n",
    "plt.xlabel(\"Model\")\n",
    "plt.ylabel(\"Accuracy\")\n",
    "plt.title(\"Độ chính xác tốt nhất trên tập dữ liệu bệnh gan\")\n",
    "plt.bar_label(p1)\n",
    "plt.bar_label(p2)\n",
    "plt.xticks(np.arange(len(labels)), labels)\n",
    "plt.legend(labels, loc =\"lower right\")\n",
    "plt.show()"
   ]
  },
  {
   "cell_type": "code",
   "execution_count": 131,
   "metadata": {},
   "outputs": [],
   "source": [
    "import pickle\n",
    "\n",
    "with open('result/Naive.pkl', 'wb') as f:\n",
    "    pickle.dump([result_acc_ds1, result_acc_ds2], f)"
   ]
  }
 ],
 "metadata": {
  "interpreter": {
   "hash": "9c2ccad4bba9d3af6151fc41db08c6c3f524dc6315de31413deff3a4b3c01bdc"
  },
  "kernelspec": {
   "display_name": "Python 3.8.12 64-bit ('course': conda)",
   "language": "python",
   "name": "python3"
  },
  "language_info": {
   "codemirror_mode": {
    "name": "ipython",
    "version": 3
   },
   "file_extension": ".py",
   "mimetype": "text/x-python",
   "name": "python",
   "nbconvert_exporter": "python",
   "pygments_lexer": "ipython3",
   "version": "3.8.12"
  },
  "orig_nbformat": 4
 },
 "nbformat": 4,
 "nbformat_minor": 2
}
