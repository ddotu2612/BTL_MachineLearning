{
 "cells": [
  {
   "cell_type": "code",
   "execution_count": 34,
   "metadata": {},
   "outputs": [],
   "source": [
    "import numpy as np\n",
    "import os\n",
    "import matplotlib.pyplot as plt\n",
    "from tqdm import tqdm\n",
    "\n",
    "from sklearn.metrics import accuracy_score, f1_score\n",
    "from sklearn.model_selection import train_test_split, StratifiedShuffleSplit\n",
    "from sklearn.metrics import accuracy_score, confusion_matrix, plot_confusion_matrix\n",
    "from sklearn.model_selection import learning_curve\n",
    "# KNN Model\n",
    "from sklearn.neighbors import KNeighborsClassifier\n",
    "from collections import Counter"
   ]
  },
  {
   "cell_type": "code",
   "execution_count": 35,
   "metadata": {},
   "outputs": [],
   "source": [
    "result_acc_ds1, result_acc_ds2 = [], []"
   ]
  },
  {
   "cell_type": "code",
   "execution_count": 65,
   "metadata": {},
   "outputs": [
    {
     "name": "stdout",
     "output_type": "stream",
     "text": [
      "So luong du lieu:  1025\n",
      "So luong nhan:  1025\n"
     ]
    },
    {
     "data": {
      "text/plain": [
       "age          float64\n",
       "trestbps     float64\n",
       "chol         float64\n",
       "thalach      float64\n",
       "oldpeak      float64\n",
       "sex_0          uint8\n",
       "sex_1          uint8\n",
       "cp_0           uint8\n",
       "cp_1           uint8\n",
       "cp_2           uint8\n",
       "cp_3           uint8\n",
       "fbs_0          uint8\n",
       "fbs_1          uint8\n",
       "restecg_0      uint8\n",
       "restecg_1      uint8\n",
       "restecg_2      uint8\n",
       "exang_0        uint8\n",
       "exang_1        uint8\n",
       "slope_0        uint8\n",
       "slope_1        uint8\n",
       "slope_2        uint8\n",
       "ca_0           uint8\n",
       "ca_1           uint8\n",
       "ca_2           uint8\n",
       "ca_3           uint8\n",
       "ca_4           uint8\n",
       "thal_0         uint8\n",
       "thal_1         uint8\n",
       "thal_2         uint8\n",
       "thal_3         uint8\n",
       "dtype: object"
      ]
     },
     "execution_count": 65,
     "metadata": {},
     "output_type": "execute_result"
    }
   ],
   "source": [
    "import pickle \n",
    "\n",
    "# dataset 1 bệnh tim\n",
    "with open('preprocessing/heart/X.pkl', 'rb') as f:\n",
    "    X_train_test = pickle.load(f)\n",
    "with open('preprocessing/heart/y.pkl', 'rb') as f:\n",
    "    label = pickle.load(f)\n",
    "\n",
    "print('So luong du lieu: ', len(X_train_test))\n",
    "print('So luong nhan: ', len(label))\n",
    "X_train_test.dtypes"
   ]
  },
  {
   "cell_type": "code",
   "execution_count": 37,
   "metadata": {},
   "outputs": [
    {
     "data": {
      "text/html": [
       "<div>\n",
       "<style scoped>\n",
       "    .dataframe tbody tr th:only-of-type {\n",
       "        vertical-align: middle;\n",
       "    }\n",
       "\n",
       "    .dataframe tbody tr th {\n",
       "        vertical-align: top;\n",
       "    }\n",
       "\n",
       "    .dataframe thead th {\n",
       "        text-align: right;\n",
       "    }\n",
       "</style>\n",
       "<table border=\"1\" class=\"dataframe\">\n",
       "  <thead>\n",
       "    <tr style=\"text-align: right;\">\n",
       "      <th></th>\n",
       "      <th>age</th>\n",
       "      <th>trestbps</th>\n",
       "      <th>chol</th>\n",
       "      <th>thalach</th>\n",
       "      <th>oldpeak</th>\n",
       "      <th>sex_0</th>\n",
       "      <th>sex_1</th>\n",
       "      <th>cp_0</th>\n",
       "      <th>cp_1</th>\n",
       "      <th>cp_2</th>\n",
       "      <th>...</th>\n",
       "      <th>slope_2</th>\n",
       "      <th>ca_0</th>\n",
       "      <th>ca_1</th>\n",
       "      <th>ca_2</th>\n",
       "      <th>ca_3</th>\n",
       "      <th>ca_4</th>\n",
       "      <th>thal_0</th>\n",
       "      <th>thal_1</th>\n",
       "      <th>thal_2</th>\n",
       "      <th>thal_3</th>\n",
       "    </tr>\n",
       "  </thead>\n",
       "  <tbody>\n",
       "    <tr>\n",
       "      <th>339</th>\n",
       "      <td>0.613800</td>\n",
       "      <td>-0.092055</td>\n",
       "      <td>0.135745</td>\n",
       "      <td>-0.222407</td>\n",
       "      <td>0.279688</td>\n",
       "      <td>0</td>\n",
       "      <td>1</td>\n",
       "      <td>1</td>\n",
       "      <td>0</td>\n",
       "      <td>0</td>\n",
       "      <td>...</td>\n",
       "      <td>1</td>\n",
       "      <td>0</td>\n",
       "      <td>1</td>\n",
       "      <td>0</td>\n",
       "      <td>0</td>\n",
       "      <td>0</td>\n",
       "      <td>0</td>\n",
       "      <td>0</td>\n",
       "      <td>0</td>\n",
       "      <td>1</td>\n",
       "    </tr>\n",
       "    <tr>\n",
       "      <th>469</th>\n",
       "      <td>1.385757</td>\n",
       "      <td>1.621431</td>\n",
       "      <td>0.775685</td>\n",
       "      <td>-1.787999</td>\n",
       "      <td>0.364832</td>\n",
       "      <td>0</td>\n",
       "      <td>1</td>\n",
       "      <td>1</td>\n",
       "      <td>0</td>\n",
       "      <td>0</td>\n",
       "      <td>...</td>\n",
       "      <td>0</td>\n",
       "      <td>0</td>\n",
       "      <td>0</td>\n",
       "      <td>0</td>\n",
       "      <td>1</td>\n",
       "      <td>0</td>\n",
       "      <td>0</td>\n",
       "      <td>0</td>\n",
       "      <td>1</td>\n",
       "      <td>0</td>\n",
       "    </tr>\n",
       "    <tr>\n",
       "      <th>472</th>\n",
       "      <td>0.393241</td>\n",
       "      <td>-0.092055</td>\n",
       "      <td>-0.950214</td>\n",
       "      <td>-0.787760</td>\n",
       "      <td>-0.401465</td>\n",
       "      <td>1</td>\n",
       "      <td>0</td>\n",
       "      <td>1</td>\n",
       "      <td>0</td>\n",
       "      <td>0</td>\n",
       "      <td>...</td>\n",
       "      <td>0</td>\n",
       "      <td>1</td>\n",
       "      <td>0</td>\n",
       "      <td>0</td>\n",
       "      <td>0</td>\n",
       "      <td>0</td>\n",
       "      <td>0</td>\n",
       "      <td>0</td>\n",
       "      <td>1</td>\n",
       "      <td>0</td>\n",
       "    </tr>\n",
       "    <tr>\n",
       "      <th>307</th>\n",
       "      <td>-1.150673</td>\n",
       "      <td>-0.663216</td>\n",
       "      <td>-0.504195</td>\n",
       "      <td>0.908298</td>\n",
       "      <td>-0.912329</td>\n",
       "      <td>0</td>\n",
       "      <td>1</td>\n",
       "      <td>0</td>\n",
       "      <td>1</td>\n",
       "      <td>0</td>\n",
       "      <td>...</td>\n",
       "      <td>1</td>\n",
       "      <td>1</td>\n",
       "      <td>0</td>\n",
       "      <td>0</td>\n",
       "      <td>0</td>\n",
       "      <td>0</td>\n",
       "      <td>0</td>\n",
       "      <td>0</td>\n",
       "      <td>1</td>\n",
       "      <td>0</td>\n",
       "    </tr>\n",
       "    <tr>\n",
       "      <th>783</th>\n",
       "      <td>0.172682</td>\n",
       "      <td>-0.663216</td>\n",
       "      <td>-0.116353</td>\n",
       "      <td>0.864809</td>\n",
       "      <td>-0.912329</td>\n",
       "      <td>0</td>\n",
       "      <td>1</td>\n",
       "      <td>0</td>\n",
       "      <td>1</td>\n",
       "      <td>0</td>\n",
       "      <td>...</td>\n",
       "      <td>0</td>\n",
       "      <td>1</td>\n",
       "      <td>0</td>\n",
       "      <td>0</td>\n",
       "      <td>0</td>\n",
       "      <td>0</td>\n",
       "      <td>0</td>\n",
       "      <td>0</td>\n",
       "      <td>1</td>\n",
       "      <td>0</td>\n",
       "    </tr>\n",
       "    <tr>\n",
       "      <th>...</th>\n",
       "      <td>...</td>\n",
       "      <td>...</td>\n",
       "      <td>...</td>\n",
       "      <td>...</td>\n",
       "      <td>...</td>\n",
       "      <td>...</td>\n",
       "      <td>...</td>\n",
       "      <td>...</td>\n",
       "      <td>...</td>\n",
       "      <td>...</td>\n",
       "      <td>...</td>\n",
       "      <td>...</td>\n",
       "      <td>...</td>\n",
       "      <td>...</td>\n",
       "      <td>...</td>\n",
       "      <td>...</td>\n",
       "      <td>...</td>\n",
       "      <td>...</td>\n",
       "      <td>...</td>\n",
       "      <td>...</td>\n",
       "      <td>...</td>\n",
       "    </tr>\n",
       "    <tr>\n",
       "      <th>47</th>\n",
       "      <td>1.275477</td>\n",
       "      <td>2.649522</td>\n",
       "      <td>-0.349058</td>\n",
       "      <td>0.690855</td>\n",
       "      <td>-0.060888</td>\n",
       "      <td>1</td>\n",
       "      <td>0</td>\n",
       "      <td>1</td>\n",
       "      <td>0</td>\n",
       "      <td>0</td>\n",
       "      <td>...</td>\n",
       "      <td>0</td>\n",
       "      <td>0</td>\n",
       "      <td>0</td>\n",
       "      <td>1</td>\n",
       "      <td>0</td>\n",
       "      <td>0</td>\n",
       "      <td>0</td>\n",
       "      <td>0</td>\n",
       "      <td>0</td>\n",
       "      <td>1</td>\n",
       "    </tr>\n",
       "    <tr>\n",
       "      <th>108</th>\n",
       "      <td>-1.591791</td>\n",
       "      <td>1.164502</td>\n",
       "      <td>-0.446019</td>\n",
       "      <td>1.386673</td>\n",
       "      <td>-0.912329</td>\n",
       "      <td>0</td>\n",
       "      <td>1</td>\n",
       "      <td>1</td>\n",
       "      <td>0</td>\n",
       "      <td>0</td>\n",
       "      <td>...</td>\n",
       "      <td>1</td>\n",
       "      <td>1</td>\n",
       "      <td>0</td>\n",
       "      <td>0</td>\n",
       "      <td>0</td>\n",
       "      <td>0</td>\n",
       "      <td>0</td>\n",
       "      <td>0</td>\n",
       "      <td>0</td>\n",
       "      <td>1</td>\n",
       "    </tr>\n",
       "    <tr>\n",
       "      <th>38</th>\n",
       "      <td>1.054918</td>\n",
       "      <td>-0.206287</td>\n",
       "      <td>0.329666</td>\n",
       "      <td>-1.918465</td>\n",
       "      <td>-0.742041</td>\n",
       "      <td>0</td>\n",
       "      <td>1</td>\n",
       "      <td>1</td>\n",
       "      <td>0</td>\n",
       "      <td>0</td>\n",
       "      <td>...</td>\n",
       "      <td>0</td>\n",
       "      <td>0</td>\n",
       "      <td>1</td>\n",
       "      <td>0</td>\n",
       "      <td>0</td>\n",
       "      <td>0</td>\n",
       "      <td>0</td>\n",
       "      <td>0</td>\n",
       "      <td>0</td>\n",
       "      <td>1</td>\n",
       "    </tr>\n",
       "    <tr>\n",
       "      <th>660</th>\n",
       "      <td>0.724079</td>\n",
       "      <td>0.364875</td>\n",
       "      <td>-1.551370</td>\n",
       "      <td>-1.048692</td>\n",
       "      <td>2.152857</td>\n",
       "      <td>0</td>\n",
       "      <td>1</td>\n",
       "      <td>1</td>\n",
       "      <td>0</td>\n",
       "      <td>0</td>\n",
       "      <td>...</td>\n",
       "      <td>0</td>\n",
       "      <td>0</td>\n",
       "      <td>1</td>\n",
       "      <td>0</td>\n",
       "      <td>0</td>\n",
       "      <td>0</td>\n",
       "      <td>0</td>\n",
       "      <td>0</td>\n",
       "      <td>1</td>\n",
       "      <td>0</td>\n",
       "    </tr>\n",
       "    <tr>\n",
       "      <th>363</th>\n",
       "      <td>-0.158157</td>\n",
       "      <td>-0.092055</td>\n",
       "      <td>0.000000</td>\n",
       "      <td>1.038764</td>\n",
       "      <td>-0.912329</td>\n",
       "      <td>0</td>\n",
       "      <td>1</td>\n",
       "      <td>0</td>\n",
       "      <td>0</td>\n",
       "      <td>1</td>\n",
       "      <td>...</td>\n",
       "      <td>1</td>\n",
       "      <td>0</td>\n",
       "      <td>0</td>\n",
       "      <td>0</td>\n",
       "      <td>1</td>\n",
       "      <td>0</td>\n",
       "      <td>0</td>\n",
       "      <td>0</td>\n",
       "      <td>1</td>\n",
       "      <td>0</td>\n",
       "    </tr>\n",
       "  </tbody>\n",
       "</table>\n",
       "<p>871 rows × 30 columns</p>\n",
       "</div>"
      ],
      "text/plain": [
       "          age  trestbps      chol   thalach   oldpeak  sex_0  sex_1  cp_0  \\\n",
       "339  0.613800 -0.092055  0.135745 -0.222407  0.279688      0      1     1   \n",
       "469  1.385757  1.621431  0.775685 -1.787999  0.364832      0      1     1   \n",
       "472  0.393241 -0.092055 -0.950214 -0.787760 -0.401465      1      0     1   \n",
       "307 -1.150673 -0.663216 -0.504195  0.908298 -0.912329      0      1     0   \n",
       "783  0.172682 -0.663216 -0.116353  0.864809 -0.912329      0      1     0   \n",
       "..        ...       ...       ...       ...       ...    ...    ...   ...   \n",
       "47   1.275477  2.649522 -0.349058  0.690855 -0.060888      1      0     1   \n",
       "108 -1.591791  1.164502 -0.446019  1.386673 -0.912329      0      1     1   \n",
       "38   1.054918 -0.206287  0.329666 -1.918465 -0.742041      0      1     1   \n",
       "660  0.724079  0.364875 -1.551370 -1.048692  2.152857      0      1     1   \n",
       "363 -0.158157 -0.092055  0.000000  1.038764 -0.912329      0      1     0   \n",
       "\n",
       "     cp_1  cp_2  ...  slope_2  ca_0  ca_1  ca_2  ca_3  ca_4  thal_0  thal_1  \\\n",
       "339     0     0  ...        1     0     1     0     0     0       0       0   \n",
       "469     0     0  ...        0     0     0     0     1     0       0       0   \n",
       "472     0     0  ...        0     1     0     0     0     0       0       0   \n",
       "307     1     0  ...        1     1     0     0     0     0       0       0   \n",
       "783     1     0  ...        0     1     0     0     0     0       0       0   \n",
       "..    ...   ...  ...      ...   ...   ...   ...   ...   ...     ...     ...   \n",
       "47      0     0  ...        0     0     0     1     0     0       0       0   \n",
       "108     0     0  ...        1     1     0     0     0     0       0       0   \n",
       "38      0     0  ...        0     0     1     0     0     0       0       0   \n",
       "660     0     0  ...        0     0     1     0     0     0       0       0   \n",
       "363     0     1  ...        1     0     0     0     1     0       0       0   \n",
       "\n",
       "     thal_2  thal_3  \n",
       "339       0       1  \n",
       "469       1       0  \n",
       "472       1       0  \n",
       "307       1       0  \n",
       "783       1       0  \n",
       "..      ...     ...  \n",
       "47        0       1  \n",
       "108       0       1  \n",
       "38        0       1  \n",
       "660       1       0  \n",
       "363       1       0  \n",
       "\n",
       "[871 rows x 30 columns]"
      ]
     },
     "execution_count": 37,
     "metadata": {},
     "output_type": "execute_result"
    }
   ],
   "source": [
    "# Dataset 1 bệnh tim\n",
    "X_train, X_test, y_train, y_test = train_test_split(X_train_test, label, test_size=0.15, stratify=label, random_state=10)\n",
    "X_train"
   ]
  },
  {
   "cell_type": "code",
   "execution_count": 38,
   "metadata": {},
   "outputs": [],
   "source": [
    "# y_test.value_counts().plot(kind=\"pie\")"
   ]
  },
  {
   "cell_type": "code",
   "execution_count": 39,
   "metadata": {},
   "outputs": [],
   "source": [
    "class KNN:\n",
    "    def __init__(self, top_k=5):\n",
    "        self.top_k = top_k\n",
    "        self.X_train = None\n",
    "        self.y_train = None\n",
    "\n",
    "    def fit(self, X, y):\n",
    "        self.X_train = X\n",
    "        self.y_train = y\n",
    "\n",
    "    @staticmethod\n",
    "    def distance(x1, x2):\n",
    "        return np.linalg.norm(x1 - x2)\n",
    "\n",
    "    def predict_batch(self, X):\n",
    "        y_pred = [self.predict(x) for x in X]\n",
    "        return y_pred\n",
    "\n",
    "    def predict(self, x):\n",
    "        # Compute distance to all points in train set\n",
    "        distances = [self.distance(x, x_train) for x_train in self.X_train]\n",
    "        # Sort the distance with index\n",
    "        top_idx = np.argsort(distances)[:self.top_k]\n",
    "        # Get top K label\n",
    "        k_nearests = self.y_train[top_idx]\n",
    "        # Predict the label\n",
    "        label = Counter(k_nearests).most_common(1)[0][0]\n",
    "        \n",
    "        return label"
   ]
  },
  {
   "cell_type": "code",
   "execution_count": 40,
   "metadata": {},
   "outputs": [],
   "source": [
    "def plot(title, xlabel, X, Y, error, ylabel = \"Accuracy\"):\n",
    "    plt.xlabel(xlabel)\n",
    "    plt.title(title)\n",
    "    plt.grid()\n",
    "    plt.ylabel(ylabel)\n",
    "    plt.errorbar(X, Y, error, linestyle='None', marker='o')\n",
    "\n",
    "def plot_line(title, xlabel, X, Y, f1_Score, classes):\n",
    "    plt.figure(figsize=(6, 4))\n",
    "    f1_Score = list(zip(*f1_Score))\n",
    "    plt.xlabel(xlabel)\n",
    "    plt.title(title)\n",
    "    plt.grid()\n",
    "    color = ['g', 'b', 'c', 'm']\n",
    "    plt.plot(X, Y, linestyle='solid', marker='o', color = 'r', label=classes[0])\n",
    "    for i in range(len(f1_Score)):\n",
    "        plt.plot(X, f1_Score[i], linestyle='solid', marker='o', color = color[i], label=classes[i+1])\n",
    "    plt.legend(loc='best')"
   ]
  },
  {
   "cell_type": "code",
   "execution_count": 41,
   "metadata": {},
   "outputs": [
    {
     "name": "stderr",
     "output_type": "stream",
     "text": [
      "100%|██████████| 6/6 [00:20<00:00,  3.36s/it]\n"
     ]
    },
    {
     "data": {
      "image/png": "[encoded data removed]",
      "text/plain": [
       "<Figure size 432x288 with 1 Axes>"
      ]
     },
     "metadata": {
      "needs_background": "light"
     },
     "output_type": "display_data"
    }
   ],
   "source": [
    "title = \"thay đổi K với 'Data set 1 - heart disease'\"\n",
    "\n",
    "xlabel = \"K\"\n",
    "X = []\n",
    "Y = []\n",
    "f1_Score = []\n",
    "error = []\n",
    "\n",
    "for k in tqdm([1, 3, 5, 10, 20, 50]):\n",
    "    # Load model\n",
    "    model = KNN(top_k = k)\n",
    "    model.fit(np.array(X_train), np.array(y_train))\n",
    "\n",
    "    # Sample predict model\n",
    "    y_pred = model.predict_batch(np.array(X_test))\n",
    "\n",
    "    # Caculate accuracy score\n",
    "    acc = accuracy_score(y_pred, np.array(y_test))\n",
    "\n",
    "    X.append(str(k))\n",
    "    Y.append(acc)\n",
    "    f1_Score.append(list(f1_score(y_test, y_pred, average=None)))\n",
    "    \n",
    "# Dataset 1\n",
    "plot_line(title, xlabel, X, Y, f1_Score, ['accuracy', 'f1_score_0 (Không bị bệnh)', \n",
    "'f1_score_level1 (Bị bệnh)'])\n",
    "plt.show()"
   ]
  },
  {
   "cell_type": "code",
   "execution_count": 42,
   "metadata": {},
   "outputs": [],
   "source": [
    "max_accuracy = []"
   ]
  },
  {
   "cell_type": "code",
   "execution_count": 43,
   "metadata": {},
   "outputs": [
    {
     "data": {
      "text/plain": [
       "1.0"
      ]
     },
     "execution_count": 43,
     "metadata": {},
     "output_type": "execute_result"
    }
   ],
   "source": [
    "# Test mô hình với K=5, cho độ chính xác cao nhất\n",
    "model = KNN(top_k = 1)\n",
    "\n",
    "model.fit(np.array(X_train), np.array(y_train))\n",
    "\n",
    "# Sample predict model\n",
    "y_pred = model.predict_batch(np.array(X_test))\n",
    "\n",
    "# Caculate accuracy score\n",
    "acc = accuracy_score(y_pred, np.array(y_test))\n",
    "\n",
    "max_accuracy.append(acc)\n",
    "result_acc_ds1.append(acc)\n",
    "\n",
    "acc"
   ]
  },
  {
   "cell_type": "code",
   "execution_count": 44,
   "metadata": {},
   "outputs": [],
   "source": [
    "# Dataset 1\n",
    "# X_train, X_test, y_train, y_test = train_test_split(X_.values, y_.values, test_size=0.15, stratify=y_.values, random_state=10)\n",
    "def cross_validation(estimator):\n",
    "    _, train_scores, test_scores = learning_curve(estimator, X_train_test, label, cv=10, n_jobs=-1, train_sizes=[1.0, ], scoring=\"accuracy\")\n",
    "    test_scores = test_scores[0]\n",
    "    mean, std = test_scores.mean(), test_scores.std()\n",
    "    return mean, std"
   ]
  },
  {
   "cell_type": "code",
   "execution_count": 45,
   "metadata": {},
   "outputs": [
    {
     "name": "stderr",
     "output_type": "stream",
     "text": [
      "100%|██████████| 11/11 [00:07<00:00,  1.38it/s]\n"
     ]
    },
    {
     "data": {
      "image/png": "[encoded data removed]",
      "text/plain": [
       "<Figure size 432x288 with 1 Axes>"
      ]
     },
     "metadata": {
      "needs_background": "light"
     },
     "output_type": "display_data"
    },
    {
     "name": "stdout",
     "output_type": "stream",
     "text": [
      "Accuracy max:  0.9941176470588236\n"
     ]
    }
   ],
   "source": [
    "title = \"thay đổi K với 'Data set 1 - heart disease'\"\n",
    "xlabel = \"K\"\n",
    "X = []\n",
    "Y = []\n",
    "error = []\n",
    "\n",
    "for k in tqdm([1, 3, 5, 7, 9, 10,  11, 13, 15, 20, 50]):\n",
    "    # Với từng giá trị k nhận được,\n",
    "    # thực hiện xây dựng mô hình, huấn luyện và đánh giá theo cross-validation\n",
    "    text_clf = KNeighborsClassifier(n_neighbors=k)\n",
    "    # text_clf = SVC(C=k)\n",
    "    mean, std = cross_validation(text_clf)\n",
    "    X.append(str(k))\n",
    "    Y.append(mean)\n",
    "    error.append(std)\n",
    "\n",
    "# lưu kết quả ra file ảnh\n",
    "plot(title, xlabel, X, Y, error)\n",
    "plt.show()\n",
    "print('Accuracy max: ', max(Y))"
   ]
  },
  {
   "cell_type": "code",
   "execution_count": 46,
   "metadata": {},
   "outputs": [
    {
     "name": "stdout",
     "output_type": "stream",
     "text": [
      "KNN: 1.0\n"
     ]
    },
    {
     "data": {
      "image/png": "[encoded data removed]",
      "text/plain": [
       "<Figure size 432x288 with 2 Axes>"
      ]
     },
     "metadata": {
      "needs_background": "light"
     },
     "output_type": "display_data"
    },
    {
     "data": {
      "text/plain": [
       "<Figure size 864x864 with 0 Axes>"
      ]
     },
     "metadata": {},
     "output_type": "display_data"
    }
   ],
   "source": [
    "# Test với bộ tham số tốt nhất\n",
    "knn = KNeighborsClassifier(n_neighbors=1)\n",
    "knn.fit(X_train, y_train)\n",
    "\n",
    "print(f'KNN: {accuracy_score(y_test, knn.predict(X_test))}')\n",
    "\n",
    "max_accuracy.append(accuracy_score(y_test, knn.predict(X_test)))\n",
    "result_acc_ds1.append(accuracy_score(y_test, knn.predict(X_test)))\n",
    "\n",
    "# Hiển thị confusion matrix\n",
    "plot_confusion_matrix(knn, X_test, y_test, cmap = plt.cm.Blues)  \n",
    "plt.figure(figsize = (12, 12))\n",
    "plt.show()"
   ]
  },
  {
   "cell_type": "code",
   "execution_count": 47,
   "metadata": {},
   "outputs": [
    {
     "name": "stdout",
     "output_type": "stream",
     "text": [
      "              precision    recall  f1-score   support\n",
      "\n",
      "           0       1.00      1.00      1.00        75\n",
      "           1       1.00      1.00      1.00        79\n",
      "\n",
      "    accuracy                           1.00       154\n",
      "   macro avg       1.00      1.00      1.00       154\n",
      "weighted avg       1.00      1.00      1.00       154\n",
      "\n"
     ]
    }
   ],
   "source": [
    "# Generating classification report\n",
    "from sklearn.metrics import classification_report\n",
    "y_pred = knn.predict(X_test)\n",
    "print(classification_report(y_test, y_pred))"
   ]
  },
  {
   "cell_type": "code",
   "execution_count": 48,
   "metadata": {},
   "outputs": [
    {
     "data": {
      "image/png": "[encoded data removed]",
      "text/plain": [
       "<Figure size 432x360 with 1 Axes>"
      ]
     },
     "metadata": {
      "needs_background": "light"
     },
     "output_type": "display_data"
    }
   ],
   "source": [
    "fig = plt.figure(figsize = (6, 5))\n",
    "labels = [\"Tự code\", \"Thư viện\"]\n",
    "# creating the bar plot\n",
    "p1 = plt.bar(labels[0], max_accuracy[0])\n",
    "p2 = plt.bar(labels[1], max_accuracy[1])\n",
    "\n",
    "plt.xlabel(\"Model\")\n",
    "plt.ylabel(\"Accuracy\")\n",
    "plt.title(\"Độ chính xác tốt nhất trên tập dữ liệu bệnh tim\")\n",
    "plt.bar_label(p1)\n",
    "plt.bar_label(p2)\n",
    "plt.xticks(np.arange(len(labels)), labels)\n",
    "plt.legend(labels, loc =\"lower right\")\n",
    "plt.show()"
   ]
  },
  {
   "cell_type": "code",
   "execution_count": 49,
   "metadata": {},
   "outputs": [
    {
     "name": "stdout",
     "output_type": "stream",
     "text": [
      "So luong du lieu:  412\n",
      "So luong nhan:  412\n"
     ]
    },
    {
     "data": {
      "text/html": [
       "<div>\n",
       "<style scoped>\n",
       "    .dataframe tbody tr th:only-of-type {\n",
       "        vertical-align: middle;\n",
       "    }\n",
       "\n",
       "    .dataframe tbody tr th {\n",
       "        vertical-align: top;\n",
       "    }\n",
       "\n",
       "    .dataframe thead th {\n",
       "        text-align: right;\n",
       "    }\n",
       "</style>\n",
       "<table border=\"1\" class=\"dataframe\">\n",
       "  <thead>\n",
       "    <tr style=\"text-align: right;\">\n",
       "      <th></th>\n",
       "      <th>Age</th>\n",
       "      <th>Bilirubin</th>\n",
       "      <th>Cholesterol</th>\n",
       "      <th>Albumin</th>\n",
       "      <th>Copper</th>\n",
       "      <th>Alk_Phos</th>\n",
       "      <th>SGOT</th>\n",
       "      <th>Tryglicerides</th>\n",
       "      <th>Platelets</th>\n",
       "      <th>Prothrombin</th>\n",
       "      <th>...</th>\n",
       "      <th>Drug_1</th>\n",
       "      <th>Ascites_0</th>\n",
       "      <th>Ascites_1</th>\n",
       "      <th>Hepatomegaly_0</th>\n",
       "      <th>Hepatomegaly_1</th>\n",
       "      <th>Spiders_0</th>\n",
       "      <th>Spiders_1</th>\n",
       "      <th>Edema_0</th>\n",
       "      <th>Edema_1</th>\n",
       "      <th>Edema_2</th>\n",
       "    </tr>\n",
       "  </thead>\n",
       "  <tbody>\n",
       "    <tr>\n",
       "      <th>0</th>\n",
       "      <td>0.736012</td>\n",
       "      <td>2.547971</td>\n",
       "      <td>-0.547614</td>\n",
       "      <td>-2.125657</td>\n",
       "      <td>0.779134</td>\n",
       "      <td>-0.141082</td>\n",
       "      <td>0.312051</td>\n",
       "      <td>0.879630</td>\n",
       "      <td>-0.704207</td>\n",
       "      <td>1.432617</td>\n",
       "      <td>...</td>\n",
       "      <td>0</td>\n",
       "      <td>0</td>\n",
       "      <td>1</td>\n",
       "      <td>0</td>\n",
       "      <td>1</td>\n",
       "      <td>0</td>\n",
       "      <td>1</td>\n",
       "      <td>0</td>\n",
       "      <td>0</td>\n",
       "      <td>1</td>\n",
       "    </tr>\n",
       "    <tr>\n",
       "      <th>1</th>\n",
       "      <td>0.545297</td>\n",
       "      <td>-0.480933</td>\n",
       "      <td>-0.335883</td>\n",
       "      <td>1.511284</td>\n",
       "      <td>-0.578348</td>\n",
       "      <td>2.909990</td>\n",
       "      <td>-0.181213</td>\n",
       "      <td>-0.671780</td>\n",
       "      <td>-0.376028</td>\n",
       "      <td>-0.131446</td>\n",
       "      <td>...</td>\n",
       "      <td>0</td>\n",
       "      <td>1</td>\n",
       "      <td>0</td>\n",
       "      <td>0</td>\n",
       "      <td>1</td>\n",
       "      <td>0</td>\n",
       "      <td>1</td>\n",
       "      <td>1</td>\n",
       "      <td>0</td>\n",
       "      <td>0</td>\n",
       "    </tr>\n",
       "    <tr>\n",
       "      <th>2</th>\n",
       "      <td>1.880301</td>\n",
       "      <td>-0.413122</td>\n",
       "      <td>-0.986570</td>\n",
       "      <td>-0.047405</td>\n",
       "      <td>1.497801</td>\n",
       "      <td>-0.787113</td>\n",
       "      <td>-0.532939</td>\n",
       "      <td>-1.281263</td>\n",
       "      <td>-1.117076</td>\n",
       "      <td>1.237109</td>\n",
       "      <td>...</td>\n",
       "      <td>0</td>\n",
       "      <td>1</td>\n",
       "      <td>0</td>\n",
       "      <td>1</td>\n",
       "      <td>0</td>\n",
       "      <td>1</td>\n",
       "      <td>0</td>\n",
       "      <td>0</td>\n",
       "      <td>1</td>\n",
       "      <td>0</td>\n",
       "    </tr>\n",
       "    <tr>\n",
       "      <th>3</th>\n",
       "      <td>0.354582</td>\n",
       "      <td>-0.322707</td>\n",
       "      <td>-0.635405</td>\n",
       "      <td>-2.267356</td>\n",
       "      <td>-0.445261</td>\n",
       "      <td>2.225799</td>\n",
       "      <td>-1.249112</td>\n",
       "      <td>-0.597904</td>\n",
       "      <td>-0.778311</td>\n",
       "      <td>-0.424708</td>\n",
       "      <td>...</td>\n",
       "      <td>0</td>\n",
       "      <td>1</td>\n",
       "      <td>0</td>\n",
       "      <td>0</td>\n",
       "      <td>1</td>\n",
       "      <td>0</td>\n",
       "      <td>1</td>\n",
       "      <td>0</td>\n",
       "      <td>1</td>\n",
       "      <td>0</td>\n",
       "    </tr>\n",
       "    <tr>\n",
       "      <th>4</th>\n",
       "      <td>-1.171138</td>\n",
       "      <td>0.038953</td>\n",
       "      <td>-0.454659</td>\n",
       "      <td>0.070678</td>\n",
       "      <td>0.606122</td>\n",
       "      <td>-0.703806</td>\n",
       "      <td>-0.188684</td>\n",
       "      <td>-0.967287</td>\n",
       "      <td>-1.275872</td>\n",
       "      <td>0.161816</td>\n",
       "      <td>...</td>\n",
       "      <td>1</td>\n",
       "      <td>1</td>\n",
       "      <td>0</td>\n",
       "      <td>0</td>\n",
       "      <td>1</td>\n",
       "      <td>0</td>\n",
       "      <td>1</td>\n",
       "      <td>1</td>\n",
       "      <td>0</td>\n",
       "      <td>0</td>\n",
       "    </tr>\n",
       "  </tbody>\n",
       "</table>\n",
       "<p>5 rows × 21 columns</p>\n",
       "</div>"
      ],
      "text/plain": [
       "        Age  Bilirubin  Cholesterol   Albumin    Copper  Alk_Phos      SGOT  \\\n",
       "0  0.736012   2.547971    -0.547614 -2.125657  0.779134 -0.141082  0.312051   \n",
       "1  0.545297  -0.480933    -0.335883  1.511284 -0.578348  2.909990 -0.181213   \n",
       "2  1.880301  -0.413122    -0.986570 -0.047405  1.497801 -0.787113 -0.532939   \n",
       "3  0.354582  -0.322707    -0.635405 -2.267356 -0.445261  2.225799 -1.249112   \n",
       "4 -1.171138   0.038953    -0.454659  0.070678  0.606122 -0.703806 -0.188684   \n",
       "\n",
       "   Tryglicerides  Platelets  Prothrombin  ...  Drug_1  Ascites_0  Ascites_1  \\\n",
       "0       0.879630  -0.704207     1.432617  ...       0          0          1   \n",
       "1      -0.671780  -0.376028    -0.131446  ...       0          1          0   \n",
       "2      -1.281263  -1.117076     1.237109  ...       0          1          0   \n",
       "3      -0.597904  -0.778311    -0.424708  ...       0          1          0   \n",
       "4      -0.967287  -1.275872     0.161816  ...       1          1          0   \n",
       "\n",
       "   Hepatomegaly_0  Hepatomegaly_1  Spiders_0  Spiders_1  Edema_0  Edema_1  \\\n",
       "0               0               1          0          1        0        0   \n",
       "1               0               1          0          1        1        0   \n",
       "2               1               0          1          0        0        1   \n",
       "3               0               1          0          1        0        1   \n",
       "4               0               1          0          1        1        0   \n",
       "\n",
       "   Edema_2  \n",
       "0        1  \n",
       "1        0  \n",
       "2        0  \n",
       "3        0  \n",
       "4        0  \n",
       "\n",
       "[5 rows x 21 columns]"
      ]
     },
     "execution_count": 49,
     "metadata": {},
     "output_type": "execute_result"
    }
   ],
   "source": [
    "# dataset 2 bệnh xơ gan\n",
    "with open('preprocessing/cirrhosis/X.pkl', 'br') as f:\n",
    "    X_train_test = pickle.load(f)\n",
    "\n",
    "with open('preprocessing/cirrhosis/y.pkl', 'rb') as f:\n",
    "    label = pickle.load(f)\n",
    "\n",
    "print('So luong du lieu: ', len(X_train_test))\n",
    "print('So luong nhan: ', len(label))\n",
    "X_train_test[0:5]"
   ]
  },
  {
   "cell_type": "code",
   "execution_count": 50,
   "metadata": {},
   "outputs": [
    {
     "data": {
      "text/plain": [
       "<AxesSubplot:ylabel='Stage'>"
      ]
     },
     "execution_count": 50,
     "metadata": {},
     "output_type": "execute_result"
    },
    {
     "data": {
      "image/png": "[encoded data removed]",
      "text/plain": [
       "<Figure size 432x288 with 1 Axes>"
      ]
     },
     "metadata": {},
     "output_type": "display_data"
    }
   ],
   "source": [
    "# Dataset 2\n",
    "cv = StratifiedShuffleSplit(n_splits=1, test_size=0.2, random_state = 0)\n",
    "train_index, test_index = list(cv.split(X_train_test, label))[0]\n",
    "X_train, X_test = X_train_test.iloc[train_index], X_train_test.iloc[test_index]\n",
    "y_train, y_test = label.iloc[train_index], label.iloc[test_index]\n",
    "y_train.value_counts().plot(kind=\"pie\")"
   ]
  },
  {
   "cell_type": "code",
   "execution_count": 51,
   "metadata": {},
   "outputs": [
    {
     "name": "stderr",
     "output_type": "stream",
     "text": [
      "100%|██████████| 6/6 [00:04<00:00,  1.32it/s]\n"
     ]
    },
    {
     "data": {
      "image/png": "[encoded data removed]",
      "text/plain": [
       "<Figure size 432x288 with 1 Axes>"
      ]
     },
     "metadata": {
      "needs_background": "light"
     },
     "output_type": "display_data"
    }
   ],
   "source": [
    "title = \"thay đổi K với 'Data set 1 - heart disease'\"\n",
    "\n",
    "xlabel = \"K\"\n",
    "X = []\n",
    "Y = []\n",
    "f1_Score = []\n",
    "error = []\n",
    "\n",
    "for k in tqdm([1, 3, 5, 10, 20, 50]):\n",
    "    # Load model\n",
    "    model = KNN(top_k = k)\n",
    "    model.fit(np.array(X_train), np.array(y_train))\n",
    "\n",
    "    # Sample predict model\n",
    "    y_pred = model.predict_batch(np.array(X_test))\n",
    "\n",
    "    # Caculate accuracy score\n",
    "    acc = accuracy_score(y_pred, np.array(y_test))\n",
    "\n",
    "    X.append(str(k))\n",
    "    Y.append(acc)\n",
    "    f1_Score.append(list(f1_score(y_test, y_pred, average=None)))\n",
    "# Dataset 2\n",
    "plot_line(title, xlabel, X, Y, f1_Score, ['accuracy', 'f1_score_level1 (class 0)', \n",
    "'f1_score_level2 (class 1)', 'f1_score_level3 (class 2)', 'f1_score_level4 (class 3)'])"
   ]
  },
  {
   "cell_type": "code",
   "execution_count": 52,
   "metadata": {},
   "outputs": [],
   "source": [
    "max_accuracy = []"
   ]
  },
  {
   "cell_type": "code",
   "execution_count": 53,
   "metadata": {},
   "outputs": [
    {
     "data": {
      "text/plain": [
       "0.7228915662650602"
      ]
     },
     "execution_count": 53,
     "metadata": {},
     "output_type": "execute_result"
    }
   ],
   "source": [
    "# Test mô hình với K=5, cho độ chính xác cao nhất\n",
    "model = KNN(top_k = 10)\n",
    "\n",
    "model.fit(np.array(X_train), np.array(y_train))\n",
    "\n",
    "# Sample predict model\n",
    "y_pred = model.predict_batch(np.array(X_test))\n",
    "\n",
    "# Caculate accuracy score\n",
    "acc = accuracy_score(y_pred, np.array(y_test))\n",
    "\n",
    "max_accuracy.append(acc)\n",
    "result_acc_ds2.append(acc)\n",
    "\n",
    "acc"
   ]
  },
  {
   "cell_type": "code",
   "execution_count": 54,
   "metadata": {},
   "outputs": [],
   "source": [
    "# Dataset 2\n",
    "cv = StratifiedShuffleSplit(n_splits=5, test_size=0.2, random_state = 0)\n",
    "def cross_validation(estimator):\n",
    "    _, train_scores, test_scores = learning_curve(estimator, X_train_test, label, cv=cv, n_jobs=-1, train_sizes=[1.0, ], scoring=\"accuracy\")\n",
    "    test_scores = test_scores[0]\n",
    "    mean, std = test_scores.mean(), test_scores.std()\n",
    "    return mean, std"
   ]
  },
  {
   "cell_type": "code",
   "execution_count": 55,
   "metadata": {},
   "outputs": [
    {
     "name": "stderr",
     "output_type": "stream",
     "text": [
      "100%|██████████| 11/11 [00:02<00:00,  4.87it/s]\n"
     ]
    },
    {
     "data": {
      "image/png": "[encoded data removed]",
      "text/plain": [
       "<Figure size 432x288 with 1 Axes>"
      ]
     },
     "metadata": {
      "needs_background": "light"
     },
     "output_type": "display_data"
    },
    {
     "name": "stdout",
     "output_type": "stream",
     "text": [
      "Accuracy max:  0.6626506024096386\n"
     ]
    }
   ],
   "source": [
    "title = \"thay đổi K với 'Data set 1 - heart disease'\"\n",
    "xlabel = \"K\"\n",
    "X = []\n",
    "Y = []\n",
    "error = []\n",
    "\n",
    "for k in tqdm([1, 3, 5, 7, 9, 10,  11, 13, 15, 20, 50]):\n",
    "    # Với từng giá trị k nhận được,\n",
    "    # thực hiện xây dựng mô hình, huấn luyện và đánh giá theo cross-validation\n",
    "    text_clf = KNeighborsClassifier(n_neighbors=k)\n",
    "    # text_clf = SVC(C=k)\n",
    "    mean, std = cross_validation(text_clf)\n",
    "    X.append(str(k))\n",
    "    Y.append(mean)\n",
    "    error.append(std)\n",
    "\n",
    "# lưu kết quả ra file ảnh\n",
    "plot(title, xlabel, X, Y, error)\n",
    "plt.show()\n",
    "print('Accuracy max: ', max(Y))"
   ]
  },
  {
   "cell_type": "code",
   "execution_count": 56,
   "metadata": {},
   "outputs": [
    {
     "name": "stdout",
     "output_type": "stream",
     "text": [
      "KNN: 0.7108433734939759\n"
     ]
    },
    {
     "data": {
      "image/png": "[encoded data removed]",
      "text/plain": [
       "<Figure size 432x288 with 2 Axes>"
      ]
     },
     "metadata": {
      "needs_background": "light"
     },
     "output_type": "display_data"
    },
    {
     "data": {
      "text/plain": [
       "<Figure size 864x864 with 0 Axes>"
      ]
     },
     "metadata": {},
     "output_type": "display_data"
    }
   ],
   "source": [
    "# Test với bộ tham số tốt nhất\n",
    "knn = KNeighborsClassifier(n_neighbors=9)\n",
    "knn.fit(X_train, y_train)\n",
    "\n",
    "print(f'KNN: {accuracy_score(y_test, knn.predict(X_test))}')\n",
    "\n",
    "max_accuracy.append(accuracy_score(y_test, knn.predict(X_test)))\n",
    "result_acc_ds2.append(accuracy_score(y_test, knn.predict(X_test)))\n",
    "\n",
    "# Hiển thị confusion matrix\n",
    "plot_confusion_matrix(knn, X_test, y_test, cmap = plt.cm.Blues)  \n",
    "plt.figure(figsize = (12, 12))\n",
    "plt.show()"
   ]
  },
  {
   "cell_type": "code",
   "execution_count": 57,
   "metadata": {},
   "outputs": [
    {
     "name": "stdout",
     "output_type": "stream",
     "text": [
      "              precision    recall  f1-score   support\n",
      "\n",
      "           0       0.50      0.25      0.33         4\n",
      "           1       0.62      0.68      0.65        19\n",
      "           2       0.79      0.61      0.69        31\n",
      "           3       0.72      0.90      0.80        29\n",
      "\n",
      "    accuracy                           0.71        83\n",
      "   macro avg       0.66      0.61      0.62        83\n",
      "weighted avg       0.71      0.71      0.70        83\n",
      "\n"
     ]
    }
   ],
   "source": [
    "# Generating classification report\n",
    "from sklearn.metrics import classification_report\n",
    "y_pred = knn.predict(X_test)\n",
    "print(classification_report(y_test, y_pred))"
   ]
  },
  {
   "cell_type": "code",
   "execution_count": 58,
   "metadata": {},
   "outputs": [
    {
     "data": {
      "image/png": "[encoded data removed]",
      "text/plain": [
       "<Figure size 432x360 with 1 Axes>"
      ]
     },
     "metadata": {
      "needs_background": "light"
     },
     "output_type": "display_data"
    }
   ],
   "source": [
    "fig = plt.figure(figsize = (6, 5))\n",
    "labels = [\"Tự code\", \"Thư viện\"]\n",
    "# creating the bar plot\n",
    "p1 = plt.bar(labels[0], max_accuracy[0])\n",
    "p2 = plt.bar(labels[1], max_accuracy[1])\n",
    "\n",
    "plt.xlabel(\"Model\")\n",
    "plt.ylabel(\"Accuracy\")\n",
    "plt.title(\"Độ chính xác tốt nhất trên tập dữ liệu bệnh tim\")\n",
    "plt.bar_label(p1)\n",
    "plt.bar_label(p2)\n",
    "plt.xticks(np.arange(len(labels)), labels)\n",
    "plt.legend(labels, loc =\"lower right\")\n",
    "plt.show()"
   ]
  },
  {
   "cell_type": "code",
   "execution_count": 59,
   "metadata": {},
   "outputs": [
    {
     "name": "stdout",
     "output_type": "stream",
     "text": [
      "[[1.0, 1.0], [0.7228915662650602, 0.7108433734939759]]\n"
     ]
    }
   ],
   "source": [
    "# result_acc_ds2.reverse()\n",
    "print([result_acc_ds1, result_acc_ds2])"
   ]
  },
  {
   "cell_type": "code",
   "execution_count": 63,
   "metadata": {},
   "outputs": [
    {
     "name": "stdout",
     "output_type": "stream",
     "text": [
      "[0.7108433734939759, 0.7228915662650602]\n"
     ]
    }
   ],
   "source": [
    "x, y = result_acc_ds1, result_acc_ds2\n",
    "y.reverse()\n",
    "print(y)"
   ]
  },
  {
   "cell_type": "code",
   "execution_count": 64,
   "metadata": {},
   "outputs": [],
   "source": [
    "import pickle\n",
    "\n",
    "with open('result/KNN.pkl', 'wb') as f:\n",
    "    pickle.dump([result_acc_ds1, result_acc_ds2], f)\n"
   ]
  }
 ],
 "metadata": {
  "interpreter": {
   "hash": "4159a2d9aa0fcc8ba4f45092bc8203461471d72464d2e7a8d66c38d8a5c8583c"
  },
  "kernelspec": {
   "display_name": "Python 3.8.8 64-bit ('base': conda)",
   "language": "python",
   "name": "python3"
  },
  "language_info": {
   "codemirror_mode": {
    "name": "ipython",
    "version": 3
   },
   "file_extension": ".py",
   "mimetype": "text/x-python",
   "name": "python",
   "nbconvert_exporter": "python",
   "pygments_lexer": "ipython3",
   "version": "3.9.7"
  },
  "orig_nbformat": 4
 },
 "nbformat": 4,
 "nbformat_minor": 2
}
