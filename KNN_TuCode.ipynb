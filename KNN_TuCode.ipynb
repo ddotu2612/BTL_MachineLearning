{
 "cells": [
  {
   "cell_type": "code",
   "execution_count": 36,
   "metadata": {},
   "outputs": [],
   "source": [
    "import numpy as np\n",
    "import os\n",
    "import matplotlib.pyplot as plt\n",
    "from tqdm import tqdm\n",
    "\n",
    "from sklearn.metrics import accuracy_score\n",
    "from sklearn.model_selection import train_test_split\n",
    "from sklearn.metrics import accuracy_score, confusion_matrix, plot_confusion_matrix\n",
    "from sklearn.model_selection import learning_curve"
   ]
  },
  {
   "cell_type": "code",
   "execution_count": 61,
   "metadata": {},
   "outputs": [
    {
     "name": "stdout",
     "output_type": "stream",
     "text": [
      "So luong du lieu:  70000\n",
      "So luong nhan:  70000\n"
     ]
    },
    {
     "data": {
      "text/plain": [
       "70000"
      ]
     },
     "execution_count": 61,
     "metadata": {},
     "output_type": "execute_result"
    }
   ],
   "source": [
    "import pickle \n",
    "\n",
    "with open('preprocessing/cardio/X_most_frequent.pkl', 'rb') as f:\n",
    "    X = pickle.load(f)\n",
    "    X = np.array(X)\n",
    "with open('preprocessing/cardio/y.pkl', 'rb') as f:\n",
    "    y = pickle.load(f)\n",
    "    y = np.array(y)\n",
    "\n",
    "print('So luong du lieu: ', len(X))\n",
    "print('So luong nhan: ', len(y))\n",
    "len(X)"
   ]
  },
  {
   "cell_type": "code",
   "execution_count": 62,
   "metadata": {},
   "outputs": [],
   "source": [
    "X_train, X_test, y_train, y_test = train_test_split(X, y, test_size=0.2, random_state=42)"
   ]
  },
  {
   "cell_type": "code",
   "execution_count": 55,
   "metadata": {},
   "outputs": [],
   "source": [
    "def cross_validation(estimator):\n",
    "    _, train_scores, test_scores = learning_curve(estimator, X_train, y_train, cv=10, n_jobs=-1, train_sizes=[1.0, ], scoring=\"accuracy\")\n",
    "    test_scores = test_scores[0]\n",
    "    mean, std = test_scores.mean(), test_scores.std()\n",
    "    return mean, std\n",
    "\n",
    "def plot(title, xlabel, X, Y, error, ylabel = \"Accuracy\"):\n",
    "    plt.xlabel(xlabel)\n",
    "    plt.title(title)\n",
    "    plt.grid()\n",
    "    plt.ylabel(ylabel)\n",
    "    plt.errorbar(X, Y, error, linestyle='None', marker='o')"
   ]
  },
  {
   "cell_type": "code",
   "execution_count": 46,
   "metadata": {},
   "outputs": [],
   "source": [
    "class KNN:\n",
    "    def __init__(self, top_k=5) -> None:\n",
    "        self.top_k = top_k\n",
    "        self.X_train = None\n",
    "        self.y_train = None\n",
    "    \n",
    "    def fit(self, X, y):\n",
    "        self.X_train = X\n",
    "        self.y_train = y\n",
    "\n",
    "    @staticmethod\n",
    "    def distance(x1, x2):\n",
    "        return np.linalg.norm(x1 - x2)\n",
    "    def predict_batch(self, X):\n",
    "        y_pred = [self.predict(x) for x in X]\n",
    "        return y_pred\n",
    "    def predict(self, x):\n",
    "        # Compute distance to all points in train set \n",
    "        distance = [self.distance(x, x_train) for x_train in self.X_train]\n",
    "        # Sort the distance with index\n",
    "        top_idx = np.argsort(distance)\n",
    "        # Get top K label\n",
    "        # use disctionary to store the k nearest\n",
    "        votes = {}\n",
    "        for i in range(self.top_k):\n",
    "            label = self.y_train[top_idx[i]]\n",
    "            votes.setdefault(label, 0)\n",
    "            votes[label] += 1\n",
    "        \n",
    "        return max(votes)"
   ]
  },
  {
   "cell_type": "code",
   "execution_count": 49,
   "metadata": {},
   "outputs": [
    {
     "name": "stderr",
     "output_type": "stream",
     "text": [
      "100%|██████████| 6/6 [09:11<00:00, 91.95s/it]\n"
     ]
    },
    {
     "data": {
      "image/png": "[encoded data removed]",
      "text/plain": [
       "<Figure size 432x288 with 1 Axes>"
      ]
     },
     "metadata": {
      "needs_background": "light"
     },
     "output_type": "display_data"
    }
   ],
   "source": [
    "title = \"thay đổi K\"\n",
    "xlabel = \"K\"\n",
    "X = []\n",
    "Y = []\n",
    "error = []\n",
    "\n",
    "for k in tqdm([1, 3, 5, 10, 20, 50]):\n",
    "    # Load model\n",
    "    model = KNN(top_k = k)\n",
    "    model.fit(X_train, y_train)\n",
    "\n",
    "    # Sample predict model\n",
    "    y_pred = model.predict_batch(X_test)\n",
    "\n",
    "    # Caculate accuracy score\n",
    "    acc = accuracy_score(y_pred, y_test)\n",
    "\n",
    "    X.append(str(k))\n",
    "    Y.append(acc)\n",
    "    error.append(0.5)\n",
    "\n",
    "# lưu kết quả ra file ảnh\n",
    "plot(title, xlabel, X, Y, error)\n",
    "# plt.savefig('images/KNN_change_K.png', bbox_inches='tight')\n",
    "plt.show()"
   ]
  },
  {
   "cell_type": "code",
   "execution_count": 34,
   "metadata": {},
   "outputs": [
    {
     "data": {
      "text/plain": [
       "0.5914285714285714"
      ]
     },
     "execution_count": 34,
     "metadata": {},
     "output_type": "execute_result"
    }
   ],
   "source": [
    "acc"
   ]
  },
  {
   "cell_type": "code",
   "execution_count": 63,
   "metadata": {},
   "outputs": [
    {
     "name": "stderr",
     "output_type": "stream",
     "text": [
      "100%|██████████| 6/6 [18:38<00:00, 186.38s/it]\n"
     ]
    },
    {
     "data": {
      "image/png": "[encoded data removed]",
      "text/plain": [
       "<Figure size 432x288 with 1 Axes>"
      ]
     },
     "metadata": {
      "needs_background": "light"
     },
     "output_type": "display_data"
    }
   ],
   "source": [
    "title = \"thay đổi K\"\n",
    "xlabel = \"K\"\n",
    "X = []\n",
    "Y = []\n",
    "error = []\n",
    "\n",
    "for k in tqdm([1, 3, 5, 10, 20, 50]):\n",
    "    # Với từng giá trị k nhận được,\n",
    "    # thực hiện xây dựng mô hình, huấn luyện và đánh giá theo cross-validation\n",
    "    text_clf = KNeighborsClassifier(n_neighbors=k)\n",
    "    mean, std = cross_validation(text_clf)\n",
    "    X.append(str(k))\n",
    "    Y.append(mean)\n",
    "    error.append(std)\n",
    "\n",
    "# lưu kết quả ra file ảnh\n",
    "plot(title, xlabel, X, Y, error)\n",
    "# plt.savefig('images/KNN_change_K.png', bbox_inches='tight')\n",
    "plt.show()"
   ]
  },
  {
   "cell_type": "code",
   "execution_count": 64,
   "metadata": {},
   "outputs": [
    {
     "data": {
      "text/plain": [
       "0.6693571428571429"
      ]
     },
     "execution_count": 64,
     "metadata": {},
     "output_type": "execute_result"
    }
   ],
   "source": [
    "from sklearn.neighbors import KNeighborsClassifier\n",
    "\n",
    "neigh = KNeighborsClassifier(n_neighbors=20)\n",
    "# train\n",
    "neigh.fit(X_train, y_train)\n",
    " \n",
    "# predict\n",
    "results = neigh.predict(X_test)\n",
    "\n",
    "# Caculate accuracy score\n",
    "acc = accuracy_score(results, y_test)\n",
    "\n",
    "acc"
   ]
  }
 ],
 "metadata": {
  "interpreter": {
   "hash": "4159a2d9aa0fcc8ba4f45092bc8203461471d72464d2e7a8d66c38d8a5c8583c"
  },
  "kernelspec": {
   "display_name": "Python 3.8.8 64-bit ('base': conda)",
   "language": "python",
   "name": "python3"
  },
  "language_info": {
   "codemirror_mode": {
    "name": "ipython",
    "version": 3
   },
   "file_extension": ".py",
   "mimetype": "text/x-python",
   "name": "python",
   "nbconvert_exporter": "python",
   "pygments_lexer": "ipython3",
   "version": "3.8.12"
  },
  "orig_nbformat": 4
 },
 "nbformat": 4,
 "nbformat_minor": 2
}
