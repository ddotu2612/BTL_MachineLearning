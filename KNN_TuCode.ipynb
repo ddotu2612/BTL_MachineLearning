{
 "cells": [
  {
   "cell_type": "code",
   "execution_count": 1,
   "metadata": {},
   "outputs": [],
   "source": [
    "import numpy as np\n",
    "from collections import Counter\n",
    "from sklearn.metrics import accuracy_score\n",
    "from sklearn.model_selection import train_test_split"
   ]
  },
  {
   "cell_type": "code",
   "execution_count": 2,
   "metadata": {},
   "outputs": [],
   "source": [
    "class KNN:\n",
    "    def __init__(self, top_k=5) -> None:\n",
    "        self.top_k = top_k\n",
    "        self.X_train = None\n",
    "        self.y_train = None\n",
    "    \n",
    "    def fit(self, X, y):\n",
    "        self.X_train = X\n",
    "        self.y_train = y\n",
    "\n",
    "    @staticmethod\n",
    "    def distance(x1, x2):\n",
    "        return np.linalg.norm(x1 - x2)\n",
    "    def predict_batch(self, X):\n",
    "        y_pred = [self.predict(x) for x in X]\n",
    "        return y_pred\n",
    "    def predict(self, x):\n",
    "        # Compute distance to all points in train set \n",
    "        distance = [self.distance(x, x_train) for x_train in self.X_train]\n",
    "        # Sort the distance with index\n",
    "        top_idx = np.argsort(distance)\n",
    "        # Get top K label\n",
    "        k_nearests = self.y_train[top_idx]\n",
    "        # Predict the label\n",
    "        label = Counter(k_nearests).most_common(1)[0][0]\n",
    "\n",
    "        return label\n"
   ]
  },
  {
   "cell_type": "code",
   "execution_count": 3,
   "metadata": {},
   "outputs": [
    {
     "name": "stdout",
     "output_type": "stream",
     "text": [
      "So luong du lieu:  70000\n",
      "So luong nhan:  70000\n"
     ]
    },
    {
     "data": {
      "text/plain": [
       "(70000,)"
      ]
     },
     "execution_count": 3,
     "metadata": {},
     "output_type": "execute_result"
    }
   ],
   "source": [
    "import pickle \n",
    "\n",
    "with open('preprocessing/X.pkl', 'rb') as f:\n",
    "    X = pickle.load(f)\n",
    "    X = np.array(X)\n",
    "with open('preprocessing/y.pkl', 'rb') as f:\n",
    "    y = pickle.load(f)\n",
    "    y = np.array(y)\n",
    "\n",
    "print('So luong du lieu: ', len(X))\n",
    "print('So luong nhan: ', len(y))\n",
    "y.shape"
   ]
  },
  {
   "cell_type": "code",
   "execution_count": 4,
   "metadata": {},
   "outputs": [],
   "source": [
    "X_train, X_test, y_train, y_test = train_test_split(X, y, test_size=0.1, random_state=42)\n",
    "\n",
    "# Load model\n",
    "model = KNN(top_k=5)\n",
    "model.fit(X_train, y_train)\n",
    "\n",
    "# Sample predict model\n",
    "y_pred = model.predict_batch(X_test)\n",
    "\n",
    "# Caculate accuracy score\n",
    "acc = accuracy_score(y_pred, y_test)"
   ]
  },
  {
   "cell_type": "code",
   "execution_count": 7,
   "metadata": {},
   "outputs": [
    {
     "data": {
      "text/plain": [
       "0.8024285714285714"
      ]
     },
     "execution_count": 7,
     "metadata": {},
     "output_type": "execute_result"
    }
   ],
   "source": [
    "acc"
   ]
  },
  {
   "cell_type": "code",
   "execution_count": 16,
   "metadata": {},
   "outputs": [
    {
     "data": {
      "text/plain": [
       "0.791"
      ]
     },
     "execution_count": 16,
     "metadata": {},
     "output_type": "execute_result"
    }
   ],
   "source": [
    "from sklearn.neighbors import KNeighborsClassifier\n",
    "\n",
    "neigh = KNeighborsClassifier(n_neighbors=9)\n",
    "# train\n",
    "neigh.fit(X_train, y_train)\n",
    " \n",
    "# predict\n",
    "results = neigh.predict(X_test)\n",
    "\n",
    "# Caculate accuracy score\n",
    "acc = accuracy_score(results, y_test)\n",
    "\n",
    "acc"
   ]
  }
 ],
 "metadata": {
  "interpreter": {
   "hash": "4159a2d9aa0fcc8ba4f45092bc8203461471d72464d2e7a8d66c38d8a5c8583c"
  },
  "kernelspec": {
   "display_name": "Python 3.8.8 64-bit ('base': conda)",
   "language": "python",
   "name": "python3"
  },
  "language_info": {
   "codemirror_mode": {
    "name": "ipython",
    "version": 3
   },
   "file_extension": ".py",
   "mimetype": "text/x-python",
   "name": "python",
   "nbconvert_exporter": "python",
   "pygments_lexer": "ipython3",
   "version": "3.8.8"
  },
  "orig_nbformat": 4
 },
 "nbformat": 4,
 "nbformat_minor": 2
}
