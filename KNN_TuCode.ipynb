{
 "cells": [
  {
   "cell_type": "code",
<<<<<<< HEAD
   "execution_count": 274,
=======
   "execution_count": 76,
>>>>>>> af529cf35be5107163fae19f52eba47fb5167a36
   "metadata": {},
   "outputs": [],
   "source": [
    "import numpy as np\n",
    "import os\n",
    "import matplotlib.pyplot as plt\n",
    "import seaborn as sns\n",
    "from tqdm import tqdm\n",
    "import pandas as pd\n",
    "\n",
    "from sklearn.metrics import accuracy_score\n",
    "from sklearn.model_selection import train_test_split\n",
    "from sklearn.metrics import accuracy_score, confusion_matrix, plot_confusion_matrix\n",
    "from sklearn.model_selection import learning_curve\n",
    "# KNN Model\n",
    "from sklearn.neighbors import KNeighborsClassifier\n",
    "from collections import Counter"
   ]
  },
  {
   "cell_type": "code",
<<<<<<< HEAD
   "execution_count": 275,
=======
   "execution_count": 77,
>>>>>>> af529cf35be5107163fae19f52eba47fb5167a36
   "metadata": {},
   "outputs": [
    {
     "name": "stdout",
     "output_type": "stream",
     "text": [
      "So luong du lieu:  412\n",
      "So luong nhan:  412\n"
     ]
    },
    {
     "data": {
      "text/html": [
       "<div>\n",
       "<style scoped>\n",
       "    .dataframe tbody tr th:only-of-type {\n",
       "        vertical-align: middle;\n",
       "    }\n",
       "\n",
       "    .dataframe tbody tr th {\n",
       "        vertical-align: top;\n",
       "    }\n",
       "\n",
       "    .dataframe thead th {\n",
       "        text-align: right;\n",
       "    }\n",
       "</style>\n",
       "<table border=\"1\" class=\"dataframe\">\n",
       "  <thead>\n",
       "    <tr style=\"text-align: right;\">\n",
       "      <th></th>\n",
       "      <th>Age</th>\n",
       "      <th>Bilirubin</th>\n",
       "      <th>Cholesterol</th>\n",
       "      <th>Albumin</th>\n",
       "      <th>Copper</th>\n",
       "      <th>Alk_Phos</th>\n",
       "      <th>SGOT</th>\n",
       "      <th>Tryglicerides</th>\n",
       "      <th>Platelets</th>\n",
       "      <th>Prothrombin</th>\n",
       "      <th>...</th>\n",
       "      <th>Drug_1</th>\n",
       "      <th>Ascites_0</th>\n",
       "      <th>Ascites_1</th>\n",
       "      <th>Hepatomegaly_0</th>\n",
       "      <th>Hepatomegaly_1</th>\n",
       "      <th>Spiders_0</th>\n",
       "      <th>Spiders_1</th>\n",
       "      <th>Edema_0</th>\n",
       "      <th>Edema_1</th>\n",
       "      <th>Edema_2</th>\n",
       "    </tr>\n",
       "  </thead>\n",
       "  <tbody>\n",
       "    <tr>\n",
       "      <th>0</th>\n",
       "      <td>0.736012</td>\n",
       "      <td>2.547971</td>\n",
       "      <td>-0.547614</td>\n",
       "      <td>-2.125657</td>\n",
       "      <td>0.779134</td>\n",
       "      <td>-0.141082</td>\n",
       "      <td>0.312051</td>\n",
       "      <td>0.879630</td>\n",
       "      <td>-0.704207</td>\n",
       "      <td>1.432617</td>\n",
       "      <td>...</td>\n",
       "      <td>0</td>\n",
       "      <td>0</td>\n",
       "      <td>1</td>\n",
       "      <td>0</td>\n",
       "      <td>1</td>\n",
       "      <td>0</td>\n",
       "      <td>1</td>\n",
       "      <td>0</td>\n",
       "      <td>0</td>\n",
       "      <td>1</td>\n",
       "    </tr>\n",
       "    <tr>\n",
       "      <th>1</th>\n",
       "      <td>0.545297</td>\n",
       "      <td>-0.480933</td>\n",
       "      <td>-0.335883</td>\n",
       "      <td>1.511284</td>\n",
       "      <td>-0.578348</td>\n",
       "      <td>2.909990</td>\n",
       "      <td>-0.181213</td>\n",
       "      <td>-0.671780</td>\n",
       "      <td>-0.376028</td>\n",
       "      <td>-0.131446</td>\n",
       "      <td>...</td>\n",
       "      <td>0</td>\n",
       "      <td>1</td>\n",
       "      <td>0</td>\n",
       "      <td>0</td>\n",
       "      <td>1</td>\n",
       "      <td>0</td>\n",
       "      <td>1</td>\n",
       "      <td>1</td>\n",
       "      <td>0</td>\n",
       "      <td>0</td>\n",
       "    </tr>\n",
       "    <tr>\n",
       "      <th>2</th>\n",
       "      <td>1.880301</td>\n",
       "      <td>-0.413122</td>\n",
       "      <td>-0.986570</td>\n",
       "      <td>-0.047405</td>\n",
       "      <td>1.497801</td>\n",
       "      <td>-0.787113</td>\n",
       "      <td>-0.532939</td>\n",
       "      <td>-1.281263</td>\n",
       "      <td>-1.117076</td>\n",
       "      <td>1.237109</td>\n",
       "      <td>...</td>\n",
       "      <td>0</td>\n",
       "      <td>1</td>\n",
       "      <td>0</td>\n",
       "      <td>1</td>\n",
       "      <td>0</td>\n",
       "      <td>1</td>\n",
       "      <td>0</td>\n",
       "      <td>0</td>\n",
       "      <td>1</td>\n",
       "      <td>0</td>\n",
       "    </tr>\n",
       "    <tr>\n",
       "      <th>3</th>\n",
       "      <td>0.354582</td>\n",
       "      <td>-0.322707</td>\n",
       "      <td>-0.635405</td>\n",
       "      <td>-2.267356</td>\n",
       "      <td>-0.445261</td>\n",
       "      <td>2.225799</td>\n",
       "      <td>-1.249112</td>\n",
       "      <td>-0.597904</td>\n",
       "      <td>-0.778311</td>\n",
       "      <td>-0.424708</td>\n",
       "      <td>...</td>\n",
       "      <td>0</td>\n",
       "      <td>1</td>\n",
       "      <td>0</td>\n",
       "      <td>0</td>\n",
       "      <td>1</td>\n",
       "      <td>0</td>\n",
       "      <td>1</td>\n",
       "      <td>0</td>\n",
       "      <td>1</td>\n",
       "      <td>0</td>\n",
       "    </tr>\n",
       "    <tr>\n",
       "      <th>4</th>\n",
       "      <td>-1.171138</td>\n",
       "      <td>0.038953</td>\n",
       "      <td>-0.454659</td>\n",
       "      <td>0.070678</td>\n",
       "      <td>0.606122</td>\n",
       "      <td>-0.703806</td>\n",
       "      <td>-0.188684</td>\n",
       "      <td>-0.967287</td>\n",
       "      <td>-1.275872</td>\n",
       "      <td>0.161816</td>\n",
       "      <td>...</td>\n",
       "      <td>1</td>\n",
       "      <td>1</td>\n",
       "      <td>0</td>\n",
       "      <td>0</td>\n",
       "      <td>1</td>\n",
       "      <td>0</td>\n",
       "      <td>1</td>\n",
       "      <td>1</td>\n",
       "      <td>0</td>\n",
       "      <td>0</td>\n",
       "    </tr>\n",
       "  </tbody>\n",
       "</table>\n",
       "<p>5 rows × 21 columns</p>\n",
       "</div>"
      ],
      "text/plain": [
       "        Age  Bilirubin  Cholesterol   Albumin    Copper  Alk_Phos      SGOT  \\\n",
       "0  0.736012   2.547971    -0.547614 -2.125657  0.779134 -0.141082  0.312051   \n",
       "1  0.545297  -0.480933    -0.335883  1.511284 -0.578348  2.909990 -0.181213   \n",
       "2  1.880301  -0.413122    -0.986570 -0.047405  1.497801 -0.787113 -0.532939   \n",
       "3  0.354582  -0.322707    -0.635405 -2.267356 -0.445261  2.225799 -1.249112   \n",
       "4 -1.171138   0.038953    -0.454659  0.070678  0.606122 -0.703806 -0.188684   \n",
       "\n",
       "   Tryglicerides  Platelets  Prothrombin  ...  Drug_1  Ascites_0  Ascites_1  \\\n",
       "0       0.879630  -0.704207     1.432617  ...       0          0          1   \n",
       "1      -0.671780  -0.376028    -0.131446  ...       0          1          0   \n",
       "2      -1.281263  -1.117076     1.237109  ...       0          1          0   \n",
       "3      -0.597904  -0.778311    -0.424708  ...       0          1          0   \n",
       "4      -0.967287  -1.275872     0.161816  ...       1          1          0   \n",
       "\n",
       "   Hepatomegaly_0  Hepatomegaly_1  Spiders_0  Spiders_1  Edema_0  Edema_1  \\\n",
       "0               0               1          0          1        0        0   \n",
       "1               0               1          0          1        1        0   \n",
       "2               1               0          1          0        0        1   \n",
       "3               0               1          0          1        0        1   \n",
       "4               0               1          0          1        1        0   \n",
       "\n",
       "   Edema_2  \n",
       "0        1  \n",
       "1        0  \n",
       "2        0  \n",
       "3        0  \n",
       "4        0  \n",
       "\n",
       "[5 rows x 21 columns]"
      ]
     },
<<<<<<< HEAD
     "execution_count": 275,
=======
     "execution_count": 77,
>>>>>>> af529cf35be5107163fae19f52eba47fb5167a36
     "metadata": {},
     "output_type": "execute_result"
    }
   ],
   "source": [
    "import pickle \n",
    "\n",
<<<<<<< HEAD
    "# # dataset 1 bệnh tim\n",
    "# with open('preprocessing/heart/X.pkl', 'rb') as f:\n",
    "#     X_train_test = pickle.load(f)\n",
    "# with open('preprocessing/heart/y.pkl', 'rb') as f:\n",
    "#     label = pickle.load(f)\n",
    "\n",
    "# dataset 2 bệnh xơ gan\n",
    "with open('preprocessing/cirrhosis/X.pkl', 'br') as f:\n",
    "    X_train_test = pickle.load(f)\n",
    "\n",
    "with open('preprocessing/cirrhosis/y.pkl', 'rb') as f:\n",
    "    label = pickle.load(f)\n",
    "\n",
    "print('So luong du lieu: ', len(X_train_test))\n",
    "print('So luong nhan: ', len(label))\n",
    "X_train_test[0:5]"
=======
    "# Đọc dữ liệu bệnh tim, phân loại nhị phân\n",
    "with open('preprocessing/heart/X.pkl', 'rb') as f:\n",
    "    X = pickle.load(f)\n",
    "with open('preprocessing/heart/y.pkl', 'rb') as f:\n",
    "    y = pickle.load(f)\n",
    "\n",
    "# with open('preprocessing/cirrhosis/X.pkl', 'br') as f:\n",
    "#     X = pickle.load(f)\n",
    "\n",
    "# with open('preprocessing/cirrhosis/y.pkl', 'rb') as f:\n",
    "#     y = pickle.load(f)\n",
    "\n",
    "print('So luong du lieu: ', len(X))\n",
    "print('So luong nhan: ', len(y))\n",
    "X[0:5]"
>>>>>>> af529cf35be5107163fae19f52eba47fb5167a36
   ]
  },
  {
   "cell_type": "code",
<<<<<<< HEAD
   "execution_count": 276,
=======
   "execution_count": 78,
>>>>>>> af529cf35be5107163fae19f52eba47fb5167a36
   "metadata": {},
   "outputs": [
    {
     "data": {
      "text/plain": [
       "<AxesSubplot:ylabel='Stage'>"
      ]
     },
<<<<<<< HEAD
     "execution_count": 276,
=======
     "execution_count": 78,
>>>>>>> af529cf35be5107163fae19f52eba47fb5167a36
     "metadata": {},
     "output_type": "execute_result"
    },
    {
     "data": {
      "image/png": "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",
      "text/plain": [
       "<Figure size 432x288 with 1 Axes>"
      ]
     },
     "metadata": {},
     "output_type": "display_data"
    }
   ],
   "source": [
<<<<<<< HEAD
    "# # Dataset 1 bệnh tim\n",
    "# X_train, X_test, y_train, y_test = train_test_split(X_train_test, label, test_size=0.15, stratify=label, random_state=10)\n",
    "# X_train\n",
    "\n",
    "# Dataset 2\n",
    "cv = StratifiedShuffleSplit(n_splits=1, test_size=0.2, random_state = 0)\n",
    "train_index, test_index = list(cv.split(X_train_test, label))[0]\n",
    "X_train, X_test = X_train_test.iloc[train_index], X_train_test.iloc[test_index]\n",
    "y_train, y_test = label.iloc[train_index], label.iloc[test_index]\n",
    "y_train.value_counts().plot(kind=\"pie\")"
=======
    "X_train, X_test, y_train, y_test = train_test_split(X, y, test_size=0.15, stratify=y, random_state=10)\n",
    "X_train"
>>>>>>> af529cf35be5107163fae19f52eba47fb5167a36
   ]
  },
  {
   "cell_type": "code",
<<<<<<< HEAD
   "execution_count": 277,
=======
   "execution_count": 79,
>>>>>>> af529cf35be5107163fae19f52eba47fb5167a36
   "metadata": {},
   "outputs": [],
   "source": [
    "def cross_validation(estimator):\n",
    "    _, train_scores, test_scores = learning_curve(estimator, X_train, y_train, cv=10, n_jobs=-1, train_sizes=[1.0, ], scoring=\"accuracy\")\n",
    "    test_scores = test_scores[0]\n",
    "    mean, std = test_scores.mean(), test_scores.std()\n",
    "    return mean, std\n",
    "\n",
    "def plot(title, xlabel, X, Y, error, ylabel = \"Accuracy\"):\n",
    "    plt.xlabel(xlabel)\n",
    "    plt.title(title)\n",
    "    plt.grid()\n",
    "    plt.ylabel(ylabel)\n",
    "    plt.errorbar(X, Y, error, linestyle='None', marker='o')"
   ]
  },
  {
   "cell_type": "code",
<<<<<<< HEAD
   "execution_count": 278,
=======
   "execution_count": 80,
>>>>>>> af529cf35be5107163fae19f52eba47fb5167a36
   "metadata": {},
   "outputs": [],
   "source": [
    "class KNN:\n",
    "    def __init__(self, top_k=5):\n",
    "        self.top_k = top_k\n",
    "        self.X_train = None\n",
    "        self.y_train = None\n",
    "\n",
    "    def fit(self, X, y):\n",
    "        self.X_train = X\n",
    "        self.y_train = y\n",
    "\n",
    "    @staticmethod\n",
    "    def distance(x1, x2):\n",
    "        return np.linalg.norm(x1 - x2)\n",
    "\n",
    "    def predict_batch(self, X):\n",
    "        y_pred = [self.predict(x) for x in X]\n",
    "        return y_pred\n",
    "\n",
    "    def predict(self, x):\n",
    "        # Compute distance to all points in train set\n",
    "        distances = [self.distance(x, x_train) for x_train in self.X_train]\n",
    "        # Sort the distance with index\n",
    "        top_idx = np.argsort(distances)[:self.top_k]\n",
    "        # Get top K label\n",
    "        k_nearests = self.y_train[top_idx]\n",
    "        # Predict the label\n",
    "        label = Counter(k_nearests).most_common(1)[0][0]\n",
    "        \n",
    "        return label"
   ]
  },
  {
   "cell_type": "code",
<<<<<<< HEAD
   "execution_count": 279,
   "metadata": {},
   "outputs": [],
   "source": [
    "def plot(title, xlabel, X, Y, error, ylabel = \"Accuracy\"):\n",
    "    plt.xlabel(xlabel)\n",
    "    plt.title(title)\n",
    "    plt.grid()\n",
    "    plt.ylabel(ylabel)\n",
    "    plt.errorbar(X, Y, error, linestyle='None', marker='o')\n",
    "\n",
    "def plot_line(title, xlabel, X, Y, f1_Score, classes):\n",
    "    plt.figure(figsize=(6, 4))\n",
    "    f1_Score = list(zip(*f1_Score))\n",
    "    plt.xlabel(xlabel)\n",
    "    plt.title(title)\n",
    "    plt.grid()\n",
    "    color = ['g', 'b', 'c', 'm']\n",
    "    plt.plot(X, Y, linestyle='solid', marker='o', color = 'r', label=classes[0])\n",
    "    for i in range(len(f1_Score)):\n",
    "        plt.plot(X, f1_Score[i], linestyle='solid', marker='o', color = color[i], label=classes[i+1])\n",
    "    plt.legend(loc='best')"
   ]
  },
  {
   "cell_type": "code",
   "execution_count": 280,
=======
   "execution_count": 81,
>>>>>>> af529cf35be5107163fae19f52eba47fb5167a36
   "metadata": {},
   "outputs": [
    {
     "name": "stderr",
     "output_type": "stream",
     "text": [
<<<<<<< HEAD
      "100%|██████████| 6/6 [00:02<00:00,  2.96it/s]\n"
=======
      "100%|██████████| 6/6 [00:07<00:00,  1.30s/it]\n"
>>>>>>> af529cf35be5107163fae19f52eba47fb5167a36
     ]
    },
    {
     "data": {
<<<<<<< HEAD
      "image/png": "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",
=======
      "image/png": "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",
>>>>>>> af529cf35be5107163fae19f52eba47fb5167a36
      "text/plain": [
       "<Figure size 432x288 with 1 Axes>"
      ]
     },
     "metadata": {
      "needs_background": "light"
     },
     "output_type": "display_data"
    }
   ],
   "source": [
    "title = \"thay đổi K\"\n",
    "xlabel = \"K\"\n",
    "X = []\n",
    "Y = []\n",
    "error = []\n",
    "\n",
    "for k in tqdm([1, 3, 5, 10, 20, 50]):\n",
    "    # Load model\n",
    "    model = KNN(top_k = k)\n",
    "    model.fit(np.array(X_train), np.array(y_train))\n",
    "\n",
    "    # Sample predict model\n",
    "    y_pred = model.predict_batch(np.array(X_test))\n",
    "\n",
    "    # Caculate accuracy score\n",
    "    acc = accuracy_score(y_pred, np.array(y_test))\n",
    "\n",
    "    X.append(str(k))\n",
    "    Y.append(acc)\n",
<<<<<<< HEAD
    "    f1_Score.append(list(f1_score(y_test, y_pred, average=None)))\n",
    "# Dataset 2\n",
    "plot_line(title, xlabel, X, Y, f1_Score, ['accuracy', 'f1_score_level1 (class 0)', \n",
    "'f1_score_level2 (class 1)', 'f1_score_level3 (class 2)', 'f1_score_level4 (class 3)'])\n",
    "\n",
    "# # Dataset 1\n",
    "# plot_line(title, xlabel, X, Y, f1_Score, ['accuracy', 'f1_score_0 (Không bị bệnh)', \n",
    "# 'f1_score_level1 (Bị bệnh)'])\n",
    "# plt.show()"
=======
    "    error.append(0)\n",
    "\n",
    "# lưu kết quả ra file ảnh\n",
    "plot(title, xlabel, X, Y, error)\n",
    "# plt.savefig('images/KNN_change_K.png', bbox_inches='tight')\n",
    "plt.show()"
>>>>>>> af529cf35be5107163fae19f52eba47fb5167a36
   ]
  },
  {
   "cell_type": "code",
<<<<<<< HEAD
   "execution_count": 281,
   "metadata": {},
   "outputs": [],
   "source": [
    "max_accuracy = [] # lưu lại kết quả tốt nhất với hai model ( tự code và sử dụng thư viện)"
   ]
  },
  {
   "cell_type": "code",
   "execution_count": 282,
=======
   "execution_count": 88,
>>>>>>> af529cf35be5107163fae19f52eba47fb5167a36
   "metadata": {},
   "outputs": [
    {
     "data": {
      "text/plain": [
       "0.7228915662650602"
      ]
     },
<<<<<<< HEAD
     "execution_count": 282,
=======
     "execution_count": 88,
>>>>>>> af529cf35be5107163fae19f52eba47fb5167a36
     "metadata": {},
     "output_type": "execute_result"
    }
   ],
   "source": [
    "# Test mô hình với K=5, cho độ chính xác cao nhất\n",
    "model = KNN(top_k = 10)\n",
    "\n",
    "model.fit(np.array(X_train), np.array(y_train))\n",
    "\n",
    "# Sample predict model\n",
    "y_pred = model.predict_batch(np.array(X_test))\n",
    "\n",
    "# Caculate accuracy score\n",
    "acc = accuracy_score(y_pred, np.array(y_test))\n",
    "\n",
    "max_accuracy.append(acc)\n",
    "\n",
    "acc"
   ]
  },
  {
   "cell_type": "code",
<<<<<<< HEAD
   "execution_count": 283,
   "metadata": {},
   "outputs": [],
   "source": [
    "# Dataset 2\n",
    "cv = StratifiedShuffleSplit(n_splits=5, test_size=0.2, random_state = 0)\n",
    "def cross_validation(estimator):\n",
    "    _, train_scores, test_scores = learning_curve(estimator, X_train_test, label, cv=cv, n_jobs=-1, train_sizes=[1.0, ], scoring=\"accuracy\")\n",
    "    test_scores = test_scores[0]\n",
    "    mean, std = test_scores.mean(), test_scores.std()\n",
    "    return mean, std\n",
    "\n",
    "# # Dataset 1\n",
    "# # X_train, X_test, y_train, y_test = train_test_split(X_.values, y_.values, test_size=0.15, stratify=y_.values, random_state=10)\n",
    "# def cross_validation(estimator):\n",
    "#     _, train_scores, test_scores = learning_curve(estimator, X_train_test, label, cv=10, n_jobs=-1, train_sizes=[1.0, ], scoring=\"accuracy\")\n",
    "#     test_scores = test_scores[0]\n",
    "#     mean, std = test_scores.mean(), test_scores.std()\n",
    "#     return mean, std"
   ]
  },
  {
   "cell_type": "code",
   "execution_count": 284,
   "metadata": {},
   "outputs": [
    {
     "name": "stderr",
     "output_type": "stream",
     "text": [
      "100%|██████████| 11/11 [00:01<00:00, 10.33it/s]\n"
     ]
    },
    {
     "data": {
      "image/png": "iVBORw0KGgoAAAANSUhEUgAAAY4AAAEXCAYAAAC6baP3AAAAOXRFWHRTb2Z0d2FyZQBNYXRwbG90bGliIHZlcnNpb24zLjUuMSwgaHR0cHM6Ly9tYXRwbG90bGliLm9yZy/YYfK9AAAACXBIWXMAAAsTAAALEwEAmpwYAAApJklEQVR4nO3de7xVdZ3/8ddbBEXNMLEzCqZWSGpOEgyWNg5qKnZRKvMyjZeZEpvGSisUpn5kVqONUzaNjmlmWl6wSIkmFBvlaD+vaJAKhhKagnhDjnqUFA6f+WN9jy42Z8Peh7P2Oufs9/Px2I+z13ddPt/vvpzPXt/vuigiMDMzq9VmZVfAzMz6FicOMzOrixOHmZnVxYnDzMzq4sRhZmZ1ceIwM7O6OHFY3SQNkjRL0tOSji67PmbWWE4cvZykXSWFpM1LiN0q6TMVZbOAB4FPAecBiyW9TVK7pAENrNuekuZLGpYru0HSiY2qQzOQNE7S0rLrsSGSHpP0wfT8XyVdWnad+jsnjl4m/yUosQ7/LakN+ADwA0mHpfIjgEeAycC3gekR8fuIeDwitomIjirbW6dNko6VtFLS33Wzfm8BLgI+FhHLOssj4vCIuKLKOmdJOis9HydpbUp27ZKWSvq5pL+pow5nSbqyO/XfFJIul/StjSzzTUkPSFrT2ea+oqsfK/WIiH+LiG6vX5T0A/CxsuvRU5w4bD0R8bmIGAL8f+ALETE7zboV+HJEXAf8v4h4rN5tpz2CC4EPR8St3azf8xHxdxHxaNpmq6Qt6tzMkxGxDfAm4H3AH4HfSTq4O3XqZRYDZwC/KbsitVLG/4/6CL9RvYiknwFvA36dfgmfkZv9KUmPS3pO0ldz64yVdKekNknLJV0gaVCad6Gk71bEmCnp9CrxD5H0R0kvSLoAUG7eZsDngT9JegY4X9Kb07yautMknQJ8FzgsIu6ossxDkj6Sm95c0rOS3pum95M0N9UxJAWwNiJe7c6v1cgsjYipwKXAd3Kx/1PSE5JelHSfpL9N5eOBfwWOSe/TH1L5P6b6vyRpSWpvtdfinZJuTe14TtK1uXnvkvRbSc9LWqQ0jiRpIlkX4Rkp7q+rtOmKiLgBeKme12JDJH1Z0jPpM/aPufItJP1H+mw+LemHkganedtJ+p/0/q1Mz4fn1m2V9G1JtwOvAD8D/ha4ILXvgip1OV7SnyWtyH8X0rzX9wQlbSnpyrRcW/rctKR5b5b049SeZZK+pdTVKukdkm5J6z0n6SpJQ3IxzkzrvJTen4NT+WaSJkv6U1r358r2jvufiPCjFz2Ax4AP5qZ3BQL4ETAYeA/wKrBHmj+a7Bfz5mnZh4DT0ryxwJPAZml6KNkXtKWLuEPJ/tEcBQwETgfWAJ9J8/+J7Jfs24FtgOuAn1XUcfMNtOmXwNPAezbS/qnAVbnpDwMPpedvAVYCx6f2Hpemt0/zWzvru5EY44ClXZQfBKwFtk7T/wBsn2J9GXgK2DLNOwu4smL9DwPvIEu4f5de6/dWqcM1wFfJfrxtCXwglW8NPAH8Y4o7CngO2DPNvxz4Vo2fpSuBszbx8zgufQ7OTp+LD6V2bZfmnw/MTO/Nm4BfA+ekedsDnwC2SvN+AczIbbsVeBzYK7V14MbeQ2BPoB04ANgC+F6q3wcr3xfglFSfrYABZN+VbdO864GL0+v9VuAe4JQ0753AIWn7OwC3Ad9P80am92en3Gf/Hen5F4G7gOFp3YuBa8r+n1LEo/QK+FHxhlRPHMNzZfcAx1ZZ/zTg+tz0Q8Ah6fmpwKwq650A3JWbFrCUNxLHzcDncvNHAqt5I2FtLHG8CPyKlMQ20P53kiWwrdL0VcDU9Px44J6K5e8ETkrPN/hPJ7fOOLpOHO9K7RhWZb2VpMRHF4mji+VnAF+sMu+nwCX59zWVHwP8rqLsYuDr6fnlND5xrMq/t8AzZD9WBLzc+Y8zzXs/8GiVbe0DrMxNtwJnVyyzwfeQ7IfFtNz01sBrdJ04/gm4A/jrim20kP34GpwrOw6YUyXmBGBe7vP5DPBBYGDFcg8BB+emd+z8jmzKe9AbH+6q6jueyj1/hexXP5J2T10AT0l6Efg3sr2HTleQ/XIm/f1Zle3vRPZLCsi6cPLTaf6fc9N/JksaLTXW/5+B3YFLJanaQhGxmOwL+FFJWwFHAFdXqUNnPYbRM4aRJY42AElfSV1PLyg7WODNrPvarkPS4ZLuSl1MbWS/zqstfwbZP957JC2Q9E+pfBdg39S10pa28yngrza5dV3XuT33eFuVxVZExJrcdOfnbweyX/P35ep6YypH0laSLk7dSi+S/XIfonWPvst/xmpR+Tl9GVhRZdmfAbOBaZKelPTvkgaSvcYDgeW5el9MtueBpBZJ01J31ItkCXhoireY7MfZWcAzabmdUrxdgOtz23wI6KD270if4cTR+9R7nfuLyAZ2R0TEtmR97/l/zFcCR0p6D7AH2a/griwHdu6cSP/cd87Nf5Lsi9HpbWRdBE/XWM+ngYPJ+rD/eyPLXkP2C/BIYGH6snZVh856LKNnfAz4fUS8rGw84wzgaLJumSHAC7zx2q7zPikbnP8l8B9kXYFDgFms+168LiKeioiTI2Insi6V/5b0TrJ/irdGxJDcY5uI+Oeu4m6qtO3Ox+N1rv4c2d7IXrm6vjmygw4g694bCeybPpsHpPL8a1LZno21r/JzuhVZl9h6ImJ1RHwjIvYE9gM+QrZn/QTZHsfQXL23jYi90qr/luqxd6r3P+TrHBFXR8QHyD6LwRvjYk8Ah1e8d1tG7si//sKJo/d5mmwcoVZvIusGapf0LrJf9q+LiKXAXLJfX7+MiFVVtvMbYC9JH1c2yP0F1v2Vew1wuqTdJG1D9uW6tuKX6AZFxJNkyWO8pPM3sOg04NDUlqtz5bOA3SX9vbJB82PI+rz/p9Y6VFJmmKSvA58hS7yQva5rgGeBzSVNBbbNrfo0sKveOBJoEFm/9rPAGkmHpzZUi/vJ3EDxSrJ/QGtTW3ZPA8AD0+NvJO2Ri7vBz0daZ0uy7/fmaZC4x8+xiYi1ZGNv50vq/LU+TOnwbbLXcBXQlgaJv17DZjfWvunARyR9QNlBIGdT5f+YpAMl7Z3a/iJZt9HaiFgO3AR8V9K2aVD7HXrj8PA3kY2jvKDsPKFJuW2OlHRQ+qHwl9S+tWn2D4FvS9olLbuDpCNraHOf48TR+5wDfC3t7n6lhuW/Avw92bjAj4Bru1jmCmBvqndTERHPAZ8EziXb9R8B3J5b5LK0/m3Ao2Rfms/XUL/KOI+TDUIfJemcKsssJxu72I9ceyJiBdmvxi+nOp4BfCTVvV47SWon+wcxl+z1GRcRN6X5s8m6XR4m6w77C+t2q/wi/V0h6fcR8RJZsv05WSL4e7JB42r+Brg71WEm2VjIkrSdQ4FjyfawniL7Rdt5uPGPgT3T52NGlW3/iOwf2nFkA/CryMaHinAm2UETd6Vunf8l28sA+D7ZAR3PkQ0a31jD9v6T7LOxUtIPKmdGxALgX8h+UCwne62rnaD4V2SJ5kWybqNbeeM7cAJZsl+YtjGdbEwC4BvAe8n2MH9DdiBIpy3IviPPkb03bwWm5Oo+E7hJ0kupzfvW0OY+R2kQx/oxSQeQdVntEn7DzWwTeY+jn0uDgV8ELnXSMLOe4MTRj6V+8TayXfDvl1oZM+s33FVlZmZ18R6HmZnVpeGX6i7D0KFDY9ddd+3Wui+//DJbb711z1aoF8ctM7bb3Byx3ea+E/e+++57LiJ2WG9G2aeuN+IxevTo6K45c+Z0e91NUVbcMmO7zc0R223uO3GBe8OXHDEzs03lxGFmZnUpNHFIGq/sevWLJU3uYv75ym7/OV/Sw+nCYJ3zTpT0SHqcmCsfrezuZosl/SBdU8nMzBqksMHxdH2YC8mua78UmCtpZkQs7FwmIk7PLf95snsPdN4a9OvAGLJr+NyX1l1JdlG/k4G7ya5dNB64oah2mJnZuorc4xgLLI7s+juvkV24bkMX/DqO7EJ6AIcBv43sFqErgd+SXRhvR7IbsdyVBm5+SnatfDMza5AiE8cw1r0o3FKq3DchXU1yN+CWjaw7jHUvaFZ1m2ZmVozech7HscD0iOjoqQ0quz/zRICWlhZaW1u7tZ329vZur7spyopbZmy3uTliu839IG5Xx+j2xIPsFpKzc9NTgClVlp0H7JebPg64ODd9cSrbEfhjteWqPXweR9+I7TY3R2y3ue/EpYTzOOYCI9KNfwaR7VWsd3+CdPOh7cjuv9BpNnCopO0kbUd2f4LZkd2n4UVJ70tHU51Adh9rM7Ne6ZiL7+Scu6vdP61vKqyrKiLWSDqVLAkMAC6LiAWSzibLYp1J5Fiym89Hbt3nJX2TLPlAdkP759PzzwGXk90g5gZ8RJWZWUMVOsYREbPIDpnNl02tmD6ryrqXkd11rrL8XuDdPVdLMzOrh88cNzOzujhxmJlZXZw4zMysLk4cZmZWFycOMzOrixOHmZnVxYnDzMzq4sRhZmZ1ceIwM7O69Jar45qZFeqYi++krW0V48aVXZO+z3scZmZWFycOMzOrixOHmZnVxWMcZmb9UJFjOt7jMDOzujhxmJlZXZw4zMysLk4cZmZWFycOMzOrS6GJQ9J4SYskLZY0ucoyR0taKGmBpKtT2YGS5ucef5E0Ic27XNKjuXn7FNkGMzNbV2GH40oaAFwIHAIsBeZKmhkRC3PLjACmAPtHxEpJbwWIiDnAPmmZtwCLgZtym58UEdOLqrs1l2a8FEUzttl6TpF7HGOBxRGxJCJeA6YBR1YsczJwYUSsBIiIZ7rYzlHADRHxSoF1NTOzGhV5AuAw4Inc9FJg34pldgeQdDswADgrIm6sWOZY4HsVZd+WNBW4GZgcEa9WBpc0EZgI0NLSQmtra7ca0d7e3u11N0VZccuMXVbctrZVdHR0uM0N0mxt7o9xyz5zfHNgBDAOGA7cJmnviGgDkLQjsDcwO7fOFOApYBBwCXAmcHblhiPikjSfMWPGxLhu7pO3trbS3XU3RVlxy4xdVtyLFt1JW1tbw2N3dhfNPrOxcaG8NkPzvc/9MW6RXVXLgJ1z08NTWd5SYGZErI6IR4GHyRJJp6OB6yNidWdBRCyPzKvAT8i6xMzMrEGKTBxzgRGSdpM0iKzLaWbFMjPI9jaQNJSs62pJbv5xwDX5FdJeCJIETAAe7Pmqm5lZNYV1VUXEGkmnknUzDQAui4gFks4G7o2ImWneoZIWAh1kR0utAJC0K9key60Vm75K0g6AgPnAZ4tqg5mZra/QMY6ImAXMqiibmnsewJfSo3Ldx8gG2CvLD+rxipqZWc3KHhw3sybi80f6B19yxMzM6uLEYWZmdXHiMDOzujhxmJkVZMa8Zcx7vI1FK9ey/7m3MGNe5alsfZMTh5lZAWbMW8aU6x7gtY61ACxrW8WU6x7oF8nDicPMrADnzV7EqtUd65StWt3BebMXlVSjnuPEYWZWgCfbVtVV3pc4cZiZFWCnIYPrKu9LnDjMzAow6bCRDB44YJ2ywQMHMOmwkSXVqOf4zHEzswJMGJVdMemM6ffzWsdahg0ZzKTDRr5e3pc5cZiZFWTCqGFcc8/jtLW1MfvM/nOZPXdVmZlZXbzHYb2CL35n1nc4cdg6/A/czDbGXVVmTaa/XgbDGseJw6yJ9OfLYFjjOHGYNZH+fBkMa5xCE4ek8ZIWSVosaXKVZY6WtFDSAklX58o7JM1Pj5m58t0k3Z22ea2kQUW2waw/6c+XwbDGKSxxSBoAXAgcDuwJHCdpz4plRgBTgP0jYi/gtNzsVRGxT3ockSv/DnB+RLwTWAl8uqg2mPU3/fkyGNY4Re5xjAUWR8SSiHgNmAYcWbHMycCFEbESICKe2dAGJQk4CJieiq4AJvRkpc36s/58GQxrnCIPxx0GPJGbXgrsW7HM7gCSbgcGAGdFxI1p3paS7gXWAOdGxAxge6AtItbkttnl+fuSJgITAVpaWmhtbe1WI9rb27u97qYoK25b2yo6OjoaHrusuGXGLiPuEOD4PQZw2YMdrFkbbL/lZnxi9wEMeeERWlsfKTy+3+f+Ebfs8zg2B0YA44DhwG2S9o6INmCXiFgm6e3ALZIeAF6odcMRcQlwCcCYMWNiXDdPTGhtbaW7626KsuJetOhO2traGh67rLhlxi4r7jjgDxffmS6DcXhDY/t97h9xi+yqWgbsnJsensrylgIzI2J1RDwKPEyWSIiIZenvEqAVGAWsAIZI2nwD2zTr9XwuRWP59e5ZRSaOucCIdBTUIOBYYGbFMjPIfgAhaShZ19USSdtJ2iJXvj+wMCICmAMcldY/EfhVgW0w63E+l6Kx/Hr3vMISRxqHOBWYDTwE/DwiFkg6W1LnUVKzgRWSFpIlhEkRsQLYA7hX0h9S+bkRsTCtcybwJUmLycY8flxUG8yK4HMpGqsZX++i97AKHeOIiFnArIqyqbnnAXwpPfLL3AHsXWWbS8iO2Cqcr9tkRfC5FI3VbK93tT0soMfuBeIzx80azOdSNFazvd6N2MNy4rCmVsagqc+laKxme70bsYflxGFNq6xB0wmjhnHOx/dm0IDs6zdsyGDO+fje/eKWor1Rs73ejdjDcuKwplXmoOmEUcMY9bYhjNxuM26ffFC//SfWWzTT692IPayyTwA0K02zDZpac+hMimdMv5/XOtYybMhgJh02skeTpROHNa2dhgxmWRdJor8OmlrzmDBqGNfc83i6OsBBPb59d1VZ02q2QVOznuI9DmtajdilN+uPnDisqRW9S2/WH7mryswawhca7D+cOMyscL7QYP/ixGFmhWvGCw32Z04cZlY4nzPTvzhxmFnhmu1Cg/2dE4eVzoOm/Z/PmelffDiulaoR9w6w8vmcmf7FexxWKg+aluPaU97PlH0b203UTBca7O+cOKxUHjQ163sKTRySxktaJGmxpMlVljla0kJJCyRdncr2kXRnKrtf0jG55S+X9Kik+emxT5FtsGJ50NT6uzL27opWWOKQNAC4EDgc2BM4TtKeFcuMAKYA+0fEXsBpadYrwAmpbDzwfUlDcqtOioh90mN+UW2w4nnQ1KzvKXJwfCywOCKWAEiaBhwJLMwtczJwYUSsBIiIZ9LfhzsXiIgnJT0D7AC0FVhfK4EHTc36no0mDkkfBX4TEWvr3PYw4Inc9FJg34pldk8xbgcGAGdFxI0V8ccCg4A/5Yq/LWkqcDMwOSJe7aLeE4GJAC0tLbS2ttZZfWhrW0VHR0e31t1U7e3tpcQto81DgN22hY6O4Gvv2wxeeITW1kcaFr+s97nMzxeU8xkrs83N9n0usr217HEcQ9ZV9Evgsoj4Yw/HHwGMA4YDt0naOyLaACTtCPwMODGXuKYAT5Elk0uAM4GzKzccEZek+YwZMybGjRtXd+UuWnQnbW1tdGfdTdXa2lpK3LLaXOZr3YxthnI+Y834PkP/e603OsYREf8AjCL7xX95GrSeKOlNG1l1GbBzbnp4KstbCsyMiNUR8SjwMFkiQdK2wG+Ar0bEXbn6LI/Mq8BPyLrEzMysQWoaHI+IF4HpwDRgR+BjwO8lfX4Dq80FRkjaTdIg4FhgZsUyM8j2NpA0lKzrakla/nrgpxExPb9C2gtBkoAJwIO1tMHMzHrGRhOHpCMkXQ+0AgOBsRFxOPAe4MvV1ouINcCpwGzgIeDnEbFA0tmSjkiLzQZWSFoIzCE7WmoFcDRwAHBSF4fdXiXpAeABYCjwrXobbWZm3VfLGMcngPMj4rZ8YUS8IunTG1oxImYBsyrKpuaeB/Cl9MgvcyVwZZVt9vvbtB1z8Z20ta2ipK5vM7MNqiVxnAUs75yQNBhoiYjHIuLmoipmZma9Uy1jHL8A8ofidqQyMzNrQrUkjs0j4rXOifR8UHFVMmsO/fFSFNYcakkcz+YGs5F0JPBccVWysvi+GGZWi1rGOD5LdiTTBYDIzgY/odBaWcP5vhhmVqtaTgD8U0S8j+xChXtExH4Rsbj4qlkj+b4YZlarmi5yKOnDwF7Altl5dxAR613mw/ou3xfDzGpVywmAPyS7XtXnybqqPgnsUnC9rMF8Xwwzq1Utg+P7RcQJwMqI+AbwftJVba3/8H0xzKxWtXRV/SX9fUXSTsAKsutVWT/i+2KYWa1qSRy/TnffOw/4PRDAj4qslJVjwqhhXHPP47S1tTH7zH5/ZRcz66YNJg5JmwE3p/tj/FLS/wBbRsQLjaicmZn1Phsc40g3T7owN/2qk4aZWXOrZXD8ZkmfUOdxuGZm1tRqSRynkF3U8FVJL0p6SdKLBdfLzMx6qY0OjkfExm4Ra2ZmTWSjiUPSAV2VV97YyayvuvaU99Pa2lp2Ncz6jFoOx52Ue74lMBa4D/DxmmbWZ/gHQs+p5SKHH809DgHeDaysZeOSxktaJGmxpMlVljla0kJJCyRdnSs/UdIj6XFirny0pAfSNn/gQXszs/UVeb+Xmi5yWGEpsMfGFpI0gOxQ3kPSOnMlzYyIhbllRgBTgP0jYqWkt6bytwBfB8aQnXB4X1p3JXARcDJwN9n9zMcDN3SjHWZm1g21jHH8F9k/b8j2UPYhO4N8Y8YCiyNiSdrONOBIYGFumZOBC1NCICKeSeWHAb+NiOfTur8FxktqBbaNiLtS+U+BCThxmJk1TC17HPfmnq8BromI22tYbxjZTZ86LQX2rVhmdwBJtwMDgLMi4sYq6w5Lj6VdlJuZWYPUkjimA3+JiA7IuqAkbRURr/RQ/BHAOGA4cJukvXtgu0iaCEwEaGlp6dagWFvbKjo6Oho+oFZW3DJj//NIaG8vp80A7e3tpcQuK25Zscv8bEPzvc9Fxa0lcdwMfBBoT9ODgZuA/Tay3jJg59z08FSWtxS4OyJWA49KepgskSwjSyb5dVtT+fCNbBOAiLgEuARgzJgxMW7cuK4W26CLFt1JW1sb3Vl3U5QVt+zYra2tpcQtM3aztXncuOZrc3+MW8uZ41tGRGfSID3fqob15gIjJO0maRBwLDCzYpkZpAQhaShZ19USYDZwqKTtJG0HHArMjojlwIuS3peOpjoB+FUNdTEzsx5SS+J4WdJ7OyckjQY2ej/RiFgDnEqWBB4Cfh4RCySdLemItNhsYIWkhcAcYFJErEiD4t8kSz5zgbM7B8qBzwGXAouBP+GBcTOzhqqlq+o04BeSniS7dexfkd1KdqMiYhbZIbP5sqm55wF8KT0q170MuKyL8nvJziUxM7MS1HKtqrmS3gV03kN0URqTMDOzJrTRripJ/wJsHREPRsSDwDaSPld81czMrDeqZYzj5HQHQADSyXonF1ajXmLGvGXMe7yNRSvXsv+5tzBjXpcHb5mZNZ1aEseA/PWg0qVEBhVXpfLNmLeMKdc9wGsdawFY1raKKdc94ORhZkZtieNG4FpJB0s6GLiGfn4k03mzF7Fqdcc6ZatWd3De7EUl1cjMrPeo5aiqM8nOwP5smr6f7MiqfuvJtq6PNq5WbmbWTGq5rPpasivRPkZ24cKDyM7L6Ld2GtL1pYirlZuZNZOqiUPS7pK+LumPwH8BjwNExIERcUGjKliGSYeNZPDAAeuUDR44gEmHjayyhplZ89hQV9Ufgd8BH4mIxQCSTm9IrUo2YVR2wd0zpt/Pax1rGTZkMJMOG/l6uZlZM9tQ4vg42fWl5ki6EZhGduZ4U5gwahjX3PM4bW1tzD7Td8k1M+tUtasqImZExLHAu8iuI3Ua8FZJF0k6tEH1MzOzXqaWwfGXI+LqiPgo2WXM55EdaWVmZk2olvM4XhcRKyPikog4uKgKmZlZ71ZX4jAzM3PiMDOzujhxmJlZXZw4zMysLk4cZmZWFycOMzOrS6GJQ9J4SYskLZY0uYv5J0l6VtL89PhMKj8wVzZf0l8kTUjzLpf0aG7ePkW2wczM1lXLZdW7Jd3w6ULgEGApMFfSzIhYWLHotRFxar4gIuYA+6TtvAVYDNyUW2RSREwvqu5mZlZdkXscY4HFEbEkIl4ju9bVkd3YzlHADRHxSo/WzszMuqWwPQ5gGPBEbnopsG8Xy31C0gHAw8DpEfFExfxjge9VlH1b0lTgZmByRLxauVFJE8luQEVLSwutra11N6CtbRUdHR3dWndTlBW37Njt7e2lxC0zttvcHLH7XdyIKORBtqdwaW76eOCCimW2B7ZIz08BbqmYvyPwLDCwokzAFsAVwNSN1WX06NHRHUf/8I449NxZ3Vp3U5QVt+zYc+bMKSVumbHd5uaI3VfjAvdGF/9Ti+yqWgbsnJsenspeFxEr4o29hUuB0RXbOBq4PiJW59ZZntr0KvATsi4xMzNrkCITx1xghKTdJA0i63KamV9A0o65ySNY/5a0xwHXdLWOJAETgAd7ttrN7dpT3s+UfX2LXDOrrrDEERFrgFOB2WQJ4ecRsUDS2ZKOSIt9QdICSX8AvgCc1Lm+pF3J9lhurdj0VZIeAB4AhgLfKqoNZZgxbxnzHm9j0cq17H/uLcyYt2zjK5mZNVCRg+NExCxgVkXZ1NzzKcCUKus+RjbAXlneb2/HN2PeMqZc9wCvdawFYFnbKqZc9wCAb1trZr2GzxzvRc6bvYhVqzvWKVu1uoPzZi8qqUZmZutz4uhFnmxbVVe5mVkZnDh6kZ2GdD0oXa3czKwMThy9yKTDRjJ44IB1ygYPHMCkw0aWVCMzs/UVOjhu9ekcAD9j+v281rGWYUMGM+mwkR4YN7NexYmjl5kwahjX3PM4bW1tzD6z3x5AZmZ9mLuqzMysLk4cZmZWFycOMzOrixOHmZnVxYnDzMzq4sRhZmZ1ceIwM7O6OHGYmVldnDjMzKwuThxmZlYXJw4zM6uLE4eZmdWl0MQhabykRZIWS5rcxfyTJD0raX56fCY3ryNXPjNXvpuku9M2r5U0qMg2mJnZugpLHJIGABcChwN7AsdJ2rOLRa+NiH3S49Jc+apc+RG58u8A50fEO4GVwKeLaoOZma2vyD2OscDiiFgSEa8B04AjN2WDkgQcBExPRVcAEzZlm2ZmVh9FRDEblo4CxkfEZ9L08cC+EXFqbpmTgHOAZ4GHgdMj4ok0bw0wH1gDnBsRMyQNBe5KextI2hm4ISLe3UX8icBEgJaWltHTpk2ruw3n3L2Kjo4OvrbfNnWvuynKitupvb2dbbZpfOyy4pYZ221ujth9Ne6BBx54X0SMWW9GRBTyAI4CLs1NHw9cULHM9sAW6fkpwC25ecPS37cDjwHvAIaS7cV0LrMz8ODG6jJ69OjojqN/eEcceu6sbq27KcqK22nOnDlNFbfM2G5zc8Tuq3GBe6OL/6lFdlUtS//YOw1PZa+LiBUR8WqavBQYnZu3LP1dArQCo4AVwBBJnXcuXG+bZmZWrCITx1xgRDoKahBwLDAzv4CkHXOTRwAPpfLtJG2Rng8F9gcWpgw4h2xvBuBE4FcFtsHMzCoUds/xiFgj6VRgNjAAuCwiFkg6m2z3ZybwBUlHkI1jPA+clFbfA7hY0lqy5HZuRCxM884Epkn6FjAP+HFRbTAzs/UVljgAImIWMKuibGru+RRgShfr3QHsXWWbS8iO2DIzsxL4zHEzM6uLE4eZmdXFicPMzOrixGFmZnVx4jAzs7o4cZiZWV2cOMzMrC5OHGZmVhcnDjMzq4sTh5mZ1cWJw8zM6uLEsQHXnvJ+puw7uOxqmJn1Kk4cZmZWFycOMzOrixOHmZnVxYnDzMzq4sRhZmZ1ceIwM7O6FJo4JI2XtEjSYkmTu5h/kqRnJc1Pj8+k8n0k3SlpgaT7JR2TW+dySY/m1tmnyDaYmdm6CrvnuKQBwIXAIcBSYK6kmRGxsGLRayPi1IqyV4ATIuIRSTsB90maHRFtaf6kiJheVN3NzKy6Ivc4xgKLI2JJRLwGTAOOrGXFiHg4Ih5Jz58EngF2KKymZmZWM0VEMRuWjgLGR0Rn99PxwL75vQtJJwHnAM8CDwOnR8QTFdsZC1wB7BURayVdDrwfeBW4GZgcEa92EX8iMBGgpaVl9LRp07rVjvb2drbZZpturdtd59y9io6ODr62X2PjdiqjzWXGLTO229wcsftq3AMPPPC+iBiz3oyIKOQBHAVcmps+HrigYpntgS3S81OAWyrm7wgsAt5XUSZgC7KEMnVjdRk9enR015w5c7q9bncd/cM74tBzZzU8bqcy2lxm3DJju83NEbuvxgXujS7+pxbZVbUM2Dk3PTyVvS4iVsQbewuXAqM750naFvgN8NWIuCu3zvLUpleBn5B1iZmZWYMUmTjmAiMk7SZpEHAsMDO/gKQdc5NHAA+l8kHA9cBPo2IQvHMdSQImAA8W1QAzM1tfYUdVRcQaSacCs4EBwGURsUDS2WS7PzOBL0g6AlgDPA+clFY/GjgA2D6NgwCcFBHzgask7UDWXTUf+GxRbTAzs/UVljgAImIWMKuibGru+RRgShfrXQlcWWWbB/VwNc3MrA4+c9zMzOrixGFmZnVx4jAzs7o4cZiZWV2cOHoh3+vczHozJw4zM6uLE4eZmdXFicPMzOrixGFmZnVx4jAzs7o4cZiZWV2cOMzMrC5OHGZmVhcnDjMzq0th9xzvTSQ9C/y5m6sPBZ7rwer09rhlxnabmyO229x34u4SETtUFjZF4tgUku6Nrm7W3k/jlhnbbW6O2G5z34/rriozM6uLE4eZmdXFiWPjLmmyuGXGdpubI7bb3MfjeozDzMzq4j0OMzOrixOHmZnVxYmjCkmXSXpG0oMNjrulpHsk/UHSAknfaHD8xyQ9IGm+pHsbFHNkitf5eFHSaQ2K/UVJD6bXutCYXX2mJL1F0m8lPZL+bteguJ9MbV4rqbDDRKvE/qak+9N7fZOknRoU9yxJy3Kfsw8VEHdnSXMkLUyv7xdTeeHvc4qz3ve3kNgR4UcXD+AA4L3Agw2OK2Cb9HwgcDfwvgbGfwwYWuLrPgB4iuzEo6JjvRt4ENgK2Bz4X+CdBcZb7zMF/DswOT2fDHynQXH3AEYCrcCYBrd529zzLwA/bFDcs4CvFPyZ2hF4b3r+JuBhYM9GvM9p2+t9f4uI7T2OKiLiNuD5EuJGRLSnyYHp0UxHMBwM/Ckiunumfz32AO6OiFciYg1wK/DxooJV+UwdCVyRnl8BTGhE3Ih4KCIW9XSsGmO/mJvcmgI+3yV+f5dHxO/T85eAh4BhNOB93oAej+3E0QtJGiBpPvAM8NuIuLuB4QO4SdJ9kiY2MG6nY4FrGhTrQeBvJW0vaSvgQ8DODYrdqSUilqfnTwEtDY5fCknflvQE8ClgagNDn5q6yS4rqruok6RdgVFkvQaNep+7+v72eGwnjl4oIjoiYh9gODBW0rsbGP4DEfFe4HDgXyQd0KjAkgYBRwC/aES8iHgI+A5wE3AjMB/oaETsKvUJmmTvMiK+GhE7A1cBpzYo7EXAO4B9gOXAd4sKJGkb4JfAaRV7WEW/zxv8/vZUbCeOXiwi2oA5wPgGxlyW/j4DXA+MbVRssg/77yPi6UYFjIgfR8ToiDgAWEnWJ91IT0vaESD9fabB8ct2FfCJRgSKiKfTj7K1wI8o6LMtaSBZ0rgqIq5LxQ15n6t8f3s8thNHLyNpB0lD0vPBwCHAHxsUe2tJb+p8DhxK1p3TKMfRuG4qACS9Nf19G9n4xtWNjA/MBE5Mz08EftXg+A0naURu8kga9/neMTf5MQr4bEsS8GPgoYj4Xm5W4e/zBr6/PR+7yCMM+vKD7B/YcmA1sBT4dIPi/jUwD7g/velTG9jmtwN/SI8FwFcbGHtrYAXw5ga/z78DFqY2H9zozxSwPXAz8AjZUV1vaVDcj6XnrwJPA7Mb2OZfps/2/cCvgWENivsz4IEUdyawYwFxP0DWFXQ/WdfnfLKxs0a8z11+f4uI7UuOmJlZXdxVZWZmdXHiMDOzujhxmJlZXZw4zMysLk4cZmZWFycOsxJIas89/5CkhyXtUmadzGq1edkVMGtmkg4GfgAcFo25sKPZJnPiMCtJuo7Qj4APRcSfyq6PWa18AqBZCSStBl4CxkXE/WXXx6weHuMwK8dq4A6yS2GY9SlOHGblWAscTXbZ/H8tuzJm9fAYh1lJIuIVSR8Gfifp6Yj4cdl1MquFE4dZiSLieUnjgdskPRsRM8uuk9nGeHDczMzq4jEOMzOrixOHmZnVxYnDzMzq4sRhZmZ1ceIwM7O6OHGYmVldnDjMzKwu/wfEHJ+D2XNyYgAAAABJRU5ErkJggg==",
=======
   "execution_count": 83,
   "metadata": {},
   "outputs": [
    {
     "data": {
      "image/png": "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",
>>>>>>> af529cf35be5107163fae19f52eba47fb5167a36
      "text/plain": [
       "<Figure size 432x288 with 1 Axes>"
      ]
     },
     "metadata": {
      "needs_background": "light"
     },
     "output_type": "display_data"
    },
    {
     "name": "stdout",
     "output_type": "stream",
     "text": [
<<<<<<< HEAD
      "Accuracy max:  0.6626506024096386\n"
=======
      "Maximum KNN Score is 100.00%\n"
>>>>>>> af529cf35be5107163fae19f52eba47fb5167a36
     ]
    }
   ],
   "source": [
    "# try ro find best k value với thư viện KNeighborsClassifier\n",
    "scoreList = []\n",
    "for i in range(1,30):\n",
    "    knn2 = KNeighborsClassifier(n_neighbors = i)  # n_neighbors means k\n",
    "    knn2.fit(X_train, y_train)\n",
    "    scoreList.append(knn2.score(X_test, y_test))\n",
    "    \n",
    "plt.plot(range(1,30), scoreList)\n",
    "plt.xticks(np.arange(1,30,1))\n",
    "plt.xlabel(\"K value\")\n",
    "plt.ylabel(\"Score\")\n",
    "plt.show()\n",
    "\n",
    "acc = max(scoreList)*100\n",
    "print(\"Maximum KNN Score is {:.2f}%\".format(acc))"
   ]
  },
  {
   "cell_type": "code",
<<<<<<< HEAD
   "execution_count": 285,
=======
   "execution_count": 87,
>>>>>>> af529cf35be5107163fae19f52eba47fb5167a36
   "metadata": {},
   "outputs": [
    {
     "name": "stdout",
     "output_type": "stream",
     "text": [
      "KNN: 0.7108433734939759\n"
     ]
    },
    {
     "data": {
      "image/png": "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",
      "text/plain": [
       "<Figure size 432x288 with 2 Axes>"
      ]
     },
     "metadata": {
      "needs_background": "light"
     },
     "output_type": "display_data"
    },
    {
     "data": {
      "text/plain": [
       "<Figure size 864x864 with 0 Axes>"
      ]
     },
     "metadata": {},
     "output_type": "display_data"
    }
   ],
   "source": [
    "# Test với bộ tham số tốt nhất\n",
    "knn = KNeighborsClassifier(n_neighbors=9)\n",
    "knn.fit(X_train, y_train)\n",
    "\n",
    "print(f'KNN: {accuracy_score(y_test, knn.predict(X_test))}')\n",
    "# Hiển thị confusion matrix\n",
    "\n",
<<<<<<< HEAD
    "plot_confusion_matrix(knn, X_test, y_test, cmap = plt.cm.Blues)  \n",
    "\n",
    "max_accuracy.append(accuracy_score(y_test, knn.predict(X_test)))\n",
    "\n",
=======
    "plot_confusion_matrix(knn, X_test, y_test, cmap=plt.cm.Blues)  \n",
>>>>>>> af529cf35be5107163fae19f52eba47fb5167a36
    "plt.figure(figsize = (12, 12))\n",
    "plt.show()"
   ]
  },
  {
   "cell_type": "code",
<<<<<<< HEAD
   "execution_count": 286,
=======
   "execution_count": 85,
>>>>>>> af529cf35be5107163fae19f52eba47fb5167a36
   "metadata": {},
   "outputs": [
    {
     "name": "stdout",
     "output_type": "stream",
     "text": [
      "              precision    recall  f1-score   support\n",
      "\n",
<<<<<<< HEAD
      "           0       0.50      0.25      0.33         4\n",
      "           1       0.62      0.68      0.65        19\n",
      "           2       0.79      0.61      0.69        31\n",
      "           3       0.72      0.90      0.80        29\n",
      "\n",
      "    accuracy                           0.71        83\n",
      "   macro avg       0.66      0.61      0.62        83\n",
      "weighted avg       0.71      0.71      0.70        83\n",
=======
      "           0       0.90      0.83      0.86        75\n",
      "           1       0.85      0.91      0.88        79\n",
      "\n",
      "    accuracy                           0.87       154\n",
      "   macro avg       0.87      0.87      0.87       154\n",
      "weighted avg       0.87      0.87      0.87       154\n",
>>>>>>> af529cf35be5107163fae19f52eba47fb5167a36
      "\n"
     ]
    }
   ],
   "source": [
    "# Generating classification report\n",
    "from sklearn.metrics import classification_report\n",
    "y_pred = knn.predict(X_test)\n",
    "print(classification_report(y_test, y_pred))"
   ]
  },
  {
   "cell_type": "code",
<<<<<<< HEAD
   "execution_count": 287,
   "metadata": {},
   "outputs": [
    {
     "data": {
      "image/png": "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",
      "text/plain": [
       "<Figure size 360x360 with 1 Axes>"
      ]
     },
     "metadata": {
      "needs_background": "light"
     },
     "output_type": "display_data"
    }
   ],
   "source": [
    "# Độ chính xác giữa mô hình học máy tự code và sử dụng thư viện\n",
    "objects = (\"Tự code\", \"Thư viện\")\n",
    "y_pos = np.arange(len(objects))\n",
    "\n",
    "fig, ax = plt.subplots(figsize=(5, 5))\n",
    "rects1 = ax.bar(y_pos, max_accuracy, align='center', alpha=0.9)\n",
    "plt.xticks(y_pos, objects)\n",
    "plt.ylabel('Accuracy')\n",
    "plt.title('Accuracy - KNN - Dataset2')\n",
    "\n",
    "ax.bar_label(rects1, padding=3)\n",
    "\n",
    "top_side = ax.spines[\"top\"]\n",
    "top_side. set_visible(False)\n",
    "\n",
    "plt.show()"
=======
   "execution_count": 89,
   "metadata": {},
   "outputs": [
    {
     "name": "stdout",
     "output_type": "stream",
     "text": [
      "Tỉ lệ dự đoán đúng người bị bệnh là  1.0\n",
      "Tỉ lệ dự đoán đúng người không bị bệnh là 1.0\n"
     ]
    }
   ],
   "source": [
    "from sklearn.metrics import precision_score, recall_score\n",
    "recall_s = recall_score(y_test, knn.predict(X_test), average=None)\n",
    "print('Tỉ lệ dự đoán đúng người bị bệnh là ', recall_s[1])\n",
    "print('Tỉ lệ dự đoán đúng người không bị bệnh là', recall_s[0])"
>>>>>>> af529cf35be5107163fae19f52eba47fb5167a36
   ]
  }
 ],
 "metadata": {
  "interpreter": {
   "hash": "4159a2d9aa0fcc8ba4f45092bc8203461471d72464d2e7a8d66c38d8a5c8583c"
  },
  "kernelspec": {
   "display_name": "Python 3.8.8 64-bit ('base': conda)",
   "language": "python",
   "name": "python3"
  },
  "language_info": {
   "codemirror_mode": {
    "name": "ipython",
    "version": 3
   },
   "file_extension": ".py",
   "mimetype": "text/x-python",
   "name": "python",
   "nbconvert_exporter": "python",
   "pygments_lexer": "ipython3",
   "version": "3.9.7"
  },
  "orig_nbformat": 4
 },
 "nbformat": 4,
 "nbformat_minor": 2
}
