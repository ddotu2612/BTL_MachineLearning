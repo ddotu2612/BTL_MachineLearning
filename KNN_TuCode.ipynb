{
 "cells": [
  {
   "cell_type": "code",
   "execution_count": 104,
   "metadata": {},
   "outputs": [],
   "source": [
    "import numpy as np\n",
    "import os\n",
    "import matplotlib.pyplot as plt\n",
    "from tqdm import tqdm\n",
    "\n",
    "from sklearn.metrics import accuracy_score\n",
    "from sklearn.model_selection import train_test_split\n",
    "from sklearn.metrics import accuracy_score, confusion_matrix, plot_confusion_matrix\n",
    "from sklearn.model_selection import learning_curve\n",
    "# KNN Model\n",
    "from sklearn.neighbors import KNeighborsClassifier\n",
    "from collections import Counter"
   ]
  },
  {
   "cell_type": "code",
   "execution_count": 105,
   "metadata": {},
   "outputs": [
    {
     "name": "stdout",
     "output_type": "stream",
     "text": [
      "So luong du lieu:  412\n",
      "So luong nhan:  412\n"
     ]
    },
    {
     "data": {
      "text/html": [
       "<div>\n",
       "<style scoped>\n",
       "    .dataframe tbody tr th:only-of-type {\n",
       "        vertical-align: middle;\n",
       "    }\n",
       "\n",
       "    .dataframe tbody tr th {\n",
       "        vertical-align: top;\n",
       "    }\n",
       "\n",
       "    .dataframe thead th {\n",
       "        text-align: right;\n",
       "    }\n",
       "</style>\n",
       "<table border=\"1\" class=\"dataframe\">\n",
       "  <thead>\n",
       "    <tr style=\"text-align: right;\">\n",
       "      <th></th>\n",
       "      <th>Drug</th>\n",
       "      <th>Ascites</th>\n",
       "      <th>Hepatomegaly</th>\n",
       "      <th>Spiders</th>\n",
       "      <th>Edema</th>\n",
       "      <th>Bilirubin</th>\n",
       "      <th>Cholesterol</th>\n",
       "      <th>Albumin</th>\n",
       "      <th>Copper</th>\n",
       "      <th>Alk_Phos</th>\n",
       "      <th>SGOT</th>\n",
       "      <th>Tryglicerides</th>\n",
       "      <th>Platelets</th>\n",
       "      <th>Prothrombin</th>\n",
       "    </tr>\n",
       "  </thead>\n",
       "  <tbody>\n",
       "    <tr>\n",
       "      <th>0</th>\n",
       "      <td>0</td>\n",
       "      <td>1</td>\n",
       "      <td>1</td>\n",
       "      <td>1</td>\n",
       "      <td>2</td>\n",
       "      <td>14.5</td>\n",
       "      <td>261.0</td>\n",
       "      <td>2.60</td>\n",
       "      <td>156.0</td>\n",
       "      <td>1718.0</td>\n",
       "      <td>137.95</td>\n",
       "      <td>172.0</td>\n",
       "      <td>190.0</td>\n",
       "      <td>12.2</td>\n",
       "    </tr>\n",
       "    <tr>\n",
       "      <th>1</th>\n",
       "      <td>0</td>\n",
       "      <td>0</td>\n",
       "      <td>1</td>\n",
       "      <td>1</td>\n",
       "      <td>0</td>\n",
       "      <td>1.1</td>\n",
       "      <td>302.0</td>\n",
       "      <td>4.14</td>\n",
       "      <td>54.0</td>\n",
       "      <td>7394.8</td>\n",
       "      <td>113.52</td>\n",
       "      <td>88.0</td>\n",
       "      <td>221.0</td>\n",
       "      <td>10.6</td>\n",
       "    </tr>\n",
       "    <tr>\n",
       "      <th>2</th>\n",
       "      <td>0</td>\n",
       "      <td>0</td>\n",
       "      <td>0</td>\n",
       "      <td>0</td>\n",
       "      <td>1</td>\n",
       "      <td>1.4</td>\n",
       "      <td>176.0</td>\n",
       "      <td>3.48</td>\n",
       "      <td>210.0</td>\n",
       "      <td>516.0</td>\n",
       "      <td>96.10</td>\n",
       "      <td>55.0</td>\n",
       "      <td>151.0</td>\n",
       "      <td>12.0</td>\n",
       "    </tr>\n",
       "    <tr>\n",
       "      <th>3</th>\n",
       "      <td>0</td>\n",
       "      <td>0</td>\n",
       "      <td>1</td>\n",
       "      <td>1</td>\n",
       "      <td>1</td>\n",
       "      <td>1.8</td>\n",
       "      <td>244.0</td>\n",
       "      <td>2.54</td>\n",
       "      <td>64.0</td>\n",
       "      <td>6121.8</td>\n",
       "      <td>60.63</td>\n",
       "      <td>92.0</td>\n",
       "      <td>183.0</td>\n",
       "      <td>10.3</td>\n",
       "    </tr>\n",
       "    <tr>\n",
       "      <th>4</th>\n",
       "      <td>1</td>\n",
       "      <td>0</td>\n",
       "      <td>1</td>\n",
       "      <td>1</td>\n",
       "      <td>0</td>\n",
       "      <td>3.4</td>\n",
       "      <td>279.0</td>\n",
       "      <td>3.53</td>\n",
       "      <td>143.0</td>\n",
       "      <td>671.0</td>\n",
       "      <td>113.15</td>\n",
       "      <td>72.0</td>\n",
       "      <td>136.0</td>\n",
       "      <td>10.9</td>\n",
       "    </tr>\n",
       "  </tbody>\n",
       "</table>\n",
       "</div>"
      ],
      "text/plain": [
       "   Drug  Ascites  Hepatomegaly  Spiders  Edema  Bilirubin  Cholesterol  \\\n",
       "0     0        1             1        1      2       14.5        261.0   \n",
       "1     0        0             1        1      0        1.1        302.0   \n",
       "2     0        0             0        0      1        1.4        176.0   \n",
       "3     0        0             1        1      1        1.8        244.0   \n",
       "4     1        0             1        1      0        3.4        279.0   \n",
       "\n",
       "   Albumin  Copper  Alk_Phos    SGOT  Tryglicerides  Platelets  Prothrombin  \n",
       "0     2.60   156.0    1718.0  137.95          172.0      190.0         12.2  \n",
       "1     4.14    54.0    7394.8  113.52           88.0      221.0         10.6  \n",
       "2     3.48   210.0     516.0   96.10           55.0      151.0         12.0  \n",
       "3     2.54    64.0    6121.8   60.63           92.0      183.0         10.3  \n",
       "4     3.53   143.0     671.0  113.15           72.0      136.0         10.9  "
      ]
     },
     "execution_count": 105,
     "metadata": {},
     "output_type": "execute_result"
    }
   ],
   "source": [
    "import pickle \n",
    "\n",
    "# # Đọc dữ liệu bệnh tim, phân loại nhị phân\n",
    "# with open('preprocessing/heart/X.pkl', 'rb') as f:\n",
    "#     X = pickle.load(f)\n",
    "# with open('preprocessing/heart/y.pkl', 'rb') as f:\n",
    "#     y = pickle.load(f)\n",
    "\n",
    "with open('preprocessing/cirrhosis/X.pkl', 'br') as f:\n",
    "    X = pickle.load(f)\n",
    "\n",
    "with open('preprocessing/cirrhosis/y.pkl', 'rb') as f:\n",
    "    y = pickle.load(f)\n",
    "\n",
    "print('So luong du lieu: ', len(X))\n",
    "print('So luong nhan: ', len(y))\n",
    "X[0:5]"
   ]
  },
  {
   "cell_type": "code",
   "execution_count": 92,
   "metadata": {},
   "outputs": [
    {
     "data": {
      "text/html": [
       "<div>\n",
       "<style scoped>\n",
       "    .dataframe tbody tr th:only-of-type {\n",
       "        vertical-align: middle;\n",
       "    }\n",
       "\n",
       "    .dataframe tbody tr th {\n",
       "        vertical-align: top;\n",
       "    }\n",
       "\n",
       "    .dataframe thead th {\n",
       "        text-align: right;\n",
       "    }\n",
       "</style>\n",
       "<table border=\"1\" class=\"dataframe\">\n",
       "  <thead>\n",
       "    <tr style=\"text-align: right;\">\n",
       "      <th></th>\n",
       "      <th>N_Days</th>\n",
       "      <th>Age</th>\n",
       "      <th>Bilirubin</th>\n",
       "      <th>Cholesterol</th>\n",
       "      <th>Albumin</th>\n",
       "      <th>Copper</th>\n",
       "      <th>Alk_Phos</th>\n",
       "      <th>SGOT</th>\n",
       "      <th>Tryglicerides</th>\n",
       "      <th>Platelets</th>\n",
       "      <th>...</th>\n",
       "      <th>Sex_1</th>\n",
       "      <th>Ascites_0</th>\n",
       "      <th>Ascites_1</th>\n",
       "      <th>Hepatomegaly_0</th>\n",
       "      <th>Hepatomegaly_1</th>\n",
       "      <th>Spiders_0</th>\n",
       "      <th>Spiders_1</th>\n",
       "      <th>Edema_0</th>\n",
       "      <th>Edema_1</th>\n",
       "      <th>Edema_2</th>\n",
       "    </tr>\n",
       "  </thead>\n",
       "  <tbody>\n",
       "    <tr>\n",
       "      <th>211</th>\n",
       "      <td>0.449095</td>\n",
       "      <td>0.403846</td>\n",
       "      <td>0.032491</td>\n",
       "      <td>0.067674</td>\n",
       "      <td>0.753731</td>\n",
       "      <td>0.011986</td>\n",
       "      <td>0.059469</td>\n",
       "      <td>0.213562</td>\n",
       "      <td>0.124408</td>\n",
       "      <td>0.321357</td>\n",
       "      <td>...</td>\n",
       "      <td>0</td>\n",
       "      <td>1</td>\n",
       "      <td>0</td>\n",
       "      <td>1</td>\n",
       "      <td>0</td>\n",
       "      <td>1</td>\n",
       "      <td>0</td>\n",
       "      <td>1</td>\n",
       "      <td>0</td>\n",
       "      <td>0</td>\n",
       "    </tr>\n",
       "    <tr>\n",
       "      <th>385</th>\n",
       "      <td>0.279133</td>\n",
       "      <td>0.826923</td>\n",
       "      <td>0.003610</td>\n",
       "      <td>0.065619</td>\n",
       "      <td>0.399254</td>\n",
       "      <td>0.141096</td>\n",
       "      <td>0.052056</td>\n",
       "      <td>0.281198</td>\n",
       "      <td>0.064397</td>\n",
       "      <td>0.221557</td>\n",
       "      <td>...</td>\n",
       "      <td>0</td>\n",
       "      <td>1</td>\n",
       "      <td>0</td>\n",
       "      <td>1</td>\n",
       "      <td>0</td>\n",
       "      <td>1</td>\n",
       "      <td>0</td>\n",
       "      <td>1</td>\n",
       "      <td>0</td>\n",
       "      <td>0</td>\n",
       "    </tr>\n",
       "    <tr>\n",
       "      <th>101</th>\n",
       "      <td>0.643248</td>\n",
       "      <td>0.576923</td>\n",
       "      <td>0.021661</td>\n",
       "      <td>0.077341</td>\n",
       "      <td>0.750000</td>\n",
       "      <td>0.287671</td>\n",
       "      <td>0.027991</td>\n",
       "      <td>0.128080</td>\n",
       "      <td>0.098087</td>\n",
       "      <td>0.131737</td>\n",
       "      <td>...</td>\n",
       "      <td>0</td>\n",
       "      <td>1</td>\n",
       "      <td>0</td>\n",
       "      <td>1</td>\n",
       "      <td>0</td>\n",
       "      <td>1</td>\n",
       "      <td>0</td>\n",
       "      <td>1</td>\n",
       "      <td>0</td>\n",
       "      <td>0</td>\n",
       "    </tr>\n",
       "    <tr>\n",
       "      <th>120</th>\n",
       "      <td>0.031552</td>\n",
       "      <td>0.788462</td>\n",
       "      <td>0.036101</td>\n",
       "      <td>0.018731</td>\n",
       "      <td>0.417910</td>\n",
       "      <td>0.118151</td>\n",
       "      <td>0.062264</td>\n",
       "      <td>0.093887</td>\n",
       "      <td>0.036673</td>\n",
       "      <td>0.301397</td>\n",
       "      <td>...</td>\n",
       "      <td>1</td>\n",
       "      <td>0</td>\n",
       "      <td>1</td>\n",
       "      <td>0</td>\n",
       "      <td>1</td>\n",
       "      <td>1</td>\n",
       "      <td>0</td>\n",
       "      <td>0</td>\n",
       "      <td>0</td>\n",
       "      <td>1</td>\n",
       "    </tr>\n",
       "    <tr>\n",
       "      <th>207</th>\n",
       "      <td>0.181531</td>\n",
       "      <td>0.673077</td>\n",
       "      <td>0.129964</td>\n",
       "      <td>0.166767</td>\n",
       "      <td>0.462687</td>\n",
       "      <td>0.092466</td>\n",
       "      <td>0.086387</td>\n",
       "      <td>0.329818</td>\n",
       "      <td>0.180558</td>\n",
       "      <td>0.187625</td>\n",
       "      <td>...</td>\n",
       "      <td>0</td>\n",
       "      <td>1</td>\n",
       "      <td>0</td>\n",
       "      <td>0</td>\n",
       "      <td>1</td>\n",
       "      <td>1</td>\n",
       "      <td>0</td>\n",
       "      <td>1</td>\n",
       "      <td>0</td>\n",
       "      <td>0</td>\n",
       "    </tr>\n",
       "    <tr>\n",
       "      <th>...</th>\n",
       "      <td>...</td>\n",
       "      <td>...</td>\n",
       "      <td>...</td>\n",
       "      <td>...</td>\n",
       "      <td>...</td>\n",
       "      <td>...</td>\n",
       "      <td>...</td>\n",
       "      <td>...</td>\n",
       "      <td>...</td>\n",
       "      <td>...</td>\n",
       "      <td>...</td>\n",
       "      <td>...</td>\n",
       "      <td>...</td>\n",
       "      <td>...</td>\n",
       "      <td>...</td>\n",
       "      <td>...</td>\n",
       "      <td>...</td>\n",
       "      <td>...</td>\n",
       "      <td>...</td>\n",
       "      <td>...</td>\n",
       "      <td>...</td>\n",
       "    </tr>\n",
       "    <tr>\n",
       "      <th>57</th>\n",
       "      <td>0.929323</td>\n",
       "      <td>0.346154</td>\n",
       "      <td>0.014440</td>\n",
       "      <td>0.073716</td>\n",
       "      <td>0.791045</td>\n",
       "      <td>0.118151</td>\n",
       "      <td>0.413665</td>\n",
       "      <td>0.116521</td>\n",
       "      <td>0.157747</td>\n",
       "      <td>0.508982</td>\n",
       "      <td>...</td>\n",
       "      <td>1</td>\n",
       "      <td>1</td>\n",
       "      <td>0</td>\n",
       "      <td>1</td>\n",
       "      <td>0</td>\n",
       "      <td>1</td>\n",
       "      <td>0</td>\n",
       "      <td>1</td>\n",
       "      <td>0</td>\n",
       "      <td>0</td>\n",
       "    </tr>\n",
       "    <tr>\n",
       "      <th>321</th>\n",
       "      <td>0.251367</td>\n",
       "      <td>0.500000</td>\n",
       "      <td>0.043321</td>\n",
       "      <td>0.035106</td>\n",
       "      <td>0.544776</td>\n",
       "      <td>0.113527</td>\n",
       "      <td>0.085151</td>\n",
       "      <td>0.225894</td>\n",
       "      <td>0.059133</td>\n",
       "      <td>0.367265</td>\n",
       "      <td>...</td>\n",
       "      <td>0</td>\n",
       "      <td>1</td>\n",
       "      <td>0</td>\n",
       "      <td>1</td>\n",
       "      <td>0</td>\n",
       "      <td>1</td>\n",
       "      <td>0</td>\n",
       "      <td>1</td>\n",
       "      <td>0</td>\n",
       "      <td>0</td>\n",
       "    </tr>\n",
       "    <tr>\n",
       "      <th>354</th>\n",
       "      <td>0.121161</td>\n",
       "      <td>0.288462</td>\n",
       "      <td>0.187726</td>\n",
       "      <td>0.052085</td>\n",
       "      <td>0.130597</td>\n",
       "      <td>0.133390</td>\n",
       "      <td>0.001074</td>\n",
       "      <td>0.253866</td>\n",
       "      <td>0.024039</td>\n",
       "      <td>0.908184</td>\n",
       "      <td>...</td>\n",
       "      <td>0</td>\n",
       "      <td>1</td>\n",
       "      <td>0</td>\n",
       "      <td>0</td>\n",
       "      <td>1</td>\n",
       "      <td>1</td>\n",
       "      <td>0</td>\n",
       "      <td>1</td>\n",
       "      <td>0</td>\n",
       "      <td>0</td>\n",
       "    </tr>\n",
       "    <tr>\n",
       "      <th>16</th>\n",
       "      <td>0.153134</td>\n",
       "      <td>0.500000</td>\n",
       "      <td>0.086643</td>\n",
       "      <td>0.093051</td>\n",
       "      <td>0.444030</td>\n",
       "      <td>0.265411</td>\n",
       "      <td>0.093226</td>\n",
       "      <td>0.251175</td>\n",
       "      <td>0.175294</td>\n",
       "      <td>0.323353</td>\n",
       "      <td>...</td>\n",
       "      <td>0</td>\n",
       "      <td>1</td>\n",
       "      <td>0</td>\n",
       "      <td>0</td>\n",
       "      <td>1</td>\n",
       "      <td>1</td>\n",
       "      <td>0</td>\n",
       "      <td>1</td>\n",
       "      <td>0</td>\n",
       "      <td>0</td>\n",
       "    </tr>\n",
       "    <tr>\n",
       "      <th>118</th>\n",
       "      <td>0.099706</td>\n",
       "      <td>0.538462</td>\n",
       "      <td>0.010830</td>\n",
       "      <td>0.311782</td>\n",
       "      <td>0.697761</td>\n",
       "      <td>0.214041</td>\n",
       "      <td>0.049908</td>\n",
       "      <td>0.206724</td>\n",
       "      <td>0.150728</td>\n",
       "      <td>0.487026</td>\n",
       "      <td>...</td>\n",
       "      <td>0</td>\n",
       "      <td>1</td>\n",
       "      <td>0</td>\n",
       "      <td>1</td>\n",
       "      <td>0</td>\n",
       "      <td>0</td>\n",
       "      <td>1</td>\n",
       "      <td>1</td>\n",
       "      <td>0</td>\n",
       "      <td>0</td>\n",
       "    </tr>\n",
       "  </tbody>\n",
       "</table>\n",
       "<p>350 rows × 27 columns</p>\n",
       "</div>"
      ],
      "text/plain": [
       "       N_Days       Age  Bilirubin  Cholesterol   Albumin    Copper  Alk_Phos  \\\n",
       "211  0.449095  0.403846   0.032491     0.067674  0.753731  0.011986  0.059469   \n",
       "385  0.279133  0.826923   0.003610     0.065619  0.399254  0.141096  0.052056   \n",
       "101  0.643248  0.576923   0.021661     0.077341  0.750000  0.287671  0.027991   \n",
       "120  0.031552  0.788462   0.036101     0.018731  0.417910  0.118151  0.062264   \n",
       "207  0.181531  0.673077   0.129964     0.166767  0.462687  0.092466  0.086387   \n",
       "..        ...       ...        ...          ...       ...       ...       ...   \n",
       "57   0.929323  0.346154   0.014440     0.073716  0.791045  0.118151  0.413665   \n",
       "321  0.251367  0.500000   0.043321     0.035106  0.544776  0.113527  0.085151   \n",
       "354  0.121161  0.288462   0.187726     0.052085  0.130597  0.133390  0.001074   \n",
       "16   0.153134  0.500000   0.086643     0.093051  0.444030  0.265411  0.093226   \n",
       "118  0.099706  0.538462   0.010830     0.311782  0.697761  0.214041  0.049908   \n",
       "\n",
       "         SGOT  Tryglicerides  Platelets  ...  Sex_1  Ascites_0  Ascites_1  \\\n",
       "211  0.213562       0.124408   0.321357  ...      0          1          0   \n",
       "385  0.281198       0.064397   0.221557  ...      0          1          0   \n",
       "101  0.128080       0.098087   0.131737  ...      0          1          0   \n",
       "120  0.093887       0.036673   0.301397  ...      1          0          1   \n",
       "207  0.329818       0.180558   0.187625  ...      0          1          0   \n",
       "..        ...            ...        ...  ...    ...        ...        ...   \n",
       "57   0.116521       0.157747   0.508982  ...      1          1          0   \n",
       "321  0.225894       0.059133   0.367265  ...      0          1          0   \n",
       "354  0.253866       0.024039   0.908184  ...      0          1          0   \n",
       "16   0.251175       0.175294   0.323353  ...      0          1          0   \n",
       "118  0.206724       0.150728   0.487026  ...      0          1          0   \n",
       "\n",
       "     Hepatomegaly_0  Hepatomegaly_1  Spiders_0  Spiders_1  Edema_0  Edema_1  \\\n",
       "211               1               0          1          0        1        0   \n",
       "385               1               0          1          0        1        0   \n",
       "101               1               0          1          0        1        0   \n",
       "120               0               1          1          0        0        0   \n",
       "207               0               1          1          0        1        0   \n",
       "..              ...             ...        ...        ...      ...      ...   \n",
       "57                1               0          1          0        1        0   \n",
       "321               1               0          1          0        1        0   \n",
       "354               0               1          1          0        1        0   \n",
       "16                0               1          1          0        1        0   \n",
       "118               1               0          0          1        1        0   \n",
       "\n",
       "     Edema_2  \n",
       "211        0  \n",
       "385        0  \n",
       "101        0  \n",
       "120        1  \n",
       "207        0  \n",
       "..       ...  \n",
       "57         0  \n",
       "321        0  \n",
       "354        0  \n",
       "16         0  \n",
       "118        0  \n",
       "\n",
       "[350 rows x 27 columns]"
      ]
     },
     "execution_count": 92,
     "metadata": {},
     "output_type": "execute_result"
    }
   ],
   "source": [
    "X_train, X_test, y_train, y_test = train_test_split(X, y, test_size=0.15, stratify=y, random_state=10)\n",
    "X_train"
   ]
  },
  {
   "cell_type": "code",
   "execution_count": 93,
   "metadata": {},
   "outputs": [],
   "source": [
    "def cross_validation(estimator):\n",
    "    _, train_scores, test_scores = learning_curve(estimator, X_train, y_train, cv=10, n_jobs=-1, train_sizes=[1.0, ], scoring=\"accuracy\")\n",
    "    test_scores = test_scores[0]\n",
    "    mean, std = test_scores.mean(), test_scores.std()\n",
    "    return mean, std\n",
    "\n",
    "def plot(title, xlabel, X, Y, error, ylabel = \"Accuracy\"):\n",
    "    plt.xlabel(xlabel)\n",
    "    plt.title(title)\n",
    "    plt.grid()\n",
    "    plt.ylabel(ylabel)\n",
    "    plt.errorbar(X, Y, error, linestyle='None', marker='o')"
   ]
  },
  {
   "cell_type": "code",
   "execution_count": 94,
   "metadata": {},
   "outputs": [],
   "source": [
    "class KNN:\n",
    "    def __init__(self, top_k=5):\n",
    "        self.top_k = top_k\n",
    "        self.X_train = None\n",
    "        self.y_train = None\n",
    "\n",
    "    def fit(self, X, y):\n",
    "        self.X_train = X\n",
    "        self.y_train = y\n",
    "\n",
    "    @staticmethod\n",
    "    def distance(x1, x2):\n",
    "        return np.linalg.norm(x1 - x2)\n",
    "\n",
    "    def predict_batch(self, X):\n",
    "        y_pred = [self.predict(x) for x in X]\n",
    "        return y_pred\n",
    "\n",
    "    def predict(self, x):\n",
    "        # Compute distance to all points in train set\n",
    "        distances = [self.distance(x, x_train) for x_train in self.X_train]\n",
    "        # Sort the distance with index\n",
    "        top_idx = np.argsort(distances)[:self.top_k]\n",
    "        # Get top K label\n",
    "        k_nearests = self.y_train[top_idx]\n",
    "        # Predict the label\n",
    "        label = Counter(k_nearests).most_common(1)[0][0]\n",
    "        \n",
    "        return label"
   ]
  },
  {
   "cell_type": "code",
   "execution_count": 95,
   "metadata": {},
   "outputs": [
    {
     "name": "stderr",
     "output_type": "stream",
     "text": [
      "100%|██████████| 6/6 [00:02<00:00,  2.69it/s]\n"
     ]
    },
    {
     "data": {
      "image/png": "[encoded data removed]",
      "text/plain": [
       "<Figure size 432x288 with 1 Axes>"
      ]
     },
     "metadata": {
      "needs_background": "light"
     },
     "output_type": "display_data"
    }
   ],
   "source": [
    "title = \"thay đổi K\"\n",
    "xlabel = \"K\"\n",
    "X = []\n",
    "Y = []\n",
    "error = []\n",
    "\n",
    "for k in tqdm([1, 3, 5, 10, 20, 50]):\n",
    "    # Load model\n",
    "    model = KNN(top_k = k)\n",
    "    model.fit(np.array(X_train), np.array(y_train))\n",
    "\n",
    "    # Sample predict model\n",
    "    y_pred = model.predict_batch(np.array(X_test))\n",
    "\n",
    "    # Caculate accuracy score\n",
    "    acc = accuracy_score(y_pred, np.array(y_test))\n",
    "\n",
    "    X.append(str(k))\n",
    "    Y.append(acc)\n",
    "    error.append(0)\n",
    "\n",
    "# lưu kết quả ra file ảnh\n",
    "plot(title, xlabel, X, Y, error)\n",
    "# plt.savefig('images/KNN_change_K.png', bbox_inches='tight')\n",
    "plt.show()"
   ]
  },
  {
   "cell_type": "code",
   "execution_count": 96,
   "metadata": {},
   "outputs": [
    {
     "data": {
      "text/plain": [
       "0.6612903225806451"
      ]
     },
     "execution_count": 96,
     "metadata": {},
     "output_type": "execute_result"
    }
   ],
   "source": [
    "# Test mô hình với K=5, cho độ chính xác cao nhất\n",
    "model = KNN(top_k = 50)\n",
    "\n",
    "model.fit(np.array(X_train), np.array(y_train))\n",
    "\n",
    "# Sample predict model\n",
    "y_pred = model.predict_batch(np.array(X_test))\n",
    "\n",
    "# Caculate accuracy score\n",
    "acc = accuracy_score(y_pred, np.array(y_test))\n",
    "\n",
    "acc"
   ]
  },
  {
   "cell_type": "code",
   "execution_count": 97,
   "metadata": {},
   "outputs": [
    {
     "data": {
      "image/png": "[encoded data removed]",
      "text/plain": [
       "<Figure size 432x288 with 1 Axes>"
      ]
     },
     "metadata": {
      "needs_background": "light"
     },
     "output_type": "display_data"
    },
    {
     "name": "stdout",
     "output_type": "stream",
     "text": [
      "Maximum KNN Score is 67.74%\n"
     ]
    }
   ],
   "source": [
    "# try ro find best k value với thư viện KNeighborsClassifier\n",
    "scoreList = []\n",
    "for i in range(1,30):\n",
    "    knn2 = KNeighborsClassifier(n_neighbors = i)  # n_neighbors means k\n",
    "    knn2.fit(X_train, y_train)\n",
    "    scoreList.append(knn2.score(X_test, y_test))\n",
    "    \n",
    "plt.plot(range(1,30), scoreList)\n",
    "plt.xticks(np.arange(1,30,1))\n",
    "plt.xlabel(\"K value\")\n",
    "plt.ylabel(\"Score\")\n",
    "plt.show()\n",
    "\n",
    "acc = max(scoreList)*100\n",
    "print(\"Maximum KNN Score is {:.2f}%\".format(acc))"
   ]
  },
  {
   "cell_type": "code",
   "execution_count": 98,
   "metadata": {},
   "outputs": [
    {
     "name": "stdout",
     "output_type": "stream",
     "text": [
      "KNN: 0.6774193548387096\n"
     ]
    },
    {
     "data": {
      "image/png": "[encoded data removed]",
      "text/plain": [
       "<Figure size 432x288 with 2 Axes>"
      ]
     },
     "metadata": {
      "needs_background": "light"
     },
     "output_type": "display_data"
    },
    {
     "data": {
      "text/plain": [
       "<Figure size 864x864 with 0 Axes>"
      ]
     },
     "metadata": {},
     "output_type": "display_data"
    }
   ],
   "source": [
    "# Test với bộ tham số tốt nhất\n",
    "knn = KNeighborsClassifier(n_neighbors=12)\n",
    "knn.fit(X_train, y_train)\n",
    "\n",
    "print(f'KNN: {accuracy_score(y_test, knn.predict(X_test))}')\n",
    "# Hiển thị confusion matrix\n",
    "\n",
    "plot_confusion_matrix(knn, X_test, y_test, cmap=plt.cm.Blues)  \n",
    "plt.figure(figsize = (12, 12))\n",
    "plt.show()"
   ]
  },
  {
   "cell_type": "code",
   "execution_count": 85,
   "metadata": {},
   "outputs": [
    {
     "name": "stdout",
     "output_type": "stream",
     "text": [
      "              precision    recall  f1-score   support\n",
      "\n",
      "           0       0.90      0.83      0.86        75\n",
      "           1       0.85      0.91      0.88        79\n",
      "\n",
      "    accuracy                           0.87       154\n",
      "   macro avg       0.87      0.87      0.87       154\n",
      "weighted avg       0.87      0.87      0.87       154\n",
      "\n"
     ]
    }
   ],
   "source": [
    "# Generating classification report\n",
    "from sklearn.metrics import classification_report\n",
    "y_pred = knn.predict(X_test)\n",
    "print(classification_report(y_test, y_pred))"
   ]
  },
  {
   "cell_type": "code",
   "execution_count": 89,
   "metadata": {},
   "outputs": [
    {
     "name": "stdout",
     "output_type": "stream",
     "text": [
      "Tỉ lệ dự đoán đúng người bị bệnh là  1.0\n",
      "Tỉ lệ dự đoán đúng người không bị bệnh là 1.0\n"
     ]
    }
   ],
   "source": [
    "# from sklearn.metrics import precision_score, recall_score\n",
    "# recall_s = recall_score(y_test, knn.predict(X_test), average=None)\n",
    "# print('Tỉ lệ dự đoán đúng người bị bệnh là ', recall_s[1])\n",
    "# print('Tỉ lệ dự đoán đúng người không bị bệnh là', recall_s[0])"
   ]
  },
  {
   "cell_type": "code",
   "execution_count": 106,
   "metadata": {},
   "outputs": [
    {
     "name": "stdout",
     "output_type": "stream",
     "text": [
      "For Fold 1 the accuracy is 0.47619047619047616\n",
      "For Fold 2 the accuracy is 0.40476190476190477\n",
      "For Fold 3 the accuracy is 0.34146341463414637\n",
      "For Fold 4 the accuracy is 0.24390243902439024\n",
      "For Fold 5 the accuracy is 0.4146341463414634\n",
      "For Fold 6 the accuracy is 0.2682926829268293\n",
      "For Fold 7 the accuracy is 0.36585365853658536\n",
      "For Fold 8 the accuracy is 0.43902439024390244\n",
      "For Fold 9 the accuracy is 0.36585365853658536\n",
      "For Fold 10 the accuracy is 0.4634146341463415\n",
      "\n",
      "KNN model Mean Accuracy =  0.3783391405342625\n"
     ]
    }
   ],
   "source": [
    "from sklearn.model_selection import StratifiedKFold\n",
    "skf = StratifiedKFold(n_splits=10, random_state=1, shuffle=True)\n",
    "log_model = KNeighborsClassifier()\n",
    "\n",
    "acc=[]\n",
    "def training(train, test, fold_no):\n",
    "  X_train = train\n",
    "  y_train = y.iloc[train_index]\n",
    "  X_test = test\n",
    "  y_test = y.iloc[test_index]\n",
    "  log_model.fit(X_train, y_train)\n",
    "  score = log_model.score(X_test,y_test)\n",
    "  acc.append(score)\n",
    "  print('For Fold {} the accuracy is {}'.format(str(fold_no),score))\n",
    "\n",
    "fold_no = 1\n",
    "for train_index, test_index in skf.split(X.values, y.values):\n",
    "  train = X.iloc[train_index,:]\n",
    "  test = X.iloc[test_index,:]\n",
    "  training(train, test, fold_no)\n",
    "  fold_no += 1\n",
    "print()\n",
    "print('KNN model Mean Accuracy = ', np.mean(acc))"
   ]
  },
  {
   "cell_type": "code",
   "execution_count": 108,
   "metadata": {},
   "outputs": [
    {
     "name": "stderr",
     "output_type": "stream",
     "text": [
      "C:\\Users\\dovan\\anaconda3\\lib\\site-packages\\xgboost\\sklearn.py:1224: UserWarning: The use of label encoder in XGBClassifier is deprecated and will be removed in a future release. To remove this warning, do the following: 1) Pass option use_label_encoder=False when constructing XGBClassifier object; and 2) Encode your labels (y) as integers starting with 0, i.e. 0, 1, 2, ..., [num_class - 1].\n",
      "  warnings.warn(label_encoder_deprecation_msg, UserWarning)\n"
     ]
    },
    {
     "name": "stdout",
     "output_type": "stream",
     "text": [
      "For Fold 1 the accuracy is 0.6428571428571429\n"
     ]
    },
    {
     "name": "stderr",
     "output_type": "stream",
     "text": [
      "C:\\Users\\dovan\\anaconda3\\lib\\site-packages\\xgboost\\sklearn.py:1224: UserWarning: The use of label encoder in XGBClassifier is deprecated and will be removed in a future release. To remove this warning, do the following: 1) Pass option use_label_encoder=False when constructing XGBClassifier object; and 2) Encode your labels (y) as integers starting with 0, i.e. 0, 1, 2, ..., [num_class - 1].\n",
      "  warnings.warn(label_encoder_deprecation_msg, UserWarning)\n"
     ]
    },
    {
     "name": "stdout",
     "output_type": "stream",
     "text": [
      "For Fold 2 the accuracy is 0.5952380952380952\n"
     ]
    },
    {
     "name": "stderr",
     "output_type": "stream",
     "text": [
      "C:\\Users\\dovan\\anaconda3\\lib\\site-packages\\xgboost\\sklearn.py:1224: UserWarning: The use of label encoder in XGBClassifier is deprecated and will be removed in a future release. To remove this warning, do the following: 1) Pass option use_label_encoder=False when constructing XGBClassifier object; and 2) Encode your labels (y) as integers starting with 0, i.e. 0, 1, 2, ..., [num_class - 1].\n",
      "  warnings.warn(label_encoder_deprecation_msg, UserWarning)\n"
     ]
    },
    {
     "name": "stdout",
     "output_type": "stream",
     "text": [
      "For Fold 3 the accuracy is 0.5365853658536586\n"
     ]
    },
    {
     "name": "stderr",
     "output_type": "stream",
     "text": [
      "C:\\Users\\dovan\\anaconda3\\lib\\site-packages\\xgboost\\sklearn.py:1224: UserWarning: The use of label encoder in XGBClassifier is deprecated and will be removed in a future release. To remove this warning, do the following: 1) Pass option use_label_encoder=False when constructing XGBClassifier object; and 2) Encode your labels (y) as integers starting with 0, i.e. 0, 1, 2, ..., [num_class - 1].\n",
      "  warnings.warn(label_encoder_deprecation_msg, UserWarning)\n"
     ]
    },
    {
     "name": "stdout",
     "output_type": "stream",
     "text": [
      "For Fold 4 the accuracy is 0.4634146341463415\n"
     ]
    },
    {
     "name": "stderr",
     "output_type": "stream",
     "text": [
      "C:\\Users\\dovan\\anaconda3\\lib\\site-packages\\xgboost\\sklearn.py:1224: UserWarning: The use of label encoder in XGBClassifier is deprecated and will be removed in a future release. To remove this warning, do the following: 1) Pass option use_label_encoder=False when constructing XGBClassifier object; and 2) Encode your labels (y) as integers starting with 0, i.e. 0, 1, 2, ..., [num_class - 1].\n",
      "  warnings.warn(label_encoder_deprecation_msg, UserWarning)\n"
     ]
    },
    {
     "name": "stdout",
     "output_type": "stream",
     "text": [
      "For Fold 5 the accuracy is 0.5609756097560976\n"
     ]
    },
    {
     "name": "stderr",
     "output_type": "stream",
     "text": [
      "C:\\Users\\dovan\\anaconda3\\lib\\site-packages\\xgboost\\sklearn.py:1224: UserWarning: The use of label encoder in XGBClassifier is deprecated and will be removed in a future release. To remove this warning, do the following: 1) Pass option use_label_encoder=False when constructing XGBClassifier object; and 2) Encode your labels (y) as integers starting with 0, i.e. 0, 1, 2, ..., [num_class - 1].\n",
      "  warnings.warn(label_encoder_deprecation_msg, UserWarning)\n"
     ]
    },
    {
     "name": "stdout",
     "output_type": "stream",
     "text": [
      "For Fold 6 the accuracy is 0.5609756097560976\n"
     ]
    },
    {
     "name": "stderr",
     "output_type": "stream",
     "text": [
      "C:\\Users\\dovan\\anaconda3\\lib\\site-packages\\xgboost\\sklearn.py:1224: UserWarning: The use of label encoder in XGBClassifier is deprecated and will be removed in a future release. To remove this warning, do the following: 1) Pass option use_label_encoder=False when constructing XGBClassifier object; and 2) Encode your labels (y) as integers starting with 0, i.e. 0, 1, 2, ..., [num_class - 1].\n",
      "  warnings.warn(label_encoder_deprecation_msg, UserWarning)\n"
     ]
    },
    {
     "name": "stdout",
     "output_type": "stream",
     "text": [
      "For Fold 7 the accuracy is 0.4878048780487805\n"
     ]
    },
    {
     "name": "stderr",
     "output_type": "stream",
     "text": [
      "C:\\Users\\dovan\\anaconda3\\lib\\site-packages\\xgboost\\sklearn.py:1224: UserWarning: The use of label encoder in XGBClassifier is deprecated and will be removed in a future release. To remove this warning, do the following: 1) Pass option use_label_encoder=False when constructing XGBClassifier object; and 2) Encode your labels (y) as integers starting with 0, i.e. 0, 1, 2, ..., [num_class - 1].\n",
      "  warnings.warn(label_encoder_deprecation_msg, UserWarning)\n"
     ]
    },
    {
     "name": "stdout",
     "output_type": "stream",
     "text": [
      "For Fold 8 the accuracy is 0.6341463414634146\n"
     ]
    },
    {
     "name": "stderr",
     "output_type": "stream",
     "text": [
      "C:\\Users\\dovan\\anaconda3\\lib\\site-packages\\xgboost\\sklearn.py:1224: UserWarning: The use of label encoder in XGBClassifier is deprecated and will be removed in a future release. To remove this warning, do the following: 1) Pass option use_label_encoder=False when constructing XGBClassifier object; and 2) Encode your labels (y) as integers starting with 0, i.e. 0, 1, 2, ..., [num_class - 1].\n",
      "  warnings.warn(label_encoder_deprecation_msg, UserWarning)\n"
     ]
    },
    {
     "name": "stdout",
     "output_type": "stream",
     "text": [
      "For Fold 9 the accuracy is 0.5365853658536586\n"
     ]
    },
    {
     "name": "stderr",
     "output_type": "stream",
     "text": [
      "C:\\Users\\dovan\\anaconda3\\lib\\site-packages\\xgboost\\sklearn.py:1224: UserWarning: The use of label encoder in XGBClassifier is deprecated and will be removed in a future release. To remove this warning, do the following: 1) Pass option use_label_encoder=False when constructing XGBClassifier object; and 2) Encode your labels (y) as integers starting with 0, i.e. 0, 1, 2, ..., [num_class - 1].\n",
      "  warnings.warn(label_encoder_deprecation_msg, UserWarning)\n"
     ]
    },
    {
     "name": "stdout",
     "output_type": "stream",
     "text": [
      "For Fold 10 the accuracy is 0.6341463414634146\n",
      "\n",
      "XGboost model Mean Accuracy =  0.5652729384436701\n"
     ]
    }
   ],
   "source": [
    "from sklearn.model_selection import StratifiedKFold\n",
    "from xgboost import XGBClassifier\n",
    "skf = StratifiedKFold(n_splits=10, random_state=1, shuffle=True)\n",
    "log_model = XGBClassifier(learning_rate=0.75, max_depth=3, random_state=1, gamma=0, eval_metric='error') # tried learning rate values between range [0.01 - 10] & depth [2-8]\n",
    "\n",
    "acc=[]\n",
    "def training(train, test, fold_no):\n",
    "  X_train = train\n",
    "  y_train = y.iloc[train_index]\n",
    "  X_test = test\n",
    "  y_test = y.iloc[test_index]\n",
    "  log_model.fit(X_train, y_train)\n",
    "  score = log_model.score(X_test,y_test)\n",
    "  acc.append(score)\n",
    "  print('For Fold {} the accuracy is {}'.format(str(fold_no),score))\n",
    "\n",
    "fold_no = 1\n",
    "for train_index,test_index in skf.split(X, y):\n",
    "  train = X.iloc[train_index,:]\n",
    "  test = X.iloc[test_index,:]\n",
    "  training(train, test, fold_no)\n",
    "  fold_no += 1\n",
    "print()\n",
    "print('XGboost model Mean Accuracy = ', np.mean(acc))"
   ]
  }
 ],
 "metadata": {
  "interpreter": {
   "hash": "4159a2d9aa0fcc8ba4f45092bc8203461471d72464d2e7a8d66c38d8a5c8583c"
  },
  "kernelspec": {
   "display_name": "Python 3.8.8 64-bit ('base': conda)",
   "language": "python",
   "name": "python3"
  },
  "language_info": {
   "codemirror_mode": {
    "name": "ipython",
    "version": 3
   },
   "file_extension": ".py",
   "mimetype": "text/x-python",
   "name": "python",
   "nbconvert_exporter": "python",
   "pygments_lexer": "ipython3",
   "version": "3.9.7"
  },
  "orig_nbformat": 4
 },
 "nbformat": 4,
 "nbformat_minor": 2
}
