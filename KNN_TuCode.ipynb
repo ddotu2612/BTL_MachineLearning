{
 "cells": [
  {
   "cell_type": "code",
   "execution_count": 1,
   "metadata": {},
   "outputs": [],
   "source": [
    "import numpy as np\n",
    "import os\n",
    "import matplotlib.pyplot as plt\n",
    "from tqdm import tqdm\n",
    "\n",
    "from sklearn.metrics import accuracy_score\n",
    "from sklearn.model_selection import train_test_split\n",
    "from sklearn.metrics import accuracy_score, confusion_matrix, plot_confusion_matrix\n",
    "from sklearn.model_selection import learning_curve\n",
    "# KNN Model\n",
    "from sklearn.neighbors import KNeighborsClassifier\n",
    "from collections import Counter"
   ]
  },
  {
   "cell_type": "code",
   "execution_count": 13,
   "metadata": {},
   "outputs": [
    {
     "name": "stdout",
     "output_type": "stream",
     "text": [
      "So luong du lieu:  200\n",
      "So luong nhan:  200\n"
     ]
    },
    {
     "data": {
      "text/plain": [
       "array([[0.13559322, 0.        , 0.        , 0.        , 0.59684783],\n",
       "       [0.54237288, 1.        , 0.5       , 0.        , 0.21339671],\n",
       "       [0.54237288, 1.        , 0.5       , 0.        , 0.12023891],\n",
       "       [0.22033898, 0.        , 1.        , 0.        , 0.04781412],\n",
       "       [0.77966102, 0.        , 0.5       , 0.        , 0.36819063]])"
      ]
     },
     "execution_count": 13,
     "metadata": {},
     "output_type": "execute_result"
    }
   ],
   "source": [
    "import pickle \n",
    "\n",
    "# # Đọc dữ liệu bệnh tim, phân loại nhị phân\n",
    "# with open('preprocessing/heart/X.pkl', 'rb') as f:\n",
    "#     X = pickle.load(f)\n",
    "# with open('preprocessing/heart/y.pkl', 'rb') as f:\n",
    "#     y = pickle.load(f)\n",
    "\n",
    "# Đọc dữ liệu thuốc điều trị, phân loại nhiều lớp\n",
    "with open('preprocessing/drug/X.pkl', 'rb') as f:\n",
    "    X = pickle.load(f)\n",
    "with open('preprocessing/drug/y.pkl', 'rb') as f:\n",
    "    y = pickle.load(f)\n",
    "\n",
    "print('So luong du lieu: ', len(X))\n",
    "print('So luong nhan: ', len(y))\n",
    "X[0:5]"
   ]
  },
  {
   "cell_type": "code",
   "execution_count": 14,
   "metadata": {},
   "outputs": [],
   "source": [
    "X_train, X_test, y_train, y_test = train_test_split(X, y, test_size=0.15, stratify=y, random_state=10)"
   ]
  },
  {
   "cell_type": "code",
   "execution_count": 15,
   "metadata": {},
   "outputs": [
    {
     "data": {
      "text/plain": [
       "array([[0.84745763, 1.        , 0.        , 1.        , 0.15857777],\n",
       "       [0.57627119, 1.        , 0.        , 1.        , 0.        ],\n",
       "       [0.79661017, 1.        , 1.        , 0.        , 0.32287823],\n",
       "       [0.44067797, 0.        , 1.        , 1.        , 0.52023266],\n",
       "       [0.18644068, 0.        , 0.        , 1.        , 0.18881731],\n",
       "       [0.54237288, 1.        , 0.5       , 0.        , 0.12023891],\n",
       "       [0.54237288, 0.        , 0.5       , 0.        , 0.11876915],\n",
       "       [0.96610169, 0.        , 0.5       , 1.        , 0.26183626],\n",
       "       [0.89830508, 0.        , 1.        , 1.        , 0.64985302],\n",
       "       [0.84745763, 0.        , 0.5       , 1.        , 0.23453624],\n",
       "       [0.74576271, 0.        , 1.        , 0.        , 0.23813247],\n",
       "       [0.6440678 , 1.        , 1.        , 0.        , 0.24591907],\n",
       "       [0.3559322 , 1.        , 0.5       , 1.        , 0.16120458],\n",
       "       [0.        , 1.        , 1.        , 0.        , 0.08802927],\n",
       "       [0.57627119, 0.        , 1.        , 1.        , 0.09731691],\n",
       "       [0.52542373, 1.        , 1.        , 1.        , 0.03177184],\n",
       "       [0.28813559, 1.        , 0.        , 1.        , 0.09931828],\n",
       "       [0.57627119, 1.        , 0.5       , 1.        , 0.14838326],\n",
       "       [0.88135593, 1.        , 1.        , 1.        , 0.14475577],\n",
       "       [0.22033898, 1.        , 1.        , 0.        , 0.65029082],\n",
       "       [0.44067797, 1.        , 0.        , 1.        , 0.27790981],\n",
       "       [0.15254237, 1.        , 1.        , 0.        , 0.61032585],\n",
       "       [0.59322034, 0.        , 1.        , 0.        , 0.20120083],\n",
       "       [0.71186441, 1.        , 0.5       , 1.        , 0.40212021],\n",
       "       [0.88135593, 0.        , 1.        , 0.        , 0.30089436],\n",
       "       [0.54237288, 1.        , 0.5       , 1.        , 0.75986616],\n",
       "       [0.72881356, 1.        , 0.        , 0.        , 0.39783601],\n",
       "       [0.55932203, 0.        , 0.5       , 0.        , 0.27415723],\n",
       "       [0.89830508, 1.        , 0.        , 0.        , 0.14822691],\n",
       "       [0.50847458, 1.        , 0.5       , 1.        , 0.06570142],\n",
       "       [0.33898305, 1.        , 1.        , 1.        , 0.04928388],\n",
       "       [0.25423729, 0.        , 1.        , 0.        , 0.13052724],\n",
       "       [0.84745763, 1.        , 0.        , 1.        , 0.89836763],\n",
       "       [0.22033898, 0.        , 0.5       , 0.        , 0.42300957],\n",
       "       [0.40677966, 0.        , 0.5       , 1.        , 0.51372819],\n",
       "       [0.37288136, 1.        , 0.5       , 1.        , 0.08440178],\n",
       "       [0.3220339 , 1.        , 1.        , 0.        , 0.50619176],\n",
       "       [0.47457627, 1.        , 1.        , 1.        , 0.20607918],\n",
       "       [0.23728814, 1.        , 0.        , 0.        , 0.20598536],\n",
       "       [0.6440678 , 0.        , 0.        , 1.        , 0.19469635],\n",
       "       [0.44067797, 1.        , 0.5       , 0.        , 0.14910251],\n",
       "       [0.03389831, 1.        , 1.        , 1.        , 0.14269185],\n",
       "       [0.40677966, 0.        , 1.        , 1.        , 0.10757396],\n",
       "       [0.57627119, 0.        , 1.        , 0.        , 0.31290262],\n",
       "       [0.69491525, 0.        , 0.5       , 0.        , 0.1656764 ],\n",
       "       [0.45762712, 1.        , 0.        , 1.        , 0.20317093],\n",
       "       [0.30508475, 0.        , 0.5       , 0.        , 0.85111639],\n",
       "       [0.50847458, 0.        , 0.        , 0.        , 0.20592282],\n",
       "       [0.77966102, 0.        , 0.5       , 0.        , 0.36819063],\n",
       "       [0.47457627, 1.        , 0.5       , 1.        , 0.40962537],\n",
       "       [1.        , 1.        , 0.5       , 1.        , 0.1773094 ],\n",
       "       [0.93220339, 1.        , 0.        , 0.        , 0.240728  ],\n",
       "       [0.6440678 , 1.        , 0.5       , 0.        , 0.52204641],\n",
       "       [0.3559322 , 0.        , 0.        , 0.        , 0.15413722],\n",
       "       [0.71186441, 0.        , 1.        , 0.        , 0.2485146 ],\n",
       "       [0.76271186, 1.        , 1.        , 1.        , 0.11951967],\n",
       "       [0.37288136, 1.        , 0.5       , 1.        , 0.32694352],\n",
       "       [0.13559322, 1.        , 1.        , 0.        , 0.79482769],\n",
       "       [0.54237288, 1.        , 0.        , 0.        , 0.12927638],\n",
       "       [0.93220339, 0.        , 1.        , 0.        , 0.44468072],\n",
       "       [0.86440678, 1.        , 0.        , 0.        , 0.31515417],\n",
       "       [0.50847458, 1.        , 0.5       , 1.        , 0.11720558],\n",
       "       [0.22033898, 0.        , 0.5       , 0.        , 0.21445994],\n",
       "       [0.74576271, 1.        , 0.        , 0.        , 0.23972731],\n",
       "       [0.93220339, 1.        , 0.        , 0.        , 0.11195197],\n",
       "       [0.28813559, 0.        , 0.5       , 0.        , 0.10766777],\n",
       "       [0.74576271, 0.        , 0.5       , 0.        , 0.13055851],\n",
       "       [0.89830508, 0.        , 0.        , 1.        , 0.12258428],\n",
       "       [0.76271186, 1.        , 1.        , 0.        , 0.27837889],\n",
       "       [0.57627119, 1.        , 0.5       , 1.        , 0.22918882],\n",
       "       [0.6779661 , 1.        , 1.        , 1.        , 0.03102133],\n",
       "       [0.61016949, 0.        , 0.5       , 1.        , 0.52329727],\n",
       "       [0.33898305, 1.        , 0.5       , 1.        , 0.09071862],\n",
       "       [0.13559322, 1.        , 1.        , 1.        , 0.24238539],\n",
       "       [0.96610169, 1.        , 0.5       , 0.        , 0.01563575],\n",
       "       [0.83050847, 1.        , 0.        , 1.        , 0.45853399],\n",
       "       [0.66101695, 1.        , 1.        , 0.        , 0.5750516 ],\n",
       "       [0.28813559, 0.        , 0.5       , 1.        , 0.14294202],\n",
       "       [0.11864407, 0.        , 1.        , 0.        , 0.07311277],\n",
       "       [0.89830508, 1.        , 0.5       , 0.        , 0.12577397],\n",
       "       [1.        , 1.        , 0.        , 1.        , 0.28666583],\n",
       "       [0.18644068, 0.        , 0.5       , 0.        , 0.2467634 ],\n",
       "       [0.37288136, 0.        , 0.        , 0.        , 0.21333417],\n",
       "       [0.98305085, 0.        , 0.        , 0.        , 0.37772844],\n",
       "       [0.11864407, 0.        , 0.        , 1.        , 0.51751204],\n",
       "       [0.69491525, 0.        , 0.        , 0.        , 0.59809869],\n",
       "       [0.22033898, 0.        , 1.        , 0.        , 0.04781412],\n",
       "       [0.45762712, 0.        , 0.5       , 1.        , 0.71930702],\n",
       "       [0.18644068, 0.        , 0.        , 1.        , 0.40315217],\n",
       "       [0.59322034, 0.        , 1.        , 1.        , 0.18844205],\n",
       "       [0.06779661, 0.        , 0.        , 0.        , 0.22027644],\n",
       "       [0.55932203, 1.        , 0.        , 1.        , 0.13062105],\n",
       "       [0.96610169, 1.        , 0.        , 1.        , 0.10657327],\n",
       "       [0.27118644, 1.        , 0.        , 1.        , 0.17518294],\n",
       "       [0.40677966, 1.        , 1.        , 0.        , 0.30333354],\n",
       "       [0.23728814, 0.        , 0.        , 0.        , 0.72490462],\n",
       "       [0.15254237, 0.        , 0.        , 1.        , 0.38113703],\n",
       "       [0.76271186, 1.        , 0.        , 0.        , 0.23969604],\n",
       "       [0.3220339 , 0.        , 0.        , 1.        , 0.40434048],\n",
       "       [0.16949153, 1.        , 1.        , 0.        , 0.39846144],\n",
       "       [0.59322034, 1.        , 0.        , 0.        , 0.0381825 ],\n",
       "       [0.59322034, 0.        , 1.        , 1.        , 0.34217274],\n",
       "       [0.47457627, 1.        , 0.5       , 0.        , 0.28478954],\n",
       "       [0.84745763, 0.        , 0.        , 1.        , 0.80076928],\n",
       "       [0.11864407, 1.        , 0.        , 1.        , 0.68875477],\n",
       "       [0.05084746, 0.        , 0.        , 0.        , 0.96688348],\n",
       "       [0.11864407, 1.        , 0.5       , 0.        , 0.05885296],\n",
       "       [0.42372881, 1.        , 0.        , 0.        , 0.67411971],\n",
       "       [0.79661017, 1.        , 0.5       , 1.        , 0.65401213],\n",
       "       [0.76271186, 1.        , 0.        , 1.        , 0.07355057],\n",
       "       [0.77966102, 0.        , 0.        , 0.        , 0.60060041],\n",
       "       [0.45762712, 1.        , 0.5       , 0.        , 0.42979548],\n",
       "       [0.72881356, 0.        , 0.        , 0.        , 0.4111264 ],\n",
       "       [0.61016949, 0.        , 1.        , 0.        , 0.22915755],\n",
       "       [0.15254237, 0.        , 1.        , 0.        , 0.13559322],\n",
       "       [0.45762712, 0.        , 0.        , 0.        , 0.46178623],\n",
       "       [0.3559322 , 0.        , 1.        , 0.        , 0.3278504 ],\n",
       "       [0.47457627, 1.        , 0.        , 0.        , 0.24088436],\n",
       "       [0.01694915, 1.        , 0.        , 1.        , 0.39833636],\n",
       "       [0.18644068, 1.        , 0.5       , 1.        , 0.45781475],\n",
       "       [0.22033898, 0.        , 1.        , 0.        , 0.41922572],\n",
       "       [0.6779661 , 0.        , 0.        , 0.        , 0.14722622],\n",
       "       [0.        , 0.        , 0.        , 1.        , 0.3269748 ],\n",
       "       [0.62711864, 1.        , 1.        , 0.        , 0.11335918],\n",
       "       [0.50847458, 1.        , 0.5       , 0.        , 0.36531365],\n",
       "       [0.06779661, 0.        , 0.        , 1.        , 0.61604853],\n",
       "       [0.10169492, 0.        , 0.        , 1.        , 0.69932454],\n",
       "       [0.59322034, 1.        , 1.        , 1.        , 0.29773594],\n",
       "       [0.33898305, 0.        , 0.        , 0.        , 0.20717368],\n",
       "       [0.61016949, 1.        , 0.        , 1.        , 0.15867159],\n",
       "       [0.37288136, 0.        , 0.5       , 1.        , 0.17940459],\n",
       "       [0.52542373, 0.        , 0.        , 0.        , 0.88864219],\n",
       "       [0.44067797, 0.        , 0.5       , 1.        , 0.38995559],\n",
       "       [0.40677966, 0.        , 1.        , 1.        , 0.34261054],\n",
       "       [0.08474576, 1.        , 0.        , 1.        , 0.91844393],\n",
       "       [0.13559322, 1.        , 1.        , 0.        , 0.33088373],\n",
       "       [0.98305085, 0.        , 1.        , 0.        , 0.40502846],\n",
       "       [0.13559322, 1.        , 0.5       , 0.        , 0.03217837],\n",
       "       [0.91525424, 1.        , 0.5       , 1.        , 0.16217399],\n",
       "       [0.11864407, 1.        , 1.        , 0.        , 0.1777472 ],\n",
       "       [0.54237288, 0.        , 1.        , 1.        , 0.0129464 ],\n",
       "       [0.28813559, 0.        , 1.        , 0.        , 0.03777597],\n",
       "       [0.01694915, 1.        , 0.5       , 0.        , 0.17940459],\n",
       "       [0.3559322 , 0.        , 0.        , 1.        , 0.28835449],\n",
       "       [0.88135593, 1.        , 0.5       , 1.        , 0.4510601 ],\n",
       "       [0.88135593, 1.        , 1.        , 1.        , 0.10147601],\n",
       "       [0.91525424, 1.        , 0.5       , 0.        , 0.28797924],\n",
       "       [0.28813559, 0.        , 0.        , 1.        , 0.61620489],\n",
       "       [0.96610169, 1.        , 0.5       , 0.        , 0.31399712],\n",
       "       [0.86440678, 0.        , 1.        , 1.        , 0.05747702],\n",
       "       [0.77966102, 1.        , 1.        , 0.        , 0.09925574],\n",
       "       [0.83050847, 0.        , 0.5       , 1.        , 0.60891863],\n",
       "       [0.13559322, 1.        , 1.        , 0.        , 0.18734755],\n",
       "       [0.76271186, 0.        , 0.        , 0.        , 0.21996373],\n",
       "       [0.38983051, 0.        , 0.        , 1.        , 0.15813997],\n",
       "       [0.83050847, 1.        , 1.        , 0.        , 0.04665708],\n",
       "       [1.        , 1.        , 0.        , 0.        , 0.1031334 ],\n",
       "       [0.        , 1.        , 0.        , 1.        , 0.34201639],\n",
       "       [0.05084746, 0.        , 1.        , 1.        , 0.07758459],\n",
       "       [0.71186441, 0.        , 1.        , 1.        , 0.6136719 ],\n",
       "       [0.72881356, 0.        , 0.5       , 0.        , 1.        ],\n",
       "       [0.72881356, 0.        , 0.5       , 0.        , 0.63718807],\n",
       "       [0.54237288, 1.        , 0.5       , 0.        , 0.21339671],\n",
       "       [0.27118644, 1.        , 0.        , 1.        , 0.15504409],\n",
       "       [0.40677966, 1.        , 0.        , 0.        , 0.10616674],\n",
       "       [0.22033898, 0.        , 1.        , 0.        , 0.20670461],\n",
       "       [1.        , 0.        , 0.5       , 0.        , 0.45884671],\n",
       "       [0.08474576, 0.        , 1.        , 1.        , 0.09418976],\n",
       "       [0.69491525, 1.        , 0.5       , 0.        , 0.27350053],\n",
       "       [0.28813559, 0.        , 0.        , 1.        , 0.12580524]])"
      ]
     },
     "execution_count": 15,
     "metadata": {},
     "output_type": "execute_result"
    }
   ],
   "source": [
    "X_train"
   ]
  },
  {
   "cell_type": "code",
   "execution_count": 16,
   "metadata": {},
   "outputs": [],
   "source": [
    "def cross_validation(estimator):\n",
    "    _, train_scores, test_scores = learning_curve(estimator, X_train, y_train, cv=10, n_jobs=-1, train_sizes=[1.0, ], scoring=\"accuracy\")\n",
    "    test_scores = test_scores[0]\n",
    "    mean, std = test_scores.mean(), test_scores.std()\n",
    "    return mean, std\n",
    "\n",
    "def plot(title, xlabel, X, Y, error, ylabel = \"Accuracy\"):\n",
    "    plt.xlabel(xlabel)\n",
    "    plt.title(title)\n",
    "    plt.grid()\n",
    "    plt.ylabel(ylabel)\n",
    "    plt.errorbar(X, Y, error, linestyle='None', marker='o')"
   ]
  },
  {
   "cell_type": "code",
   "execution_count": 17,
   "metadata": {},
   "outputs": [],
   "source": [
    "class KNN:\n",
    "    def __init__(self, top_k=5):\n",
    "        self.top_k = top_k\n",
    "        self.X_train = None\n",
    "        self.y_train = None\n",
    "\n",
    "    def fit(self, X, y):\n",
    "        self.X_train = X\n",
    "        self.y_train = y\n",
    "\n",
    "    @staticmethod\n",
    "    def distance(x1, x2):\n",
    "        return np.linalg.norm(x1 - x2)\n",
    "\n",
    "    def predict_batch(self, X):\n",
    "        y_pred = [self.predict(x) for x in X]\n",
    "        return y_pred\n",
    "\n",
    "    def predict(self, x):\n",
    "        # Compute distance to all points in train set\n",
    "        distances = [self.distance(x, x_train) for x_train in self.X_train]\n",
    "        # Sort the distance with index\n",
    "        top_idx = np.argsort(distances)[:self.top_k]\n",
    "        # Get top K label\n",
    "        k_nearests = self.y_train[top_idx]\n",
    "        # Predict the label\n",
    "        label = Counter(k_nearests).most_common(1)[0][0]\n",
    "        \n",
    "        return label"
   ]
  },
  {
   "cell_type": "code",
   "execution_count": 18,
   "metadata": {},
   "outputs": [
    {
     "data": {
      "text/plain": [
       "array([[0.84745763, 1.        , 0.        , 1.        , 0.15857777],\n",
       "       [0.57627119, 1.        , 0.        , 1.        , 0.        ],\n",
       "       [0.79661017, 1.        , 1.        , 0.        , 0.32287823],\n",
       "       [0.44067797, 0.        , 1.        , 1.        , 0.52023266],\n",
       "       [0.18644068, 0.        , 0.        , 1.        , 0.18881731],\n",
       "       [0.54237288, 1.        , 0.5       , 0.        , 0.12023891],\n",
       "       [0.54237288, 0.        , 0.5       , 0.        , 0.11876915],\n",
       "       [0.96610169, 0.        , 0.5       , 1.        , 0.26183626],\n",
       "       [0.89830508, 0.        , 1.        , 1.        , 0.64985302],\n",
       "       [0.84745763, 0.        , 0.5       , 1.        , 0.23453624],\n",
       "       [0.74576271, 0.        , 1.        , 0.        , 0.23813247],\n",
       "       [0.6440678 , 1.        , 1.        , 0.        , 0.24591907],\n",
       "       [0.3559322 , 1.        , 0.5       , 1.        , 0.16120458],\n",
       "       [0.        , 1.        , 1.        , 0.        , 0.08802927],\n",
       "       [0.57627119, 0.        , 1.        , 1.        , 0.09731691],\n",
       "       [0.52542373, 1.        , 1.        , 1.        , 0.03177184],\n",
       "       [0.28813559, 1.        , 0.        , 1.        , 0.09931828],\n",
       "       [0.57627119, 1.        , 0.5       , 1.        , 0.14838326],\n",
       "       [0.88135593, 1.        , 1.        , 1.        , 0.14475577],\n",
       "       [0.22033898, 1.        , 1.        , 0.        , 0.65029082],\n",
       "       [0.44067797, 1.        , 0.        , 1.        , 0.27790981],\n",
       "       [0.15254237, 1.        , 1.        , 0.        , 0.61032585],\n",
       "       [0.59322034, 0.        , 1.        , 0.        , 0.20120083],\n",
       "       [0.71186441, 1.        , 0.5       , 1.        , 0.40212021],\n",
       "       [0.88135593, 0.        , 1.        , 0.        , 0.30089436],\n",
       "       [0.54237288, 1.        , 0.5       , 1.        , 0.75986616],\n",
       "       [0.72881356, 1.        , 0.        , 0.        , 0.39783601],\n",
       "       [0.55932203, 0.        , 0.5       , 0.        , 0.27415723],\n",
       "       [0.89830508, 1.        , 0.        , 0.        , 0.14822691],\n",
       "       [0.50847458, 1.        , 0.5       , 1.        , 0.06570142],\n",
       "       [0.33898305, 1.        , 1.        , 1.        , 0.04928388],\n",
       "       [0.25423729, 0.        , 1.        , 0.        , 0.13052724],\n",
       "       [0.84745763, 1.        , 0.        , 1.        , 0.89836763],\n",
       "       [0.22033898, 0.        , 0.5       , 0.        , 0.42300957],\n",
       "       [0.40677966, 0.        , 0.5       , 1.        , 0.51372819],\n",
       "       [0.37288136, 1.        , 0.5       , 1.        , 0.08440178],\n",
       "       [0.3220339 , 1.        , 1.        , 0.        , 0.50619176],\n",
       "       [0.47457627, 1.        , 1.        , 1.        , 0.20607918],\n",
       "       [0.23728814, 1.        , 0.        , 0.        , 0.20598536],\n",
       "       [0.6440678 , 0.        , 0.        , 1.        , 0.19469635],\n",
       "       [0.44067797, 1.        , 0.5       , 0.        , 0.14910251],\n",
       "       [0.03389831, 1.        , 1.        , 1.        , 0.14269185],\n",
       "       [0.40677966, 0.        , 1.        , 1.        , 0.10757396],\n",
       "       [0.57627119, 0.        , 1.        , 0.        , 0.31290262],\n",
       "       [0.69491525, 0.        , 0.5       , 0.        , 0.1656764 ],\n",
       "       [0.45762712, 1.        , 0.        , 1.        , 0.20317093],\n",
       "       [0.30508475, 0.        , 0.5       , 0.        , 0.85111639],\n",
       "       [0.50847458, 0.        , 0.        , 0.        , 0.20592282],\n",
       "       [0.77966102, 0.        , 0.5       , 0.        , 0.36819063],\n",
       "       [0.47457627, 1.        , 0.5       , 1.        , 0.40962537],\n",
       "       [1.        , 1.        , 0.5       , 1.        , 0.1773094 ],\n",
       "       [0.93220339, 1.        , 0.        , 0.        , 0.240728  ],\n",
       "       [0.6440678 , 1.        , 0.5       , 0.        , 0.52204641],\n",
       "       [0.3559322 , 0.        , 0.        , 0.        , 0.15413722],\n",
       "       [0.71186441, 0.        , 1.        , 0.        , 0.2485146 ],\n",
       "       [0.76271186, 1.        , 1.        , 1.        , 0.11951967],\n",
       "       [0.37288136, 1.        , 0.5       , 1.        , 0.32694352],\n",
       "       [0.13559322, 1.        , 1.        , 0.        , 0.79482769],\n",
       "       [0.54237288, 1.        , 0.        , 0.        , 0.12927638],\n",
       "       [0.93220339, 0.        , 1.        , 0.        , 0.44468072],\n",
       "       [0.86440678, 1.        , 0.        , 0.        , 0.31515417],\n",
       "       [0.50847458, 1.        , 0.5       , 1.        , 0.11720558],\n",
       "       [0.22033898, 0.        , 0.5       , 0.        , 0.21445994],\n",
       "       [0.74576271, 1.        , 0.        , 0.        , 0.23972731],\n",
       "       [0.93220339, 1.        , 0.        , 0.        , 0.11195197],\n",
       "       [0.28813559, 0.        , 0.5       , 0.        , 0.10766777],\n",
       "       [0.74576271, 0.        , 0.5       , 0.        , 0.13055851],\n",
       "       [0.89830508, 0.        , 0.        , 1.        , 0.12258428],\n",
       "       [0.76271186, 1.        , 1.        , 0.        , 0.27837889],\n",
       "       [0.57627119, 1.        , 0.5       , 1.        , 0.22918882],\n",
       "       [0.6779661 , 1.        , 1.        , 1.        , 0.03102133],\n",
       "       [0.61016949, 0.        , 0.5       , 1.        , 0.52329727],\n",
       "       [0.33898305, 1.        , 0.5       , 1.        , 0.09071862],\n",
       "       [0.13559322, 1.        , 1.        , 1.        , 0.24238539],\n",
       "       [0.96610169, 1.        , 0.5       , 0.        , 0.01563575],\n",
       "       [0.83050847, 1.        , 0.        , 1.        , 0.45853399],\n",
       "       [0.66101695, 1.        , 1.        , 0.        , 0.5750516 ],\n",
       "       [0.28813559, 0.        , 0.5       , 1.        , 0.14294202],\n",
       "       [0.11864407, 0.        , 1.        , 0.        , 0.07311277],\n",
       "       [0.89830508, 1.        , 0.5       , 0.        , 0.12577397],\n",
       "       [1.        , 1.        , 0.        , 1.        , 0.28666583],\n",
       "       [0.18644068, 0.        , 0.5       , 0.        , 0.2467634 ],\n",
       "       [0.37288136, 0.        , 0.        , 0.        , 0.21333417],\n",
       "       [0.98305085, 0.        , 0.        , 0.        , 0.37772844],\n",
       "       [0.11864407, 0.        , 0.        , 1.        , 0.51751204],\n",
       "       [0.69491525, 0.        , 0.        , 0.        , 0.59809869],\n",
       "       [0.22033898, 0.        , 1.        , 0.        , 0.04781412],\n",
       "       [0.45762712, 0.        , 0.5       , 1.        , 0.71930702],\n",
       "       [0.18644068, 0.        , 0.        , 1.        , 0.40315217],\n",
       "       [0.59322034, 0.        , 1.        , 1.        , 0.18844205],\n",
       "       [0.06779661, 0.        , 0.        , 0.        , 0.22027644],\n",
       "       [0.55932203, 1.        , 0.        , 1.        , 0.13062105],\n",
       "       [0.96610169, 1.        , 0.        , 1.        , 0.10657327],\n",
       "       [0.27118644, 1.        , 0.        , 1.        , 0.17518294],\n",
       "       [0.40677966, 1.        , 1.        , 0.        , 0.30333354],\n",
       "       [0.23728814, 0.        , 0.        , 0.        , 0.72490462],\n",
       "       [0.15254237, 0.        , 0.        , 1.        , 0.38113703],\n",
       "       [0.76271186, 1.        , 0.        , 0.        , 0.23969604],\n",
       "       [0.3220339 , 0.        , 0.        , 1.        , 0.40434048],\n",
       "       [0.16949153, 1.        , 1.        , 0.        , 0.39846144],\n",
       "       [0.59322034, 1.        , 0.        , 0.        , 0.0381825 ],\n",
       "       [0.59322034, 0.        , 1.        , 1.        , 0.34217274],\n",
       "       [0.47457627, 1.        , 0.5       , 0.        , 0.28478954],\n",
       "       [0.84745763, 0.        , 0.        , 1.        , 0.80076928],\n",
       "       [0.11864407, 1.        , 0.        , 1.        , 0.68875477],\n",
       "       [0.05084746, 0.        , 0.        , 0.        , 0.96688348],\n",
       "       [0.11864407, 1.        , 0.5       , 0.        , 0.05885296],\n",
       "       [0.42372881, 1.        , 0.        , 0.        , 0.67411971],\n",
       "       [0.79661017, 1.        , 0.5       , 1.        , 0.65401213],\n",
       "       [0.76271186, 1.        , 0.        , 1.        , 0.07355057],\n",
       "       [0.77966102, 0.        , 0.        , 0.        , 0.60060041],\n",
       "       [0.45762712, 1.        , 0.5       , 0.        , 0.42979548],\n",
       "       [0.72881356, 0.        , 0.        , 0.        , 0.4111264 ],\n",
       "       [0.61016949, 0.        , 1.        , 0.        , 0.22915755],\n",
       "       [0.15254237, 0.        , 1.        , 0.        , 0.13559322],\n",
       "       [0.45762712, 0.        , 0.        , 0.        , 0.46178623],\n",
       "       [0.3559322 , 0.        , 1.        , 0.        , 0.3278504 ],\n",
       "       [0.47457627, 1.        , 0.        , 0.        , 0.24088436],\n",
       "       [0.01694915, 1.        , 0.        , 1.        , 0.39833636],\n",
       "       [0.18644068, 1.        , 0.5       , 1.        , 0.45781475],\n",
       "       [0.22033898, 0.        , 1.        , 0.        , 0.41922572],\n",
       "       [0.6779661 , 0.        , 0.        , 0.        , 0.14722622],\n",
       "       [0.        , 0.        , 0.        , 1.        , 0.3269748 ],\n",
       "       [0.62711864, 1.        , 1.        , 0.        , 0.11335918],\n",
       "       [0.50847458, 1.        , 0.5       , 0.        , 0.36531365],\n",
       "       [0.06779661, 0.        , 0.        , 1.        , 0.61604853],\n",
       "       [0.10169492, 0.        , 0.        , 1.        , 0.69932454],\n",
       "       [0.59322034, 1.        , 1.        , 1.        , 0.29773594],\n",
       "       [0.33898305, 0.        , 0.        , 0.        , 0.20717368],\n",
       "       [0.61016949, 1.        , 0.        , 1.        , 0.15867159],\n",
       "       [0.37288136, 0.        , 0.5       , 1.        , 0.17940459],\n",
       "       [0.52542373, 0.        , 0.        , 0.        , 0.88864219],\n",
       "       [0.44067797, 0.        , 0.5       , 1.        , 0.38995559],\n",
       "       [0.40677966, 0.        , 1.        , 1.        , 0.34261054],\n",
       "       [0.08474576, 1.        , 0.        , 1.        , 0.91844393],\n",
       "       [0.13559322, 1.        , 1.        , 0.        , 0.33088373],\n",
       "       [0.98305085, 0.        , 1.        , 0.        , 0.40502846],\n",
       "       [0.13559322, 1.        , 0.5       , 0.        , 0.03217837],\n",
       "       [0.91525424, 1.        , 0.5       , 1.        , 0.16217399],\n",
       "       [0.11864407, 1.        , 1.        , 0.        , 0.1777472 ],\n",
       "       [0.54237288, 0.        , 1.        , 1.        , 0.0129464 ],\n",
       "       [0.28813559, 0.        , 1.        , 0.        , 0.03777597],\n",
       "       [0.01694915, 1.        , 0.5       , 0.        , 0.17940459],\n",
       "       [0.3559322 , 0.        , 0.        , 1.        , 0.28835449],\n",
       "       [0.88135593, 1.        , 0.5       , 1.        , 0.4510601 ],\n",
       "       [0.88135593, 1.        , 1.        , 1.        , 0.10147601],\n",
       "       [0.91525424, 1.        , 0.5       , 0.        , 0.28797924],\n",
       "       [0.28813559, 0.        , 0.        , 1.        , 0.61620489],\n",
       "       [0.96610169, 1.        , 0.5       , 0.        , 0.31399712],\n",
       "       [0.86440678, 0.        , 1.        , 1.        , 0.05747702],\n",
       "       [0.77966102, 1.        , 1.        , 0.        , 0.09925574],\n",
       "       [0.83050847, 0.        , 0.5       , 1.        , 0.60891863],\n",
       "       [0.13559322, 1.        , 1.        , 0.        , 0.18734755],\n",
       "       [0.76271186, 0.        , 0.        , 0.        , 0.21996373],\n",
       "       [0.38983051, 0.        , 0.        , 1.        , 0.15813997],\n",
       "       [0.83050847, 1.        , 1.        , 0.        , 0.04665708],\n",
       "       [1.        , 1.        , 0.        , 0.        , 0.1031334 ],\n",
       "       [0.        , 1.        , 0.        , 1.        , 0.34201639],\n",
       "       [0.05084746, 0.        , 1.        , 1.        , 0.07758459],\n",
       "       [0.71186441, 0.        , 1.        , 1.        , 0.6136719 ],\n",
       "       [0.72881356, 0.        , 0.5       , 0.        , 1.        ],\n",
       "       [0.72881356, 0.        , 0.5       , 0.        , 0.63718807],\n",
       "       [0.54237288, 1.        , 0.5       , 0.        , 0.21339671],\n",
       "       [0.27118644, 1.        , 0.        , 1.        , 0.15504409],\n",
       "       [0.40677966, 1.        , 0.        , 0.        , 0.10616674],\n",
       "       [0.22033898, 0.        , 1.        , 0.        , 0.20670461],\n",
       "       [1.        , 0.        , 0.5       , 0.        , 0.45884671],\n",
       "       [0.08474576, 0.        , 1.        , 1.        , 0.09418976],\n",
       "       [0.69491525, 1.        , 0.5       , 0.        , 0.27350053],\n",
       "       [0.28813559, 0.        , 0.        , 1.        , 0.12580524]])"
      ]
     },
     "execution_count": 18,
     "metadata": {},
     "output_type": "execute_result"
    }
   ],
   "source": [
    "X_train1 = np.array(X_train)\n",
    "X_train1"
   ]
  },
  {
   "cell_type": "code",
   "execution_count": 19,
   "metadata": {},
   "outputs": [
    {
     "name": "stderr",
     "output_type": "stream",
     "text": [
      "100%|██████████| 6/6 [00:00<00:00, 11.23it/s]\n"
     ]
    },
    {
     "data": {
      "image/png": "[encoded data removed]",
      "text/plain": [
       "<Figure size 432x288 with 1 Axes>"
      ]
     },
     "metadata": {
      "needs_background": "light"
     },
     "output_type": "display_data"
    }
   ],
   "source": [
    "title = \"thay đổi K\"\n",
    "xlabel = \"K\"\n",
    "X = []\n",
    "Y = []\n",
    "error = []\n",
    "\n",
    "for k in tqdm([1, 3, 5, 10, 20, 50]):\n",
    "    # Load model\n",
    "    model = KNN(top_k = k)\n",
    "    model.fit(np.array(X_train), np.array(y_train))\n",
    "\n",
    "    # Sample predict model\n",
    "    y_pred = model.predict_batch(np.array(X_test))\n",
    "\n",
    "    # Caculate accuracy score\n",
    "    acc = accuracy_score(y_pred, np.array(y_test))\n",
    "\n",
    "    X.append(str(k))\n",
    "    Y.append(acc)\n",
    "    error.append(0)\n",
    "\n",
    "# lưu kết quả ra file ảnh\n",
    "plot(title, xlabel, X, Y, error)\n",
    "# plt.savefig('images/KNN_change_K.png', bbox_inches='tight')\n",
    "plt.show()"
   ]
  },
  {
   "cell_type": "code",
   "execution_count": 20,
   "metadata": {},
   "outputs": [
    {
     "data": {
      "text/plain": [
       "0.9"
      ]
     },
     "execution_count": 20,
     "metadata": {},
     "output_type": "execute_result"
    }
   ],
   "source": [
    "# Test mô hình với K=5, cho độ chính xác cao nhất\n",
    "model = KNN(top_k = 3)\n",
    "\n",
    "model.fit(np.array(X_train), np.array(y_train))\n",
    "\n",
    "# Sample predict model\n",
    "y_pred = model.predict_batch(np.array(X_test))\n",
    "\n",
    "# Caculate accuracy score\n",
    "acc = accuracy_score(y_pred, np.array(y_test))\n",
    "\n",
    "acc"
   ]
  },
  {
   "cell_type": "code",
   "execution_count": 21,
   "metadata": {},
   "outputs": [
    {
     "data": {
      "image/png": "[encoded data removed]",
      "text/plain": [
       "<Figure size 432x288 with 1 Axes>"
      ]
     },
     "metadata": {
      "needs_background": "light"
     },
     "output_type": "display_data"
    },
    {
     "name": "stdout",
     "output_type": "stream",
     "text": [
      "Maximum KNN Score is 90.00%\n"
     ]
    }
   ],
   "source": [
    "# try ro find best k value với thư viện KNeighborsClassifier\n",
    "scoreList = []\n",
    "for i in range(1,30):\n",
    "    knn2 = KNeighborsClassifier(n_neighbors = i)  # n_neighbors means k\n",
    "    knn2.fit(X_train, y_train)\n",
    "    scoreList.append(knn2.score(X_test, y_test))\n",
    "    \n",
    "plt.plot(range(1,30), scoreList)\n",
    "plt.xticks(np.arange(1,30,1))\n",
    "plt.xlabel(\"K value\")\n",
    "plt.ylabel(\"Score\")\n",
    "plt.show()\n",
    "\n",
    "acc = max(scoreList)*100\n",
    "print(\"Maximum KNN Score is {:.2f}%\".format(acc))"
   ]
  },
  {
   "cell_type": "code",
   "execution_count": 22,
   "metadata": {},
   "outputs": [
    {
     "name": "stdout",
     "output_type": "stream",
     "text": [
      "KNN: 0.9\n"
     ]
    },
    {
     "data": {
      "image/png": "[encoded data removed]",
      "text/plain": [
       "<Figure size 432x288 with 2 Axes>"
      ]
     },
     "metadata": {
      "needs_background": "light"
     },
     "output_type": "display_data"
    },
    {
     "data": {
      "text/plain": [
       "<Figure size 864x864 with 0 Axes>"
      ]
     },
     "metadata": {},
     "output_type": "display_data"
    }
   ],
   "source": [
    "# Test với bộ tham số tốt nhất\n",
    "knn = KNeighborsClassifier(n_neighbors=3)\n",
    "knn.fit(X_train, y_train)\n",
    "\n",
    "print(f'KNN: {accuracy_score(y_test, knn.predict(X_test))}')\n",
    "# Hiển thị confusion matrix\n",
    "\n",
    "plot_confusion_matrix(knn, X_test, y_test, cmap=plt.cm.Blues)  \n",
    "plt.figure(figsize = (12, 12))\n",
    "plt.show()"
   ]
  },
  {
   "cell_type": "code",
   "execution_count": 23,
   "metadata": {},
   "outputs": [
    {
     "name": "stdout",
     "output_type": "stream",
     "text": [
      "              precision    recall  f1-score   support\n",
      "\n",
      "           0       1.00      0.79      0.88        14\n",
      "           1       0.57      1.00      0.73         4\n",
      "           2       1.00      1.00      1.00         2\n",
      "           3       1.00      1.00      1.00         2\n",
      "           4       1.00      1.00      1.00         8\n",
      "\n",
      "    accuracy                           0.90        30\n",
      "   macro avg       0.91      0.96      0.92        30\n",
      "weighted avg       0.94      0.90      0.91        30\n",
      "\n"
     ]
    }
   ],
   "source": [
    "# Generating classification report\n",
    "from sklearn.metrics import classification_report\n",
    "y_pred = knn.predict(X_test)\n",
    "print(classification_report(y_test, y_pred))"
   ]
  },
  {
   "cell_type": "code",
   "execution_count": 17,
   "metadata": {},
   "outputs": [
    {
     "name": "stdout",
     "output_type": "stream",
     "text": [
      "Tỉ lệ dự đoán đúng người bị bệnh là  0.8333333333333334\n",
      "Tỉ lệ dự đoán đúng người không bị bệnh là 0.9130434782608695\n"
     ]
    }
   ],
   "source": [
    "from sklearn.metrics import precision_score, recall_score\n",
    "recall_s = recall_score(y_test, knn.predict(X_test), average=None)\n",
    "print('Tỉ lệ dự đoán đúng người bị bệnh là ', recall_s[1])\n",
    "print('Tỉ lệ dự đoán đúng người không bị bệnh là', recall_s[0])"
   ]
  }
 ],
 "metadata": {
  "interpreter": {
   "hash": "4159a2d9aa0fcc8ba4f45092bc8203461471d72464d2e7a8d66c38d8a5c8583c"
  },
  "kernelspec": {
   "display_name": "Python 3.8.8 64-bit ('base': conda)",
   "language": "python",
   "name": "python3"
  },
  "language_info": {
   "codemirror_mode": {
    "name": "ipython",
    "version": 3
   },
   "file_extension": ".py",
   "mimetype": "text/x-python",
   "name": "python",
   "nbconvert_exporter": "python",
   "pygments_lexer": "ipython3",
   "version": "3.9.7"
  },
  "orig_nbformat": 4
 },
 "nbformat": 4,
 "nbformat_minor": 2
}
